{
  "nbformat": 4,
  "nbformat_minor": 0,
  "metadata": {
    "colab": {
      "name": "kegg_download_sqlite.ipynb",
      "provenance": [],
      "collapsed_sections": [],
      "toc_visible": true,
      "mount_file_id": "1Pc-UuqkDKQw4Snv26-UAhG994mZzwLdg",
      "authorship_tag": "ABX9TyOfuUCuSalXak8EgYHVHeOy",
      "include_colab_link": true
    },
    "kernelspec": {
      "name": "python3",
      "display_name": "Python 3"
    }
  },
  "cells": [
    {
      "cell_type": "markdown",
      "metadata": {
        "id": "view-in-github",
        "colab_type": "text"
      },
      "source": [
        "<a href=\"https://colab.research.google.com/github/raynardj/python4ml/blob/master/experiments/kegg_download_sqlite.ipynb\" target=\"_parent\"><img src=\"https://colab.research.google.com/assets/colab-badge.svg\" alt=\"Open In Colab\"/></a>"
      ]
    },
    {
      "cell_type": "markdown",
      "metadata": {
        "id": "XowheHbjBxze"
      },
      "source": [
        "# Kegg Drug Download\n",
        "> This script will download KEGG drug pages. Using google colab notebook\n",
        "\n",
        "## Download Cache\n",
        "> This script will skip the downloaded pages of kegg drug\n",
        "\n",
        "* By placing the kegg_drug.db under ```drive/MyDrive/kegg_drug.db```, the script will skip the downloaded page automatically"
      ]
    },
    {
      "cell_type": "code",
      "metadata": {
        "id": "R_20S88wbhTD"
      },
      "source": [
        "import logging\n",
        "import pandas as pd\n",
        "from tqdm.notebook import tqdm\n",
        "from time import sleep\n",
        "from random import random\n",
        "import requests\n",
        "from bs4 import BeautifulSoup\n",
        "from sqlalchemy import create_engine as ce"
      ],
      "execution_count": 30,
      "outputs": []
    },
    {
      "cell_type": "code",
      "metadata": {
        "id": "8dmb7RKIbkUN"
      },
      "source": [
        "logger = logging.getLogger()\n",
        "logger.setLevel(logging.DEBUG)"
      ],
      "execution_count": 2,
      "outputs": []
    },
    {
      "cell_type": "code",
      "metadata": {
        "id": "mi5LnjdSBuGK"
      },
      "source": [
        "TEST_TAG = \"D00001\""
      ],
      "execution_count": 3,
      "outputs": []
    },
    {
      "cell_type": "code",
      "metadata": {
        "id": "aAG_oHfhB8Oj"
      },
      "source": [
        "def get_detail_page(tag):\n",
        "    return f\"https://www.kegg.jp/dbget-bin/www_bget?dr:{tag}\""
      ],
      "execution_count": 4,
      "outputs": []
    },
    {
      "cell_type": "code",
      "metadata": {
        "id": "EoIZz35fCFYp"
      },
      "source": [
        "r = requests.get(get_detail_page(TEST_TAG))"
      ],
      "execution_count": 6,
      "outputs": []
    },
    {
      "cell_type": "code",
      "metadata": {
        "id": "3p1I9mYkCMs4"
      },
      "source": [
        "html = r.text"
      ],
      "execution_count": 7,
      "outputs": []
    },
    {
      "cell_type": "code",
      "metadata": {
        "id": "ZW1o-9q7Dy3n"
      },
      "source": [
        "def parse_row(row):\n",
        "    th = row.select_one(\"th\")\n",
        "    td = row.select_one(\"td\")\n",
        "    if th:\n",
        "        return th.text.replace(\"\\xa0\",\"\"), td.text.replace(\"\\xa0\",\" \") if td else \"\"\n",
        "    else:\n",
        "        return \"no_key\", td.text.replace(\"\\xa0\",\" \") if td else \"\"\n",
        "\n",
        "def parse_link(link):\n",
        "    \"\"\"\n",
        "    get all the links from the a dom\n",
        "    \"\"\"\n",
        "    try:\n",
        "        href = link[\"href\"]\n",
        "    except:\n",
        "        href = \"\"\n",
        "    return link.text if link.text else \"no_key\", href\n",
        "\n",
        "def read_html(html: str) -> dict:\n",
        "    \"\"\"\n",
        "    parse meta data page into json data\n",
        "    \"\"\"\n",
        "    doc = BeautifulSoup(html)\n",
        "    rows = doc.select(\"tr\")\n",
        "    drug_meta = dict(parse_row(row) for row in rows)\n",
        "    links = doc.select(\"a\")\n",
        "    link_data = dict(parse_link(link) for link in links)\n",
        "    drug_meta[\"links\"] = link_data\n",
        "    return drug_meta"
      ],
      "execution_count": 8,
      "outputs": []
    },
    {
      "cell_type": "code",
      "metadata": {
        "id": "fsqjr9MrbDid"
      },
      "source": [
        "errors = []\n",
        "res_errors = []"
      ],
      "execution_count": 9,
      "outputs": []
    },
    {
      "cell_type": "code",
      "metadata": {
        "id": "kgMInbtFcfat"
      },
      "source": [
        "import traceback\n",
        "from pathlib import Path\n",
        "import json"
      ],
      "execution_count": 10,
      "outputs": []
    },
    {
      "cell_type": "code",
      "metadata": {
        "id": "BL03RjiMbv2o"
      },
      "source": [
        "def error_catch(e):\n",
        "    logging.error(e)\n",
        "    errors.append({\"exception\":e, \"tb\":traceback.format_exc()})\n",
        "\n",
        "def error_res_catch(r):\n",
        "    logging.error(f\"[{r.status_code}]{r.url}\")\n",
        "    res_errors.append({\"response\":r, })"
      ],
      "execution_count": 11,
      "outputs": []
    },
    {
      "cell_type": "code",
      "metadata": {
        "id": "G8L2jIaOLF5x"
      },
      "source": [
        "def make_dir(path):\n",
        "    path = Path(path)\n",
        "    path.mkdir(exist_ok = True, parents = True)\n",
        "    return path"
      ],
      "execution_count": 12,
      "outputs": []
    },
    {
      "cell_type": "code",
      "metadata": {
        "id": "RmIdVTWFLcHy"
      },
      "source": [
        "META = make_dir(\"drive/MyDrive/kegg_drug/meta\")\n",
        "MOL = make_dir(\"drive/MyDrive/kegg_drug/mol\")"
      ],
      "execution_count": 13,
      "outputs": []
    },
    {
      "cell_type": "code",
      "metadata": {
        "id": "yZ7cIN_7VX1W"
      },
      "source": [
        "import os\n",
        "\n",
        "def mol_downloaded():\n",
        "    return list(i.replace(\".mol\",\"\") for i in os.listdir(MOL))\n",
        "\n",
        "MOL_CACHE = mol_downloaded()"
      ],
      "execution_count": 14,
      "outputs": []
    },
    {
      "cell_type": "code",
      "metadata": {
        "id": "6NAO-L2O2mNw"
      },
      "source": [
        "con = ce(\"sqlite:////content/drive/MyDrive/kegg_drug.db\")\n",
        "\n",
        "def create_kegg_page(con):\n",
        "    with con.connect() as conn:\n",
        "        conn.execute(\"\"\"\n",
        "        CREATE TABLE IF NOT EXISTS drug_page (\n",
        "            kegg_id text primary key,\n",
        "            doc text\n",
        "        )\n",
        "        \"\"\")\n",
        "\n",
        "def save_doc(kegg_id, doc):\n",
        "    \"\"\"\n",
        "    save html to sqlite db\n",
        "    \"\"\"\n",
        "    df_row = pd.DataFrame([dict(kegg_id=kegg_id, doc=doc),])\n",
        "    with con.connect() as conn:\n",
        "        df_row.to_sql(\"drug_page\", con = conn, index=False, if_exists=\"append\")\n",
        "\n",
        "def get_cache(con,):\n",
        "    with con.connect() as conn:\n",
        "        return list(pd.read_sql(\"SELECT kegg_id FROM drug_page\", con =conn)[\"kegg_id\"])"
      ],
      "execution_count": 55,
      "outputs": []
    },
    {
      "cell_type": "code",
      "metadata": {
        "id": "GoJ-5pEr1Zz6"
      },
      "source": [
        "create_kegg_page(con)"
      ],
      "execution_count": 47,
      "outputs": []
    },
    {
      "cell_type": "code",
      "metadata": {
        "colab": {
          "base_uri": "https://localhost:8080/"
        },
        "id": "ob48wyyC328r",
        "outputId": "4ecffedd-5c03-4212-f250-c35540ff99eb"
      },
      "source": [
        "downloaded = get_cache(con)\n",
        "logging.info(downloaded[:5])"
      ],
      "execution_count": 51,
      "outputs": [
        {
          "output_type": "stream",
          "text": [
            "INFO:root:['D00001']\n"
          ],
          "name": "stderr"
        }
      ]
    },
    {
      "cell_type": "code",
      "metadata": {
        "id": "JBgTEzovVztk"
      },
      "source": [
        "def kegg_drug_page(tag, resolve, sleep_factor):\n",
        "    if tag in downloaded:\n",
        "        logging.warning(f\"[🍻 SKIP]{tag}.json\")\n",
        "        return\n",
        "    sleep(random()*sleep_factor)\n",
        "    r = requests.get(get_detail_page(tag))\n",
        "    if r.status_code == 200:\n",
        "        try:\n",
        "            html = r.text\n",
        "            if \"No such data was found.\" in html:\n",
        "                logging.warning(f\"[🌴 {tag}]no such data found\")\n",
        "            resolve(tag, html)\n",
        "        except Exception as e:\n",
        "            error_catch(e)\n",
        "    else:\n",
        "        error_res_catch(r)"
      ],
      "execution_count": 53,
      "outputs": []
    },
    {
      "cell_type": "code",
      "metadata": {
        "id": "YWjZ6-1IL9cq"
      },
      "source": [
        "def start_download_meta(id_range, sleep_factor):\n",
        "    for i in tqdm(range(id_range)):\n",
        "        tag = (\"D%5d\"%(i)).replace(\" \",\"0\")\n",
        "        kegg_drug_page(tag, save_doc, sleep_factor)"
      ],
      "execution_count": 56,
      "outputs": []
    },
    {
      "cell_type": "code",
      "metadata": {
        "id": "5asRwXP1egOw"
      },
      "source": [
        "start_download_meta(12000,0.8)"
      ],
      "execution_count": null,
      "outputs": []
    },
    {
      "cell_type": "code",
      "metadata": {
        "id": "XwEZyqEUf0vr"
      },
      "source": [
        ""
      ],
      "execution_count": null,
      "outputs": []
    }
  ]
}