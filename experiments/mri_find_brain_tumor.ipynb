{
  "nbformat": 4,
  "nbformat_minor": 0,
  "metadata": {
    "colab": {
      "name": "mri_test.ipynb",
      "provenance": [],
      "collapsed_sections": [],
      "toc_visible": true,
      "mount_file_id": "1HXejp001OLaobXVVk6JP0bIxXn4OoOdy",
      "authorship_tag": "ABX9TyPWQ/3euSkL97Z9/KsYXlC0",
      "include_colab_link": true
    },
    "kernelspec": {
      "name": "python3",
      "display_name": "Python 3"
    },
    "accelerator": "GPU"
  },
  "cells": [
    {
      "cell_type": "markdown",
      "metadata": {
        "id": "view-in-github",
        "colab_type": "text"
      },
      "source": [
        "<a href=\"https://colab.research.google.com/github/raynardj/python4ml/blob/master/experiments/mri_find_brain_tumor.ipynb\" target=\"_parent\"><img src=\"https://colab.research.google.com/assets/colab-badge.svg\" alt=\"Open In Colab\"/></a>"
      ]
    },
    {
      "cell_type": "markdown",
      "metadata": {
        "id": "Uc9_1Wf9RnZj"
      },
      "source": [
        "# A study on MRI data\n",
        "> First we download the data, as we found on [this page](https://figshare.com/articles/dataset/brain_tumor_dataset/1512427)"
      ]
    },
    {
      "cell_type": "code",
      "metadata": {
        "colab": {
          "base_uri": "https://localhost:8080/"
        },
        "id": "SKc9jHShQ7MI",
        "outputId": "358389d7-26ca-4de7-fd25-530e57a6527e"
      },
      "source": [
        "!wget https://ndownloader.figshare.com/articles/1512427/versions/5"
      ],
      "execution_count": 1,
      "outputs": [
        {
          "output_type": "stream",
          "text": [
            "--2021-01-06 10:39:16--  https://ndownloader.figshare.com/articles/1512427/versions/5\n",
            "Resolving ndownloader.figshare.com (ndownloader.figshare.com)... 63.32.121.244, 108.128.58.52, 52.208.116.143, ...\n",
            "Connecting to ndownloader.figshare.com (ndownloader.figshare.com)|63.32.121.244|:443... connected.\n",
            "HTTP request sent, awaiting response... 200 OK\n",
            "Length: 879501695 (839M) [application/zip]\n",
            "Saving to: ‘5’\n",
            "\n",
            "5                   100%[===================>] 838.76M  34.9MB/s    in 25s     \n",
            "\n",
            "2021-01-06 10:39:42 (33.2 MB/s) - ‘5’ saved [879501695/879501695]\n",
            "\n"
          ],
          "name": "stdout"
        }
      ]
    },
    {
      "cell_type": "code",
      "metadata": {
        "id": "Hq5N7TXBRjTd"
      },
      "source": [
        "!mv 5 1512427.zip"
      ],
      "execution_count": 3,
      "outputs": []
    },
    {
      "cell_type": "code",
      "metadata": {
        "colab": {
          "base_uri": "https://localhost:8080/"
        },
        "id": "L2GWCMhPSA3n",
        "outputId": "d570200d-5092-4426-8525-62106878bca2"
      },
      "source": [
        "!unzip 1512427.zip"
      ],
      "execution_count": 6,
      "outputs": [
        {
          "output_type": "stream",
          "text": [
            "Archive:  1512427.zip\n",
            " extracting: brainTumorDataPublic_1-766.zip  \n",
            " extracting: brainTumorDataPublic_1533-2298.zip  \n",
            " extracting: brainTumorDataPublic_767-1532.zip  \n",
            " extracting: brainTumorDataPublic_2299-3064.zip  \n",
            " extracting: cvind.mat               \n",
            " extracting: README.txt              \n"
          ],
          "name": "stdout"
        }
      ]
    },
    {
      "cell_type": "code",
      "metadata": {
        "colab": {
          "base_uri": "https://localhost:8080/"
        },
        "id": "BBlEUc8pSDsB",
        "outputId": "29f48758-918b-4030-e775-deb916e159ca"
      },
      "source": [
        "!cat README.txt"
      ],
      "execution_count": 4,
      "outputs": [
        {
          "output_type": "stream",
          "text": [
            "This brain tumor dataset containing 3064 T1-weighted contrast-inhanced images\r\n",
            "from 233 patients with three kinds of brain tumor: meningioma (708 slices), \r\n",
            "glioma (1426 slices), and pituitary tumor (930 slices). Due to the file size\r\n",
            "limit of repository, we split the whole dataset into 4 subsets, and achive \r\n",
            "them in 4 .zip files with each .zip file containing 766 slices.The 5-fold\r\n",
            "cross-validation indices are also provided.\r\n",
            "\r\n",
            "-----\r\n",
            "This data is organized in matlab data format (.mat file). Each file stores a struct\r\n",
            "containing the following fields for an image:\r\n",
            "\r\n",
            "cjdata.label: 1 for meningioma, 2 for glioma, 3 for pituitary tumor\r\n",
            "cjdata.PID: patient ID\r\n",
            "cjdata.image: image data\r\n",
            "cjdata.tumorBorder: a vector storing the coordinates of discrete points on tumor border.\r\n",
            "\t\tFor example, [x1, y1, x2, y2,...] in which x1, y1 are planar coordinates on tumor border.\r\n",
            "\t\tIt was generated by manually delineating the tumor border. So we can use it to generate\r\n",
            "\t\tbinary image of tumor mask.\r\n",
            "cjdata.tumorMask: a binary image with 1s indicating tumor region\r\n",
            "\r\n",
            "-----\r\n",
            "This data was used in the following paper:\r\n",
            "1. Cheng, Jun, et al. \"Enhanced Performance of Brain Tumor Classification via Tumor Region Augmentation\r\n",
            "and Partition.\" PloS one 10.10 (2015).\r\n",
            "2. Cheng, Jun, et al. \"Retrieval of Brain Tumors by Adaptive Spatial Pooling and Fisher Vector \r\n",
            "Representation.\" PloS one 11.6 (2016). Matlab source codes are available on github \r\n",
            "https://github.com/chengjun583/brainTumorRetrieval\r\n",
            "\r\n",
            "-----\r\n",
            "Jun Cheng\r\n",
            "School of Biomedical Engineering\r\n",
            "Southern Medical University, Guangzhou, China\r\n",
            "Email: chengjun583@qq.com\r\n",
            "\r\n"
          ],
          "name": "stdout"
        }
      ]
    },
    {
      "cell_type": "code",
      "metadata": {
        "colab": {
          "base_uri": "https://localhost:8080/"
        },
        "id": "eQbk4aJXSb3A",
        "outputId": "d7e68b4c-65ea-4d63-8eab-c2c6c6a4499f"
      },
      "source": [
        "!unzip brainTumorDataPublic_1533-2298.zip > /dev/null\n",
        "!unzip brainTumorDataPublic_1-766.zip > /dev/null\n",
        "!unzip brainTumorDataPublic_2299-3064.zip > /dev/null\n",
        "!unzip brainTumorDataPublic_767-1532.zip > /dev/null"
      ],
      "execution_count": null,
      "outputs": [
        {
          "output_type": "stream",
          "text": [
            "replace 1533.mat? [y]es, [n]o, [A]ll, [N]one, [r]ename: replace 1.mat? [y]es, [n]o, [A]ll, [N]one, [r]ename: "
          ],
          "name": "stdout"
        }
      ]
    },
    {
      "cell_type": "code",
      "metadata": {
        "id": "VpeIbY-ZSgR4"
      },
      "source": [
        "!ls -l *.mat |wc -l"
      ],
      "execution_count": null,
      "outputs": []
    },
    {
      "cell_type": "code",
      "metadata": {
        "id": "2YErOdFnSnzJ"
      },
      "source": [
        "!ls -l *.mat |head "
      ],
      "execution_count": null,
      "outputs": []
    },
    {
      "cell_type": "code",
      "metadata": {
        "id": "rnMldT9pTLGn"
      },
      "source": [
        "import scipy.io\n",
        "import h5py"
      ],
      "execution_count": null,
      "outputs": []
    },
    {
      "cell_type": "code",
      "metadata": {
        "id": "sOfyJSBnTcmc"
      },
      "source": [
        "with h5py.File(\"1000.mat\", \"r\") as f:\n",
        "    print(f.keys())"
      ],
      "execution_count": null,
      "outputs": []
    },
    {
      "cell_type": "code",
      "metadata": {
        "id": "FBKI5pBrUZu7"
      },
      "source": [
        "import numpy as np\n",
        "import pandas as pd\n",
        "import matplotlib.pyplot as plt\n",
        "from tqdm.notebook import tqdm\n",
        "from glob import glob"
      ],
      "execution_count": null,
      "outputs": []
    },
    {
      "cell_type": "code",
      "metadata": {
        "id": "9OGissa_TdPz"
      },
      "source": [
        "def mat_to_data(filepath: str):\n",
        "    with h5py.File(filepath, \"r\") as f:\n",
        "        # ['cjdata']\n",
        "        # ['PID', 'image', 'label', 'tumorBorder', 'tumorMask']\n",
        "        djdata = f['cjdata']\n",
        "        img = np.array(djdata['image'])\n",
        "        pid = \"\".join(list(chr(i) for i in np.array(djdata['PID'])))\n",
        "        label = list(djdata['label'])[0][0]\n",
        "        boarder = np.array(djdata['tumorBorder'])\n",
        "        mask = np.array(djdata['tumorMask'])\n",
        "    return img, pid, label, boarder, mask"
      ],
      "execution_count": null,
      "outputs": []
    },
    {
      "cell_type": "code",
      "metadata": {
        "id": "yZf2_sRKZ3x5"
      },
      "source": [
        "img, pid, label, boarder, mask  = mat_to_data(\"2000.mat\")"
      ],
      "execution_count": null,
      "outputs": []
    },
    {
      "cell_type": "code",
      "metadata": {
        "id": "QC3oAx2IhCpw"
      },
      "source": [
        "!mkdir -p mri_data"
      ],
      "execution_count": null,
      "outputs": []
    },
    {
      "cell_type": "code",
      "metadata": {
        "id": "TdSvW3e4geXR"
      },
      "source": [
        "def extract_file(filepath: str):\n",
        "    img, pid, label, boarder, mask  = mat_to_data(filepath)\n",
        "    img_file = f\"{filepath}_img.npy\"\n",
        "    mask_file = f\"{filepath}_mask.npy\"\n",
        "    boarder_file = f\"{filepath}_bd.npy\"\n",
        "    np.save(f\"mri_data/{img_file}\", img)\n",
        "    np.save(f\"mri_data/{mask_file}\", mask)\n",
        "    np.save(f\"mri_data/{boarder_file}\", boarder)\n",
        "    shape = \"_\".join(map(str,img.shape))\n",
        "    return dict(pid=pid, img=img_file, mask=mask_file, boarder=boarder_file, label=label, shape=shape)"
      ],
      "execution_count": null,
      "outputs": []
    },
    {
      "cell_type": "code",
      "metadata": {
        "id": "jLsCagw_iG0U"
      },
      "source": [
        "files = list(filter(lambda x:x[0]!='c',glob(\"*.mat\")))"
      ],
      "execution_count": null,
      "outputs": []
    },
    {
      "cell_type": "code",
      "metadata": {
        "id": "7Hul_t45iAd2"
      },
      "source": [
        "df = pd.DataFrame(list(extract_file(i) for i in tqdm(files)))"
      ],
      "execution_count": null,
      "outputs": []
    },
    {
      "cell_type": "code",
      "metadata": {
        "id": "WL1R7KQ2yzQS"
      },
      "source": [
        "!du -sh mri_data/"
      ],
      "execution_count": null,
      "outputs": []
    },
    {
      "cell_type": "code",
      "metadata": {
        "id": "OSdGBFBtivw5"
      },
      "source": [
        "df.sort_values(by=[\"pid\",\"img\"])"
      ],
      "execution_count": null,
      "outputs": []
    },
    {
      "cell_type": "code",
      "metadata": {
        "id": "xj_IsN3llGFV"
      },
      "source": [
        "df[\"img_id\"] = df.img.apply(lambda x:int(x.split('.')[0]))"
      ],
      "execution_count": null,
      "outputs": []
    },
    {
      "cell_type": "code",
      "metadata": {
        "id": "cMt3x9n1lS50"
      },
      "source": [
        "df = df.query(\"shape=='512_512'\").sort_values(by=[\"img_id\"]).reset_index(drop=True)\n",
        "df"
      ],
      "execution_count": null,
      "outputs": []
    },
    {
      "cell_type": "code",
      "metadata": {
        "id": "8FmqNbKNkjkp"
      },
      "source": [
        "import plotly.express as px\n",
        "import plotly.graph_objects as go\n",
        "from ipywidgets import interact\n",
        "from PIL import Image"
      ],
      "execution_count": null,
      "outputs": []
    },
    {
      "cell_type": "code",
      "metadata": {
        "id": "1m45MUTRnbWx"
      },
      "source": [
        "def vis_patient(pid):\n",
        "    sub_df = df.query(f\"pid=='{pid}'\").sort_values(by=\"img_id\")\n",
        "    img_arr = np.stack(list(np.load(f\"mri_data/{i}\") for i in sub_df.img))\\\n",
        "        .astype(np.float32)/1000\n",
        "    mask_arr = np.stack(list(np.load(f\"mri_data/{i}\") for i in sub_df[\"mask\"])).astype(np.float32)\n",
        "    @interact\n",
        "    def show_mri(i = (1,len(img_arr))):\n",
        "        print(list(sub_df.img)[i-1])\n",
        "        rgb_arr = np.stack([\n",
        "          mask_arr[i-1],\n",
        "          np.clip(img_arr[i-1]-mask_arr[i-1],0.,1.),\n",
        "          img_arr[i-1],                  \n",
        "        ], axis=-1)\n",
        "\n",
        "        # rgb_arr = img_arr[i-1].astype(np.float32)\n",
        "        # print(rgb_arr[200:230,200:230])\n",
        "        display(plt.imshow(rgb_arr))"
      ],
      "execution_count": null,
      "outputs": []
    },
    {
      "cell_type": "code",
      "metadata": {
        "id": "Jejckwriod03"
      },
      "source": [
        "vis_patient('100360')"
      ],
      "execution_count": null,
      "outputs": []
    },
    {
      "cell_type": "code",
      "metadata": {
        "id": "4_s_2qNSktdn"
      },
      "source": [
        "df.query(\"pid=='MR029209I'\").sort_values(by=\"img_id\")"
      ],
      "execution_count": null,
      "outputs": []
    },
    {
      "cell_type": "code",
      "metadata": {
        "id": "qpE9rpZfU4J2"
      },
      "source": [
        "plt.imshow(np.array(img))"
      ],
      "execution_count": null,
      "outputs": []
    },
    {
      "cell_type": "code",
      "metadata": {
        "id": "qhL8I7ayVUza"
      },
      "source": [
        "plt.imshow(np.array(mask))"
      ],
      "execution_count": null,
      "outputs": []
    },
    {
      "cell_type": "markdown",
      "metadata": {
        "id": "wqSkQbKuvK2p"
      },
      "source": [
        "## Model Training"
      ]
    },
    {
      "cell_type": "code",
      "metadata": {
        "id": "x_Bd5hVSq-ny"
      },
      "source": [
        "!pip install -q forgebox"
      ],
      "execution_count": null,
      "outputs": []
    },
    {
      "cell_type": "code",
      "metadata": {
        "id": "j_TtsjaHvTKC"
      },
      "source": [
        "!pip install -q pytorch-lightning"
      ],
      "execution_count": null,
      "outputs": []
    },
    {
      "cell_type": "code",
      "metadata": {
        "id": "goqWnLeDzSTQ"
      },
      "source": [
        "from forgebox.imports import *\n",
        "import pytorch_lightning as pl"
      ],
      "execution_count": null,
      "outputs": []
    },
    {
      "cell_type": "code",
      "metadata": {
        "id": "bHsnlf-gyGj0"
      },
      "source": [
        "class mri_data(Dataset):\n",
        "    def __init__(self, df: pd.DataFrame, data_dir: Path=Path(\"./mri_data\")):\n",
        "        super().__init__()\n",
        "        self.df = df.reset_index(drop = True)\n",
        "        self.data_dir = Path(data_dir)\n",
        "    \n",
        "    def __len__(self):\n",
        "        return len(self.df)\n",
        "\n",
        "    def __repr__(self):\n",
        "        return f\"MRI Dataset:\\n\\t{len(self.df.pid.unique())} patients, {len(self)} slices\"\n",
        "\n",
        "    def __getitem__(self,idx):\n",
        "        row = dict(self.df.loc[idx])\n",
        "        img = np.load(str(self.data_dir/(row[\"img\"])))\n",
        "        img = img/(img.max())\n",
        "        mask = np.load(str(self.data_dir/(row[\"mask\"])))\n",
        "        return img[None, ...], mask[None, ...], row['label']-1\n",
        "\n",
        "\n",
        "def split_by(\n",
        "    df: pd.DataFrame,\n",
        "    col: str,\n",
        "    val_ratio: float=.2\n",
        "):\n",
        "    uniques = np.array(list(set(list(df[col]))))\n",
        "    validation_ids = np.random.choice(\n",
        "        uniques, size=int(len(uniques)*val_ratio), replace=False)\n",
        "    val_slice = df[col].isin(validation_ids)\n",
        "    return df[~val_slice].sample(frac=1.).reset_index(drop=True),\\\n",
        "        df[val_slice].reset_index(drop=True)"
      ],
      "execution_count": null,
      "outputs": []
    },
    {
      "cell_type": "code",
      "metadata": {
        "id": "hbE0ukWo2ARu"
      },
      "source": [
        "train_df, val_df = split_by(df, \"pid\")"
      ],
      "execution_count": null,
      "outputs": []
    },
    {
      "cell_type": "code",
      "metadata": {
        "id": "FQPhnAAb2P_V"
      },
      "source": [
        "len(train_df), len(val_df)"
      ],
      "execution_count": null,
      "outputs": []
    },
    {
      "cell_type": "code",
      "metadata": {
        "id": "B_U7Bgug2TMh"
      },
      "source": [
        "len(train_df.pid.unique()), len(val_df.pid.unique())"
      ],
      "execution_count": null,
      "outputs": []
    },
    {
      "cell_type": "code",
      "metadata": {
        "id": "QG_YlW5r0G4d"
      },
      "source": [
        "total_ds = mri_data(df)\n",
        "train_ds = mri_data(train_df)\n",
        "val_ds = mri_data(val_df)"
      ],
      "execution_count": null,
      "outputs": []
    },
    {
      "cell_type": "code",
      "metadata": {
        "id": "YPipKjMH2cGU"
      },
      "source": [
        "train_ds, val_ds"
      ],
      "execution_count": null,
      "outputs": []
    },
    {
      "cell_type": "code",
      "metadata": {
        "id": "jaf10SNo24KG"
      },
      "source": [
        "x,y,z = train_ds[5]"
      ],
      "execution_count": null,
      "outputs": []
    },
    {
      "cell_type": "markdown",
      "metadata": {
        "id": "Jzi23LWCEsWh"
      },
      "source": [
        "### Mean and standard variation\n",
        "> Of the entire dataset"
      ]
    },
    {
      "cell_type": "code",
      "metadata": {
        "id": "0w1LArYv3JKb"
      },
      "source": [
        "all_x = []\n",
        "for i in tqdm(range(len(total_ds))):\n",
        "    x,yy,zz = total_ds[i]\n",
        "    all_x.append(np.array([x.mean(), x.std()]))"
      ],
      "execution_count": null,
      "outputs": []
    },
    {
      "cell_type": "code",
      "metadata": {
        "id": "D71r1Mka3iD1"
      },
      "source": [
        "all_arr = np.array(all_x)\n",
        "x_mean, x_std = all_arr.mean(0)\n",
        "x_mean, x_std"
      ],
      "execution_count": null,
      "outputs": []
    },
    {
      "cell_type": "code",
      "metadata": {
        "id": "i-f8Gn_9911o"
      },
      "source": [
        "all_arr[:,0].min(), all_arr[:,0].max(),all_arr[:,1].min(), all_arr[:,1].max()"
      ],
      "execution_count": null,
      "outputs": []
    },
    {
      "cell_type": "markdown",
      "metadata": {
        "id": "2DL6r8meB175"
      },
      "source": [
        "## Model"
      ]
    },
    {
      "cell_type": "code",
      "metadata": {
        "id": "lOESUIQWBQ09"
      },
      "source": [
        "!pip install -q segmentation-models-pytorch"
      ],
      "execution_count": null,
      "outputs": []
    },
    {
      "cell_type": "code",
      "metadata": {
        "id": "Kff22uH7CH3w"
      },
      "source": [
        "import segmentation_models_pytorch as smp"
      ],
      "execution_count": null,
      "outputs": []
    },
    {
      "cell_type": "code",
      "metadata": {
        "id": "tAcTQBVpC9Q4"
      },
      "source": [
        "model = smp.Unet(\n",
        "    \"efficientnet-b5\",\n",
        "    encoder_weights=\"imagenet\",\n",
        "    in_channels=1,                  # model input channels (1 for grayscale images, 3 for RGB, etc.)\n",
        "    classes=1, \n",
        "    )"
      ],
      "execution_count": null,
      "outputs": []
    },
    {
      "cell_type": "markdown",
      "metadata": {
        "id": "O9L5a_d7E7qF"
      },
      "source": [
        "### Test model pipeline"
      ]
    },
    {
      "cell_type": "code",
      "metadata": {
        "id": "LDrck67WD0Ar"
      },
      "source": [
        "model(torch.FloatTensor(x)[None,...]).shape"
      ],
      "execution_count": null,
      "outputs": []
    },
    {
      "cell_type": "code",
      "metadata": {
        "id": "qEcvzz7KFp6e"
      },
      "source": [
        "??pl.LightningModule"
      ],
      "execution_count": null,
      "outputs": []
    },
    {
      "cell_type": "code",
      "metadata": {
        "id": "K-YgRMz7FaoD"
      },
      "source": [
        "class PlData(pl.LightningDataModule):\n",
        "    def __init__(self, train_df, val_df, bs):\n",
        "        super().__init__()\n",
        "        self.bs = bs\n",
        "        self.train_df = train_df\n",
        "        self.val_df = val_df\n",
        "        self.train_ds = mri_data(self.train_df)\n",
        "        self.val_ds = mri_data(self.val_df)\n",
        "\n",
        "    def train_dataloader(self):\n",
        "        return DataLoader(self.train_ds, shuffle=True, batch_size=self.bs)\n",
        "\n",
        "    def val_dataloader(self):\n",
        "        return DataLoader(self.val_ds, shuffle=False, batch_size=self.bs)"
      ],
      "execution_count": null,
      "outputs": []
    },
    {
      "cell_type": "code",
      "metadata": {
        "id": "Kus9764AD98n"
      },
      "source": [
        "class PlMRIModel(pl.LightningModule):\n",
        "    def __init__(self, base_model):\n",
        "        super().__init__()\n",
        "        self.base = base_model\n",
        "        self.sigmoid = nn.Sigmoid()\n",
        "        self.crit = nn.BCEWithLogitsLoss()\n",
        "        self.accuracy_f = pl.metrics.Accuracy()\n",
        "\n",
        "    def forward(self, x):\n",
        "        return self.base(x)\n",
        "\n",
        "    def configure_optimizers(self):\n",
        "        return torch.optim.AdamW(self.base.parameters(), lr=1e-4)\n",
        "\n",
        "    def training_step(self, batch, batch_idx):\n",
        "        x,y,z = batch\n",
        "        x = x.float(); y=y.float()\n",
        "        y_ = self(x)\n",
        "        loss = self.crit(y_, y)\n",
        "        acc = self.accuracy_f(self.sigmoid(y_), y)\n",
        "\n",
        "        self.log('train_loss', loss)\n",
        "        self.log('train_acc', acc)\n",
        "        return loss\n",
        "\n",
        "    def validation_step(self, batch, batch_idx):\n",
        "        x,y,z = batch\n",
        "        x = x.float(); y=y.float()\n",
        "        y_ = self(x)\n",
        "        loss = self.crit(y_, y)\n",
        "        acc = self.accuracy_f(self.sigmoid(y_), y)\n",
        "\n",
        "        self.log('val_loss', loss)\n",
        "        self.log('val_acc', acc)\n",
        "        return loss"
      ],
      "execution_count": null,
      "outputs": []
    },
    {
      "cell_type": "code",
      "metadata": {
        "id": "-vVSvv1gIrPn"
      },
      "source": [
        "pl_data = PlData(train_df, val_df, bs=8)\n",
        "pl_model = PlMRIModel(model)"
      ],
      "execution_count": null,
      "outputs": []
    },
    {
      "cell_type": "code",
      "metadata": {
        "id": "Ag9IR6LyI2SQ"
      },
      "source": [
        "logger = pl.loggers.TensorBoardLogger(\"tb_log\")\n",
        "early = pl.callbacks.EarlyStopping(monitor=\"val_acc\")"
      ],
      "execution_count": null,
      "outputs": []
    },
    {
      "cell_type": "code",
      "metadata": {
        "id": "ojHn6jYQJMMM"
      },
      "source": [
        "trainer = pl.Trainer(\n",
        "    logger=logger,\n",
        "    callbacks=[early,],\n",
        "    gpus=1,\n",
        "    fast_dev_run=True)"
      ],
      "execution_count": null,
      "outputs": []
    },
    {
      "cell_type": "code",
      "metadata": {
        "id": "Fo1GXvAcJmbN"
      },
      "source": [
        "trainer.fit(pl_model,pl_data)"
      ],
      "execution_count": null,
      "outputs": []
    },
    {
      "cell_type": "code",
      "metadata": {
        "id": "N7zrVy20Jy1A"
      },
      "source": [
        ""
      ],
      "execution_count": null,
      "outputs": []
    }
  ]
}