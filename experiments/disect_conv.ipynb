{
  "nbformat": 4,
  "nbformat_minor": 0,
  "metadata": {
    "colab": {
      "provenance": [],
      "authorship_tag": "ABX9TyNFgcMoslRJuU8gviMK+Ede",
      "include_colab_link": true
    },
    "kernelspec": {
      "name": "python3",
      "display_name": "Python 3"
    },
    "language_info": {
      "name": "python"
    }
  },
  "cells": [
    {
      "cell_type": "markdown",
      "metadata": {
        "id": "view-in-github",
        "colab_type": "text"
      },
      "source": [
        "<a href=\"https://colab.research.google.com/github/raynardj/python4ml/blob/main/experiments/disect_conv.ipynb\" target=\"_parent\"><img src=\"https://colab.research.google.com/assets/colab-badge.svg\" alt=\"Open In Colab\"/></a>"
      ]
    },
    {
      "cell_type": "markdown",
      "source": [
        "# How to finetune only a part of the obj detection"
      ],
      "metadata": {
        "id": "vbHPilu2ZQTR"
      }
    },
    {
      "cell_type": "code",
      "execution_count": 59,
      "metadata": {
        "id": "d_BnkKwUT0o0"
      },
      "outputs": [],
      "source": [
        "import torch\n",
        "from torch import nn"
      ]
    },
    {
      "cell_type": "markdown",
      "source": [
        "## Usual last layer of obj detection top"
      ],
      "metadata": {
        "id": "tYJNMDpuUCR3"
      }
    },
    {
      "cell_type": "markdown",
      "source": [
        "Assume this is the activation before the top layer, batch size 16 x channel_size 32 x 7 x 7 , as 7 is both grid height and grid width"
      ],
      "metadata": {
        "id": "BDDdslT8Uczx"
      }
    },
    {
      "cell_type": "code",
      "source": [
        "x = torch.rand(16, 32, 7,7,)"
      ],
      "metadata": {
        "id": "fmvUyRB6UBFv"
      },
      "execution_count": 60,
      "outputs": []
    },
    {
      "cell_type": "markdown",
      "source": [
        "Assume this is the top layer(last layer)"
      ],
      "metadata": {
        "id": "lS5CLh-iUnY2"
      }
    },
    {
      "cell_type": "code",
      "source": [
        "last_layer = nn.Conv2d(32, 105, 3, padding=1)"
      ],
      "metadata": {
        "id": "ItA-3ng_T9G1"
      },
      "execution_count": 61,
      "outputs": []
    },
    {
      "cell_type": "code",
      "source": [
        "with torch.no_grad():\n",
        "    # forward pass\n",
        "    y_ = last_layer(x)"
      ],
      "metadata": {
        "id": "U6EY-GVCUUQr"
      },
      "execution_count": 62,
      "outputs": []
    },
    {
      "cell_type": "markdown",
      "source": [
        "It's like a single dense layer for each grid, transformed the 32 channels to 105"
      ],
      "metadata": {
        "id": "1oxzu-4ZU3gm"
      }
    },
    {
      "cell_type": "code",
      "source": [
        "y_.shape"
      ],
      "metadata": {
        "colab": {
          "base_uri": "https://localhost:8080/"
        },
        "id": "oqfmNhnFUbh9",
        "outputId": "6dd971d4-628f-4f69-ab6a-af7ad570b9ed"
      },
      "execution_count": 63,
      "outputs": [
        {
          "output_type": "execute_result",
          "data": {
            "text/plain": [
              "torch.Size([16, 105, 7, 7])"
            ]
          },
          "metadata": {},
          "execution_count": 63
        }
      ]
    },
    {
      "cell_type": "markdown",
      "source": [
        "So for this part of the model, the weights is like in  this shape, and let's save the weights to the numpy variable `pretrain_weights`"
      ],
      "metadata": {
        "id": "sZyxlhajVbP9"
      }
    },
    {
      "cell_type": "code",
      "source": [
        "pretrain_weights = last_layer.weight.data.numpy()\n",
        "pretrain_weights.shape"
      ],
      "metadata": {
        "colab": {
          "base_uri": "https://localhost:8080/"
        },
        "id": "xbcJ_IIXUyc2",
        "outputId": "94151d83-49e9-41a0-9ab3-2ebd3e11b095"
      },
      "execution_count": 64,
      "outputs": [
        {
          "output_type": "execute_result",
          "data": {
            "text/plain": [
              "(105, 32, 3, 3)"
            ]
          },
          "metadata": {},
          "execution_count": 64
        }
      ]
    },
    {
      "cell_type": "code",
      "source": [
        "pretrain_bias = last_layer.bias.data.numpy()\n",
        "pretrain_bias.shape"
      ],
      "metadata": {
        "colab": {
          "base_uri": "https://localhost:8080/"
        },
        "id": "JwW52SmBYF-i",
        "outputId": "85d77c78-fb83-4bbd-871c-642fa550861f"
      },
      "execution_count": 65,
      "outputs": [
        {
          "output_type": "execute_result",
          "data": {
            "text/plain": [
              "(105,)"
            ]
          },
          "metadata": {},
          "execution_count": 65
        }
      ]
    },
    {
      "cell_type": "markdown",
      "source": [
        "## Segregated weights\n",
        "\n",
        "Let's bread down the top layer to 3 conv module, to see if it can perform like the same"
      ],
      "metadata": {
        "id": "xm3anffoV26K"
      }
    },
    {
      "cell_type": "code",
      "source": [
        "conv_logit=nn.Conv2d(32, 1, 3, padding=1)\n",
        "conv_bbox=nn.Conv2d(32, 4, 3, padding=1)\n",
        "conv_classes=nn.Conv2d(32, 100, 3, padding=1)"
      ],
      "metadata": {
        "id": "iy9XOMgAVogG"
      },
      "execution_count": 66,
      "outputs": []
    },
    {
      "cell_type": "markdown",
      "source": [
        "Now we load 1 layer of the pretrained weights to 3 conv module."
      ],
      "metadata": {
        "id": "IedxsA5CY7Ed"
      }
    },
    {
      "cell_type": "code",
      "source": [
        "conv_logit.weight.data = torch.Tensor(pretrain_weights[:1,...])\n",
        "conv_bbox.weight.data = torch.Tensor(pretrain_weights[1:5,...])\n",
        "conv_classes.weight.data = torch.Tensor(pretrain_weights[5:,...])\n",
        "\n",
        "conv_logit.bias.data = torch.Tensor(pretrain_bias[:1])\n",
        "conv_bbox.bias.data = torch.Tensor(pretrain_bias[1:5])\n",
        "conv_classes.bias.data = torch.Tensor(pretrain_bias[5:])"
      ],
      "metadata": {
        "id": "fQkdOw-dWJ3t"
      },
      "execution_count": 69,
      "outputs": []
    },
    {
      "cell_type": "code",
      "source": [
        "with torch.no_grad():\n",
        "    y_1 = conv_logit(x)\n",
        "    y_2 = conv_bbox(x)\n",
        "    y_3 = conv_classes(x)"
      ],
      "metadata": {
        "id": "scIQjN3jWdeX"
      },
      "execution_count": 71,
      "outputs": []
    },
    {
      "cell_type": "code",
      "source": [
        "y_1.shape, y_2.shape, y_3.shape"
      ],
      "metadata": {
        "colab": {
          "base_uri": "https://localhost:8080/"
        },
        "id": "xn8tM13HWpgf",
        "outputId": "63e7b72c-d74c-4a28-b9eb-ba2c62608073"
      },
      "execution_count": 72,
      "outputs": [
        {
          "output_type": "execute_result",
          "data": {
            "text/plain": [
              "(torch.Size([16, 1, 7, 7]),\n",
              " torch.Size([16, 4, 7, 7]),\n",
              " torch.Size([16, 100, 7, 7]))"
            ]
          },
          "metadata": {},
          "execution_count": 72
        }
      ]
    },
    {
      "cell_type": "code",
      "source": [
        "y_combined = torch.cat([y_1, y_2, y_3], dim=1)\n",
        "y_combined.shape"
      ],
      "metadata": {
        "colab": {
          "base_uri": "https://localhost:8080/"
        },
        "id": "MOUt62NiWwAC",
        "outputId": "28beb3a1-d82d-48a9-adb6-7714ed06c98e"
      },
      "execution_count": 73,
      "outputs": [
        {
          "output_type": "execute_result",
          "data": {
            "text/plain": [
              "torch.Size([16, 105, 7, 7])"
            ]
          },
          "metadata": {},
          "execution_count": 73
        }
      ]
    },
    {
      "cell_type": "markdown",
      "source": [
        "We can reproduce the exact results, but as in application, we can train 3 parts of conv separately, or only train 1 part of them"
      ],
      "metadata": {
        "id": "EWjLvCLaZCZm"
      }
    },
    {
      "cell_type": "code",
      "source": [
        "y_==y_combined"
      ],
      "metadata": {
        "colab": {
          "base_uri": "https://localhost:8080/"
        },
        "id": "MXnwJ4mgW2RJ",
        "outputId": "f29bbd76-ea21-4772-bfd7-1b896b34ef24"
      },
      "execution_count": 75,
      "outputs": [
        {
          "output_type": "execute_result",
          "data": {
            "text/plain": [
              "tensor([[[[True, True, True,  ..., True, True, True],\n",
              "          [True, True, True,  ..., True, True, True],\n",
              "          [True, True, True,  ..., True, True, True],\n",
              "          ...,\n",
              "          [True, True, True,  ..., True, True, True],\n",
              "          [True, True, True,  ..., True, True, True],\n",
              "          [True, True, True,  ..., True, True, True]],\n",
              "\n",
              "         [[True, True, True,  ..., True, True, True],\n",
              "          [True, True, True,  ..., True, True, True],\n",
              "          [True, True, True,  ..., True, True, True],\n",
              "          ...,\n",
              "          [True, True, True,  ..., True, True, True],\n",
              "          [True, True, True,  ..., True, True, True],\n",
              "          [True, True, True,  ..., True, True, True]],\n",
              "\n",
              "         [[True, True, True,  ..., True, True, True],\n",
              "          [True, True, True,  ..., True, True, True],\n",
              "          [True, True, True,  ..., True, True, True],\n",
              "          ...,\n",
              "          [True, True, True,  ..., True, True, True],\n",
              "          [True, True, True,  ..., True, True, True],\n",
              "          [True, True, True,  ..., True, True, True]],\n",
              "\n",
              "         ...,\n",
              "\n",
              "         [[True, True, True,  ..., True, True, True],\n",
              "          [True, True, True,  ..., True, True, True],\n",
              "          [True, True, True,  ..., True, True, True],\n",
              "          ...,\n",
              "          [True, True, True,  ..., True, True, True],\n",
              "          [True, True, True,  ..., True, True, True],\n",
              "          [True, True, True,  ..., True, True, True]],\n",
              "\n",
              "         [[True, True, True,  ..., True, True, True],\n",
              "          [True, True, True,  ..., True, True, True],\n",
              "          [True, True, True,  ..., True, True, True],\n",
              "          ...,\n",
              "          [True, True, True,  ..., True, True, True],\n",
              "          [True, True, True,  ..., True, True, True],\n",
              "          [True, True, True,  ..., True, True, True]],\n",
              "\n",
              "         [[True, True, True,  ..., True, True, True],\n",
              "          [True, True, True,  ..., True, True, True],\n",
              "          [True, True, True,  ..., True, True, True],\n",
              "          ...,\n",
              "          [True, True, True,  ..., True, True, True],\n",
              "          [True, True, True,  ..., True, True, True],\n",
              "          [True, True, True,  ..., True, True, True]]],\n",
              "\n",
              "\n",
              "        [[[True, True, True,  ..., True, True, True],\n",
              "          [True, True, True,  ..., True, True, True],\n",
              "          [True, True, True,  ..., True, True, True],\n",
              "          ...,\n",
              "          [True, True, True,  ..., True, True, True],\n",
              "          [True, True, True,  ..., True, True, True],\n",
              "          [True, True, True,  ..., True, True, True]],\n",
              "\n",
              "         [[True, True, True,  ..., True, True, True],\n",
              "          [True, True, True,  ..., True, True, True],\n",
              "          [True, True, True,  ..., True, True, True],\n",
              "          ...,\n",
              "          [True, True, True,  ..., True, True, True],\n",
              "          [True, True, True,  ..., True, True, True],\n",
              "          [True, True, True,  ..., True, True, True]],\n",
              "\n",
              "         [[True, True, True,  ..., True, True, True],\n",
              "          [True, True, True,  ..., True, True, True],\n",
              "          [True, True, True,  ..., True, True, True],\n",
              "          ...,\n",
              "          [True, True, True,  ..., True, True, True],\n",
              "          [True, True, True,  ..., True, True, True],\n",
              "          [True, True, True,  ..., True, True, True]],\n",
              "\n",
              "         ...,\n",
              "\n",
              "         [[True, True, True,  ..., True, True, True],\n",
              "          [True, True, True,  ..., True, True, True],\n",
              "          [True, True, True,  ..., True, True, True],\n",
              "          ...,\n",
              "          [True, True, True,  ..., True, True, True],\n",
              "          [True, True, True,  ..., True, True, True],\n",
              "          [True, True, True,  ..., True, True, True]],\n",
              "\n",
              "         [[True, True, True,  ..., True, True, True],\n",
              "          [True, True, True,  ..., True, True, True],\n",
              "          [True, True, True,  ..., True, True, True],\n",
              "          ...,\n",
              "          [True, True, True,  ..., True, True, True],\n",
              "          [True, True, True,  ..., True, True, True],\n",
              "          [True, True, True,  ..., True, True, True]],\n",
              "\n",
              "         [[True, True, True,  ..., True, True, True],\n",
              "          [True, True, True,  ..., True, True, True],\n",
              "          [True, True, True,  ..., True, True, True],\n",
              "          ...,\n",
              "          [True, True, True,  ..., True, True, True],\n",
              "          [True, True, True,  ..., True, True, True],\n",
              "          [True, True, True,  ..., True, True, True]]],\n",
              "\n",
              "\n",
              "        [[[True, True, True,  ..., True, True, True],\n",
              "          [True, True, True,  ..., True, True, True],\n",
              "          [True, True, True,  ..., True, True, True],\n",
              "          ...,\n",
              "          [True, True, True,  ..., True, True, True],\n",
              "          [True, True, True,  ..., True, True, True],\n",
              "          [True, True, True,  ..., True, True, True]],\n",
              "\n",
              "         [[True, True, True,  ..., True, True, True],\n",
              "          [True, True, True,  ..., True, True, True],\n",
              "          [True, True, True,  ..., True, True, True],\n",
              "          ...,\n",
              "          [True, True, True,  ..., True, True, True],\n",
              "          [True, True, True,  ..., True, True, True],\n",
              "          [True, True, True,  ..., True, True, True]],\n",
              "\n",
              "         [[True, True, True,  ..., True, True, True],\n",
              "          [True, True, True,  ..., True, True, True],\n",
              "          [True, True, True,  ..., True, True, True],\n",
              "          ...,\n",
              "          [True, True, True,  ..., True, True, True],\n",
              "          [True, True, True,  ..., True, True, True],\n",
              "          [True, True, True,  ..., True, True, True]],\n",
              "\n",
              "         ...,\n",
              "\n",
              "         [[True, True, True,  ..., True, True, True],\n",
              "          [True, True, True,  ..., True, True, True],\n",
              "          [True, True, True,  ..., True, True, True],\n",
              "          ...,\n",
              "          [True, True, True,  ..., True, True, True],\n",
              "          [True, True, True,  ..., True, True, True],\n",
              "          [True, True, True,  ..., True, True, True]],\n",
              "\n",
              "         [[True, True, True,  ..., True, True, True],\n",
              "          [True, True, True,  ..., True, True, True],\n",
              "          [True, True, True,  ..., True, True, True],\n",
              "          ...,\n",
              "          [True, True, True,  ..., True, True, True],\n",
              "          [True, True, True,  ..., True, True, True],\n",
              "          [True, True, True,  ..., True, True, True]],\n",
              "\n",
              "         [[True, True, True,  ..., True, True, True],\n",
              "          [True, True, True,  ..., True, True, True],\n",
              "          [True, True, True,  ..., True, True, True],\n",
              "          ...,\n",
              "          [True, True, True,  ..., True, True, True],\n",
              "          [True, True, True,  ..., True, True, True],\n",
              "          [True, True, True,  ..., True, True, True]]],\n",
              "\n",
              "\n",
              "        ...,\n",
              "\n",
              "\n",
              "        [[[True, True, True,  ..., True, True, True],\n",
              "          [True, True, True,  ..., True, True, True],\n",
              "          [True, True, True,  ..., True, True, True],\n",
              "          ...,\n",
              "          [True, True, True,  ..., True, True, True],\n",
              "          [True, True, True,  ..., True, True, True],\n",
              "          [True, True, True,  ..., True, True, True]],\n",
              "\n",
              "         [[True, True, True,  ..., True, True, True],\n",
              "          [True, True, True,  ..., True, True, True],\n",
              "          [True, True, True,  ..., True, True, True],\n",
              "          ...,\n",
              "          [True, True, True,  ..., True, True, True],\n",
              "          [True, True, True,  ..., True, True, True],\n",
              "          [True, True, True,  ..., True, True, True]],\n",
              "\n",
              "         [[True, True, True,  ..., True, True, True],\n",
              "          [True, True, True,  ..., True, True, True],\n",
              "          [True, True, True,  ..., True, True, True],\n",
              "          ...,\n",
              "          [True, True, True,  ..., True, True, True],\n",
              "          [True, True, True,  ..., True, True, True],\n",
              "          [True, True, True,  ..., True, True, True]],\n",
              "\n",
              "         ...,\n",
              "\n",
              "         [[True, True, True,  ..., True, True, True],\n",
              "          [True, True, True,  ..., True, True, True],\n",
              "          [True, True, True,  ..., True, True, True],\n",
              "          ...,\n",
              "          [True, True, True,  ..., True, True, True],\n",
              "          [True, True, True,  ..., True, True, True],\n",
              "          [True, True, True,  ..., True, True, True]],\n",
              "\n",
              "         [[True, True, True,  ..., True, True, True],\n",
              "          [True, True, True,  ..., True, True, True],\n",
              "          [True, True, True,  ..., True, True, True],\n",
              "          ...,\n",
              "          [True, True, True,  ..., True, True, True],\n",
              "          [True, True, True,  ..., True, True, True],\n",
              "          [True, True, True,  ..., True, True, True]],\n",
              "\n",
              "         [[True, True, True,  ..., True, True, True],\n",
              "          [True, True, True,  ..., True, True, True],\n",
              "          [True, True, True,  ..., True, True, True],\n",
              "          ...,\n",
              "          [True, True, True,  ..., True, True, True],\n",
              "          [True, True, True,  ..., True, True, True],\n",
              "          [True, True, True,  ..., True, True, True]]],\n",
              "\n",
              "\n",
              "        [[[True, True, True,  ..., True, True, True],\n",
              "          [True, True, True,  ..., True, True, True],\n",
              "          [True, True, True,  ..., True, True, True],\n",
              "          ...,\n",
              "          [True, True, True,  ..., True, True, True],\n",
              "          [True, True, True,  ..., True, True, True],\n",
              "          [True, True, True,  ..., True, True, True]],\n",
              "\n",
              "         [[True, True, True,  ..., True, True, True],\n",
              "          [True, True, True,  ..., True, True, True],\n",
              "          [True, True, True,  ..., True, True, True],\n",
              "          ...,\n",
              "          [True, True, True,  ..., True, True, True],\n",
              "          [True, True, True,  ..., True, True, True],\n",
              "          [True, True, True,  ..., True, True, True]],\n",
              "\n",
              "         [[True, True, True,  ..., True, True, True],\n",
              "          [True, True, True,  ..., True, True, True],\n",
              "          [True, True, True,  ..., True, True, True],\n",
              "          ...,\n",
              "          [True, True, True,  ..., True, True, True],\n",
              "          [True, True, True,  ..., True, True, True],\n",
              "          [True, True, True,  ..., True, True, True]],\n",
              "\n",
              "         ...,\n",
              "\n",
              "         [[True, True, True,  ..., True, True, True],\n",
              "          [True, True, True,  ..., True, True, True],\n",
              "          [True, True, True,  ..., True, True, True],\n",
              "          ...,\n",
              "          [True, True, True,  ..., True, True, True],\n",
              "          [True, True, True,  ..., True, True, True],\n",
              "          [True, True, True,  ..., True, True, True]],\n",
              "\n",
              "         [[True, True, True,  ..., True, True, True],\n",
              "          [True, True, True,  ..., True, True, True],\n",
              "          [True, True, True,  ..., True, True, True],\n",
              "          ...,\n",
              "          [True, True, True,  ..., True, True, True],\n",
              "          [True, True, True,  ..., True, True, True],\n",
              "          [True, True, True,  ..., True, True, True]],\n",
              "\n",
              "         [[True, True, True,  ..., True, True, True],\n",
              "          [True, True, True,  ..., True, True, True],\n",
              "          [True, True, True,  ..., True, True, True],\n",
              "          ...,\n",
              "          [True, True, True,  ..., True, True, True],\n",
              "          [True, True, True,  ..., True, True, True],\n",
              "          [True, True, True,  ..., True, True, True]]],\n",
              "\n",
              "\n",
              "        [[[True, True, True,  ..., True, True, True],\n",
              "          [True, True, True,  ..., True, True, True],\n",
              "          [True, True, True,  ..., True, True, True],\n",
              "          ...,\n",
              "          [True, True, True,  ..., True, True, True],\n",
              "          [True, True, True,  ..., True, True, True],\n",
              "          [True, True, True,  ..., True, True, True]],\n",
              "\n",
              "         [[True, True, True,  ..., True, True, True],\n",
              "          [True, True, True,  ..., True, True, True],\n",
              "          [True, True, True,  ..., True, True, True],\n",
              "          ...,\n",
              "          [True, True, True,  ..., True, True, True],\n",
              "          [True, True, True,  ..., True, True, True],\n",
              "          [True, True, True,  ..., True, True, True]],\n",
              "\n",
              "         [[True, True, True,  ..., True, True, True],\n",
              "          [True, True, True,  ..., True, True, True],\n",
              "          [True, True, True,  ..., True, True, True],\n",
              "          ...,\n",
              "          [True, True, True,  ..., True, True, True],\n",
              "          [True, True, True,  ..., True, True, True],\n",
              "          [True, True, True,  ..., True, True, True]],\n",
              "\n",
              "         ...,\n",
              "\n",
              "         [[True, True, True,  ..., True, True, True],\n",
              "          [True, True, True,  ..., True, True, True],\n",
              "          [True, True, True,  ..., True, True, True],\n",
              "          ...,\n",
              "          [True, True, True,  ..., True, True, True],\n",
              "          [True, True, True,  ..., True, True, True],\n",
              "          [True, True, True,  ..., True, True, True]],\n",
              "\n",
              "         [[True, True, True,  ..., True, True, True],\n",
              "          [True, True, True,  ..., True, True, True],\n",
              "          [True, True, True,  ..., True, True, True],\n",
              "          ...,\n",
              "          [True, True, True,  ..., True, True, True],\n",
              "          [True, True, True,  ..., True, True, True],\n",
              "          [True, True, True,  ..., True, True, True]],\n",
              "\n",
              "         [[True, True, True,  ..., True, True, True],\n",
              "          [True, True, True,  ..., True, True, True],\n",
              "          [True, True, True,  ..., True, True, True],\n",
              "          ...,\n",
              "          [True, True, True,  ..., True, True, True],\n",
              "          [True, True, True,  ..., True, True, True],\n",
              "          [True, True, True,  ..., True, True, True]]]])"
            ]
          },
          "metadata": {},
          "execution_count": 75
        }
      ]
    },
    {
      "cell_type": "code",
      "source": [
        "  "
      ],
      "metadata": {
        "id": "p1Pkn25tW96w"
      },
      "execution_count": null,
      "outputs": []
    }
  ]
}