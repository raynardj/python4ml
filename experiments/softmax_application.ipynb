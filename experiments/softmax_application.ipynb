{
 "cells": [
  {
   "cell_type": "markdown",
   "metadata": {},
   "source": [
    "# Softmax Application"
   ]
  },
  {
   "cell_type": "code",
   "execution_count": 1,
   "metadata": {},
   "outputs": [],
   "source": [
    "# !pip install forgebox"
   ]
  },
  {
   "cell_type": "code",
   "execution_count": 2,
   "metadata": {},
   "outputs": [],
   "source": [
    "from forgebox.imports import *"
   ]
  },
  {
   "cell_type": "code",
   "execution_count": 3,
   "metadata": {},
   "outputs": [],
   "source": [
    "HOME = os.environ[\"HOME\"]"
   ]
  },
  {
   "cell_type": "code",
   "execution_count": 4,
   "metadata": {},
   "outputs": [],
   "source": [
    "DATA = Path(HOME)/\"data\"\n",
    "TRAIN = DATA/\"train.csv\"\n",
    "TEST = DATA/\"test.csv\"\n",
    "SAMP = DATA/\"sample_submission.csv\""
   ]
  },
  {
   "cell_type": "code",
   "execution_count": 5,
   "metadata": {},
   "outputs": [],
   "source": [
    "train_df = pd.read_csv(TRAIN)\n",
    "test_df = pd.read_csv(TEST)\n",
    "samp_df = pd.read_csv(SAMP)"
   ]
  },
  {
   "cell_type": "code",
   "execution_count": 6,
   "metadata": {},
   "outputs": [
    {
     "data": {
      "application/vnd.jupyter.widget-view+json": {
       "model_id": "e2e7682f7d7d413a8a357424f8d180c2",
       "version_major": 2,
       "version_minor": 0
      },
      "text/plain": [
       "interactive(children=(Dropdown(description='path', options=(PosixPath('/Users/salvor/data/train.csv'), PosixPa…"
      ]
     },
     "metadata": {},
     "output_type": "display_data"
    }
   ],
   "source": [
    "@interact\n",
    "def preview_data(path = [TRAIN,TEST,SAMP]):\n",
    "    display(pd.read_csv(path))"
   ]
  },
  {
   "cell_type": "code",
   "execution_count": 7,
   "metadata": {},
   "outputs": [
    {
     "data": {
      "text/html": [
       "<div>\n",
       "<style scoped>\n",
       "    .dataframe tbody tr th:only-of-type {\n",
       "        vertical-align: middle;\n",
       "    }\n",
       "\n",
       "    .dataframe tbody tr th {\n",
       "        vertical-align: top;\n",
       "    }\n",
       "\n",
       "    .dataframe thead th {\n",
       "        text-align: right;\n",
       "    }\n",
       "</style>\n",
       "<table border=\"1\" class=\"dataframe\">\n",
       "  <thead>\n",
       "    <tr style=\"text-align: right;\">\n",
       "      <th></th>\n",
       "      <th>type</th>\n",
       "    </tr>\n",
       "  </thead>\n",
       "  <tbody>\n",
       "    <tr>\n",
       "      <th>Ghoul</th>\n",
       "      <td>129</td>\n",
       "    </tr>\n",
       "    <tr>\n",
       "      <th>Goblin</th>\n",
       "      <td>125</td>\n",
       "    </tr>\n",
       "    <tr>\n",
       "      <th>Ghost</th>\n",
       "      <td>117</td>\n",
       "    </tr>\n",
       "  </tbody>\n",
       "</table>\n",
       "</div>"
      ],
      "text/plain": [
       "        type\n",
       "Ghoul    129\n",
       "Goblin   125\n",
       "Ghost    117"
      ]
     },
     "execution_count": 7,
     "metadata": {},
     "output_type": "execute_result"
    }
   ],
   "source": [
    "yct = pd.DataFrame(train_df.type.value_counts())\n",
    "yct"
   ]
  },
  {
   "cell_type": "code",
   "execution_count": 8,
   "metadata": {},
   "outputs": [
    {
     "data": {
      "text/plain": [
       "({'Ghoul': 0, 'Goblin': 1, 'Ghost': 2}, {0: 'Ghoul', 1: 'Goblin', 2: 'Ghost'})"
      ]
     },
     "execution_count": 8,
     "metadata": {},
     "output_type": "execute_result"
    }
   ],
   "source": [
    "y2i = dict(zip(yct.index,range(len(yct))))\n",
    "i2y = dict(zip(range(len(yct)),yct.index))\n",
    "y2i,i2y"
   ]
  },
  {
   "cell_type": "code",
   "execution_count": 9,
   "metadata": {},
   "outputs": [
    {
     "data": {
      "text/html": [
       "<div>\n",
       "<style scoped>\n",
       "    .dataframe tbody tr th:only-of-type {\n",
       "        vertical-align: middle;\n",
       "    }\n",
       "\n",
       "    .dataframe tbody tr th {\n",
       "        vertical-align: top;\n",
       "    }\n",
       "\n",
       "    .dataframe thead th {\n",
       "        text-align: right;\n",
       "    }\n",
       "</style>\n",
       "<table border=\"1\" class=\"dataframe\">\n",
       "  <thead>\n",
       "    <tr style=\"text-align: right;\">\n",
       "      <th></th>\n",
       "      <th>color</th>\n",
       "    </tr>\n",
       "  </thead>\n",
       "  <tbody>\n",
       "    <tr>\n",
       "      <th>white</th>\n",
       "      <td>137</td>\n",
       "    </tr>\n",
       "    <tr>\n",
       "      <th>clear</th>\n",
       "      <td>120</td>\n",
       "    </tr>\n",
       "    <tr>\n",
       "      <th>green</th>\n",
       "      <td>42</td>\n",
       "    </tr>\n",
       "    <tr>\n",
       "      <th>black</th>\n",
       "      <td>41</td>\n",
       "    </tr>\n",
       "    <tr>\n",
       "      <th>blue</th>\n",
       "      <td>19</td>\n",
       "    </tr>\n",
       "    <tr>\n",
       "      <th>blood</th>\n",
       "      <td>12</td>\n",
       "    </tr>\n",
       "  </tbody>\n",
       "</table>\n",
       "</div>"
      ],
      "text/plain": [
       "       color\n",
       "white    137\n",
       "clear    120\n",
       "green     42\n",
       "black     41\n",
       "blue      19\n",
       "blood     12"
      ]
     },
     "execution_count": 9,
     "metadata": {},
     "output_type": "execute_result"
    }
   ],
   "source": [
    "colorct = pd.DataFrame(train_df.color.value_counts())\n",
    "colorct"
   ]
  },
  {
   "cell_type": "code",
   "execution_count": 10,
   "metadata": {},
   "outputs": [
    {
     "data": {
      "text/plain": [
       "({'white': 0, 'clear': 1, 'green': 2, 'black': 3, 'blue': 4, 'blood': 5},\n",
       " {0: 'white', 1: 'clear', 2: 'green', 3: 'black', 4: 'blue', 5: 'blood'})"
      ]
     },
     "execution_count": 10,
     "metadata": {},
     "output_type": "execute_result"
    }
   ],
   "source": [
    "color2i = dict(zip(colorct.index,range(len(colorct))))\n",
    "i2color = dict(zip(range(len(colorct)),colorct.index))\n",
    "color2i,i2color"
   ]
  },
  {
   "cell_type": "code",
   "execution_count": 11,
   "metadata": {},
   "outputs": [],
   "source": [
    "def reset(df):return df.reset_index().drop(\"index\",axis=1)\n",
    "\n",
    "train_df = reset(train_df.sample(frac=1.))"
   ]
  },
  {
   "cell_type": "code",
   "execution_count": 12,
   "metadata": {},
   "outputs": [],
   "source": [
    "def train_val_split(df,ratio = .8):\n",
    "    split = (np.random.rand(len(df))<ratio)\n",
    "    return reset(df[split]),reset(df[~split])"
   ]
  },
  {
   "cell_type": "code",
   "execution_count": 13,
   "metadata": {},
   "outputs": [],
   "source": [
    "tdf,vdf = train_val_split(train_df)"
   ]
  },
  {
   "cell_type": "code",
   "execution_count": 14,
   "metadata": {},
   "outputs": [
    {
     "data": {
      "text/html": [
       "<div>\n",
       "<style scoped>\n",
       "    .dataframe tbody tr th:only-of-type {\n",
       "        vertical-align: middle;\n",
       "    }\n",
       "\n",
       "    .dataframe tbody tr th {\n",
       "        vertical-align: top;\n",
       "    }\n",
       "\n",
       "    .dataframe thead th {\n",
       "        text-align: right;\n",
       "    }\n",
       "</style>\n",
       "<table border=\"1\" class=\"dataframe\">\n",
       "  <thead>\n",
       "    <tr style=\"text-align: right;\">\n",
       "      <th></th>\n",
       "      <th>id</th>\n",
       "      <th>bone_length</th>\n",
       "      <th>rotting_flesh</th>\n",
       "      <th>hair_length</th>\n",
       "      <th>has_soul</th>\n",
       "      <th>color</th>\n",
       "      <th>type</th>\n",
       "    </tr>\n",
       "  </thead>\n",
       "  <tbody>\n",
       "    <tr>\n",
       "      <th>0</th>\n",
       "      <td>674</td>\n",
       "      <td>0.613365</td>\n",
       "      <td>0.489438</td>\n",
       "      <td>0.580808</td>\n",
       "      <td>0.599846</td>\n",
       "      <td>white</td>\n",
       "      <td>Ghoul</td>\n",
       "    </tr>\n",
       "    <tr>\n",
       "      <th>1</th>\n",
       "      <td>429</td>\n",
       "      <td>0.453214</td>\n",
       "      <td>0.475223</td>\n",
       "      <td>0.558776</td>\n",
       "      <td>0.230523</td>\n",
       "      <td>black</td>\n",
       "      <td>Goblin</td>\n",
       "    </tr>\n",
       "    <tr>\n",
       "      <th>2</th>\n",
       "      <td>366</td>\n",
       "      <td>0.321530</td>\n",
       "      <td>0.456823</td>\n",
       "      <td>0.320145</td>\n",
       "      <td>0.415155</td>\n",
       "      <td>white</td>\n",
       "      <td>Ghost</td>\n",
       "    </tr>\n",
       "    <tr>\n",
       "      <th>3</th>\n",
       "      <td>286</td>\n",
       "      <td>0.273458</td>\n",
       "      <td>0.463239</td>\n",
       "      <td>0.453515</td>\n",
       "      <td>0.336390</td>\n",
       "      <td>white</td>\n",
       "      <td>Goblin</td>\n",
       "    </tr>\n",
       "    <tr>\n",
       "      <th>4</th>\n",
       "      <td>93</td>\n",
       "      <td>0.481716</td>\n",
       "      <td>0.527251</td>\n",
       "      <td>0.740270</td>\n",
       "      <td>0.700857</td>\n",
       "      <td>blood</td>\n",
       "      <td>Ghoul</td>\n",
       "    </tr>\n",
       "    <tr>\n",
       "      <th>...</th>\n",
       "      <td>...</td>\n",
       "      <td>...</td>\n",
       "      <td>...</td>\n",
       "      <td>...</td>\n",
       "      <td>...</td>\n",
       "      <td>...</td>\n",
       "      <td>...</td>\n",
       "    </tr>\n",
       "    <tr>\n",
       "      <th>291</th>\n",
       "      <td>669</td>\n",
       "      <td>0.515397</td>\n",
       "      <td>0.561786</td>\n",
       "      <td>0.528818</td>\n",
       "      <td>0.373502</td>\n",
       "      <td>white</td>\n",
       "      <td>Ghoul</td>\n",
       "    </tr>\n",
       "    <tr>\n",
       "      <th>292</th>\n",
       "      <td>637</td>\n",
       "      <td>0.209997</td>\n",
       "      <td>0.497112</td>\n",
       "      <td>0.642451</td>\n",
       "      <td>0.327212</td>\n",
       "      <td>blue</td>\n",
       "      <td>Goblin</td>\n",
       "    </tr>\n",
       "    <tr>\n",
       "      <th>293</th>\n",
       "      <td>515</td>\n",
       "      <td>0.227948</td>\n",
       "      <td>0.501056</td>\n",
       "      <td>0.471120</td>\n",
       "      <td>0.698965</td>\n",
       "      <td>white</td>\n",
       "      <td>Goblin</td>\n",
       "    </tr>\n",
       "    <tr>\n",
       "      <th>294</th>\n",
       "      <td>721</td>\n",
       "      <td>0.173607</td>\n",
       "      <td>0.589613</td>\n",
       "      <td>0.363439</td>\n",
       "      <td>0.614158</td>\n",
       "      <td>white</td>\n",
       "      <td>Ghost</td>\n",
       "    </tr>\n",
       "    <tr>\n",
       "      <th>295</th>\n",
       "      <td>632</td>\n",
       "      <td>0.502229</td>\n",
       "      <td>0.504399</td>\n",
       "      <td>0.263549</td>\n",
       "      <td>0.121687</td>\n",
       "      <td>white</td>\n",
       "      <td>Ghost</td>\n",
       "    </tr>\n",
       "  </tbody>\n",
       "</table>\n",
       "<p>296 rows × 7 columns</p>\n",
       "</div>"
      ],
      "text/plain": [
       "      id  bone_length  rotting_flesh  hair_length  has_soul  color    type\n",
       "0    674     0.613365       0.489438     0.580808  0.599846  white   Ghoul\n",
       "1    429     0.453214       0.475223     0.558776  0.230523  black  Goblin\n",
       "2    366     0.321530       0.456823     0.320145  0.415155  white   Ghost\n",
       "3    286     0.273458       0.463239     0.453515  0.336390  white  Goblin\n",
       "4     93     0.481716       0.527251     0.740270  0.700857  blood   Ghoul\n",
       "..   ...          ...            ...          ...       ...    ...     ...\n",
       "291  669     0.515397       0.561786     0.528818  0.373502  white   Ghoul\n",
       "292  637     0.209997       0.497112     0.642451  0.327212   blue  Goblin\n",
       "293  515     0.227948       0.501056     0.471120  0.698965  white  Goblin\n",
       "294  721     0.173607       0.589613     0.363439  0.614158  white   Ghost\n",
       "295  632     0.502229       0.504399     0.263549  0.121687  white   Ghost\n",
       "\n",
       "[296 rows x 7 columns]"
      ]
     },
     "metadata": {},
     "output_type": "display_data"
    },
    {
     "data": {
      "text/html": [
       "<div>\n",
       "<style scoped>\n",
       "    .dataframe tbody tr th:only-of-type {\n",
       "        vertical-align: middle;\n",
       "    }\n",
       "\n",
       "    .dataframe tbody tr th {\n",
       "        vertical-align: top;\n",
       "    }\n",
       "\n",
       "    .dataframe thead th {\n",
       "        text-align: right;\n",
       "    }\n",
       "</style>\n",
       "<table border=\"1\" class=\"dataframe\">\n",
       "  <thead>\n",
       "    <tr style=\"text-align: right;\">\n",
       "      <th></th>\n",
       "      <th>id</th>\n",
       "      <th>bone_length</th>\n",
       "      <th>rotting_flesh</th>\n",
       "      <th>hair_length</th>\n",
       "      <th>has_soul</th>\n",
       "      <th>color</th>\n",
       "      <th>type</th>\n",
       "    </tr>\n",
       "  </thead>\n",
       "  <tbody>\n",
       "    <tr>\n",
       "      <th>0</th>\n",
       "      <td>627</td>\n",
       "      <td>0.586227</td>\n",
       "      <td>0.464284</td>\n",
       "      <td>0.599774</td>\n",
       "      <td>0.856757</td>\n",
       "      <td>blue</td>\n",
       "      <td>Ghoul</td>\n",
       "    </tr>\n",
       "    <tr>\n",
       "      <th>1</th>\n",
       "      <td>662</td>\n",
       "      <td>0.403727</td>\n",
       "      <td>0.364366</td>\n",
       "      <td>0.609004</td>\n",
       "      <td>0.487301</td>\n",
       "      <td>white</td>\n",
       "      <td>Goblin</td>\n",
       "    </tr>\n",
       "    <tr>\n",
       "      <th>2</th>\n",
       "      <td>118</td>\n",
       "      <td>0.304302</td>\n",
       "      <td>0.463015</td>\n",
       "      <td>0.385387</td>\n",
       "      <td>0.219313</td>\n",
       "      <td>clear</td>\n",
       "      <td>Ghost</td>\n",
       "    </tr>\n",
       "    <tr>\n",
       "      <th>3</th>\n",
       "      <td>176</td>\n",
       "      <td>0.501306</td>\n",
       "      <td>0.536995</td>\n",
       "      <td>0.631199</td>\n",
       "      <td>0.591106</td>\n",
       "      <td>clear</td>\n",
       "      <td>Ghoul</td>\n",
       "    </tr>\n",
       "    <tr>\n",
       "      <th>4</th>\n",
       "      <td>287</td>\n",
       "      <td>0.339501</td>\n",
       "      <td>0.336981</td>\n",
       "      <td>0.492441</td>\n",
       "      <td>0.345592</td>\n",
       "      <td>white</td>\n",
       "      <td>Goblin</td>\n",
       "    </tr>\n",
       "    <tr>\n",
       "      <th>...</th>\n",
       "      <td>...</td>\n",
       "      <td>...</td>\n",
       "      <td>...</td>\n",
       "      <td>...</td>\n",
       "      <td>...</td>\n",
       "      <td>...</td>\n",
       "      <td>...</td>\n",
       "    </tr>\n",
       "    <tr>\n",
       "      <th>70</th>\n",
       "      <td>653</td>\n",
       "      <td>0.503780</td>\n",
       "      <td>0.929440</td>\n",
       "      <td>0.366461</td>\n",
       "      <td>0.401567</td>\n",
       "      <td>blue</td>\n",
       "      <td>Ghost</td>\n",
       "    </tr>\n",
       "    <tr>\n",
       "      <th>71</th>\n",
       "      <td>199</td>\n",
       "      <td>0.197071</td>\n",
       "      <td>0.455686</td>\n",
       "      <td>0.451490</td>\n",
       "      <td>0.417516</td>\n",
       "      <td>clear</td>\n",
       "      <td>Ghost</td>\n",
       "    </tr>\n",
       "    <tr>\n",
       "      <th>72</th>\n",
       "      <td>226</td>\n",
       "      <td>0.207874</td>\n",
       "      <td>0.545294</td>\n",
       "      <td>0.357987</td>\n",
       "      <td>0.484055</td>\n",
       "      <td>clear</td>\n",
       "      <td>Ghost</td>\n",
       "    </tr>\n",
       "    <tr>\n",
       "      <th>73</th>\n",
       "      <td>329</td>\n",
       "      <td>0.379548</td>\n",
       "      <td>0.336620</td>\n",
       "      <td>0.513244</td>\n",
       "      <td>0.371015</td>\n",
       "      <td>white</td>\n",
       "      <td>Goblin</td>\n",
       "    </tr>\n",
       "    <tr>\n",
       "      <th>74</th>\n",
       "      <td>840</td>\n",
       "      <td>0.502599</td>\n",
       "      <td>0.604174</td>\n",
       "      <td>0.617955</td>\n",
       "      <td>0.593545</td>\n",
       "      <td>clear</td>\n",
       "      <td>Ghoul</td>\n",
       "    </tr>\n",
       "  </tbody>\n",
       "</table>\n",
       "<p>75 rows × 7 columns</p>\n",
       "</div>"
      ],
      "text/plain": [
       "     id  bone_length  rotting_flesh  hair_length  has_soul  color    type\n",
       "0   627     0.586227       0.464284     0.599774  0.856757   blue   Ghoul\n",
       "1   662     0.403727       0.364366     0.609004  0.487301  white  Goblin\n",
       "2   118     0.304302       0.463015     0.385387  0.219313  clear   Ghost\n",
       "3   176     0.501306       0.536995     0.631199  0.591106  clear   Ghoul\n",
       "4   287     0.339501       0.336981     0.492441  0.345592  white  Goblin\n",
       "..  ...          ...            ...          ...       ...    ...     ...\n",
       "70  653     0.503780       0.929440     0.366461  0.401567   blue   Ghost\n",
       "71  199     0.197071       0.455686     0.451490  0.417516  clear   Ghost\n",
       "72  226     0.207874       0.545294     0.357987  0.484055  clear   Ghost\n",
       "73  329     0.379548       0.336620     0.513244  0.371015  white  Goblin\n",
       "74  840     0.502599       0.604174     0.617955  0.593545  clear   Ghoul\n",
       "\n",
       "[75 rows x 7 columns]"
      ]
     },
     "metadata": {},
     "output_type": "display_data"
    }
   ],
   "source": [
    "display(tdf)\n",
    "display(vdf)"
   ]
  },
  {
   "cell_type": "code",
   "execution_count": 15,
   "metadata": {},
   "outputs": [],
   "source": [
    "def get_x(df):\n",
    "    color_idx = df.color.apply(lambda x:color2i[x]).values\n",
    "    color_oh = np.eye(len(color2i))[color_idx]\n",
    "    return np.concatenate([df[[\"bone_length\",\"rotting_flesh\",\"hair_length\",\"has_soul\"]].values,\n",
    "                         color_oh],axis=1)"
   ]
  },
  {
   "cell_type": "markdown",
   "metadata": {},
   "source": [
    "plot 20 rows of input"
   ]
  },
  {
   "cell_type": "code",
   "execution_count": 16,
   "metadata": {},
   "outputs": [
    {
     "data": {
      "text/plain": [
       "<matplotlib.image.AxesImage at 0x1082681d0>"
      ]
     },
     "execution_count": 16,
     "metadata": {},
     "output_type": "execute_result"
    },
    {
     "data": {
      "image/png": "[encoded data removed]",
      "text/plain": [
       "<Figure size 432x288 with 1 Axes>"
      ]
     },
     "metadata": {
      "needs_background": "light"
     },
     "output_type": "display_data"
    }
   ],
   "source": [
    "try_x=get_x(train_df)[:20]\n",
    "plt.imshow(try_x)"
   ]
  },
  {
   "cell_type": "code",
   "execution_count": 17,
   "metadata": {},
   "outputs": [],
   "source": [
    "def get_y(df):\n",
    "#     return np.eye(len(y2i))[df.type.apply(lambda x:y2i[x]).values]\n",
    "    return df.type.apply(lambda x:y2i[x]).values"
   ]
  },
  {
   "cell_type": "code",
   "execution_count": 18,
   "metadata": {},
   "outputs": [],
   "source": [
    "try_y = get_y(train_df)[:20]\n",
    "# plt.imshow(try_y)"
   ]
  },
  {
   "cell_type": "code",
   "execution_count": 19,
   "metadata": {},
   "outputs": [],
   "source": [
    "import math\n",
    "def chunkify(x,bs=64):\n",
    "    return list(x[i*bs:(i+1)*bs] for i in range(math.ceil(len(x)/bs)))"
   ]
  },
  {
   "cell_type": "code",
   "execution_count": 20,
   "metadata": {},
   "outputs": [],
   "source": [
    "TF = torch.FloatTensor\n",
    "TL = torch.LongTensor"
   ]
  },
  {
   "cell_type": "code",
   "execution_count": 21,
   "metadata": {},
   "outputs": [],
   "source": [
    "class NN(nn.Module):\n",
    "    def __init__(self,in_ = try_x.shape[1],\n",
    "                 out_ = yct.__len__(),\n",
    "                 hs=64):\n",
    "        super().__init__()\n",
    "        self.mlp = nn.Sequential(*[\n",
    "            nn.Linear(in_,hs,bias=False),\n",
    "            nn.BatchNorm1d(hs),\n",
    "            nn.ReLU(),\n",
    "            nn.Linear(hs,hs,bias=False),\n",
    "            nn.BatchNorm1d(hs),\n",
    "            nn.ReLU(),\n",
    "            nn.Linear(hs,out_),\n",
    "        ])\n",
    "        \n",
    "    def forward(self,x):\n",
    "        return self.mlp(x)"
   ]
  },
  {
   "cell_type": "code",
   "execution_count": 22,
   "metadata": {},
   "outputs": [],
   "source": [
    "from torch import optim\n",
    "crit = nn.CrossEntropyLoss()"
   ]
  },
  {
   "cell_type": "markdown",
   "metadata": {},
   "source": [
    "From the loss function doc\n",
    "\n",
    "* This criterion combines :func:`nn.LogSoftmax` and :func:`nn.NLLLoss` in one single class.\n",
    "\n",
    "$\\text{loss}(x, class) = -\\log\\left(\\frac{\\exp(x[class])}{\\sum_j \\exp(x[j])}\\right)\n",
    "                   = -x[class] + \\log\\left(\\sum_j \\exp(x[j])\\right)$\n",
    "                   \n",
    "* So the crossEntropyLoss contains the softmax already\n",
    "But we can use softmax in the accuracy calculation (but we don't have to, the argmax returns the biggest one anyway)"
   ]
  },
  {
   "cell_type": "code",
   "execution_count": 23,
   "metadata": {},
   "outputs": [],
   "source": [
    "def init_every():\n",
    "    model = NN()\n",
    "    opt = optim.Adam(model.parameters())\n",
    "    return model,opt"
   ]
  },
  {
   "cell_type": "code",
   "execution_count": 24,
   "metadata": {},
   "outputs": [
    {
     "data": {
      "text/plain": [
       "(NN(\n",
       "   (mlp): Sequential(\n",
       "     (0): Linear(in_features=10, out_features=64, bias=False)\n",
       "     (1): BatchNorm1d(64, eps=1e-05, momentum=0.1, affine=True, track_running_stats=True)\n",
       "     (2): ReLU()\n",
       "     (3): Linear(in_features=64, out_features=64, bias=False)\n",
       "     (4): BatchNorm1d(64, eps=1e-05, momentum=0.1, affine=True, track_running_stats=True)\n",
       "     (5): ReLU()\n",
       "     (6): Linear(in_features=64, out_features=3, bias=True)\n",
       "   )\n",
       " ), Adam (\n",
       " Parameter Group 0\n",
       "     amsgrad: False\n",
       "     betas: (0.9, 0.999)\n",
       "     eps: 1e-08\n",
       "     lr: 0.001\n",
       "     weight_decay: 0\n",
       " ))"
      ]
     },
     "execution_count": 24,
     "metadata": {},
     "output_type": "execute_result"
    }
   ],
   "source": [
    "model,opt = init_every()\n",
    "model,opt"
   ]
  },
  {
   "cell_type": "code",
   "execution_count": 25,
   "metadata": {},
   "outputs": [],
   "source": [
    "import torch"
   ]
  },
  {
   "cell_type": "code",
   "execution_count": 28,
   "metadata": {},
   "outputs": [],
   "source": [
    "softmax = nn.Softmax(-1)"
   ]
  },
  {
   "cell_type": "code",
   "execution_count": 29,
   "metadata": {},
   "outputs": [],
   "source": [
    "def accuracy(y_,y):\n",
    "    return (softmax(y_).detach().argmax(-1)==y).float().mean()"
   ]
  },
  {
   "cell_type": "code",
   "execution_count": 30,
   "metadata": {},
   "outputs": [],
   "source": [
    "def train_step(model,opt,x,y):\n",
    "    opt.zero_grad()\n",
    "    y_ = model(x)\n",
    "    loss = crit(y_,y)\n",
    "    loss.backward()\n",
    "    opt.step()\n",
    "    return dict(data_len = x.size(0),\n",
    "                loss =loss.item(),\n",
    "                acc = accuracy(y_,y).item())\n",
    "\n",
    "def eval_step(model,x,y,):\n",
    "    with torch.no_grad():\n",
    "        y_ = model(x)\n",
    "        loss = crit(y_,y)\n",
    "        return dict(data_len = x.size(0),\n",
    "                    loss =loss.item(),\n",
    "                    acc = accuracy(y_,y).item())"
   ]
  },
  {
   "cell_type": "code",
   "execution_count": 31,
   "metadata": {},
   "outputs": [],
   "source": [
    "def train_epoch(model,opt,train_df):\n",
    "    model = model.train()\n",
    "    result = []\n",
    "    for df in chunkify(train_df):\n",
    "        x,y = TF(get_x(df)),TL(get_y(df))\n",
    "        rt = train_step(model,opt,x,y)\n",
    "        result.append(rt)\n",
    "    return pd.DataFrame(result)\n",
    "        \n",
    "def val_epoch(model,valid_df):\n",
    "#     model = model.eval()\n",
    "    result = []\n",
    "    for df in chunkify(valid_df):\n",
    "        x,y = TF(get_x(df)),TL(get_y(df))\n",
    "        rt = eval_step(model,x,y)\n",
    "        result.append(rt)\n",
    "    return pd.DataFrame(result)"
   ]
  },
  {
   "cell_type": "code",
   "execution_count": 32,
   "metadata": {},
   "outputs": [],
   "source": [
    "result = dict()\n",
    "\n",
    "from tqdm.notebook import tqdm"
   ]
  },
  {
   "cell_type": "code",
   "execution_count": 33,
   "metadata": {},
   "outputs": [
    {
     "data": {
      "application/vnd.jupyter.widget-view+json": {
       "model_id": "95f335370dc342f5adc6ac0c9b84a36d",
       "version_major": 2,
       "version_minor": 0
      },
      "text/plain": [
       "HBox(children=(FloatProgress(value=0.0, max=30.0), HTML(value='')))"
      ]
     },
     "metadata": {},
     "output_type": "display_data"
    },
    {
     "name": "stdout",
     "output_type": "stream",
     "text": [
      "\n"
     ]
    }
   ],
   "source": [
    "model,opt = init_every()\n",
    "\n",
    "for epoch in tqdm(range(30)): \n",
    "    result[f\"{epoch}_train\"] = train_epoch(model,opt,tdf)\n",
    "    result[f\"{epoch}_val\"] = val_epoch(model,vdf)"
   ]
  },
  {
   "cell_type": "code",
   "execution_count": 34,
   "metadata": {},
   "outputs": [],
   "source": [
    "def calc_mean(metric_df):\n",
    "    loss = (metric_df[\"loss\"].values* metric_df.data_len.values).sum()/metric_df.data_len.sum()\n",
    "    acc = (metric_df[\"acc\"].values* metric_df.data_len.values).sum()/metric_df.data_len.sum()\n",
    "    return dict(loss = loss,acc = acc)"
   ]
  },
  {
   "cell_type": "code",
   "execution_count": 35,
   "metadata": {
    "scrolled": false
   },
   "outputs": [
    {
     "data": {
      "text/html": [
       "<div>\n",
       "<style scoped>\n",
       "    .dataframe tbody tr th:only-of-type {\n",
       "        vertical-align: middle;\n",
       "    }\n",
       "\n",
       "    .dataframe tbody tr th {\n",
       "        vertical-align: top;\n",
       "    }\n",
       "\n",
       "    .dataframe thead th {\n",
       "        text-align: right;\n",
       "    }\n",
       "</style>\n",
       "<table border=\"1\" class=\"dataframe\">\n",
       "  <thead>\n",
       "    <tr style=\"text-align: right;\">\n",
       "      <th></th>\n",
       "      <th>tag</th>\n",
       "      <th>loss</th>\n",
       "      <th>acc</th>\n",
       "    </tr>\n",
       "  </thead>\n",
       "  <tbody>\n",
       "    <tr>\n",
       "      <th>0</th>\n",
       "      <td>0_train</td>\n",
       "      <td>1.119335</td>\n",
       "      <td>0.314189</td>\n",
       "    </tr>\n",
       "    <tr>\n",
       "      <th>1</th>\n",
       "      <td>0_val</td>\n",
       "      <td>0.973328</td>\n",
       "      <td>0.466667</td>\n",
       "    </tr>\n",
       "    <tr>\n",
       "      <th>2</th>\n",
       "      <td>1_train</td>\n",
       "      <td>0.945700</td>\n",
       "      <td>0.452703</td>\n",
       "    </tr>\n",
       "    <tr>\n",
       "      <th>3</th>\n",
       "      <td>1_val</td>\n",
       "      <td>0.876274</td>\n",
       "      <td>0.653333</td>\n",
       "    </tr>\n",
       "    <tr>\n",
       "      <th>4</th>\n",
       "      <td>2_train</td>\n",
       "      <td>0.836284</td>\n",
       "      <td>0.652027</td>\n",
       "    </tr>\n",
       "    <tr>\n",
       "      <th>5</th>\n",
       "      <td>2_val</td>\n",
       "      <td>0.809245</td>\n",
       "      <td>0.720000</td>\n",
       "    </tr>\n",
       "    <tr>\n",
       "      <th>6</th>\n",
       "      <td>3_train</td>\n",
       "      <td>0.763284</td>\n",
       "      <td>0.719595</td>\n",
       "    </tr>\n",
       "    <tr>\n",
       "      <th>7</th>\n",
       "      <td>3_val</td>\n",
       "      <td>0.757341</td>\n",
       "      <td>0.720000</td>\n",
       "    </tr>\n",
       "    <tr>\n",
       "      <th>8</th>\n",
       "      <td>4_train</td>\n",
       "      <td>0.710102</td>\n",
       "      <td>0.750000</td>\n",
       "    </tr>\n",
       "    <tr>\n",
       "      <th>9</th>\n",
       "      <td>4_val</td>\n",
       "      <td>0.715049</td>\n",
       "      <td>0.733333</td>\n",
       "    </tr>\n",
       "    <tr>\n",
       "      <th>10</th>\n",
       "      <td>5_train</td>\n",
       "      <td>0.668803</td>\n",
       "      <td>0.763514</td>\n",
       "    </tr>\n",
       "    <tr>\n",
       "      <th>11</th>\n",
       "      <td>5_val</td>\n",
       "      <td>0.680985</td>\n",
       "      <td>0.720000</td>\n",
       "    </tr>\n",
       "    <tr>\n",
       "      <th>12</th>\n",
       "      <td>6_train</td>\n",
       "      <td>0.636071</td>\n",
       "      <td>0.760135</td>\n",
       "    </tr>\n",
       "    <tr>\n",
       "      <th>13</th>\n",
       "      <td>6_val</td>\n",
       "      <td>0.652798</td>\n",
       "      <td>0.746667</td>\n",
       "    </tr>\n",
       "    <tr>\n",
       "      <th>14</th>\n",
       "      <td>7_train</td>\n",
       "      <td>0.608838</td>\n",
       "      <td>0.773649</td>\n",
       "    </tr>\n",
       "    <tr>\n",
       "      <th>15</th>\n",
       "      <td>7_val</td>\n",
       "      <td>0.628722</td>\n",
       "      <td>0.746667</td>\n",
       "    </tr>\n",
       "    <tr>\n",
       "      <th>16</th>\n",
       "      <td>8_train</td>\n",
       "      <td>0.585423</td>\n",
       "      <td>0.780405</td>\n",
       "    </tr>\n",
       "    <tr>\n",
       "      <th>17</th>\n",
       "      <td>8_val</td>\n",
       "      <td>0.609721</td>\n",
       "      <td>0.746667</td>\n",
       "    </tr>\n",
       "    <tr>\n",
       "      <th>18</th>\n",
       "      <td>9_train</td>\n",
       "      <td>0.565461</td>\n",
       "      <td>0.770270</td>\n",
       "    </tr>\n",
       "    <tr>\n",
       "      <th>19</th>\n",
       "      <td>9_val</td>\n",
       "      <td>0.595545</td>\n",
       "      <td>0.720000</td>\n",
       "    </tr>\n",
       "    <tr>\n",
       "      <th>20</th>\n",
       "      <td>10_train</td>\n",
       "      <td>0.548016</td>\n",
       "      <td>0.783784</td>\n",
       "    </tr>\n",
       "    <tr>\n",
       "      <th>21</th>\n",
       "      <td>10_val</td>\n",
       "      <td>0.584478</td>\n",
       "      <td>0.746667</td>\n",
       "    </tr>\n",
       "    <tr>\n",
       "      <th>22</th>\n",
       "      <td>11_train</td>\n",
       "      <td>0.532770</td>\n",
       "      <td>0.780405</td>\n",
       "    </tr>\n",
       "    <tr>\n",
       "      <th>23</th>\n",
       "      <td>11_val</td>\n",
       "      <td>0.576540</td>\n",
       "      <td>0.746667</td>\n",
       "    </tr>\n",
       "    <tr>\n",
       "      <th>24</th>\n",
       "      <td>12_train</td>\n",
       "      <td>0.518936</td>\n",
       "      <td>0.787162</td>\n",
       "    </tr>\n",
       "    <tr>\n",
       "      <th>25</th>\n",
       "      <td>12_val</td>\n",
       "      <td>0.571495</td>\n",
       "      <td>0.746667</td>\n",
       "    </tr>\n",
       "    <tr>\n",
       "      <th>26</th>\n",
       "      <td>13_train</td>\n",
       "      <td>0.506578</td>\n",
       "      <td>0.787162</td>\n",
       "    </tr>\n",
       "    <tr>\n",
       "      <th>27</th>\n",
       "      <td>13_val</td>\n",
       "      <td>0.567730</td>\n",
       "      <td>0.746667</td>\n",
       "    </tr>\n",
       "    <tr>\n",
       "      <th>28</th>\n",
       "      <td>14_train</td>\n",
       "      <td>0.495280</td>\n",
       "      <td>0.787162</td>\n",
       "    </tr>\n",
       "    <tr>\n",
       "      <th>29</th>\n",
       "      <td>14_val</td>\n",
       "      <td>0.564331</td>\n",
       "      <td>0.746667</td>\n",
       "    </tr>\n",
       "    <tr>\n",
       "      <th>30</th>\n",
       "      <td>15_train</td>\n",
       "      <td>0.484857</td>\n",
       "      <td>0.783784</td>\n",
       "    </tr>\n",
       "    <tr>\n",
       "      <th>31</th>\n",
       "      <td>15_val</td>\n",
       "      <td>0.561830</td>\n",
       "      <td>0.746667</td>\n",
       "    </tr>\n",
       "    <tr>\n",
       "      <th>32</th>\n",
       "      <td>16_train</td>\n",
       "      <td>0.475035</td>\n",
       "      <td>0.787162</td>\n",
       "    </tr>\n",
       "    <tr>\n",
       "      <th>33</th>\n",
       "      <td>16_val</td>\n",
       "      <td>0.559859</td>\n",
       "      <td>0.746667</td>\n",
       "    </tr>\n",
       "    <tr>\n",
       "      <th>34</th>\n",
       "      <td>17_train</td>\n",
       "      <td>0.465746</td>\n",
       "      <td>0.787162</td>\n",
       "    </tr>\n",
       "    <tr>\n",
       "      <th>35</th>\n",
       "      <td>17_val</td>\n",
       "      <td>0.559536</td>\n",
       "      <td>0.746667</td>\n",
       "    </tr>\n",
       "    <tr>\n",
       "      <th>36</th>\n",
       "      <td>18_train</td>\n",
       "      <td>0.456967</td>\n",
       "      <td>0.793919</td>\n",
       "    </tr>\n",
       "    <tr>\n",
       "      <th>37</th>\n",
       "      <td>18_val</td>\n",
       "      <td>0.560134</td>\n",
       "      <td>0.773333</td>\n",
       "    </tr>\n",
       "    <tr>\n",
       "      <th>38</th>\n",
       "      <td>19_train</td>\n",
       "      <td>0.448630</td>\n",
       "      <td>0.793919</td>\n",
       "    </tr>\n",
       "    <tr>\n",
       "      <th>39</th>\n",
       "      <td>19_val</td>\n",
       "      <td>0.560621</td>\n",
       "      <td>0.760000</td>\n",
       "    </tr>\n",
       "    <tr>\n",
       "      <th>40</th>\n",
       "      <td>20_train</td>\n",
       "      <td>0.440725</td>\n",
       "      <td>0.800676</td>\n",
       "    </tr>\n",
       "    <tr>\n",
       "      <th>41</th>\n",
       "      <td>20_val</td>\n",
       "      <td>0.562360</td>\n",
       "      <td>0.760000</td>\n",
       "    </tr>\n",
       "    <tr>\n",
       "      <th>42</th>\n",
       "      <td>21_train</td>\n",
       "      <td>0.433267</td>\n",
       "      <td>0.804054</td>\n",
       "    </tr>\n",
       "    <tr>\n",
       "      <th>43</th>\n",
       "      <td>21_val</td>\n",
       "      <td>0.565613</td>\n",
       "      <td>0.760000</td>\n",
       "    </tr>\n",
       "    <tr>\n",
       "      <th>44</th>\n",
       "      <td>22_train</td>\n",
       "      <td>0.425992</td>\n",
       "      <td>0.807432</td>\n",
       "    </tr>\n",
       "    <tr>\n",
       "      <th>45</th>\n",
       "      <td>22_val</td>\n",
       "      <td>0.568367</td>\n",
       "      <td>0.746667</td>\n",
       "    </tr>\n",
       "    <tr>\n",
       "      <th>46</th>\n",
       "      <td>23_train</td>\n",
       "      <td>0.418672</td>\n",
       "      <td>0.814189</td>\n",
       "    </tr>\n",
       "    <tr>\n",
       "      <th>47</th>\n",
       "      <td>23_val</td>\n",
       "      <td>0.568884</td>\n",
       "      <td>0.746667</td>\n",
       "    </tr>\n",
       "    <tr>\n",
       "      <th>48</th>\n",
       "      <td>24_train</td>\n",
       "      <td>0.411764</td>\n",
       "      <td>0.820946</td>\n",
       "    </tr>\n",
       "    <tr>\n",
       "      <th>49</th>\n",
       "      <td>24_val</td>\n",
       "      <td>0.570779</td>\n",
       "      <td>0.746667</td>\n",
       "    </tr>\n",
       "    <tr>\n",
       "      <th>50</th>\n",
       "      <td>25_train</td>\n",
       "      <td>0.405080</td>\n",
       "      <td>0.824324</td>\n",
       "    </tr>\n",
       "    <tr>\n",
       "      <th>51</th>\n",
       "      <td>25_val</td>\n",
       "      <td>0.574751</td>\n",
       "      <td>0.746667</td>\n",
       "    </tr>\n",
       "    <tr>\n",
       "      <th>52</th>\n",
       "      <td>26_train</td>\n",
       "      <td>0.398350</td>\n",
       "      <td>0.824324</td>\n",
       "    </tr>\n",
       "    <tr>\n",
       "      <th>53</th>\n",
       "      <td>26_val</td>\n",
       "      <td>0.577346</td>\n",
       "      <td>0.746667</td>\n",
       "    </tr>\n",
       "    <tr>\n",
       "      <th>54</th>\n",
       "      <td>27_train</td>\n",
       "      <td>0.391603</td>\n",
       "      <td>0.831081</td>\n",
       "    </tr>\n",
       "    <tr>\n",
       "      <th>55</th>\n",
       "      <td>27_val</td>\n",
       "      <td>0.580169</td>\n",
       "      <td>0.733333</td>\n",
       "    </tr>\n",
       "    <tr>\n",
       "      <th>56</th>\n",
       "      <td>28_train</td>\n",
       "      <td>0.384971</td>\n",
       "      <td>0.834459</td>\n",
       "    </tr>\n",
       "    <tr>\n",
       "      <th>57</th>\n",
       "      <td>28_val</td>\n",
       "      <td>0.583981</td>\n",
       "      <td>0.733333</td>\n",
       "    </tr>\n",
       "    <tr>\n",
       "      <th>58</th>\n",
       "      <td>29_train</td>\n",
       "      <td>0.378504</td>\n",
       "      <td>0.841216</td>\n",
       "    </tr>\n",
       "    <tr>\n",
       "      <th>59</th>\n",
       "      <td>29_val</td>\n",
       "      <td>0.587087</td>\n",
       "      <td>0.733333</td>\n",
       "    </tr>\n",
       "  </tbody>\n",
       "</table>\n",
       "</div>"
      ],
      "text/plain": [
       "         tag      loss       acc\n",
       "0    0_train  1.119335  0.314189\n",
       "1      0_val  0.973328  0.466667\n",
       "2    1_train  0.945700  0.452703\n",
       "3      1_val  0.876274  0.653333\n",
       "4    2_train  0.836284  0.652027\n",
       "5      2_val  0.809245  0.720000\n",
       "6    3_train  0.763284  0.719595\n",
       "7      3_val  0.757341  0.720000\n",
       "8    4_train  0.710102  0.750000\n",
       "9      4_val  0.715049  0.733333\n",
       "10   5_train  0.668803  0.763514\n",
       "11     5_val  0.680985  0.720000\n",
       "12   6_train  0.636071  0.760135\n",
       "13     6_val  0.652798  0.746667\n",
       "14   7_train  0.608838  0.773649\n",
       "15     7_val  0.628722  0.746667\n",
       "16   8_train  0.585423  0.780405\n",
       "17     8_val  0.609721  0.746667\n",
       "18   9_train  0.565461  0.770270\n",
       "19     9_val  0.595545  0.720000\n",
       "20  10_train  0.548016  0.783784\n",
       "21    10_val  0.584478  0.746667\n",
       "22  11_train  0.532770  0.780405\n",
       "23    11_val  0.576540  0.746667\n",
       "24  12_train  0.518936  0.787162\n",
       "25    12_val  0.571495  0.746667\n",
       "26  13_train  0.506578  0.787162\n",
       "27    13_val  0.567730  0.746667\n",
       "28  14_train  0.495280  0.787162\n",
       "29    14_val  0.564331  0.746667\n",
       "30  15_train  0.484857  0.783784\n",
       "31    15_val  0.561830  0.746667\n",
       "32  16_train  0.475035  0.787162\n",
       "33    16_val  0.559859  0.746667\n",
       "34  17_train  0.465746  0.787162\n",
       "35    17_val  0.559536  0.746667\n",
       "36  18_train  0.456967  0.793919\n",
       "37    18_val  0.560134  0.773333\n",
       "38  19_train  0.448630  0.793919\n",
       "39    19_val  0.560621  0.760000\n",
       "40  20_train  0.440725  0.800676\n",
       "41    20_val  0.562360  0.760000\n",
       "42  21_train  0.433267  0.804054\n",
       "43    21_val  0.565613  0.760000\n",
       "44  22_train  0.425992  0.807432\n",
       "45    22_val  0.568367  0.746667\n",
       "46  23_train  0.418672  0.814189\n",
       "47    23_val  0.568884  0.746667\n",
       "48  24_train  0.411764  0.820946\n",
       "49    24_val  0.570779  0.746667\n",
       "50  25_train  0.405080  0.824324\n",
       "51    25_val  0.574751  0.746667\n",
       "52  26_train  0.398350  0.824324\n",
       "53    26_val  0.577346  0.746667\n",
       "54  27_train  0.391603  0.831081\n",
       "55    27_val  0.580169  0.733333\n",
       "56  28_train  0.384971  0.834459\n",
       "57    28_val  0.583981  0.733333\n",
       "58  29_train  0.378504  0.841216\n",
       "59    29_val  0.587087  0.733333"
      ]
     },
     "execution_count": 35,
     "metadata": {},
     "output_type": "execute_result"
    }
   ],
   "source": [
    "metric = pd.DataFrame(list(dict(tag = i,**calc_mean(d)) for i,d in result.items()))\n",
    "metric"
   ]
  },
  {
   "cell_type": "markdown",
   "metadata": {},
   "source": [
    "Loss"
   ]
  },
  {
   "cell_type": "code",
   "execution_count": 43,
   "metadata": {},
   "outputs": [
    {
     "name": "stdout",
     "output_type": "stream",
     "text": [
      "\n",
      "    best loss on epoch end:\n",
      "    train:\t29,\n",
      "    valid:\t17\n",
      "    \n"
     ]
    },
    {
     "data": {
      "image/png": "[encoded data removed]",
      "text/plain": [
       "<Figure size 432x288 with 1 Axes>"
      ]
     },
     "metadata": {
      "needs_background": "light"
     },
     "output_type": "display_data"
    }
   ],
   "source": [
    "def plot_loss(metric):\n",
    "    train = metric[metric.tag.str.contains(\"train\")]\n",
    "    valid = metric[metric.tag.str.contains(\"val\")]\n",
    "    \n",
    "    print(f\"\"\"\n",
    "    best loss on epoch end:\n",
    "    train:\\t{train.loss.values.argmin()},\n",
    "    valid:\\t{valid.loss.values.argmin()}\n",
    "    \"\"\")\n",
    "    \n",
    "    plt.plot(train.loss,\".\",valid.loss,\"--\")\n",
    "    \n",
    "def plot_acc(metric):\n",
    "    train = metric[metric.tag.str.contains(\"train\")]\n",
    "    valid = metric[metric.tag.str.contains(\"val\")]\n",
    "          \n",
    "    print(f\"\"\"\n",
    "    best accuracy on epoch end:\n",
    "    train:\\t{train.acc.values.argmax()},\n",
    "    valid:\\t{valid.acc.values.argmax()}\n",
    "    \"\"\")\n",
    "    \n",
    "    plt.plot(train.acc,\".\",valid.acc,\"--\")\n",
    "    \n",
    "plot_loss(metric)"
   ]
  },
  {
   "cell_type": "markdown",
   "metadata": {},
   "source": [
    "Accuracy"
   ]
  },
  {
   "cell_type": "code",
   "execution_count": 44,
   "metadata": {},
   "outputs": [
    {
     "name": "stdout",
     "output_type": "stream",
     "text": [
      "\n",
      "    best accuracy on epoch end:\n",
      "    train:\t29,\n",
      "    valid:\t18\n",
      "    \n"
     ]
    },
    {
     "data": {
      "image/png": "[encoded data removed]",
      "text/plain": [
       "<Figure size 432x288 with 1 Axes>"
      ]
     },
     "metadata": {
      "needs_background": "light"
     },
     "output_type": "display_data"
    }
   ],
   "source": [
    "plot_acc(metric)"
   ]
  },
  {
   "cell_type": "code",
   "execution_count": null,
   "metadata": {},
   "outputs": [],
   "source": []
  }
 ],
 "metadata": {
  "kernelspec": {
   "display_name": "Python 3",
   "language": "python",
   "name": "python3"
  },
  "language_info": {
   "codemirror_mode": {
    "name": "ipython",
    "version": 3
   },
   "file_extension": ".py",
   "mimetype": "text/x-python",
   "name": "python",
   "nbconvert_exporter": "python",
   "pygments_lexer": "ipython3",
   "version": "3.7.4"
  }
 },
 "nbformat": 4,
 "nbformat_minor": 4
}
