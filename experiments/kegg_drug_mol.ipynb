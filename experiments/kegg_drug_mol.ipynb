{
  "nbformat": 4,
  "nbformat_minor": 0,
  "metadata": {
    "colab": {
      "name": "kegg_drug_mol.ipynb",
      "provenance": [],
      "collapsed_sections": [],
      "mount_file_id": "1xn6NoCdxDF15pJ53wnmAr53QIAOKTFa0",
      "authorship_tag": "ABX9TyPa8aOdprw8hlSmsJ8P4Lel",
      "include_colab_link": true
    },
    "kernelspec": {
      "name": "python3",
      "display_name": "Python 3"
    },
    "widgets": {
      "application/vnd.jupyter.widget-state+json": {
        "9e5c801992c541b196ae1fe02be0bbc2": {
          "model_module": "@jupyter-widgets/controls",
          "model_name": "HBoxModel",
          "state": {
            "_view_name": "HBoxView",
            "_dom_classes": [],
            "_model_name": "HBoxModel",
            "_view_module": "@jupyter-widgets/controls",
            "_model_module_version": "1.5.0",
            "_view_count": null,
            "_view_module_version": "1.5.0",
            "box_style": "",
            "layout": "IPY_MODEL_4b96e892f782486eae6d771328c6cb7c",
            "_model_module": "@jupyter-widgets/controls",
            "children": [
              "IPY_MODEL_45ced6d4749740d9bd546e30486dcfc0",
              "IPY_MODEL_d730f906caac45289fcdb4dbb5c6e70f"
            ]
          }
        },
        "4b96e892f782486eae6d771328c6cb7c": {
          "model_module": "@jupyter-widgets/base",
          "model_name": "LayoutModel",
          "state": {
            "_view_name": "LayoutView",
            "grid_template_rows": null,
            "right": null,
            "justify_content": null,
            "_view_module": "@jupyter-widgets/base",
            "overflow": null,
            "_model_module_version": "1.2.0",
            "_view_count": null,
            "flex_flow": null,
            "width": null,
            "min_width": null,
            "border": null,
            "align_items": null,
            "bottom": null,
            "_model_module": "@jupyter-widgets/base",
            "top": null,
            "grid_column": null,
            "overflow_y": null,
            "overflow_x": null,
            "grid_auto_flow": null,
            "grid_area": null,
            "grid_template_columns": null,
            "flex": null,
            "_model_name": "LayoutModel",
            "justify_items": null,
            "grid_row": null,
            "max_height": null,
            "align_content": null,
            "visibility": null,
            "align_self": null,
            "height": null,
            "min_height": null,
            "padding": null,
            "grid_auto_rows": null,
            "grid_gap": null,
            "max_width": null,
            "order": null,
            "_view_module_version": "1.2.0",
            "grid_template_areas": null,
            "object_position": null,
            "object_fit": null,
            "grid_auto_columns": null,
            "margin": null,
            "display": null,
            "left": null
          }
        },
        "45ced6d4749740d9bd546e30486dcfc0": {
          "model_module": "@jupyter-widgets/controls",
          "model_name": "FloatProgressModel",
          "state": {
            "_view_name": "ProgressView",
            "style": "IPY_MODEL_e044826bd3bb4bab84e977027d575f52",
            "_dom_classes": [],
            "description": "100%",
            "_model_name": "FloatProgressModel",
            "bar_style": "success",
            "max": 12000,
            "_view_module": "@jupyter-widgets/controls",
            "_model_module_version": "1.5.0",
            "value": 12000,
            "_view_count": null,
            "_view_module_version": "1.5.0",
            "orientation": "horizontal",
            "min": 0,
            "description_tooltip": null,
            "_model_module": "@jupyter-widgets/controls",
            "layout": "IPY_MODEL_48a6c67d9baa4e2c8cced7729b3aae9c"
          }
        },
        "d730f906caac45289fcdb4dbb5c6e70f": {
          "model_module": "@jupyter-widgets/controls",
          "model_name": "HTMLModel",
          "state": {
            "_view_name": "HTMLView",
            "style": "IPY_MODEL_a667bf22ae994ae2b758ef073b18b40b",
            "_dom_classes": [],
            "description": "",
            "_model_name": "HTMLModel",
            "placeholder": "​",
            "_view_module": "@jupyter-widgets/controls",
            "_model_module_version": "1.5.0",
            "value": " 12000/12000 [00:01&lt;00:00, 10954.54it/s]",
            "_view_count": null,
            "_view_module_version": "1.5.0",
            "description_tooltip": null,
            "_model_module": "@jupyter-widgets/controls",
            "layout": "IPY_MODEL_217f0ad2518843debd720805d8304399"
          }
        },
        "e044826bd3bb4bab84e977027d575f52": {
          "model_module": "@jupyter-widgets/controls",
          "model_name": "ProgressStyleModel",
          "state": {
            "_view_name": "StyleView",
            "_model_name": "ProgressStyleModel",
            "description_width": "initial",
            "_view_module": "@jupyter-widgets/base",
            "_model_module_version": "1.5.0",
            "_view_count": null,
            "_view_module_version": "1.2.0",
            "bar_color": null,
            "_model_module": "@jupyter-widgets/controls"
          }
        },
        "48a6c67d9baa4e2c8cced7729b3aae9c": {
          "model_module": "@jupyter-widgets/base",
          "model_name": "LayoutModel",
          "state": {
            "_view_name": "LayoutView",
            "grid_template_rows": null,
            "right": null,
            "justify_content": null,
            "_view_module": "@jupyter-widgets/base",
            "overflow": null,
            "_model_module_version": "1.2.0",
            "_view_count": null,
            "flex_flow": null,
            "width": null,
            "min_width": null,
            "border": null,
            "align_items": null,
            "bottom": null,
            "_model_module": "@jupyter-widgets/base",
            "top": null,
            "grid_column": null,
            "overflow_y": null,
            "overflow_x": null,
            "grid_auto_flow": null,
            "grid_area": null,
            "grid_template_columns": null,
            "flex": null,
            "_model_name": "LayoutModel",
            "justify_items": null,
            "grid_row": null,
            "max_height": null,
            "align_content": null,
            "visibility": null,
            "align_self": null,
            "height": null,
            "min_height": null,
            "padding": null,
            "grid_auto_rows": null,
            "grid_gap": null,
            "max_width": null,
            "order": null,
            "_view_module_version": "1.2.0",
            "grid_template_areas": null,
            "object_position": null,
            "object_fit": null,
            "grid_auto_columns": null,
            "margin": null,
            "display": null,
            "left": null
          }
        },
        "a667bf22ae994ae2b758ef073b18b40b": {
          "model_module": "@jupyter-widgets/controls",
          "model_name": "DescriptionStyleModel",
          "state": {
            "_view_name": "StyleView",
            "_model_name": "DescriptionStyleModel",
            "description_width": "",
            "_view_module": "@jupyter-widgets/base",
            "_model_module_version": "1.5.0",
            "_view_count": null,
            "_view_module_version": "1.2.0",
            "_model_module": "@jupyter-widgets/controls"
          }
        },
        "217f0ad2518843debd720805d8304399": {
          "model_module": "@jupyter-widgets/base",
          "model_name": "LayoutModel",
          "state": {
            "_view_name": "LayoutView",
            "grid_template_rows": null,
            "right": null,
            "justify_content": null,
            "_view_module": "@jupyter-widgets/base",
            "overflow": null,
            "_model_module_version": "1.2.0",
            "_view_count": null,
            "flex_flow": null,
            "width": null,
            "min_width": null,
            "border": null,
            "align_items": null,
            "bottom": null,
            "_model_module": "@jupyter-widgets/base",
            "top": null,
            "grid_column": null,
            "overflow_y": null,
            "overflow_x": null,
            "grid_auto_flow": null,
            "grid_area": null,
            "grid_template_columns": null,
            "flex": null,
            "_model_name": "LayoutModel",
            "justify_items": null,
            "grid_row": null,
            "max_height": null,
            "align_content": null,
            "visibility": null,
            "align_self": null,
            "height": null,
            "min_height": null,
            "padding": null,
            "grid_auto_rows": null,
            "grid_gap": null,
            "max_width": null,
            "order": null,
            "_view_module_version": "1.2.0",
            "grid_template_areas": null,
            "object_position": null,
            "object_fit": null,
            "grid_auto_columns": null,
            "margin": null,
            "display": null,
            "left": null
          }
        },
        "7cfbd77f7ffc48f2b5d84d5f1ed80b7b": {
          "model_module": "@jupyter-widgets/controls",
          "model_name": "HBoxModel",
          "state": {
            "_view_name": "HBoxView",
            "_dom_classes": [],
            "_model_name": "HBoxModel",
            "_view_module": "@jupyter-widgets/controls",
            "_model_module_version": "1.5.0",
            "_view_count": null,
            "_view_module_version": "1.5.0",
            "box_style": "",
            "layout": "IPY_MODEL_344ffd549529451ba32b32407e9c2836",
            "_model_module": "@jupyter-widgets/controls",
            "children": [
              "IPY_MODEL_e2a22f64ca834f4ab424ab3f0595521a",
              "IPY_MODEL_d3d9574a80164d79918204c4fd39e968"
            ]
          }
        },
        "344ffd549529451ba32b32407e9c2836": {
          "model_module": "@jupyter-widgets/base",
          "model_name": "LayoutModel",
          "state": {
            "_view_name": "LayoutView",
            "grid_template_rows": null,
            "right": null,
            "justify_content": null,
            "_view_module": "@jupyter-widgets/base",
            "overflow": null,
            "_model_module_version": "1.2.0",
            "_view_count": null,
            "flex_flow": null,
            "width": null,
            "min_width": null,
            "border": null,
            "align_items": null,
            "bottom": null,
            "_model_module": "@jupyter-widgets/base",
            "top": null,
            "grid_column": null,
            "overflow_y": null,
            "overflow_x": null,
            "grid_auto_flow": null,
            "grid_area": null,
            "grid_template_columns": null,
            "flex": null,
            "_model_name": "LayoutModel",
            "justify_items": null,
            "grid_row": null,
            "max_height": null,
            "align_content": null,
            "visibility": null,
            "align_self": null,
            "height": null,
            "min_height": null,
            "padding": null,
            "grid_auto_rows": null,
            "grid_gap": null,
            "max_width": null,
            "order": null,
            "_view_module_version": "1.2.0",
            "grid_template_areas": null,
            "object_position": null,
            "object_fit": null,
            "grid_auto_columns": null,
            "margin": null,
            "display": null,
            "left": null
          }
        },
        "e2a22f64ca834f4ab424ab3f0595521a": {
          "model_module": "@jupyter-widgets/controls",
          "model_name": "FloatProgressModel",
          "state": {
            "_view_name": "ProgressView",
            "style": "IPY_MODEL_0e7d984dceb14b0e899efc597420622c",
            "_dom_classes": [],
            "description": "100%",
            "_model_name": "FloatProgressModel",
            "bar_style": "success",
            "max": 8596,
            "_view_module": "@jupyter-widgets/controls",
            "_model_module_version": "1.5.0",
            "value": 8596,
            "_view_count": null,
            "_view_module_version": "1.5.0",
            "orientation": "horizontal",
            "min": 0,
            "description_tooltip": null,
            "_model_module": "@jupyter-widgets/controls",
            "layout": "IPY_MODEL_9a8f0efdd7c949c4ad21a99baf18552c"
          }
        },
        "d3d9574a80164d79918204c4fd39e968": {
          "model_module": "@jupyter-widgets/controls",
          "model_name": "HTMLModel",
          "state": {
            "_view_name": "HTMLView",
            "style": "IPY_MODEL_ee9d5aa1403e4670a812e1a6fbe4aeda",
            "_dom_classes": [],
            "description": "",
            "_model_name": "HTMLModel",
            "placeholder": "​",
            "_view_module": "@jupyter-widgets/controls",
            "_model_module_version": "1.5.0",
            "value": " 8596/8596 [2:03:42&lt;00:00,  1.16it/s]",
            "_view_count": null,
            "_view_module_version": "1.5.0",
            "description_tooltip": null,
            "_model_module": "@jupyter-widgets/controls",
            "layout": "IPY_MODEL_0ef34150ca774fe1967467c6c8cdf4ea"
          }
        },
        "0e7d984dceb14b0e899efc597420622c": {
          "model_module": "@jupyter-widgets/controls",
          "model_name": "ProgressStyleModel",
          "state": {
            "_view_name": "StyleView",
            "_model_name": "ProgressStyleModel",
            "description_width": "initial",
            "_view_module": "@jupyter-widgets/base",
            "_model_module_version": "1.5.0",
            "_view_count": null,
            "_view_module_version": "1.2.0",
            "bar_color": null,
            "_model_module": "@jupyter-widgets/controls"
          }
        },
        "9a8f0efdd7c949c4ad21a99baf18552c": {
          "model_module": "@jupyter-widgets/base",
          "model_name": "LayoutModel",
          "state": {
            "_view_name": "LayoutView",
            "grid_template_rows": null,
            "right": null,
            "justify_content": null,
            "_view_module": "@jupyter-widgets/base",
            "overflow": null,
            "_model_module_version": "1.2.0",
            "_view_count": null,
            "flex_flow": null,
            "width": null,
            "min_width": null,
            "border": null,
            "align_items": null,
            "bottom": null,
            "_model_module": "@jupyter-widgets/base",
            "top": null,
            "grid_column": null,
            "overflow_y": null,
            "overflow_x": null,
            "grid_auto_flow": null,
            "grid_area": null,
            "grid_template_columns": null,
            "flex": null,
            "_model_name": "LayoutModel",
            "justify_items": null,
            "grid_row": null,
            "max_height": null,
            "align_content": null,
            "visibility": null,
            "align_self": null,
            "height": null,
            "min_height": null,
            "padding": null,
            "grid_auto_rows": null,
            "grid_gap": null,
            "max_width": null,
            "order": null,
            "_view_module_version": "1.2.0",
            "grid_template_areas": null,
            "object_position": null,
            "object_fit": null,
            "grid_auto_columns": null,
            "margin": null,
            "display": null,
            "left": null
          }
        },
        "ee9d5aa1403e4670a812e1a6fbe4aeda": {
          "model_module": "@jupyter-widgets/controls",
          "model_name": "DescriptionStyleModel",
          "state": {
            "_view_name": "StyleView",
            "_model_name": "DescriptionStyleModel",
            "description_width": "",
            "_view_module": "@jupyter-widgets/base",
            "_model_module_version": "1.5.0",
            "_view_count": null,
            "_view_module_version": "1.2.0",
            "_model_module": "@jupyter-widgets/controls"
          }
        },
        "0ef34150ca774fe1967467c6c8cdf4ea": {
          "model_module": "@jupyter-widgets/base",
          "model_name": "LayoutModel",
          "state": {
            "_view_name": "LayoutView",
            "grid_template_rows": null,
            "right": null,
            "justify_content": null,
            "_view_module": "@jupyter-widgets/base",
            "overflow": null,
            "_model_module_version": "1.2.0",
            "_view_count": null,
            "flex_flow": null,
            "width": null,
            "min_width": null,
            "border": null,
            "align_items": null,
            "bottom": null,
            "_model_module": "@jupyter-widgets/base",
            "top": null,
            "grid_column": null,
            "overflow_y": null,
            "overflow_x": null,
            "grid_auto_flow": null,
            "grid_area": null,
            "grid_template_columns": null,
            "flex": null,
            "_model_name": "LayoutModel",
            "justify_items": null,
            "grid_row": null,
            "max_height": null,
            "align_content": null,
            "visibility": null,
            "align_self": null,
            "height": null,
            "min_height": null,
            "padding": null,
            "grid_auto_rows": null,
            "grid_gap": null,
            "max_width": null,
            "order": null,
            "_view_module_version": "1.2.0",
            "grid_template_areas": null,
            "object_position": null,
            "object_fit": null,
            "grid_auto_columns": null,
            "margin": null,
            "display": null,
            "left": null
          }
        }
      }
    }
  },
  "cells": [
    {
      "cell_type": "markdown",
      "metadata": {
        "id": "view-in-github",
        "colab_type": "text"
      },
      "source": [
        "<a href=\"https://colab.research.google.com/github/raynardj/python4ml/blob/master/experiments/kegg_drug_mol.ipynb\" target=\"_parent\"><img src=\"https://colab.research.google.com/assets/colab-badge.svg\" alt=\"Open In Colab\"/></a>"
      ]
    },
    {
      "cell_type": "markdown",
      "metadata": {
        "id": "GxBQB3DtI6-1"
      },
      "source": [
        "# KEGG Drug Mol Data"
      ]
    },
    {
      "cell_type": "code",
      "metadata": {
        "id": "D4X6n3m9I2ln"
      },
      "source": [
        "import json\n",
        "from pathlib import Path\n",
        "import pandas as pd\n",
        "import os\n",
        "from tqdm.notebook import tqdm\n",
        "from glob import glob\n",
        "import logging\n",
        "import requests\n",
        "from random import random\n",
        "from time import sleep"
      ],
      "execution_count": 48,
      "outputs": []
    },
    {
      "cell_type": "code",
      "metadata": {
        "id": "ohQ8ihIJpA1C"
      },
      "source": [
        "logger = logging.getLogger()\n",
        "logger.setLevel(logging.DEBUG)"
      ],
      "execution_count": 44,
      "outputs": []
    },
    {
      "cell_type": "code",
      "metadata": {
        "id": "UID2O1RglLVQ"
      },
      "source": [
        "latest = sorted(glob(\"drive/MyDrive/kegg_drug-*.zip\"))[-1]"
      ],
      "execution_count": 17,
      "outputs": []
    },
    {
      "cell_type": "code",
      "metadata": {
        "id": "Es8boC_CLGm_"
      },
      "source": [
        "!cp {latest} ."
      ],
      "execution_count": 6,
      "outputs": []
    },
    {
      "cell_type": "code",
      "metadata": {
        "id": "uygLroCAkwqF"
      },
      "source": [
        "!unzip kegg_drug-*.zip > /dev/null"
      ],
      "execution_count": 10,
      "outputs": []
    },
    {
      "cell_type": "markdown",
      "metadata": {
        "id": "uIbcaKmPkwFL"
      },
      "source": [
        "## Extract Meta Data"
      ]
    },
    {
      "cell_type": "code",
      "metadata": {
        "id": "V0QSQoUSJYuz"
      },
      "source": [
        "DATA=Path(\"./kegg_drug\")\n",
        "META = DATA/\"meta\"\n",
        "MOL = Path(\"drive/MyDrive/kegg_drug/mol\")"
      ],
      "execution_count": 54,
      "outputs": []
    },
    {
      "cell_type": "code",
      "metadata": {
        "id": "L2LiFerzJaN7"
      },
      "source": [
        "def open_json(path):\n",
        "    with open(path, \"r\") as f:\n",
        "        return json.loads(f.read())\n",
        "\n",
        "def open_tag(fname):\n",
        "    data = open_json(META/fname)\n",
        "    data['drug_id'] = fname.replace(\".json\",\"\")\n",
        "    return data"
      ],
      "execution_count": 36,
      "outputs": []
    },
    {
      "cell_type": "code",
      "metadata": {
        "id": "RXsWtkLUKR0G"
      },
      "source": [
        "ALL_JSON = os.listdir(META)"
      ],
      "execution_count": 20,
      "outputs": []
    },
    {
      "cell_type": "code",
      "metadata": {
        "id": "OEtWZ_otJtGp"
      },
      "source": [
        "def none_empety(x):\n",
        "    return list(filter(lambda i:len(i)>1,x))"
      ],
      "execution_count": 22,
      "outputs": []
    },
    {
      "cell_type": "code",
      "metadata": {
        "colab": {
          "base_uri": "https://localhost:8080/",
          "height": 66,
          "referenced_widgets": [
            "9e5c801992c541b196ae1fe02be0bbc2",
            "4b96e892f782486eae6d771328c6cb7c",
            "45ced6d4749740d9bd546e30486dcfc0",
            "d730f906caac45289fcdb4dbb5c6e70f",
            "e044826bd3bb4bab84e977027d575f52",
            "48a6c67d9baa4e2c8cced7729b3aae9c",
            "a667bf22ae994ae2b758ef073b18b40b",
            "217f0ad2518843debd720805d8304399"
          ]
        },
        "id": "UY22QavuKlrm",
        "outputId": "f272ae9f-0650-4918-810a-6c5ba5aff0d9"
      },
      "source": [
        "data_list = none_empety(list(open_tag(tag) for tag in tqdm(ALL_JSON)))"
      ],
      "execution_count": 37,
      "outputs": [
        {
          "output_type": "display_data",
          "data": {
            "application/vnd.jupyter.widget-view+json": {
              "model_id": "9e5c801992c541b196ae1fe02be0bbc2",
              "version_minor": 0,
              "version_major": 2
            },
            "text/plain": [
              "HBox(children=(FloatProgress(value=0.0, max=12000.0), HTML(value='')))"
            ]
          },
          "metadata": {
            "tags": []
          }
        },
        {
          "output_type": "stream",
          "text": [
            "\n"
          ],
          "name": "stdout"
        }
      ]
    },
    {
      "cell_type": "markdown",
      "metadata": {
        "id": "MZgZcxhqwExI"
      },
      "source": [
        "## A list of Drug id that definitely contains MOL file"
      ]
    },
    {
      "cell_type": "code",
      "metadata": {
        "id": "7CdJ6JWNl6lP"
      },
      "source": [
        "meta_df = pd.DataFrame(data_list)\n",
        "with_mol_df = meta_df[meta_df.Structure.str.contains(\"Mol file\").fillna(False)]"
      ],
      "execution_count": 39,
      "outputs": []
    },
    {
      "cell_type": "code",
      "metadata": {
        "colab": {
          "base_uri": "https://localhost:8080/"
        },
        "id": "FkJtlgF6nmG3",
        "outputId": "dbd6093b-1b61-4687-dffc-145f26e61a78"
      },
      "source": [
        "drug_ids = list(set(with_mol_df[\"drug_id\"]))\n",
        "drug_ids[:20]"
      ],
      "execution_count": 42,
      "outputs": [
        {
          "output_type": "execute_result",
          "data": {
            "text/plain": [
              "['D02621',\n",
              " 'D10562',\n",
              " 'D08543',\n",
              " 'D00096',\n",
              " 'D00138',\n",
              " 'D03891',\n",
              " 'D00847',\n",
              " 'D07998',\n",
              " 'D04076',\n",
              " 'D02467',\n",
              " 'D11891',\n",
              " 'D03187',\n",
              " 'D11834',\n",
              " 'D04640',\n",
              " 'D07116',\n",
              " 'D03736',\n",
              " 'D03510',\n",
              " 'D11438',\n",
              " 'D00994',\n",
              " 'D01887']"
            ]
          },
          "metadata": {
            "tags": []
          },
          "execution_count": 42
        }
      ]
    },
    {
      "cell_type": "code",
      "metadata": {
        "id": "vwHx9fq4qGVP"
      },
      "source": [
        "SLEEP_FACTOR = 1"
      ],
      "execution_count": 46,
      "outputs": []
    },
    {
      "cell_type": "code",
      "metadata": {
        "id": "YemD4m0An2r9"
      },
      "source": [
        "def mol_file_link(drug_id):\n",
        "    return f\"https://www.kegg.jp/dbget-bin/www_bget?-f+m+drug+{drug_id}\"\n",
        "\n",
        "def download_drug_mol(drug_id, callback):\n",
        "    sleep(SLEEP_FACTOR*random())\n",
        "    url = mol_file_link(drug_id)\n",
        "    r = requests.get(url)\n",
        "    if r.status_code == 200:\n",
        "        callback(r.text, drug_id)\n",
        "    else:\n",
        "        logging.error(f\"[{r.status_code}]{url}\")\n",
        "\n",
        "def save_mol_file(text, drug_id):\n",
        "    with open(MOL/f\"{drug_id}.mol\", \"w\") as f:\n",
        "        f.write(text)\n",
        "\n",
        "def downloaded():\n",
        "    return list(map(lambda x:x.replace(\".mol\",\"\"), os.listdir(MOL)))"
      ],
      "execution_count": 59,
      "outputs": []
    },
    {
      "cell_type": "code",
      "metadata": {
        "id": "v1LYOmOUqzGp"
      },
      "source": [
        "download_drug_mol(\"D01887\", save_mol_file)"
      ],
      "execution_count": 60,
      "outputs": []
    },
    {
      "cell_type": "code",
      "metadata": {
        "id": "ybFMokp2skuB"
      },
      "source": [
        "# !cat {MOL/\"D01887.mol\"}"
      ],
      "execution_count": 62,
      "outputs": []
    },
    {
      "cell_type": "code",
      "metadata": {
        "colab": {
          "base_uri": "https://localhost:8080/",
          "height": 66,
          "referenced_widgets": [
            "7cfbd77f7ffc48f2b5d84d5f1ed80b7b",
            "344ffd549529451ba32b32407e9c2836",
            "e2a22f64ca834f4ab424ab3f0595521a",
            "d3d9574a80164d79918204c4fd39e968",
            "0e7d984dceb14b0e899efc597420622c",
            "9a8f0efdd7c949c4ad21a99baf18552c",
            "ee9d5aa1403e4670a812e1a6fbe4aeda",
            "0ef34150ca774fe1967467c6c8cdf4ea"
          ]
        },
        "id": "WVzGkvNorfG8",
        "outputId": "a56ea01c-2e7e-43e1-9010-f2ad864e6fd8"
      },
      "source": [
        "downloaded_mols = downloaded()\n",
        "for drug_id in tqdm(drug_ids):\n",
        "    if drug_id in downloaded_mols:\n",
        "        continue\n",
        "    download_drug_mol(drug_id, save_mol_file)"
      ],
      "execution_count": 63,
      "outputs": [
        {
          "output_type": "display_data",
          "data": {
            "application/vnd.jupyter.widget-view+json": {
              "model_id": "7cfbd77f7ffc48f2b5d84d5f1ed80b7b",
              "version_minor": 0,
              "version_major": 2
            },
            "text/plain": [
              "HBox(children=(FloatProgress(value=0.0, max=8596.0), HTML(value='')))"
            ]
          },
          "metadata": {
            "tags": []
          }
        },
        {
          "output_type": "stream",
          "text": [
            "\n"
          ],
          "name": "stdout"
        }
      ]
    },
    {
      "cell_type": "code",
      "metadata": {
        "id": "6pFkq8Lrs46R"
      },
      "source": [
        ""
      ],
      "execution_count": null,
      "outputs": []
    }
  ]
}