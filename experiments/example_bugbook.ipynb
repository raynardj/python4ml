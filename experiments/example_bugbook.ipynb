{
  "nbformat": 4,
  "nbformat_minor": 0,
  "metadata": {
    "colab": {
      "name": "example_bugbook.ipynb",
      "provenance": [],
      "collapsed_sections": [],
      "authorship_tag": "ABX9TyPOy7mEMPTN618FIC1BuMDm",
      "include_colab_link": true
    },
    "kernelspec": {
      "name": "python3",
      "display_name": "Python 3"
    },
    "language_info": {
      "name": "python"
    }
  },
  "cells": [
    {
      "cell_type": "markdown",
      "metadata": {
        "id": "view-in-github",
        "colab_type": "text"
      },
      "source": [
        "<a href=\"https://colab.research.google.com/github/raynardj/python4ml/blob/master/experiments/example_bugbook.ipynb\" target=\"_parent\"><img src=\"https://colab.research.google.com/assets/colab-badge.svg\" alt=\"Open In Colab\"/></a>"
      ]
    },
    {
      "cell_type": "markdown",
      "metadata": {
        "id": "DRzmpJhVKX8m"
      },
      "source": [
        "# 🐞 Customize your bug\n",
        "> Bugs are, terrifying things, to be exposed to your students, especially the ones not familiar with python.\n",
        "\n",
        "> But to fix bugs, first we have to conquer the fear. The fear over its **complexity** and **verbosity**\n",
        "\n",
        "## A friendlier experience\n",
        "Here we try to offer a smooth experience over frequently met bugs, as this can be configured freely, even outside of this library\n",
        "\n",
        "## Import and deploy the bugbook\n",
        "```python\n",
        "from unpackai.bug import ishell, BUGBOOK\n",
        "```\n",
        "If you ran this, you'll have different experience encountering bugs:\n",
        "* There will be download report button, so you can send your Mentor/TA a detailed report\n",
        "* The error prompt will be more friendly structured, it will show message from [unpackai](www.unpackai.com)\n",
        "* Still shows the original traceback, if needed\n",
        "\n",
        "\n"
      ]
    },
    {
      "cell_type": "code",
      "metadata": {
        "colab": {
          "base_uri": "https://localhost:8080/"
        },
        "id": "HobtjtwHKQ72",
        "outputId": "6e9715c1-57b7-457d-992c-fd537391254e"
      },
      "source": [
        "!pip install -q git+https://github.com/unpackai/unpackai"
      ],
      "execution_count": 1,
      "outputs": [
        {
          "output_type": "stream",
          "name": "stdout",
          "text": [
            "\u001b[?25l\r\u001b[K     |███▉                            | 10 kB 27.5 MB/s eta 0:00:01\r\u001b[K     |███████▊                        | 20 kB 34.8 MB/s eta 0:00:01\r\u001b[K     |███████████▌                    | 30 kB 31.1 MB/s eta 0:00:01\r\u001b[K     |███████████████▍                | 40 kB 22.5 MB/s eta 0:00:01\r\u001b[K     |███████████████████▏            | 51 kB 19.6 MB/s eta 0:00:01\r\u001b[K     |███████████████████████         | 61 kB 15.0 MB/s eta 0:00:01\r\u001b[K     |██████████████████████████▉     | 71 kB 15.1 MB/s eta 0:00:01\r\u001b[K     |██████████████████████████████▊ | 81 kB 16.5 MB/s eta 0:00:01\r\u001b[K     |████████████████████████████████| 85 kB 3.9 MB/s \n",
            "\u001b[?25h  Building wheel for unpackai (setup.py) ... \u001b[?25l\u001b[?25hdone\n"
          ]
        }
      ]
    },
    {
      "cell_type": "markdown",
      "metadata": {
        "id": "4_rVm63DKks9"
      },
      "source": [
        "## Customized message"
      ]
    },
    {
      "cell_type": "code",
      "metadata": {
        "id": "CRqI3ae7KkJP"
      },
      "source": [
        "from unpackai.bug import ishell, BUGBOOK, itb"
      ],
      "execution_count": 2,
      "outputs": []
    },
    {
      "cell_type": "markdown",
      "metadata": {
        "id": "Od6DohHGKzVG"
      },
      "source": [
        "For many situations, like in tabular data, if the error is a ```KeyError``` and keyword ```pandas``` appears in the traceback, it usually has only 1 meaning: we use the wrong column name that doesn't exist in the dataframe\n",
        "\n",
        "### Before we customize the message\n",
        "\n",
        "You can see the error message is like following, no tip from ```unpackai```"
      ]
    },
    {
      "cell_type": "code",
      "metadata": {
        "colab": {
          "base_uri": "https://localhost:8080/",
          "height": 362
        },
        "id": "MwszimwHKfnT",
        "outputId": "f15f5f94-c10b-48d3-e92f-1b716064b1ba"
      },
      "source": [
        "import pandas as pd\n",
        "pd.DataFrame({\"week\":[1,2,3]})[\"weeks\"]"
      ],
      "execution_count": 3,
      "outputs": [
        {
          "output_type": "display_data",
          "data": {
            "text/html": [
              "<div>\n",
              "    <html>\n",
              "    <head>\n",
              "        <meta name=\"viewport\"\n",
              "        content=\"width=device-width, initial-scale=1\">\n",
              "    </head>\n",
              "    <body>\n",
              "        <a download=\"npakai_KeyError_1004_034224.html\" href=\"data:text/html;base64,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\" >\n",
              "    <button class=\"p-Widget jupyter-widgets jupyter-button widget-button mod-success\">\n",
              "        🦋 Download Report</button>\n",
              "    </a>\n",
              "    </body>\n",
              "</html> <span>Download error report and consult a mentor/TA</span>\n",
              "</div>\n",
              "<h2>🐞 [KeyError] Happened, Don't Panic</h2>\n",
              "\n",
              "<h3>🤔 Default message:</h3>\n",
              "<hr>\n",
              "<quote>\n",
              "    'weeks'\n",
              "</quote>\n",
              "<hr>\n",
              "<h3>Traceback Info</h3>"
            ],
            "text/plain": [
              "<IPython.core.display.HTML object>"
            ]
          },
          "metadata": {}
        },
        {
          "output_type": "stream",
          "name": "stdout",
          "text": [
            "Traceback \u001b[1;36m(most recent call last)\u001b[0m:\n",
            "  File \u001b[0;32m\"<ipython-input-3-7b7df896c955>\"\u001b[0m, line \u001b[0;32m2\u001b[0m, in \u001b[0;35m<module>\u001b[0m\n",
            "    pd.DataFrame({\"week\":[1,2,3]})[\"weeks\"]\n",
            "  File \u001b[0;32m\"/usr/local/lib/python3.7/dist-packages/pandas/core/frame.py\"\u001b[0m, line \u001b[0;32m2906\u001b[0m, in \u001b[0;35m__getitem__\u001b[0m\n",
            "    indexer = self.columns.get_loc(key)\n",
            "\u001b[1;36m  File \u001b[1;32m\"/usr/local/lib/python3.7/dist-packages/pandas/core/indexes/base.py\"\u001b[1;36m, line \u001b[1;32m2900\u001b[1;36m, in \u001b[1;35mget_loc\u001b[1;36m\u001b[0m\n",
            "\u001b[1;33m    raise KeyError(key) from err\u001b[0m\n",
            "\u001b[1;31mKeyError\u001b[0m\u001b[1;31m:\u001b[0m 'weeks'\n",
            "\n"
          ]
        }
      ]
    },
    {
      "cell_type": "markdown",
      "metadata": {
        "id": "dkJ5dEP0LsIk"
      },
      "source": [
        "### Customizing KeyError"
      ]
    },
    {
      "cell_type": "markdown",
      "metadata": {
        "id": "abP8Vw9uM1NT"
      },
      "source": [
        "#### Simple unified message"
      ]
    },
    {
      "cell_type": "code",
      "metadata": {
        "id": "fJfCUzEUMzcw"
      },
      "source": [
        "# configure the bug mapping using error type name as the key (case sensitive)\n",
        "BUGBOOK[\"KeyError\"] = f\"KeyError usually means there is no such key in a dictionary, but also can mean there is no such column the dataframe table\""
      ],
      "execution_count": 4,
      "outputs": []
    },
    {
      "cell_type": "markdown",
      "metadata": {
        "id": "xRkAowKMNdbv"
      },
      "source": [
        "Now check the ```UnpackAI Tips```  , congrats on your first reconfigured error report"
      ]
    },
    {
      "cell_type": "code",
      "metadata": {
        "colab": {
          "base_uri": "https://localhost:8080/",
          "height": 441
        },
        "id": "inC7gDAGNalU",
        "outputId": "12785af2-a420-4a1f-a650-1587c9feff98"
      },
      "source": [
        "import pandas as pd\n",
        "pd.DataFrame({\"week\":[1,2,3]})[\"weeks\"]"
      ],
      "execution_count": 5,
      "outputs": [
        {
          "output_type": "display_data",
          "data": {
            "text/html": [
              "<div>\n",
              "    <html>\n",
              "    <head>\n",
              "        <meta name=\"viewport\"\n",
              "        content=\"width=device-width, initial-scale=1\">\n",
              "    </head>\n",
              "    <body>\n",
              "        <a download=\"npakai_KeyError_1004_034229.html\" href=\"data:text/html;base64,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\" >\n",
              "    <button class=\"p-Widget jupyter-widgets jupyter-button widget-button mod-success\">\n",
              "        🦋 Download Report</button>\n",
              "    </a>\n",
              "    </body>\n",
              "</html> <span>Download error report and consult a mentor/TA</span>\n",
              "</div>\n",
              "<h2>🐞 [KeyError] Happened, Don't Panic</h2>\n",
              "\n",
              "<h3>🎸 UnpackAI Tips:</h3>\n",
              "<hr>\n",
              "<quote>\n",
              "    KeyError usually means there is no such key in a dictionary, but also can mean there is no such column the dataframe table\n",
              "</quote>\n",
              "<hr>\n",
              "\n",
              "<h3>🤔 Default message:</h3>\n",
              "<hr>\n",
              "<quote>\n",
              "    'weeks'\n",
              "</quote>\n",
              "<hr>\n",
              "<h3>Traceback Info</h3>"
            ],
            "text/plain": [
              "<IPython.core.display.HTML object>"
            ]
          },
          "metadata": {}
        },
        {
          "output_type": "stream",
          "name": "stdout",
          "text": [
            "Traceback \u001b[1;36m(most recent call last)\u001b[0m:\n",
            "  File \u001b[0;32m\"<ipython-input-5-7b7df896c955>\"\u001b[0m, line \u001b[0;32m2\u001b[0m, in \u001b[0;35m<module>\u001b[0m\n",
            "    pd.DataFrame({\"week\":[1,2,3]})[\"weeks\"]\n",
            "  File \u001b[0;32m\"/usr/local/lib/python3.7/dist-packages/pandas/core/frame.py\"\u001b[0m, line \u001b[0;32m2906\u001b[0m, in \u001b[0;35m__getitem__\u001b[0m\n",
            "    indexer = self.columns.get_loc(key)\n",
            "\u001b[1;36m  File \u001b[1;32m\"/usr/local/lib/python3.7/dist-packages/pandas/core/indexes/base.py\"\u001b[1;36m, line \u001b[1;32m2900\u001b[1;36m, in \u001b[1;35mget_loc\u001b[1;36m\u001b[0m\n",
            "\u001b[1;33m    raise KeyError(key) from err\u001b[0m\n",
            "\u001b[1;31mKeyError\u001b[0m\u001b[1;31m:\u001b[0m 'weeks'\n",
            "\n"
          ]
        }
      ]
    },
    {
      "cell_type": "markdown",
      "metadata": {
        "id": "vqRabN33NzGH"
      },
      "source": [
        "#### Simple conditional message output\n",
        "> Certainly we can be much more smarter than that, we can try to customize the message text according to the error detail.\n",
        "\n",
        "> Instead of setting a **string** to ```BUGBOOK```, we can set a **function**, that will take```etype```, ```evalue```, ```tb``` as inputs, but return a string message"
      ]
    },
    {
      "cell_type": "code",
      "metadata": {
        "id": "CMPnnYl6LrqA"
      },
      "source": [
        "def customized_keyerror(etype, evalue, tb):\n",
        "    # create structured traceback\n",
        "    stb = itb.structured_traceback(etype, evalue, tb)\n",
        "    # string format of trace back\n",
        "    sstb = itb.stb2text(stb)\n",
        "\n",
        "    # if this is a pandas keyerror?\n",
        "    if 'pandas' in sstb:\n",
        "        key = str(evalue)\n",
        "        return f\"\"\"\n",
        "        There's no <strong style=\"font-weight: bold; color: var(--ansi-red);\">column {key}</strong> in the dataframe\n",
        "        <br>\n",
        "        <p>Try to...</p>\n",
        "        \"\"\"\n",
        "    else:\n",
        "        return f\"There's no key {key} in the dictionary\"\n",
        "\n",
        "BUGBOOK[\"KeyError\"] = customized_keyerror"
      ],
      "execution_count": 6,
      "outputs": []
    },
    {
      "cell_type": "markdown",
      "metadata": {
        "id": "qT036tTwOm9o"
      },
      "source": [
        "Hence we got our flexibility, check the ```UnpackAI Tips``` again"
      ]
    },
    {
      "cell_type": "code",
      "metadata": {
        "colab": {
          "base_uri": "https://localhost:8080/",
          "height": 464
        },
        "id": "0SVGnv0gLaEF",
        "outputId": "70e72835-a170-4f61-aeac-3a55a99f4f45"
      },
      "source": [
        "pd.DataFrame({\"week\":[1,2,3]})[\"weeks\"]"
      ],
      "execution_count": 8,
      "outputs": [
        {
          "output_type": "display_data",
          "data": {
            "text/html": [
              "<div>\n",
              "    <html>\n",
              "    <head>\n",
              "        <meta name=\"viewport\"\n",
              "        content=\"width=device-width, initial-scale=1\">\n",
              "    </head>\n",
              "    <body>\n",
              "        <a download=\"npakai_KeyError_1004_034251.html\" href=\"data:text/html;base64,PGh0bWw+Cgo8aGVhZD4KICAgIDx0aXRsZT5VbnBhY2tBSSBCdWcgUmVwb3J0PC90aXRsZT4KICAgIDxsaW5rIHJlbD0ic3R5bGVzaGVldCIgaHJlZj0iaHR0cHM6Ly9zdGFja3BhdGguYm9vdHN0cmFwY2RuLmNvbS9ib290c3RyYXAvNC40LjEvY3NzL2Jvb3RzdHJhcC5taW4uY3NzIgogICAgICAgIGludGVncml0eT0ic2hhMzg0LVZrb284eDRDR3NPMytIaHh2OFQvUTVQYVh0a0t0dTZ1ZzVUT2VOVjZnQmlGZVdQR0ZOOU11aE9mMjNROUlmamgiIGNyb3Nzb3JpZ2luPSJhbm9ueW1vdXMiPgo8L2hlYWQ+Cgo8Ym9keT4KICAgIDxkaXYgY2xhc3M9ImNvbnRhaW5lciBtdC0zIj4KICAgICAgICA8aDIgY2xhc3M9J210LTIgbWItMic+8J+UjiBFcnJvciBBbmFseXNpcyBbPHNwYW4gaWQ9J3RpdGxlX3RpbWVzdGFtcCc+PC9zcGFuPl08L2gyPgogICAgICAgIDxoMz7wn5G7IDxzcGFuIGlkPSd0aXRsZV9lcnJvcl90eXBlJz5FcnJvcjwvc3Bhbj46CiAgICAgICAgICAgIDxzcGFuIGlkPSd0aXRsZV9lcnJvcl92YWx1ZSc+PC9zcGFuPjwvaDM+CiAgICAgICAgPHAgY2xhc3M9J210LTIgbWItMic+CiAgICAgICAgICAgIFRoaXMgcmVwb3J0IHdhcyBnZW5lcmF0ZWQgYXV0b21hdGljYWxseSBieSBVbnBhY2tBSS4KICAgICAgICA8L3A+CiAgICAgICAgPGhyPgogICAgICAgIDxkaXYgY2xhc3M9J20tMic+CiAgICAgICAgICAgIDxxdW90ZT4KICAgICAgICAgICAgICAgIDxwcmUgaWQ9J3RyYWNlYmFja19zdHJpbmcnPjwvcHJlPgogICAgICAgICAgICA8L3F1b3RlPgogICAgICAgIDwvZGl2PgogICAgICAgIDxocj4KICAgICAgICA8aDM+8J+qkCBJbnB1dCBIaXN0b3J5PC9oMz4KICAgICAgICA8ZGl2IGlkPSdpbnB1dF9oaXN0b3J5JyBjbGFzcz0nbS0yJz4KICAgICAgICA8L2Rpdj4KICAgIDwvZGl2Pgo8L2JvZHk+Cgo8c2NyaXB0PgogICAgCiAgICBsZXQgZGF0YSA9IEpTT04ucGFyc2UoIntcbiAgXCJlcnJvcl90eXBlX25hbWVcIjogXCJLZXlFcnJvclwiLFxuICBcImVycm9yX3ZhbHVlXCI6IFwiJ3dlZWtzJ1wiLFxuICBcInRyYWNlYmFja19zdHJpbmdcIjogXCJUcmFjZWJhY2sgKG1vc3QgcmVjZW50IGNhbGwgbGFzdCk6XFxuICBGaWxlICZxdW90Oy91c3IvbG9jYWwvbGliL3B5dGhvbjMuNy9kaXN0LXBhY2thZ2VzL3BhbmRhcy9jb3JlL2luZGV4ZXMvYmFzZS5weSZxdW90OywgbGluZSAyODk4LCBpbiBnZXRfbG9jXFxuICAgIHJldHVybiBzZWxmLl9lbmdpbmUuZ2V0X2xvYyhjYXN0ZWRfa2V5KVxcbiAgRmlsZSAmcXVvdDtwYW5kYXMvX2xpYnMvaW5kZXgucHl4JnF1b3Q7LCBsaW5lIDcwLCBpbiBwYW5kYXMuX2xpYnMuaW5kZXguSW5kZXhFbmdpbmUuZ2V0X2xvY1xcbiAgRmlsZSAmcXVvdDtwYW5kYXMvX2xpYnMvaW5kZXgucHl4JnF1b3Q7LCBsaW5lIDEwMSwgaW4gcGFuZGFzLl9saWJzLmluZGV4LkluZGV4RW5naW5lLmdldF9sb2NcXG4gIEZpbGUgJnF1b3Q7cGFuZGFzL19saWJzL2hhc2h0YWJsZV9jbGFzc19oZWxwZXIucHhpJnF1b3Q7LCBsaW5lIDE2NzUsIGluIHBhbmRhcy5fbGlicy5oYXNodGFibGUuUHlPYmplY3RIYXNoVGFibGUuZ2V0X2l0ZW1cXG4gIEZpbGUgJnF1b3Q7cGFuZGFzL19saWJzL2hhc2h0YWJsZV9jbGFzc19oZWxwZXIucHhpJnF1b3Q7LCBsaW5lIDE2ODMsIGluIHBhbmRhcy5fbGlicy5oYXNodGFibGUuUHlPYmplY3RIYXNoVGFibGUuZ2V0X2l0ZW1cXG5LZXlFcnJvcjogJiN4Mjc7d2Vla3MmI3gyNztcXG5cXG5UaGUgYWJvdmUgZXhjZXB0aW9uIHdhcyB0aGUgZGlyZWN0IGNhdXNlIG9mIHRoZSBmb2xsb3dpbmcgZXhjZXB0aW9uOlxcblxcblRyYWNlYmFjayAobW9zdCByZWNlbnQgY2FsbCBsYXN0KTpcXG4gIEZpbGUgJnF1b3Q7L3Vzci9sb2NhbC9saWIvcHl0aG9uMy43L2Rpc3QtcGFja2FnZXMvSVB5dGhvbi9jb3JlL2ludGVyYWN0aXZlc2hlbGwucHkmcXVvdDssIGxpbmUgMjg4MiwgaW4gcnVuX2NvZGVcXG4gICAgZXhlYyhjb2RlX29iaiwgc2VsZi51c2VyX2dsb2JhbF9ucywgc2VsZi51c2VyX25zKVxcbiAgRmlsZSAmcXVvdDsmbHQ7aXB5dGhvbi1pbnB1dC04LWU0M2ZiYzk2OGY0OCZndDsmcXVvdDssIGxpbmUgMSwgaW4gJmx0O21vZHVsZSZndDtcXG4gICAgcGQuRGF0YUZyYW1lKHsmcXVvdDt3ZWVrJnF1b3Q7OlsxLDIsM119KVsmcXVvdDt3ZWVrcyZxdW90O11cXG4gIEZpbGUgJnF1b3Q7L3Vzci9sb2NhbC9saWIvcHl0aG9uMy43L2Rpc3QtcGFja2FnZXMvcGFuZGFzL2NvcmUvZnJhbWUucHkmcXVvdDssIGxpbmUgMjkwNiwgaW4gX19nZXRpdGVtX19cXG4gICAgaW5kZXhlciA9IHNlbGYuY29sdW1ucy5nZXRfbG9jKGtleSlcXG4gIEZpbGUgJnF1b3Q7L3Vzci9sb2NhbC9saWIvcHl0aG9uMy43L2Rpc3QtcGFja2FnZXMvcGFuZGFzL2NvcmUvaW5kZXhlcy9iYXNlLnB5JnF1b3Q7LCBsaW5lIDI5MDAsIGluIGdldF9sb2NcXG4gICAgcmFpc2UgS2V5RXJyb3Ioa2V5KSBmcm9tIGVyclxcbktleUVycm9yOiAmI3gyNzt3ZWVrcyYjeDI3O1xcblwiLFxuICBcInRpbWVzdGFtcFwiOiBcIjIwMjEtMTAtMDQgMDM6NDI6NTFcIixcbiAgXCJpbnB1dF9oaXN0b3J5XCI6IFtcbiAgICBcIlwiLFxuICAgIFwiZ2V0X2lweXRob24oKS5zeXN0ZW0oJiN4Mjc7cGlwIGluc3RhbGwgLXEgZ2l0K2h0dHBzOi8vZ2l0aHViLmNvbS91bnBhY2thaS91bnBhY2thaSYjeDI3OylcIixcbiAgICBcImZyb20gdW5wYWNrYWkuYnVnIGltcG9ydCBpc2hlbGwsIEJVR0JPT0ssIGl0YlwiLFxuICAgIFwiaW1wb3J0IHBhbmRhcyBhcyBwZFxcbnBkLkRhdGFGcmFtZSh7JnF1b3Q7d2VlayZxdW90OzpbMSwyLDNdfSlbJnF1b3Q7d2Vla3MmcXVvdDtdXCIsXG4gICAgXCIjIGNvbmZpZ3VyZSB0aGUgYnVnIG1hcHBpbmcgdXNpbmcgZXJyb3IgdHlwZSBuYW1lIGFzIHRoZSBrZXkgKGNhc2Ugc2Vuc2l0aXZlKVxcbkJVR0JPT0tbJnF1b3Q7S2V5RXJyb3ImcXVvdDtdID0gZiZxdW90O0tleUVycm9yIHVzdWFsbHkgbWVhbnMgdGhlcmUgaXMgbm8gc3VjaCBrZXkgaW4gYSBkaWN0aW9uYXJ5LCBidXQgYWxzbyBjYW4gbWVhbiB0aGVyZSBpcyBubyBzdWNoIGNvbHVtbiB0aGUgZGF0YWZyYW1lIHRhYmxlJnF1b3Q7XCIsXG4gICAgXCJpbXBvcnQgcGFuZGFzIGFzIHBkXFxucGQuRGF0YUZyYW1lKHsmcXVvdDt3ZWVrJnF1b3Q7OlsxLDIsM119KVsmcXVvdDt3ZWVrcyZxdW90O11cIixcbiAgICBcImRlZiBjdXN0b21pemVkX2tleWVycm9yKGV0eXBlLCBldmFsdWUsIHRiKTpcXG4gICAgIyBjcmVhdGUgc3RydWN0dXJlZCB0cmFjZWJhY2tcXG4gICAgc3RiID0gaXRiLnN0cnVjdHVyZWRfdHJhY2ViYWNrKGV0eXBlLCBldmFsdWUsIHRiKVxcbiAgICAjIHN0cmluZyBmb3JtYXQgb2YgdHJhY2UgYmFja1xcbiAgICBzc3RiID0gaXRiLnN0YjJ0ZXh0KHN0YilcXG5cXG4gICAgIyBpZiB0aGlzIGlzIGEgcGFuZGFzIGtleWVycm9yP1xcbiAgICBpZiAmI3gyNztwYW5kYXMmI3gyNzsgaW4gc3N0YjpcXG4gICAgICAgIGtleSA9IHN0cihldmFsdWUpXFxuICAgICAgICByZXR1cm4gZiZxdW90OyZxdW90OyZxdW90O1xcbiAgICAgICAgVGhlcmUmI3gyNztzIG5vICZsdDtzdHJvbmcgc3R5bGU9JnF1b3Q7Zm9udC13ZWlnaHQ6IGJvbGQ7IGNvbG9yOiB2YXIoLS1hbnNpLXJlZCk7JnF1b3Q7Jmd0O2NvbHVtbiB7a2V5fSZsdDsvc3Ryb25nJmd0OyBpbiB0aGUgZGF0YWZyYW1lXFxuICAgICAgICAmbHQ7YnImZ3Q7XFxuICAgICAgICAmbHQ7cCZndDtUcnkgdG8uLi4mbHQ7L3AmZ3Q7XFxuICAgICAgICAmcXVvdDsmcXVvdDsmcXVvdDtcXG4gICAgZWxzZTpcXG4gICAgICAgIHJldHVybiBmJnF1b3Q7VGhlcmUmI3gyNztzIG5vIGtleSB7a2V5fSBpbiB0aGUgZGljdGlvbmFyeSZxdW90O1xcblxcbkJVR0JPT0tbJnF1b3Q7S2V5RXJyb3ImcXVvdDtdID0gY3VzdG9taXplZF9rZXllcnJvclwiLFxuICAgIFwicGQuRGF0YUZyYW1lKHsmcXVvdDt3ZWVrJnF1b3Q7OlsxLDIsM119KVsmcXVvdDt3ZWVrcyZxdW90O11cIixcbiAgICBcInBkLkRhdGFGcmFtZSh7JnF1b3Q7d2VlayZxdW90OzpbMSwyLDNdfSlbJnF1b3Q7d2Vla3MmcXVvdDtdXCJcbiAgXSxcbiAgXCJtc2dcIjogXCJcXG4gICAgICAgIFRoZXJlJ3Mgbm8gPHN0cm9uZyBzdHlsZT1cXFwiZm9udC13ZWlnaHQ6IGJvbGQ7IGNvbG9yOiB2YXIoLS1hbnNpLXJlZCk7XFxcIj5jb2x1bW4gJ3dlZWtzJzwvc3Ryb25nPiBpbiB0aGUgZGF0YWZyYW1lXFxuICAgICAgICA8YnI+XFxuICAgICAgICA8cD5UcnkgdG8uLi48L3A+XFxuICAgICAgICBcIlxufSIpOwoKICAgIGNvbnNvbGUubG9nKGRhdGEpCgogICAgbGV0IHt0cmFjZWJhY2tfc3RyaW5nLCBpbnB1dF9oaXN0b3J5LAogICAgICAgIGVycm9yX3R5cGVfbmFtZSwgZXJyb3JfdmFsdWUsIHRpbWVzdGFtcH0gPSBkYXRhCiAgICBjb25zdCBzaG93X2lucHV0X2hpc3RvcnkgPSAoKSA9PiB7CiAgICAgICAgbGV0IGlucHV0X2hpc3RvcnlfZGl2ID0gZG9jdW1lbnQuZ2V0RWxlbWVudEJ5SWQoJ2lucHV0X2hpc3RvcnknKQogICAgICAgIGZvcihsZXQgaXB0IG9mIGlucHV0X2hpc3RvcnkpewogICAgICAgICAgICBsZXQgcHJlID0gZG9jdW1lbnQuY3JlYXRlRWxlbWVudCgncHJlJykKICAgICAgICAgICAgcHJlLmNsYXNzTmFtZSA9ICdiZy1saWdodCBwLTIgcm91bmRlZCcKICAgICAgICAgICAgcHJlLmlubmVySFRNTCA9IGA8Y29kZT4ke2lwdH08L2NvZGU+YAogICAgICAgICAgICBpbnB1dF9oaXN0b3J5X2Rpdi5hcHBlbmRDaGlsZChwcmUpCiAgICAgICAgfQogICAgfQogICAgCiAgICBjb25zdCBzaG93X2RhdGEgPSAoKSA9PiB7CiAgICAgICAgZG9jdW1lbnQuZ2V0RWxlbWVudEJ5SWQoJ3RpdGxlX3RpbWVzdGFtcCcpLmlubmVySFRNTCA9IHRpbWVzdGFtcDsKICAgICAgICBkb2N1bWVudC5nZXRFbGVtZW50QnlJZCgndGl0bGVfZXJyb3JfdHlwZScpLmlubmVySFRNTCA9IGVycm9yX3R5cGVfbmFtZTsKICAgICAgICBkb2N1bWVudC5nZXRFbGVtZW50QnlJZCgndGl0bGVfZXJyb3JfdmFsdWUnKS5pbm5lckhUTUwgPSBlcnJvcl92YWx1ZTsKICAgICAgICBkb2N1bWVudC5nZXRFbGVtZW50QnlJZCgndHJhY2ViYWNrX3N0cmluZycpLmlubmVySFRNTCA9IHRyYWNlYmFja19zdHJpbmc7CiAgICAgICAgc2hvd19pbnB1dF9oaXN0b3J5KCk7CiAgICB9CgogICAgc2hvd19kYXRhKCk7Cjwvc2NyaXB0Pgo8L2h0bWw+\" >\n",
              "    <button class=\"p-Widget jupyter-widgets jupyter-button widget-button mod-success\">\n",
              "        🦋 Download Report</button>\n",
              "    </a>\n",
              "    </body>\n",
              "</html> <span>Download error report and consult a mentor/TA</span>\n",
              "</div>\n",
              "<h2>🐞 [KeyError] Happened, Don't Panic</h2>\n",
              "\n",
              "<h3>🎸 UnpackAI Tips:</h3>\n",
              "<hr>\n",
              "<quote>\n",
              "    \n",
              "        There's no <strong style=\"font-weight: bold; color: var(--ansi-red);\">column 'weeks'</strong> in the dataframe\n",
              "        <br>\n",
              "        <p>Try to...</p>\n",
              "        \n",
              "</quote>\n",
              "<hr>\n",
              "\n",
              "<h3>🤔 Default message:</h3>\n",
              "<hr>\n",
              "<quote>\n",
              "    'weeks'\n",
              "</quote>\n",
              "<hr>\n",
              "<h3>Traceback Info</h3>"
            ],
            "text/plain": [
              "<IPython.core.display.HTML object>"
            ]
          },
          "metadata": {}
        },
        {
          "output_type": "stream",
          "name": "stdout",
          "text": [
            "Traceback \u001b[1;36m(most recent call last)\u001b[0m:\n",
            "  File \u001b[0;32m\"<ipython-input-8-e43fbc968f48>\"\u001b[0m, line \u001b[0;32m1\u001b[0m, in \u001b[0;35m<module>\u001b[0m\n",
            "    pd.DataFrame({\"week\":[1,2,3]})[\"weeks\"]\n",
            "  File \u001b[0;32m\"/usr/local/lib/python3.7/dist-packages/pandas/core/frame.py\"\u001b[0m, line \u001b[0;32m2906\u001b[0m, in \u001b[0;35m__getitem__\u001b[0m\n",
            "    indexer = self.columns.get_loc(key)\n",
            "\u001b[1;36m  File \u001b[1;32m\"/usr/local/lib/python3.7/dist-packages/pandas/core/indexes/base.py\"\u001b[1;36m, line \u001b[1;32m2900\u001b[1;36m, in \u001b[1;35mget_loc\u001b[1;36m\u001b[0m\n",
            "\u001b[1;33m    raise KeyError(key) from err\u001b[0m\n",
            "\u001b[1;31mKeyError\u001b[0m\u001b[1;31m:\u001b[0m 'weeks'\n",
            "\n"
          ]
        }
      ]
    },
    {
      "cell_type": "markdown",
      "metadata": {
        "id": "ctGMREMEOyzn"
      },
      "source": [
        "## About the **function** you passed in\n",
        "### Inputs\n",
        "Notice the input arguments of the function, it will always be\n",
        "* etype: error type, ```etype.__name__=='KeyError'```\n",
        "* evalue: default error message, in the above case ```str(evalue)=='weeks'```\n",
        "* tb: traceback, in the above case\n",
        "```python\n",
        "itb.structured_traceback(etype, evalue, tb).stb2text(stb)\n",
        "```\n",
        "will be the entire traceback text\n",
        "\n",
        "### Return\n",
        "The return of the function will always be a string, it's actually a **HTML string** to render. So images, js, widgets, you name it...\n",
        "\n",
        "With this flexibility, your own imagination will be the limit"
      ]
    },
    {
      "cell_type": "markdown",
      "metadata": {
        "id": "HcHMng61UfR9"
      },
      "source": [
        "## For **contributors**\n",
        "\n",
        "### You can put bugbook under different module 🔧\n",
        "If  you're developing unpackai library, eg. if you are developing nlp module\n",
        "\n",
        "If within the NLP module, certain error can only leads to certain solution under this subject\n",
        "\n",
        "You can put the following under ```unpackai/nlp/__init__.py```:\n",
        "```python\n",
        "from unpackai.bug import BUGBOOK, ishell\n",
        "\n",
        "def customized_file_notfound(et, ev, tb):\n",
        "    if 'gdrive' in str(ev):\n",
        "        return f\"\"\"\n",
        "        Please check if the google drive is mounted...\n",
        "        <button>reload google drive</button>\"\"\"\n",
        "    elif '.txt' in str(ev):\n",
        "        return f\"\"\"\n",
        "        Please check the text data is ...\n",
        "        <button>upload text again</button>\"\"\"\n",
        "    else:\n",
        "        return str(ev)\n",
        "\n",
        "BUGBOOK['FileNotFoundError'] = customized_file_notfound\n",
        "```\n",
        "\n",
        "> In such way, the error handling for CV, tabular and NLP can be **different and specific**\n",
        "\n",
        "### You can further improve the interface 🌈\n",
        "* You can change the bug page by editing [this html template](https://github.com/unpackAI/unpackai/blob/main/unpackai/static/html/bug/error_tiny_page.html)\n",
        "* YOu can change the error report page by editing [this html template](https://github.com/unpackAI/unpackai/blob/main/unpackai/static/html/bug/error_report.html)\n"
      ]
    },
    {
      "cell_type": "markdown",
      "metadata": {
        "id": "pmttaThDUYhG"
      },
      "source": [
        "## Fancier features\n",
        "> Well, if the above things didn't buffle you, let's not stop here\n",
        "\n",
        "Now you know this format to set new configuration\n",
        "```python\n",
        "BUGBOOK['FileNotFoundError'] = customized_file_notfound\n",
        "```\n",
        "\n",
        "But for the key of configuration ```FileNotFoundError```, for now is a string to filter the error, means we do not apply this rule to other error, only the  ```FileNotFoundError```\n",
        "\n",
        "This key is acting as a **filter**. The key can also be a **function** instead of a **string**"
      ]
    },
    {
      "cell_type": "code",
      "metadata": {
        "id": "Jehb8cAuUYJW"
      },
      "source": [
        "def pandas_filter(et, ev, tb) -> bool:\n",
        "    # create structured traceback\n",
        "    stb = itb.structured_traceback(et, ev, tb)\n",
        "    # string format of trace back\n",
        "    sstb = itb.stb2text(stb)\n",
        "\n",
        "    # return True if the traceback has keyword pandas\n",
        "    # no matter what error type it is\n",
        "    if 'pandas' in sstb:\n",
        "        return True\n",
        "    return False"
      ],
      "execution_count": 9,
      "outputs": []
    },
    {
      "cell_type": "markdown",
      "metadata": {
        "id": "O6NRlmHvaAFu"
      },
      "source": [
        "Now, use the filter function ```pandas_filter``` as the key"
      ]
    },
    {
      "cell_type": "code",
      "metadata": {
        "id": "dadxzmp2OaQY"
      },
      "source": [
        "BUGBOOK[pandas_filter] = \"This is a pandas error, please refer to the <a href='...'>documentation here</a>\""
      ],
      "execution_count": 10,
      "outputs": []
    },
    {
      "cell_type": "code",
      "metadata": {
        "colab": {
          "base_uri": "https://localhost:8080/",
          "height": 406
        },
        "id": "o_HL99MZYJ-F",
        "outputId": "bdce04fc-eb6f-496f-9bca-5513e21580ce"
      },
      "source": [
        "pd.DataFrame({\"week\":[1,2,3]}).not_a_method()"
      ],
      "execution_count": 13,
      "outputs": [
        {
          "output_type": "display_data",
          "data": {
            "text/html": [
              "<div>\n",
              "    <html>\n",
              "    <head>\n",
              "        <meta name=\"viewport\"\n",
              "        content=\"width=device-width, initial-scale=1\">\n",
              "    </head>\n",
              "    <body>\n",
              "        <a download=\"npakai_AttributeError_1004_034511.html\" href=\"data:text/html;base64,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\" >\n",
              "    <button class=\"p-Widget jupyter-widgets jupyter-button widget-button mod-success\">\n",
              "        🦋 Download Report</button>\n",
              "    </a>\n",
              "    </body>\n",
              "</html> <span>Download error report and consult a mentor/TA</span>\n",
              "</div>\n",
              "<h2>🐞 [AttributeError] Happened, Don't Panic</h2>\n",
              "\n",
              "<h3>🎸 UnpackAI Tips:</h3>\n",
              "<hr>\n",
              "<quote>\n",
              "    This is a pandas error, please refer to the <a href='...'>documentation here</a>\n",
              "</quote>\n",
              "<hr>\n",
              "\n",
              "<h3>🤔 Default message:</h3>\n",
              "<hr>\n",
              "<quote>\n",
              "    'DataFrame' object has no attribute 'not_a_method'\n",
              "</quote>\n",
              "<hr>\n",
              "<h3>Traceback Info</h3>"
            ],
            "text/plain": [
              "<IPython.core.display.HTML object>"
            ]
          },
          "metadata": {}
        },
        {
          "output_type": "stream",
          "name": "stdout",
          "text": [
            "Traceback \u001b[1;36m(most recent call last)\u001b[0m:\n",
            "  File \u001b[0;32m\"<ipython-input-13-a113cb3d5dc2>\"\u001b[0m, line \u001b[0;32m1\u001b[0m, in \u001b[0;35m<module>\u001b[0m\n",
            "    pd.DataFrame({\"week\":[1,2,3]}).not_a_method()\n",
            "\u001b[1;36m  File \u001b[1;32m\"/usr/local/lib/python3.7/dist-packages/pandas/core/generic.py\"\u001b[1;36m, line \u001b[1;32m5141\u001b[1;36m, in \u001b[1;35m__getattr__\u001b[1;36m\u001b[0m\n",
            "\u001b[1;33m    return object.__getattribute__(self, name)\u001b[0m\n",
            "\u001b[1;31mAttributeError\u001b[0m\u001b[1;31m:\u001b[0m 'DataFrame' object has no attribute 'not_a_method'\n",
            "\n"
          ]
        }
      ]
    },
    {
      "cell_type": "code",
      "metadata": {
        "id": "NMGzcgBdYME9"
      },
      "source": [
        ""
      ],
      "execution_count": null,
      "outputs": []
    }
  ]
}