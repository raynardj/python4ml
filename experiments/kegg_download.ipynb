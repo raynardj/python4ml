{
  "nbformat": 4,
  "nbformat_minor": 0,
  "metadata": {
    "colab": {
      "name": "kegg_download.ipynb",
      "provenance": [],
      "collapsed_sections": [],
      "toc_visible": true,
      "mount_file_id": "1DRz5QGEjE878zrTKWTQVmYF2J0Vl13QW",
      "authorship_tag": "ABX9TyNz0xhh2u8EZKOE2YJ08gG4",
      "include_colab_link": true
    },
    "kernelspec": {
      "name": "python3",
      "display_name": "Python 3"
    }
  },
  "cells": [
    {
      "cell_type": "markdown",
      "metadata": {
        "id": "view-in-github",
        "colab_type": "text"
      },
      "source": [
        "<a href=\"https://colab.research.google.com/github/raynardj/python4ml/blob/master/experiments/kegg_download.ipynb\" target=\"_parent\"><img src=\"https://colab.research.google.com/assets/colab-badge.svg\" alt=\"Open In Colab\"/></a>"
      ]
    },
    {
      "cell_type": "markdown",
      "metadata": {
        "id": "XowheHbjBxze"
      },
      "source": [
        "# Kegg Drug Download"
      ]
    },
    {
      "cell_type": "code",
      "metadata": {
        "id": "R_20S88wbhTD"
      },
      "source": [
        "import logging"
      ],
      "execution_count": 1,
      "outputs": []
    },
    {
      "cell_type": "code",
      "metadata": {
        "id": "8dmb7RKIbkUN"
      },
      "source": [
        "logger = logging.getLogger()\n",
        "logger.setLevel(logging.DEBUG)"
      ],
      "execution_count": 2,
      "outputs": []
    },
    {
      "cell_type": "code",
      "metadata": {
        "id": "mi5LnjdSBuGK"
      },
      "source": [
        "TEST_TAG = \"D00001\""
      ],
      "execution_count": 37,
      "outputs": []
    },
    {
      "cell_type": "code",
      "metadata": {
        "id": "aAG_oHfhB8Oj"
      },
      "source": [
        "def get_detail_page(tag):\n",
        "    return f\"https://www.kegg.jp/dbget-bin/www_bget?dr:{tag}\""
      ],
      "execution_count": 4,
      "outputs": []
    },
    {
      "cell_type": "code",
      "metadata": {
        "id": "QZAxJRoLCSbf"
      },
      "source": [
        "import requests\n",
        "from bs4 import BeautifulSoup"
      ],
      "execution_count": 5,
      "outputs": []
    },
    {
      "cell_type": "code",
      "metadata": {
        "id": "EoIZz35fCFYp"
      },
      "source": [
        "r = requests.get(get_detail_page(TEST_TAG))"
      ],
      "execution_count": 33,
      "outputs": []
    },
    {
      "cell_type": "code",
      "metadata": {
        "id": "3p1I9mYkCMs4"
      },
      "source": [
        "html = r.text"
      ],
      "execution_count": 34,
      "outputs": []
    },
    {
      "cell_type": "code",
      "metadata": {
        "id": "ZW1o-9q7Dy3n"
      },
      "source": [
        "def parse_row(row):\n",
        "    th = row.select_one(\"th\")\n",
        "    td = row.select_one(\"td\")\n",
        "    if th:\n",
        "        return th.text.replace(\"\\xa0\",\"\"), td.text.replace(\"\\xa0\",\" \") if td else \"\"\n",
        "    else:\n",
        "        return \"no_key\", td.text.replace(\"\\xa0\",\" \") if td else \"\"\n",
        "\n",
        "def parse_link(link):\n",
        "    \"\"\"\n",
        "    get all the links from the a dom\n",
        "    \"\"\"\n",
        "    try:\n",
        "        href = link[\"href\"]\n",
        "    except:\n",
        "        href = \"\"\n",
        "    return link.text if link.text else \"no_key\", href\n",
        "\n",
        "def read_html(html: str) -> dict:\n",
        "    \"\"\"\n",
        "    parse meta data page into json data\n",
        "    \"\"\"\n",
        "    doc = BeautifulSoup(html)\n",
        "    rows = doc.select(\"tr\")\n",
        "    drug_meta = dict(parse_row(row) for row in rows)\n",
        "    links = doc.select(\"a\")\n",
        "    link_data = dict(parse_link(link) for link in links)\n",
        "    drug_meta[\"links\"] = link_data\n",
        "    return drug_meta"
      ],
      "execution_count": 8,
      "outputs": []
    },
    {
      "cell_type": "code",
      "metadata": {
        "id": "fsqjr9MrbDid"
      },
      "source": [
        "errors = []\n",
        "res_errors = []"
      ],
      "execution_count": 9,
      "outputs": []
    },
    {
      "cell_type": "code",
      "metadata": {
        "id": "kgMInbtFcfat"
      },
      "source": [
        "import traceback\n",
        "from pathlib import Path\n",
        "import json"
      ],
      "execution_count": 23,
      "outputs": []
    },
    {
      "cell_type": "code",
      "metadata": {
        "id": "BL03RjiMbv2o"
      },
      "source": [
        "def error_catch(e):\n",
        "    logging.error(e)\n",
        "    errors.append({\"exception\":e, \"tb\":traceback.format_exc()})\n",
        "\n",
        "def error_res_catch(r):\n",
        "    logging.error(f\"[{r.status_code}]{r.url}\")\n",
        "    res_errors.append({\"response\":r, })"
      ],
      "execution_count": 11,
      "outputs": []
    },
    {
      "cell_type": "code",
      "metadata": {
        "id": "G8L2jIaOLF5x"
      },
      "source": [
        "def make_dir(path):\n",
        "    path = Path(path)\n",
        "    path.mkdir(exist_ok = True, parents = True)\n",
        "    return path"
      ],
      "execution_count": 20,
      "outputs": []
    },
    {
      "cell_type": "code",
      "metadata": {
        "id": "RmIdVTWFLcHy"
      },
      "source": [
        "META = make_dir(\"drive/MyDrive/kegg_drug/meta\")\n",
        "MOL = make_dir(\"drive/MyDrive/kegg_drug/mol\")"
      ],
      "execution_count": 63,
      "outputs": []
    },
    {
      "cell_type": "code",
      "metadata": {
        "id": "yZ7cIN_7VX1W"
      },
      "source": [
        "import os\n",
        "def meta_downloaded():\n",
        "    return list(i.replace(\".json\",\"\") for i in os.listdir(META))\n",
        "\n",
        "def mol_downloaded():\n",
        "    return list(i.replace(\".mol\",\"\") for i in os.listdir(MOL))\n",
        "\n",
        "META_CACHE = meta_downloaded()\n",
        "MOL_CACHE = mol_downloaded()"
      ],
      "execution_count": 64,
      "outputs": []
    },
    {
      "cell_type": "code",
      "metadata": {
        "id": "JBgTEzovVztk"
      },
      "source": [
        "def kegg_drug_page(tag, resolve, sleep_factor):\n",
        "    if tag in META_CACHE:\n",
        "        logging.info(f\"[🍻 SKIP]{tag}.json\")\n",
        "        return\n",
        "    sleep(random()*sleep_factor)\n",
        "    r = requests.get(get_detail_page(tag))\n",
        "    if r.status_code == 200:\n",
        "        try:\n",
        "            html = r.text\n",
        "            if \"No such data was found.\" in html:\n",
        "                logging.warning(f\"[🌴 {tag}]no such data found\")\n",
        "            meta = read_html(html)\n",
        "            resolve(meta, tag)\n",
        "        except Exception as e:\n",
        "            error_catch(e)\n",
        "    else:\n",
        "        error_res_catch(r)"
      ],
      "execution_count": 65,
      "outputs": []
    },
    {
      "cell_type": "code",
      "metadata": {
        "id": "YR4y7q-bWCsS"
      },
      "source": [
        "def save_meta(data,tag):\n",
        "    with open(META/f\"{tag}.json\", \"w\") as f:\n",
        "        f.write(json.dumps(data))"
      ],
      "execution_count": 66,
      "outputs": []
    },
    {
      "cell_type": "code",
      "metadata": {
        "id": "ktWkmdCmdi7v"
      },
      "source": [
        "from tqdm.notebook import tqdm\n",
        "from time import sleep\n",
        "from random import random"
      ],
      "execution_count": 67,
      "outputs": []
    },
    {
      "cell_type": "code",
      "metadata": {
        "id": "YWjZ6-1IL9cq"
      },
      "source": [
        "def start_download_meta(id_range, sleep_factor):\n",
        "    for i in tqdm(range(id_range)):\n",
        "        tag = (\"D%5d\"%(i)).replace(\" \",\"0\")\n",
        "        kegg_drug_page(tag, save_meta, sleep_factor)\n",
        "        "
      ],
      "execution_count": 68,
      "outputs": []
    },
    {
      "cell_type": "code",
      "metadata": {
        "colab": {
          "base_uri": "https://localhost:8080/"
        },
        "id": "5asRwXP1egOw",
        "outputId": "59b0c26a-9234-48e4-80f8-7c36b9789402"
      },
      "source": [
        "start_download_meta(12000,1)"
      ],
      "execution_count": null,
      "outputs": [
        {
          "output_type": "stream",
          "text": [
            "DEBUG:urllib3.connectionpool:Starting new HTTPS connection (1): www.kegg.jp:443\n",
            "DEBUG:urllib3.connectionpool:https://www.kegg.jp:443 \"GET /dbget-bin/www_bget?dr:D01462 HTTP/1.1\" 200 None\n",
            "DEBUG:urllib3.connectionpool:Starting new HTTPS connection (1): www.kegg.jp:443\n",
            "DEBUG:urllib3.connectionpool:https://www.kegg.jp:443 \"GET /dbget-bin/www_bget?dr:D01463 HTTP/1.1\" 200 None\n",
            "DEBUG:urllib3.connectionpool:Starting new HTTPS connection (1): www.kegg.jp:443\n",
            "DEBUG:urllib3.connectionpool:https://www.kegg.jp:443 \"GET /dbget-bin/www_bget?dr:D01464 HTTP/1.1\" 200 None\n",
            "DEBUG:urllib3.connectionpool:Starting new HTTPS connection (1): www.kegg.jp:443\n",
            "DEBUG:urllib3.connectionpool:https://www.kegg.jp:443 \"GET /dbget-bin/www_bget?dr:D01465 HTTP/1.1\" 200 None\n",
            "DEBUG:urllib3.connectionpool:Starting new HTTPS connection (1): www.kegg.jp:443\n",
            "DEBUG:urllib3.connectionpool:https://www.kegg.jp:443 \"GET /dbget-bin/www_bget?dr:D01466 HTTP/1.1\" 200 None\n",
            "DEBUG:urllib3.connectionpool:Starting new HTTPS connection (1): www.kegg.jp:443\n",
            "DEBUG:urllib3.connectionpool:https://www.kegg.jp:443 \"GET /dbget-bin/www_bget?dr:D01467 HTTP/1.1\" 200 None\n",
            "DEBUG:urllib3.connectionpool:Starting new HTTPS connection (1): www.kegg.jp:443\n",
            "DEBUG:urllib3.connectionpool:https://www.kegg.jp:443 \"GET /dbget-bin/www_bget?dr:D01468 HTTP/1.1\" 200 None\n",
            "DEBUG:urllib3.connectionpool:Starting new HTTPS connection (1): www.kegg.jp:443\n",
            "DEBUG:urllib3.connectionpool:https://www.kegg.jp:443 \"GET /dbget-bin/www_bget?dr:D01469 HTTP/1.1\" 200 None\n",
            "DEBUG:urllib3.connectionpool:Starting new HTTPS connection (1): www.kegg.jp:443\n",
            "DEBUG:urllib3.connectionpool:https://www.kegg.jp:443 \"GET /dbget-bin/www_bget?dr:D01470 HTTP/1.1\" 200 None\n",
            "DEBUG:urllib3.connectionpool:Starting new HTTPS connection (1): www.kegg.jp:443\n",
            "DEBUG:urllib3.connectionpool:https://www.kegg.jp:443 \"GET /dbget-bin/www_bget?dr:D01471 HTTP/1.1\" 200 None\n",
            "DEBUG:urllib3.connectionpool:Starting new HTTPS connection (1): www.kegg.jp:443\n",
            "DEBUG:urllib3.connectionpool:https://www.kegg.jp:443 \"GET /dbget-bin/www_bget?dr:D01472 HTTP/1.1\" 200 None\n",
            "DEBUG:urllib3.connectionpool:Starting new HTTPS connection (1): www.kegg.jp:443\n",
            "DEBUG:urllib3.connectionpool:https://www.kegg.jp:443 \"GET /dbget-bin/www_bget?dr:D01473 HTTP/1.1\" 200 None\n",
            "DEBUG:urllib3.connectionpool:Starting new HTTPS connection (1): www.kegg.jp:443\n",
            "DEBUG:urllib3.connectionpool:https://www.kegg.jp:443 \"GET /dbget-bin/www_bget?dr:D01474 HTTP/1.1\" 200 None\n",
            "DEBUG:urllib3.connectionpool:Starting new HTTPS connection (1): www.kegg.jp:443\n",
            "DEBUG:urllib3.connectionpool:https://www.kegg.jp:443 \"GET /dbget-bin/www_bget?dr:D01475 HTTP/1.1\" 200 None\n",
            "DEBUG:urllib3.connectionpool:Starting new HTTPS connection (1): www.kegg.jp:443\n",
            "DEBUG:urllib3.connectionpool:https://www.kegg.jp:443 \"GET /dbget-bin/www_bget?dr:D01476 HTTP/1.1\" 200 None\n",
            "DEBUG:urllib3.connectionpool:Starting new HTTPS connection (1): www.kegg.jp:443\n",
            "DEBUG:urllib3.connectionpool:https://www.kegg.jp:443 \"GET /dbget-bin/www_bget?dr:D01477 HTTP/1.1\" 200 None\n",
            "DEBUG:urllib3.connectionpool:Starting new HTTPS connection (1): www.kegg.jp:443\n",
            "DEBUG:urllib3.connectionpool:https://www.kegg.jp:443 \"GET /dbget-bin/www_bget?dr:D01478 HTTP/1.1\" 200 None\n",
            "DEBUG:urllib3.connectionpool:Starting new HTTPS connection (1): www.kegg.jp:443\n",
            "DEBUG:urllib3.connectionpool:https://www.kegg.jp:443 \"GET /dbget-bin/www_bget?dr:D01479 HTTP/1.1\" 200 None\n",
            "DEBUG:urllib3.connectionpool:Starting new HTTPS connection (1): www.kegg.jp:443\n",
            "DEBUG:urllib3.connectionpool:https://www.kegg.jp:443 \"GET /dbget-bin/www_bget?dr:D01480 HTTP/1.1\" 200 None\n",
            "DEBUG:urllib3.connectionpool:Starting new HTTPS connection (1): www.kegg.jp:443\n",
            "DEBUG:urllib3.connectionpool:https://www.kegg.jp:443 \"GET /dbget-bin/www_bget?dr:D01481 HTTP/1.1\" 200 None\n",
            "DEBUG:urllib3.connectionpool:Starting new HTTPS connection (1): www.kegg.jp:443\n",
            "DEBUG:urllib3.connectionpool:https://www.kegg.jp:443 \"GET /dbget-bin/www_bget?dr:D01482 HTTP/1.1\" 200 None\n",
            "DEBUG:urllib3.connectionpool:Starting new HTTPS connection (1): www.kegg.jp:443\n",
            "DEBUG:urllib3.connectionpool:https://www.kegg.jp:443 \"GET /dbget-bin/www_bget?dr:D01483 HTTP/1.1\" 200 None\n",
            "DEBUG:urllib3.connectionpool:Starting new HTTPS connection (1): www.kegg.jp:443\n",
            "DEBUG:urllib3.connectionpool:https://www.kegg.jp:443 \"GET /dbget-bin/www_bget?dr:D01484 HTTP/1.1\" 200 None\n",
            "DEBUG:urllib3.connectionpool:Starting new HTTPS connection (1): www.kegg.jp:443\n",
            "DEBUG:urllib3.connectionpool:https://www.kegg.jp:443 \"GET /dbget-bin/www_bget?dr:D01485 HTTP/1.1\" 200 None\n",
            "DEBUG:urllib3.connectionpool:Starting new HTTPS connection (1): www.kegg.jp:443\n",
            "DEBUG:urllib3.connectionpool:https://www.kegg.jp:443 \"GET /dbget-bin/www_bget?dr:D01486 HTTP/1.1\" 200 None\n",
            "DEBUG:urllib3.connectionpool:Starting new HTTPS connection (1): www.kegg.jp:443\n",
            "DEBUG:urllib3.connectionpool:https://www.kegg.jp:443 \"GET /dbget-bin/www_bget?dr:D01487 HTTP/1.1\" 200 None\n",
            "DEBUG:urllib3.connectionpool:Starting new HTTPS connection (1): www.kegg.jp:443\n",
            "DEBUG:urllib3.connectionpool:https://www.kegg.jp:443 \"GET /dbget-bin/www_bget?dr:D01488 HTTP/1.1\" 200 None\n",
            "DEBUG:urllib3.connectionpool:Starting new HTTPS connection (1): www.kegg.jp:443\n",
            "DEBUG:urllib3.connectionpool:https://www.kegg.jp:443 \"GET /dbget-bin/www_bget?dr:D01489 HTTP/1.1\" 200 None\n",
            "DEBUG:urllib3.connectionpool:Starting new HTTPS connection (1): www.kegg.jp:443\n",
            "DEBUG:urllib3.connectionpool:https://www.kegg.jp:443 \"GET /dbget-bin/www_bget?dr:D01490 HTTP/1.1\" 200 None\n",
            "DEBUG:urllib3.connectionpool:Starting new HTTPS connection (1): www.kegg.jp:443\n",
            "DEBUG:urllib3.connectionpool:https://www.kegg.jp:443 \"GET /dbget-bin/www_bget?dr:D01491 HTTP/1.1\" 200 None\n",
            "DEBUG:urllib3.connectionpool:Starting new HTTPS connection (1): www.kegg.jp:443\n",
            "DEBUG:urllib3.connectionpool:https://www.kegg.jp:443 \"GET /dbget-bin/www_bget?dr:D01492 HTTP/1.1\" 200 None\n",
            "DEBUG:urllib3.connectionpool:Starting new HTTPS connection (1): www.kegg.jp:443\n",
            "DEBUG:urllib3.connectionpool:https://www.kegg.jp:443 \"GET /dbget-bin/www_bget?dr:D01493 HTTP/1.1\" 200 None\n",
            "DEBUG:urllib3.connectionpool:Starting new HTTPS connection (1): www.kegg.jp:443\n",
            "DEBUG:urllib3.connectionpool:https://www.kegg.jp:443 \"GET /dbget-bin/www_bget?dr:D01494 HTTP/1.1\" 200 None\n",
            "DEBUG:urllib3.connectionpool:Starting new HTTPS connection (1): www.kegg.jp:443\n",
            "DEBUG:urllib3.connectionpool:https://www.kegg.jp:443 \"GET /dbget-bin/www_bget?dr:D01495 HTTP/1.1\" 200 None\n",
            "DEBUG:urllib3.connectionpool:Starting new HTTPS connection (1): www.kegg.jp:443\n",
            "DEBUG:urllib3.connectionpool:https://www.kegg.jp:443 \"GET /dbget-bin/www_bget?dr:D01496 HTTP/1.1\" 200 None\n",
            "DEBUG:urllib3.connectionpool:Starting new HTTPS connection (1): www.kegg.jp:443\n",
            "DEBUG:urllib3.connectionpool:https://www.kegg.jp:443 \"GET /dbget-bin/www_bget?dr:D01497 HTTP/1.1\" 200 None\n",
            "DEBUG:urllib3.connectionpool:Starting new HTTPS connection (1): www.kegg.jp:443\n",
            "DEBUG:urllib3.connectionpool:https://www.kegg.jp:443 \"GET /dbget-bin/www_bget?dr:D01498 HTTP/1.1\" 200 None\n",
            "DEBUG:urllib3.connectionpool:Starting new HTTPS connection (1): www.kegg.jp:443\n",
            "DEBUG:urllib3.connectionpool:https://www.kegg.jp:443 \"GET /dbget-bin/www_bget?dr:D01499 HTTP/1.1\" 200 None\n",
            "DEBUG:urllib3.connectionpool:Starting new HTTPS connection (1): www.kegg.jp:443\n",
            "DEBUG:urllib3.connectionpool:https://www.kegg.jp:443 \"GET /dbget-bin/www_bget?dr:D01500 HTTP/1.1\" 200 None\n",
            "DEBUG:urllib3.connectionpool:Starting new HTTPS connection (1): www.kegg.jp:443\n",
            "DEBUG:urllib3.connectionpool:https://www.kegg.jp:443 \"GET /dbget-bin/www_bget?dr:D01501 HTTP/1.1\" 200 None\n",
            "DEBUG:urllib3.connectionpool:Starting new HTTPS connection (1): www.kegg.jp:443\n",
            "DEBUG:urllib3.connectionpool:https://www.kegg.jp:443 \"GET /dbget-bin/www_bget?dr:D01502 HTTP/1.1\" 200 None\n",
            "DEBUG:urllib3.connectionpool:Starting new HTTPS connection (1): www.kegg.jp:443\n",
            "DEBUG:urllib3.connectionpool:https://www.kegg.jp:443 \"GET /dbget-bin/www_bget?dr:D01503 HTTP/1.1\" 200 None\n",
            "DEBUG:urllib3.connectionpool:Starting new HTTPS connection (1): www.kegg.jp:443\n",
            "DEBUG:urllib3.connectionpool:https://www.kegg.jp:443 \"GET /dbget-bin/www_bget?dr:D01504 HTTP/1.1\" 200 None\n",
            "DEBUG:urllib3.connectionpool:Starting new HTTPS connection (1): www.kegg.jp:443\n",
            "DEBUG:urllib3.connectionpool:https://www.kegg.jp:443 \"GET /dbget-bin/www_bget?dr:D01505 HTTP/1.1\" 200 None\n",
            "DEBUG:urllib3.connectionpool:Starting new HTTPS connection (1): www.kegg.jp:443\n",
            "DEBUG:urllib3.connectionpool:https://www.kegg.jp:443 \"GET /dbget-bin/www_bget?dr:D01506 HTTP/1.1\" 200 None\n",
            "DEBUG:urllib3.connectionpool:Starting new HTTPS connection (1): www.kegg.jp:443\n",
            "DEBUG:urllib3.connectionpool:https://www.kegg.jp:443 \"GET /dbget-bin/www_bget?dr:D01507 HTTP/1.1\" 200 None\n",
            "DEBUG:urllib3.connectionpool:Starting new HTTPS connection (1): www.kegg.jp:443\n",
            "DEBUG:urllib3.connectionpool:https://www.kegg.jp:443 \"GET /dbget-bin/www_bget?dr:D01508 HTTP/1.1\" 200 None\n",
            "DEBUG:urllib3.connectionpool:Starting new HTTPS connection (1): www.kegg.jp:443\n",
            "DEBUG:urllib3.connectionpool:https://www.kegg.jp:443 \"GET /dbget-bin/www_bget?dr:D01509 HTTP/1.1\" 200 None\n",
            "DEBUG:urllib3.connectionpool:Starting new HTTPS connection (1): www.kegg.jp:443\n",
            "DEBUG:urllib3.connectionpool:https://www.kegg.jp:443 \"GET /dbget-bin/www_bget?dr:D01510 HTTP/1.1\" 200 None\n",
            "DEBUG:urllib3.connectionpool:Starting new HTTPS connection (1): www.kegg.jp:443\n",
            "DEBUG:urllib3.connectionpool:https://www.kegg.jp:443 \"GET /dbget-bin/www_bget?dr:D01511 HTTP/1.1\" 200 None\n",
            "DEBUG:urllib3.connectionpool:Starting new HTTPS connection (1): www.kegg.jp:443\n",
            "DEBUG:urllib3.connectionpool:https://www.kegg.jp:443 \"GET /dbget-bin/www_bget?dr:D01512 HTTP/1.1\" 200 None\n",
            "DEBUG:urllib3.connectionpool:Starting new HTTPS connection (1): www.kegg.jp:443\n",
            "DEBUG:urllib3.connectionpool:https://www.kegg.jp:443 \"GET /dbget-bin/www_bget?dr:D01513 HTTP/1.1\" 200 None\n",
            "DEBUG:urllib3.connectionpool:Starting new HTTPS connection (1): www.kegg.jp:443\n",
            "DEBUG:urllib3.connectionpool:https://www.kegg.jp:443 \"GET /dbget-bin/www_bget?dr:D01514 HTTP/1.1\" 200 None\n"
          ],
          "name": "stderr"
        }
      ]
    },
    {
      "cell_type": "code",
      "metadata": {
        "id": "XwEZyqEUf0vr"
      },
      "source": [
        ""
      ],
      "execution_count": null,
      "outputs": []
    }
  ]
}