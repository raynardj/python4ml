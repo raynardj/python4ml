{
 "cells": [
  {
   "cell_type": "markdown",
   "metadata": {
    "papermill": {
     "duration": 0.037407,
     "end_time": "2020-11-13T07:01:39.628293",
     "exception": false,
     "start_time": "2020-11-13T07:01:39.590886",
     "status": "completed"
    },
    "tags": []
   },
   "source": [
    "# Break linearity example\n",
    "\n",
    "> Why does neural network rules the fitting power since 2006\n",
    "\n",
    "![Simple nn view from wikipedia](https://upload.wikimedia.org/wikipedia/commons/e/e4/Artificial_neural_network.svg)"
   ]
  },
  {
   "cell_type": "markdown",
   "metadata": {
    "papermill": {
     "duration": 0.035762,
     "end_time": "2020-11-13T07:01:39.700782",
     "exception": false,
     "start_time": "2020-11-13T07:01:39.665020",
     "status": "completed"
    },
    "tags": []
   },
   "source": [
    "## Dataset\n",
    "### Simplified Human Activity Recognition w/Smartphone\n",
    "\n",
    "See the [dataset detail](https://www.kaggle.com/mboaglio/simplifiedhuarus)\n",
    "\n",
    "> Abstract: Human Activity Recognition database built from the recordings of 30 subjects performing activities of daily living (ADL) while carrying a waist-mounted smartphone with embedded inertial sensors.\n",
    "\n",
    "> Data Set Characteristics: Multivariate, Time-Series\n",
    "\n",
    "> Data Set Information:\n",
    "\n",
    "> The experiments have been carried out with a group of 30 volunteers within an age bracket of 19-48 years. Each person performed six activities (WALKING, WALKINGUPSTAIRS, WALKINGDOWNSTAIRS, SITTING, STANDING, LAYING) wearing a smartphone (Samsung Galaxy S II) on the waist. Using its embedded accelerometer and gyroscope, we captured 3-axial linear acceleration and 3-axial angular velocity at a constant rate of 50Hz. The experiments have been video-recorded to label the data manually. The obtained dataset has been randomly partitioned into two sets, where 70% of the volunteers was selected for generating the training data and 30% the test data.\n",
    "\n",
    "> The sensor signals (accelerometer and gyroscope) were pre-processed by applying noise filters and then sampled in fixed-width sliding windows of 2.56 sec and 50% overlap (128 readings/window). The sensor acceleration signal, which has gravitational and body motion components, was separated using a Butterworth low-pass filter into body acceleration and gravity. The gravitational force is assumed to have only low frequency components, therefore a filter with 0.3 Hz cutoff frequency was used. From each window, a vector of features was obtained by calculating variables from the time and frequency domain.\n",
    "\n",
    "> Check the README.txt file for further details about this dataset.\n",
    "\n",
    "> An updated version of this dataset can be found at (https://archive.ics.uci.edu/ml/datasets/human+activity+recognition+using+smartphones) It includes labels of postural transitions between activities and also the full raw inertial signals instead of the ones pre-processed into windows."
   ]
  },
  {
   "cell_type": "code",
   "execution_count": 1,
   "metadata": {
    "_cell_guid": "b1076dfc-b9ad-4769-8c92-a6c4dae69d19",
    "_uuid": "8f2839f25d086af736a60e9eeb907d3b93b6e0e5",
    "execution": {
     "iopub.execute_input": "2020-11-13T07:01:39.781401Z",
     "iopub.status.busy": "2020-11-13T07:01:39.780469Z",
     "iopub.status.idle": "2020-11-13T07:01:40.944454Z",
     "shell.execute_reply": "2020-11-13T07:01:40.943603Z"
    },
    "papermill": {
     "duration": 1.207596,
     "end_time": "2020-11-13T07:01:40.944587",
     "exception": false,
     "start_time": "2020-11-13T07:01:39.736991",
     "status": "completed"
    },
    "tags": []
   },
   "outputs": [
    {
     "name": "stdout",
     "output_type": "stream",
     "text": [
      "/kaggle/input/simplifiedhuarus/test.csv\n",
      "/kaggle/input/simplifiedhuarus/train.csv\n"
     ]
    }
   ],
   "source": [
    "import os\n",
    "for dirname, _, filenames in os.walk('/kaggle/input'):\n",
    "    for filename in filenames:\n",
    "        print(os.path.join(dirname, filename))\n",
    "\n",
    "from sklearn.decomposition import PCA"
   ]
  },
  {
   "cell_type": "markdown",
   "metadata": {
    "papermill": {
     "duration": 0.036379,
     "end_time": "2020-11-13T07:01:41.018503",
     "exception": false,
     "start_time": "2020-11-13T07:01:40.982124",
     "status": "completed"
    },
    "tags": []
   },
   "source": [
    "Install extra [packages](https://github.com/raynardj/forgebox)"
   ]
  },
  {
   "cell_type": "code",
   "execution_count": 2,
   "metadata": {
    "execution": {
     "iopub.execute_input": "2020-11-13T07:01:41.098482Z",
     "iopub.status.busy": "2020-11-13T07:01:41.097609Z",
     "iopub.status.idle": "2020-11-13T07:01:53.405849Z",
     "shell.execute_reply": "2020-11-13T07:01:53.406397Z"
    },
    "papermill": {
     "duration": 12.350739,
     "end_time": "2020-11-13T07:01:53.406565",
     "exception": false,
     "start_time": "2020-11-13T07:01:41.055826",
     "status": "completed"
    },
    "tags": []
   },
   "outputs": [],
   "source": [
    "!pip install -q forgebox"
   ]
  },
  {
   "cell_type": "code",
   "execution_count": 3,
   "metadata": {
    "execution": {
     "iopub.execute_input": "2020-11-13T07:01:53.486905Z",
     "iopub.status.busy": "2020-11-13T07:01:53.486130Z",
     "iopub.status.idle": "2020-11-13T07:01:54.705202Z",
     "shell.execute_reply": "2020-11-13T07:01:54.704375Z"
    },
    "papermill": {
     "duration": 1.261875,
     "end_time": "2020-11-13T07:01:54.705340",
     "exception": false,
     "start_time": "2020-11-13T07:01:53.443465",
     "status": "completed"
    },
    "tags": []
   },
   "outputs": [],
   "source": [
    "from forgebox.imports import *\n",
    "from forgebox.ftorch.prepro import split_df\n",
    "from forgebox.html import DOM\n",
    "from forgebox.images.widgets import view_images"
   ]
  },
  {
   "cell_type": "markdown",
   "metadata": {
    "papermill": {
     "duration": 0.036743,
     "end_time": "2020-11-13T07:01:54.779171",
     "exception": false,
     "start_time": "2020-11-13T07:01:54.742428",
     "status": "completed"
    },
    "tags": []
   },
   "source": [
    "## Train data and test(validation) data"
   ]
  },
  {
   "cell_type": "code",
   "execution_count": 4,
   "metadata": {
    "_cell_guid": "79c7e3d0-c299-4dcb-8224-4455121ee9b0",
    "_uuid": "d629ff2d2480ee46fbb7e2d37f6b5fab8052498a",
    "execution": {
     "iopub.execute_input": "2020-11-13T07:01:54.864686Z",
     "iopub.status.busy": "2020-11-13T07:01:54.863823Z",
     "iopub.status.idle": "2020-11-13T07:01:55.674409Z",
     "shell.execute_reply": "2020-11-13T07:01:55.673541Z"
    },
    "papermill": {
     "duration": 0.858198,
     "end_time": "2020-11-13T07:01:55.674543",
     "exception": false,
     "start_time": "2020-11-13T07:01:54.816345",
     "status": "completed"
    },
    "tags": []
   },
   "outputs": [],
   "source": [
    "# constant\n",
    "DATA = Path(\"/kaggle/input/simplifiedhuarus\")\n",
    "VALID_RATIO = .2\n",
    "\n",
    "def read_data(filename: str) -> pd.DataFrame:return pd.read_csv(DATA/f'{filename}.csv')\n",
    "\n",
    "total_df = read_data(\"train\")\n",
    "# train/valid split\n",
    "train_df, valid_df = split_df(total_df, valid = VALID_RATIO)\n",
    "\n",
    "test_df = read_data(\"test\")"
   ]
  },
  {
   "cell_type": "code",
   "execution_count": 5,
   "metadata": {
    "execution": {
     "iopub.execute_input": "2020-11-13T07:01:55.777399Z",
     "iopub.status.busy": "2020-11-13T07:01:55.776535Z",
     "iopub.status.idle": "2020-11-13T07:01:55.798302Z",
     "shell.execute_reply": "2020-11-13T07:01:55.798900Z"
    },
    "papermill": {
     "duration": 0.085955,
     "end_time": "2020-11-13T07:01:55.799065",
     "exception": false,
     "start_time": "2020-11-13T07:01:55.713110",
     "status": "completed"
    },
    "tags": []
   },
   "outputs": [
    {
     "data": {
      "text/html": [
       "<div>\n",
       "<style scoped>\n",
       "    .dataframe tbody tr th:only-of-type {\n",
       "        vertical-align: middle;\n",
       "    }\n",
       "\n",
       "    .dataframe tbody tr th {\n",
       "        vertical-align: top;\n",
       "    }\n",
       "\n",
       "    .dataframe thead th {\n",
       "        text-align: right;\n",
       "    }\n",
       "</style>\n",
       "<table border=\"1\" class=\"dataframe\">\n",
       "  <thead>\n",
       "    <tr style=\"text-align: right;\">\n",
       "      <th></th>\n",
       "      <th>rn</th>\n",
       "      <th>activity</th>\n",
       "      <th>tBodyAcc.mean.X</th>\n",
       "      <th>tBodyAcc.mean.Y</th>\n",
       "      <th>tBodyAcc.mean.Z</th>\n",
       "      <th>tBodyAcc.std.X</th>\n",
       "      <th>tBodyAcc.std.Y</th>\n",
       "      <th>tBodyAcc.std.Z</th>\n",
       "      <th>tBodyAcc.mad.X</th>\n",
       "      <th>tBodyAcc.mad.Y</th>\n",
       "      <th>...</th>\n",
       "      <th>fBodyBodyGyroJerkMag.meanFreq</th>\n",
       "      <th>fBodyBodyGyroJerkMag.skewness</th>\n",
       "      <th>fBodyBodyGyroJerkMag.kurtosis</th>\n",
       "      <th>angle.tBodyAccMean.gravity</th>\n",
       "      <th>angle.tBodyAccJerkMean.gravityMean</th>\n",
       "      <th>angle.tBodyGyroMean.gravityMean</th>\n",
       "      <th>angle.tBodyGyroJerkMean.gravityMean</th>\n",
       "      <th>angle.X.gravityMean</th>\n",
       "      <th>angle.Y.gravityMean</th>\n",
       "      <th>angle.Z.gravityMean</th>\n",
       "    </tr>\n",
       "  </thead>\n",
       "  <tbody>\n",
       "    <tr>\n",
       "      <th>2360</th>\n",
       "      <td>6735</td>\n",
       "      <td>WALKING</td>\n",
       "      <td>0.219</td>\n",
       "      <td>-0.01700</td>\n",
       "      <td>-0.1110</td>\n",
       "      <td>-0.194</td>\n",
       "      <td>-0.1470</td>\n",
       "      <td>-0.283</td>\n",
       "      <td>-0.203</td>\n",
       "      <td>-0.1880</td>\n",
       "      <td>...</td>\n",
       "      <td>0.0255</td>\n",
       "      <td>-0.299</td>\n",
       "      <td>-0.720</td>\n",
       "      <td>0.9400</td>\n",
       "      <td>0.6620</td>\n",
       "      <td>0.3060</td>\n",
       "      <td>-0.1670</td>\n",
       "      <td>-0.843</td>\n",
       "      <td>0.1750</td>\n",
       "      <td>-0.0628</td>\n",
       "    </tr>\n",
       "    <tr>\n",
       "      <th>2890</th>\n",
       "      <td>8274</td>\n",
       "      <td>STANDING</td>\n",
       "      <td>0.275</td>\n",
       "      <td>-0.02100</td>\n",
       "      <td>-0.1110</td>\n",
       "      <td>-0.990</td>\n",
       "      <td>-0.9650</td>\n",
       "      <td>-0.993</td>\n",
       "      <td>-0.992</td>\n",
       "      <td>-0.9640</td>\n",
       "      <td>...</td>\n",
       "      <td>0.1190</td>\n",
       "      <td>-0.110</td>\n",
       "      <td>-0.430</td>\n",
       "      <td>0.0180</td>\n",
       "      <td>0.3210</td>\n",
       "      <td>-0.3390</td>\n",
       "      <td>0.6040</td>\n",
       "      <td>-0.801</td>\n",
       "      <td>0.2320</td>\n",
       "      <td>0.0521</td>\n",
       "    </tr>\n",
       "    <tr>\n",
       "      <th>3115</th>\n",
       "      <td>8908</td>\n",
       "      <td>SITTING</td>\n",
       "      <td>0.278</td>\n",
       "      <td>-0.01700</td>\n",
       "      <td>-0.1090</td>\n",
       "      <td>-0.999</td>\n",
       "      <td>-0.9940</td>\n",
       "      <td>-0.992</td>\n",
       "      <td>-0.999</td>\n",
       "      <td>-0.9940</td>\n",
       "      <td>...</td>\n",
       "      <td>0.1290</td>\n",
       "      <td>-0.263</td>\n",
       "      <td>-0.634</td>\n",
       "      <td>-0.1980</td>\n",
       "      <td>-0.1880</td>\n",
       "      <td>0.1700</td>\n",
       "      <td>-0.6350</td>\n",
       "      <td>-0.684</td>\n",
       "      <td>-0.0389</td>\n",
       "      <td>-0.1600</td>\n",
       "    </tr>\n",
       "    <tr>\n",
       "      <th>2125</th>\n",
       "      <td>6063</td>\n",
       "      <td>STANDING</td>\n",
       "      <td>0.280</td>\n",
       "      <td>-0.01710</td>\n",
       "      <td>-0.1160</td>\n",
       "      <td>-0.996</td>\n",
       "      <td>-0.9790</td>\n",
       "      <td>-0.964</td>\n",
       "      <td>-0.996</td>\n",
       "      <td>-0.9770</td>\n",
       "      <td>...</td>\n",
       "      <td>0.3300</td>\n",
       "      <td>-0.658</td>\n",
       "      <td>-0.911</td>\n",
       "      <td>-0.1400</td>\n",
       "      <td>-0.2010</td>\n",
       "      <td>-0.3180</td>\n",
       "      <td>0.8180</td>\n",
       "      <td>-0.819</td>\n",
       "      <td>0.2230</td>\n",
       "      <td>0.0336</td>\n",
       "    </tr>\n",
       "    <tr>\n",
       "      <th>486</th>\n",
       "      <td>1355</td>\n",
       "      <td>SITTING</td>\n",
       "      <td>0.277</td>\n",
       "      <td>-0.01670</td>\n",
       "      <td>-0.1110</td>\n",
       "      <td>-0.997</td>\n",
       "      <td>-0.9930</td>\n",
       "      <td>-0.989</td>\n",
       "      <td>-0.997</td>\n",
       "      <td>-0.9930</td>\n",
       "      <td>...</td>\n",
       "      <td>0.2600</td>\n",
       "      <td>-0.444</td>\n",
       "      <td>-0.784</td>\n",
       "      <td>0.0423</td>\n",
       "      <td>-0.0805</td>\n",
       "      <td>-0.0761</td>\n",
       "      <td>-0.3640</td>\n",
       "      <td>-0.977</td>\n",
       "      <td>0.0828</td>\n",
       "      <td>0.0297</td>\n",
       "    </tr>\n",
       "    <tr>\n",
       "      <th>1935</th>\n",
       "      <td>5507</td>\n",
       "      <td>STANDING</td>\n",
       "      <td>0.279</td>\n",
       "      <td>-0.01420</td>\n",
       "      <td>-0.1070</td>\n",
       "      <td>-0.998</td>\n",
       "      <td>-0.9860</td>\n",
       "      <td>-0.987</td>\n",
       "      <td>-0.998</td>\n",
       "      <td>-0.9860</td>\n",
       "      <td>...</td>\n",
       "      <td>0.5260</td>\n",
       "      <td>-0.777</td>\n",
       "      <td>-0.920</td>\n",
       "      <td>-0.0222</td>\n",
       "      <td>-0.0249</td>\n",
       "      <td>0.7790</td>\n",
       "      <td>0.0705</td>\n",
       "      <td>-0.862</td>\n",
       "      <td>0.1820</td>\n",
       "      <td>-0.0308</td>\n",
       "    </tr>\n",
       "    <tr>\n",
       "      <th>1442</th>\n",
       "      <td>4145</td>\n",
       "      <td>WALKING_UPSTAIRS</td>\n",
       "      <td>0.334</td>\n",
       "      <td>-0.01860</td>\n",
       "      <td>-0.1460</td>\n",
       "      <td>-0.283</td>\n",
       "      <td>-0.0465</td>\n",
       "      <td>-0.270</td>\n",
       "      <td>-0.301</td>\n",
       "      <td>-0.0739</td>\n",
       "      <td>...</td>\n",
       "      <td>0.3190</td>\n",
       "      <td>-0.492</td>\n",
       "      <td>-0.765</td>\n",
       "      <td>-0.6170</td>\n",
       "      <td>-0.1160</td>\n",
       "      <td>-0.9780</td>\n",
       "      <td>0.3540</td>\n",
       "      <td>-0.468</td>\n",
       "      <td>0.3870</td>\n",
       "      <td>0.2400</td>\n",
       "    </tr>\n",
       "    <tr>\n",
       "      <th>3605</th>\n",
       "      <td>10278</td>\n",
       "      <td>WALKING_UPSTAIRS</td>\n",
       "      <td>0.344</td>\n",
       "      <td>0.00479</td>\n",
       "      <td>-0.1220</td>\n",
       "      <td>-0.320</td>\n",
       "      <td>-0.0667</td>\n",
       "      <td>-0.182</td>\n",
       "      <td>-0.380</td>\n",
       "      <td>-0.0710</td>\n",
       "      <td>...</td>\n",
       "      <td>-0.0292</td>\n",
       "      <td>0.181</td>\n",
       "      <td>-0.250</td>\n",
       "      <td>-0.4030</td>\n",
       "      <td>-0.7060</td>\n",
       "      <td>0.7390</td>\n",
       "      <td>0.8710</td>\n",
       "      <td>-0.653</td>\n",
       "      <td>0.2780</td>\n",
       "      <td>0.1800</td>\n",
       "    </tr>\n",
       "    <tr>\n",
       "      <th>3418</th>\n",
       "      <td>9746</td>\n",
       "      <td>STANDING</td>\n",
       "      <td>0.291</td>\n",
       "      <td>-0.03390</td>\n",
       "      <td>-0.1800</td>\n",
       "      <td>-0.895</td>\n",
       "      <td>-0.7250</td>\n",
       "      <td>-0.796</td>\n",
       "      <td>-0.911</td>\n",
       "      <td>-0.6970</td>\n",
       "      <td>...</td>\n",
       "      <td>-0.1350</td>\n",
       "      <td>-0.440</td>\n",
       "      <td>-0.811</td>\n",
       "      <td>-0.0976</td>\n",
       "      <td>0.4290</td>\n",
       "      <td>-0.3760</td>\n",
       "      <td>-0.0973</td>\n",
       "      <td>-0.634</td>\n",
       "      <td>0.3470</td>\n",
       "      <td>-0.0286</td>\n",
       "    </tr>\n",
       "    <tr>\n",
       "      <th>3060</th>\n",
       "      <td>8758</td>\n",
       "      <td>SITTING</td>\n",
       "      <td>0.281</td>\n",
       "      <td>-0.01470</td>\n",
       "      <td>-0.0994</td>\n",
       "      <td>-0.984</td>\n",
       "      <td>-0.9290</td>\n",
       "      <td>-0.960</td>\n",
       "      <td>-0.987</td>\n",
       "      <td>-0.9360</td>\n",
       "      <td>...</td>\n",
       "      <td>0.3690</td>\n",
       "      <td>-0.533</td>\n",
       "      <td>-0.819</td>\n",
       "      <td>-0.0917</td>\n",
       "      <td>0.3260</td>\n",
       "      <td>0.4170</td>\n",
       "      <td>-0.5400</td>\n",
       "      <td>-0.927</td>\n",
       "      <td>0.1000</td>\n",
       "      <td>0.0722</td>\n",
       "    </tr>\n",
       "  </tbody>\n",
       "</table>\n",
       "<p>10 rows × 563 columns</p>\n",
       "</div>"
      ],
      "text/plain": [
       "         rn          activity  tBodyAcc.mean.X  tBodyAcc.mean.Y  \\\n",
       "2360   6735           WALKING            0.219         -0.01700   \n",
       "2890   8274          STANDING            0.275         -0.02100   \n",
       "3115   8908           SITTING            0.278         -0.01700   \n",
       "2125   6063          STANDING            0.280         -0.01710   \n",
       "486    1355           SITTING            0.277         -0.01670   \n",
       "1935   5507          STANDING            0.279         -0.01420   \n",
       "1442   4145  WALKING_UPSTAIRS            0.334         -0.01860   \n",
       "3605  10278  WALKING_UPSTAIRS            0.344          0.00479   \n",
       "3418   9746          STANDING            0.291         -0.03390   \n",
       "3060   8758           SITTING            0.281         -0.01470   \n",
       "\n",
       "      tBodyAcc.mean.Z  tBodyAcc.std.X  tBodyAcc.std.Y  tBodyAcc.std.Z  \\\n",
       "2360          -0.1110          -0.194         -0.1470          -0.283   \n",
       "2890          -0.1110          -0.990         -0.9650          -0.993   \n",
       "3115          -0.1090          -0.999         -0.9940          -0.992   \n",
       "2125          -0.1160          -0.996         -0.9790          -0.964   \n",
       "486           -0.1110          -0.997         -0.9930          -0.989   \n",
       "1935          -0.1070          -0.998         -0.9860          -0.987   \n",
       "1442          -0.1460          -0.283         -0.0465          -0.270   \n",
       "3605          -0.1220          -0.320         -0.0667          -0.182   \n",
       "3418          -0.1800          -0.895         -0.7250          -0.796   \n",
       "3060          -0.0994          -0.984         -0.9290          -0.960   \n",
       "\n",
       "      tBodyAcc.mad.X  tBodyAcc.mad.Y  ...  fBodyBodyGyroJerkMag.meanFreq  \\\n",
       "2360          -0.203         -0.1880  ...                         0.0255   \n",
       "2890          -0.992         -0.9640  ...                         0.1190   \n",
       "3115          -0.999         -0.9940  ...                         0.1290   \n",
       "2125          -0.996         -0.9770  ...                         0.3300   \n",
       "486           -0.997         -0.9930  ...                         0.2600   \n",
       "1935          -0.998         -0.9860  ...                         0.5260   \n",
       "1442          -0.301         -0.0739  ...                         0.3190   \n",
       "3605          -0.380         -0.0710  ...                        -0.0292   \n",
       "3418          -0.911         -0.6970  ...                        -0.1350   \n",
       "3060          -0.987         -0.9360  ...                         0.3690   \n",
       "\n",
       "      fBodyBodyGyroJerkMag.skewness  fBodyBodyGyroJerkMag.kurtosis  \\\n",
       "2360                         -0.299                         -0.720   \n",
       "2890                         -0.110                         -0.430   \n",
       "3115                         -0.263                         -0.634   \n",
       "2125                         -0.658                         -0.911   \n",
       "486                          -0.444                         -0.784   \n",
       "1935                         -0.777                         -0.920   \n",
       "1442                         -0.492                         -0.765   \n",
       "3605                          0.181                         -0.250   \n",
       "3418                         -0.440                         -0.811   \n",
       "3060                         -0.533                         -0.819   \n",
       "\n",
       "      angle.tBodyAccMean.gravity  angle.tBodyAccJerkMean.gravityMean  \\\n",
       "2360                      0.9400                              0.6620   \n",
       "2890                      0.0180                              0.3210   \n",
       "3115                     -0.1980                             -0.1880   \n",
       "2125                     -0.1400                             -0.2010   \n",
       "486                       0.0423                             -0.0805   \n",
       "1935                     -0.0222                             -0.0249   \n",
       "1442                     -0.6170                             -0.1160   \n",
       "3605                     -0.4030                             -0.7060   \n",
       "3418                     -0.0976                              0.4290   \n",
       "3060                     -0.0917                              0.3260   \n",
       "\n",
       "      angle.tBodyGyroMean.gravityMean  angle.tBodyGyroJerkMean.gravityMean  \\\n",
       "2360                           0.3060                              -0.1670   \n",
       "2890                          -0.3390                               0.6040   \n",
       "3115                           0.1700                              -0.6350   \n",
       "2125                          -0.3180                               0.8180   \n",
       "486                           -0.0761                              -0.3640   \n",
       "1935                           0.7790                               0.0705   \n",
       "1442                          -0.9780                               0.3540   \n",
       "3605                           0.7390                               0.8710   \n",
       "3418                          -0.3760                              -0.0973   \n",
       "3060                           0.4170                              -0.5400   \n",
       "\n",
       "      angle.X.gravityMean  angle.Y.gravityMean  angle.Z.gravityMean  \n",
       "2360               -0.843               0.1750              -0.0628  \n",
       "2890               -0.801               0.2320               0.0521  \n",
       "3115               -0.684              -0.0389              -0.1600  \n",
       "2125               -0.819               0.2230               0.0336  \n",
       "486                -0.977               0.0828               0.0297  \n",
       "1935               -0.862               0.1820              -0.0308  \n",
       "1442               -0.468               0.3870               0.2400  \n",
       "3605               -0.653               0.2780               0.1800  \n",
       "3418               -0.634               0.3470              -0.0286  \n",
       "3060               -0.927               0.1000               0.0722  \n",
       "\n",
       "[10 rows x 563 columns]"
      ]
     },
     "execution_count": 5,
     "metadata": {},
     "output_type": "execute_result"
    }
   ],
   "source": [
    "total_df.sample(10)"
   ]
  },
  {
   "cell_type": "code",
   "execution_count": 6,
   "metadata": {
    "execution": {
     "iopub.execute_input": "2020-11-13T07:01:55.891265Z",
     "iopub.status.busy": "2020-11-13T07:01:55.890108Z",
     "iopub.status.idle": "2020-11-13T07:01:55.894907Z",
     "shell.execute_reply": "2020-11-13T07:01:55.894155Z"
    },
    "papermill": {
     "duration": 0.056453,
     "end_time": "2020-11-13T07:01:55.895037",
     "exception": false,
     "start_time": "2020-11-13T07:01:55.838584",
     "status": "completed"
    },
    "tags": []
   },
   "outputs": [
    {
     "data": {
      "text/html": [
       "<div>\n",
       "<style scoped>\n",
       "    .dataframe tbody tr th:only-of-type {\n",
       "        vertical-align: middle;\n",
       "    }\n",
       "\n",
       "    .dataframe tbody tr th {\n",
       "        vertical-align: top;\n",
       "    }\n",
       "\n",
       "    .dataframe thead th {\n",
       "        text-align: right;\n",
       "    }\n",
       "</style>\n",
       "<table border=\"1\" class=\"dataframe\">\n",
       "  <thead>\n",
       "    <tr style=\"text-align: right;\">\n",
       "      <th></th>\n",
       "      <th>activity</th>\n",
       "    </tr>\n",
       "  </thead>\n",
       "  <tbody>\n",
       "    <tr>\n",
       "      <th>LAYING</th>\n",
       "      <td>558</td>\n",
       "    </tr>\n",
       "    <tr>\n",
       "      <th>STANDING</th>\n",
       "      <td>553</td>\n",
       "    </tr>\n",
       "    <tr>\n",
       "      <th>SITTING</th>\n",
       "      <td>497</td>\n",
       "    </tr>\n",
       "    <tr>\n",
       "      <th>WALKING</th>\n",
       "      <td>487</td>\n",
       "    </tr>\n",
       "    <tr>\n",
       "      <th>WALKING_UPSTAIRS</th>\n",
       "      <td>461</td>\n",
       "    </tr>\n",
       "    <tr>\n",
       "      <th>WALKING_DOWNSTAIRS</th>\n",
       "      <td>398</td>\n",
       "    </tr>\n",
       "  </tbody>\n",
       "</table>\n",
       "</div>"
      ],
      "text/plain": [
       "                    activity\n",
       "LAYING                   558\n",
       "STANDING                 553\n",
       "SITTING                  497\n",
       "WALKING                  487\n",
       "WALKING_UPSTAIRS         461\n",
       "WALKING_DOWNSTAIRS       398"
      ]
     },
     "execution_count": 6,
     "metadata": {},
     "output_type": "execute_result"
    }
   ],
   "source": [
    "train_df.vc(\"activity\")"
   ]
  },
  {
   "cell_type": "code",
   "execution_count": 7,
   "metadata": {
    "execution": {
     "iopub.execute_input": "2020-11-13T07:01:55.986960Z",
     "iopub.status.busy": "2020-11-13T07:01:55.986039Z",
     "iopub.status.idle": "2020-11-13T07:01:55.991049Z",
     "shell.execute_reply": "2020-11-13T07:01:55.990307Z"
    },
    "papermill": {
     "duration": 0.056045,
     "end_time": "2020-11-13T07:01:55.991179",
     "exception": false,
     "start_time": "2020-11-13T07:01:55.935134",
     "status": "completed"
    },
    "tags": []
   },
   "outputs": [
    {
     "data": {
      "text/html": [
       "<div>\n",
       "<style scoped>\n",
       "    .dataframe tbody tr th:only-of-type {\n",
       "        vertical-align: middle;\n",
       "    }\n",
       "\n",
       "    .dataframe tbody tr th {\n",
       "        vertical-align: top;\n",
       "    }\n",
       "\n",
       "    .dataframe thead th {\n",
       "        text-align: right;\n",
       "    }\n",
       "</style>\n",
       "<table border=\"1\" class=\"dataframe\">\n",
       "  <thead>\n",
       "    <tr style=\"text-align: right;\">\n",
       "      <th></th>\n",
       "      <th>activity</th>\n",
       "    </tr>\n",
       "  </thead>\n",
       "  <tbody>\n",
       "    <tr>\n",
       "      <th>SITTING</th>\n",
       "      <td>126</td>\n",
       "    </tr>\n",
       "    <tr>\n",
       "      <th>LAYING</th>\n",
       "      <td>123</td>\n",
       "    </tr>\n",
       "    <tr>\n",
       "      <th>STANDING</th>\n",
       "      <td>115</td>\n",
       "    </tr>\n",
       "    <tr>\n",
       "      <th>WALKING</th>\n",
       "      <td>115</td>\n",
       "    </tr>\n",
       "    <tr>\n",
       "      <th>WALKING_DOWNSTAIRS</th>\n",
       "      <td>95</td>\n",
       "    </tr>\n",
       "    <tr>\n",
       "      <th>WALKING_UPSTAIRS</th>\n",
       "      <td>80</td>\n",
       "    </tr>\n",
       "  </tbody>\n",
       "</table>\n",
       "</div>"
      ],
      "text/plain": [
       "                    activity\n",
       "SITTING                  126\n",
       "LAYING                   123\n",
       "STANDING                 115\n",
       "WALKING                  115\n",
       "WALKING_DOWNSTAIRS        95\n",
       "WALKING_UPSTAIRS          80"
      ]
     },
     "execution_count": 7,
     "metadata": {},
     "output_type": "execute_result"
    }
   ],
   "source": [
    "valid_df.vc(\"activity\")"
   ]
  },
  {
   "cell_type": "markdown",
   "metadata": {
    "papermill": {
     "duration": 0.040407,
     "end_time": "2020-11-13T07:01:56.072520",
     "exception": false,
     "start_time": "2020-11-13T07:01:56.032113",
     "status": "completed"
    },
    "tags": []
   },
   "source": [
    "### Visualize data signal pattern"
   ]
  },
  {
   "cell_type": "markdown",
   "metadata": {
    "papermill": {
     "duration": 0.040936,
     "end_time": "2020-11-13T07:01:56.153750",
     "exception": false,
     "start_time": "2020-11-13T07:01:56.112814",
     "status": "completed"
    },
    "tags": []
   },
   "source": [
    "We have 561 input features at our disposal"
   ]
  },
  {
   "cell_type": "code",
   "execution_count": 8,
   "metadata": {
    "execution": {
     "iopub.execute_input": "2020-11-13T07:01:56.257862Z",
     "iopub.status.busy": "2020-11-13T07:01:56.252609Z",
     "iopub.status.idle": "2020-11-13T07:01:56.380280Z",
     "shell.execute_reply": "2020-11-13T07:01:56.379646Z"
    },
    "papermill": {
     "duration": 0.184588,
     "end_time": "2020-11-13T07:01:56.380401",
     "exception": false,
     "start_time": "2020-11-13T07:01:56.195813",
     "status": "completed"
    },
    "tags": []
   },
   "outputs": [
    {
     "data": {
      "text/plain": [
       "561"
      ]
     },
     "execution_count": 8,
     "metadata": {},
     "output_type": "execute_result"
    }
   ],
   "source": [
    "feature_nums = train_df.query(\"activity=='LAYING'\").values[:200,2:].shape[1]\n",
    "feature_nums"
   ]
  },
  {
   "cell_type": "code",
   "execution_count": 9,
   "metadata": {
    "execution": {
     "iopub.execute_input": "2020-11-13T07:01:56.527630Z",
     "iopub.status.busy": "2020-11-13T07:01:56.510107Z",
     "iopub.status.idle": "2020-11-13T07:01:56.790661Z",
     "shell.execute_reply": "2020-11-13T07:01:56.790002Z"
    },
    "papermill": {
     "duration": 0.369811,
     "end_time": "2020-11-13T07:01:56.790802",
     "exception": false,
     "start_time": "2020-11-13T07:01:56.420991",
     "status": "completed"
    },
    "tags": []
   },
   "outputs": [
    {
     "data": {
      "text/plain": [
       "<matplotlib.image.AxesImage at 0x7efed5524750>"
      ]
     },
     "execution_count": 9,
     "metadata": {},
     "output_type": "execute_result"
    },
    {
     "data": {
      "image/png": "[encoded data removed]",
      "text/plain": [
       "<Figure size 432x288 with 1 Axes>"
      ]
     },
     "metadata": {
      "needs_background": "light"
     },
     "output_type": "display_data"
    }
   ],
   "source": [
    "plt.imshow(train_df.query(\"activity=='LAYING'\").values[:200,2:].astype(np.float32))"
   ]
  },
  {
   "cell_type": "code",
   "execution_count": 10,
   "metadata": {
    "execution": {
     "iopub.execute_input": "2020-11-13T07:01:56.922154Z",
     "iopub.status.busy": "2020-11-13T07:01:56.911790Z",
     "iopub.status.idle": "2020-11-13T07:01:57.161054Z",
     "shell.execute_reply": "2020-11-13T07:01:57.161733Z"
    },
    "papermill": {
     "duration": 0.326275,
     "end_time": "2020-11-13T07:01:57.161898",
     "exception": false,
     "start_time": "2020-11-13T07:01:56.835623",
     "status": "completed"
    },
    "tags": []
   },
   "outputs": [
    {
     "data": {
      "text/plain": [
       "<matplotlib.image.AxesImage at 0x7efed2b7aed0>"
      ]
     },
     "execution_count": 10,
     "metadata": {},
     "output_type": "execute_result"
    },
    {
     "data": {
      "image/png": "[encoded data removed]",
      "text/plain": [
       "<Figure size 432x288 with 1 Axes>"
      ]
     },
     "metadata": {
      "needs_background": "light"
     },
     "output_type": "display_data"
    }
   ],
   "source": [
    "plt.imshow(train_df.query(\"activity=='STANDING'\").values[:200,2:].astype(np.float32))"
   ]
  },
  {
   "cell_type": "code",
   "execution_count": 11,
   "metadata": {
    "execution": {
     "iopub.execute_input": "2020-11-13T07:01:57.273274Z",
     "iopub.status.busy": "2020-11-13T07:01:57.268299Z",
     "iopub.status.idle": "2020-11-13T07:01:57.541077Z",
     "shell.execute_reply": "2020-11-13T07:01:57.541796Z"
    },
    "papermill": {
     "duration": 0.332774,
     "end_time": "2020-11-13T07:01:57.541965",
     "exception": false,
     "start_time": "2020-11-13T07:01:57.209191",
     "status": "completed"
    },
    "tags": []
   },
   "outputs": [
    {
     "data": {
      "text/plain": [
       "<matplotlib.image.AxesImage at 0x7efed2af90d0>"
      ]
     },
     "execution_count": 11,
     "metadata": {},
     "output_type": "execute_result"
    },
    {
     "data": {
      "image/png": "[encoded data removed]",
      "text/plain": [
       "<Figure size 432x288 with 1 Axes>"
      ]
     },
     "metadata": {
      "needs_background": "light"
     },
     "output_type": "display_data"
    }
   ],
   "source": [
    "plt.imshow(train_df.query(\"activity=='WALKING_UPSTAIRS'\").values[:200,2:].astype(np.float32))"
   ]
  },
  {
   "cell_type": "markdown",
   "metadata": {
    "papermill": {
     "duration": 0.050825,
     "end_time": "2020-11-13T07:01:57.644377",
     "exception": false,
     "start_time": "2020-11-13T07:01:57.593552",
     "status": "completed"
    },
    "tags": []
   },
   "source": [
    "## Build up dataloader"
   ]
  },
  {
   "cell_type": "code",
   "execution_count": 12,
   "metadata": {
    "execution": {
     "iopub.execute_input": "2020-11-13T07:01:57.752617Z",
     "iopub.status.busy": "2020-11-13T07:01:57.751873Z",
     "iopub.status.idle": "2020-11-13T07:01:57.754607Z",
     "shell.execute_reply": "2020-11-13T07:01:57.755179Z"
    },
    "papermill": {
     "duration": 0.05955,
     "end_time": "2020-11-13T07:01:57.755368",
     "exception": false,
     "start_time": "2020-11-13T07:01:57.695818",
     "status": "completed"
    },
    "tags": []
   },
   "outputs": [],
   "source": [
    "from torch.utils.data import DataLoader,Dataset"
   ]
  },
  {
   "cell_type": "markdown",
   "metadata": {
    "papermill": {
     "duration": 0.050991,
     "end_time": "2020-11-13T07:01:57.856911",
     "exception": false,
     "start_time": "2020-11-13T07:01:57.805920",
     "status": "completed"
    },
    "tags": []
   },
   "source": [
    "We have a pretty balanced dataset"
   ]
  },
  {
   "cell_type": "code",
   "execution_count": 13,
   "metadata": {
    "execution": {
     "iopub.execute_input": "2020-11-13T07:01:57.969545Z",
     "iopub.status.busy": "2020-11-13T07:01:57.968436Z",
     "iopub.status.idle": "2020-11-13T07:01:57.972265Z",
     "shell.execute_reply": "2020-11-13T07:01:57.971498Z"
    },
    "papermill": {
     "duration": 0.063685,
     "end_time": "2020-11-13T07:01:57.972390",
     "exception": false,
     "start_time": "2020-11-13T07:01:57.908705",
     "status": "completed"
    },
    "tags": []
   },
   "outputs": [],
   "source": [
    "y_map = dict((v,k) for k,v in enumerate(train_df.vc(\"activity\").index))"
   ]
  },
  {
   "cell_type": "markdown",
   "metadata": {
    "papermill": {
     "duration": 0.051035,
     "end_time": "2020-11-13T07:01:58.075113",
     "exception": false,
     "start_time": "2020-11-13T07:01:58.024078",
     "status": "completed"
    },
    "tags": []
   },
   "source": [
    "Target categories mapped to indices"
   ]
  },
  {
   "cell_type": "code",
   "execution_count": 14,
   "metadata": {
    "execution": {
     "iopub.execute_input": "2020-11-13T07:01:58.184495Z",
     "iopub.status.busy": "2020-11-13T07:01:58.183604Z",
     "iopub.status.idle": "2020-11-13T07:01:58.187913Z",
     "shell.execute_reply": "2020-11-13T07:01:58.188667Z"
    },
    "papermill": {
     "duration": 0.062135,
     "end_time": "2020-11-13T07:01:58.188841",
     "exception": false,
     "start_time": "2020-11-13T07:01:58.126706",
     "status": "completed"
    },
    "tags": []
   },
   "outputs": [
    {
     "data": {
      "text/plain": [
       "{'LAYING': 0,\n",
       " 'STANDING': 1,\n",
       " 'SITTING': 2,\n",
       " 'WALKING': 3,\n",
       " 'WALKING_UPSTAIRS': 4,\n",
       " 'WALKING_DOWNSTAIRS': 5}"
      ]
     },
     "execution_count": 14,
     "metadata": {},
     "output_type": "execute_result"
    }
   ],
   "source": [
    "y_map"
   ]
  },
  {
   "cell_type": "code",
   "execution_count": 15,
   "metadata": {
    "execution": {
     "iopub.execute_input": "2020-11-13T07:01:58.308924Z",
     "iopub.status.busy": "2020-11-13T07:01:58.308076Z",
     "iopub.status.idle": "2020-11-13T07:01:58.312019Z",
     "shell.execute_reply": "2020-11-13T07:01:58.311257Z"
    },
    "papermill": {
     "duration": 0.070952,
     "end_time": "2020-11-13T07:01:58.312163",
     "exception": false,
     "start_time": "2020-11-13T07:01:58.241211",
     "status": "completed"
    },
    "tags": []
   },
   "outputs": [],
   "source": [
    "class ArrayDs(Dataset):\n",
    "    def __init__(self, df, y_map=y_map):\n",
    "        self.df = df\n",
    "        self.y_map = y_map\n",
    "        self.Xs = self.df.values[:,2:].astype(np.float32)\n",
    "        if 'activity' in self.df.columns:\n",
    "            self.has_y = True\n",
    "            self.Ys = self.df['activity'].apply(lambda x:y_map[x]).values\n",
    "        else:\n",
    "            self.has_y = False\n",
    "        \n",
    "    def __len__(self): return len(self.df)\n",
    "    \n",
    "    def __getitem__(self,idx):\n",
    "        if self.has_y:\n",
    "            return self.Xs[idx],self.Ys[idx]\n",
    "        else:\n",
    "            return self.Xs[idx]\n",
    "    \n",
    "def get_data_dl(df: pd.DataFrame, batch_size: int=128, shuffle=False) -> DataLoader:\n",
    "    ds = ArrayDs(df)\n",
    "    return DataLoader(ds, shuffle=shuffle, batch_size=batch_size)"
   ]
  },
  {
   "cell_type": "code",
   "execution_count": 16,
   "metadata": {
    "execution": {
     "iopub.execute_input": "2020-11-13T07:01:58.433603Z",
     "iopub.status.busy": "2020-11-13T07:01:58.432709Z",
     "iopub.status.idle": "2020-11-13T07:01:58.692520Z",
     "shell.execute_reply": "2020-11-13T07:01:58.691779Z"
    },
    "papermill": {
     "duration": 0.327749,
     "end_time": "2020-11-13T07:01:58.692665",
     "exception": false,
     "start_time": "2020-11-13T07:01:58.364916",
     "status": "completed"
    },
    "tags": []
   },
   "outputs": [
    {
     "data": {
      "text/plain": [
       "(array([ 0.222  , -0.0427 , -0.123  , -0.254  , -0.0688 , -0.379  ,\n",
       "        -0.296  , -0.0765 , -0.38   , -0.117  , -0.211  , -0.394  ,\n",
       "         0.159  , -0.0318 ,  0.397  , -0.177  , -0.72   , -0.831  ,\n",
       "        -0.823  , -0.361  , -0.211  , -0.367  ,  0.272  ,  0.26   ,\n",
       "         0.237  , -0.48   ,  0.423  , -0.23   ,  0.198  , -0.333  ,\n",
       "         0.327  , -0.0314 ,  0.107  , -0.526  ,  0.558  , -0.516  ,\n",
       "         0.233  , -0.0192 , -0.0017 ,  0.331  ,  0.945  , -0.228  ,\n",
       "        -0.101  , -0.985  , -0.986  , -0.953  , -0.987  , -0.987  ,\n",
       "        -0.96   ,  0.876  , -0.246  , -0.0998 ,  0.959  , -0.204  ,\n",
       "        -0.115  , -0.183  ,  0.85   , -0.915  , -0.978  , -0.989  ,\n",
       "        -0.989  , -0.971  , -1.     , -1.     , -1.     , -0.301  ,\n",
       "         0.375  , -0.444  ,  0.507  , -0.0427 ,  0.0378 , -0.0945 ,\n",
       "         0.173  , -0.477  ,  0.535  , -0.593  ,  0.648  ,  0.534  ,\n",
       "        -0.835  , -0.681  , -0.283  ,  0.472  ,  0.0112 , -0.248  ,\n",
       "        -0.197  , -0.6    , -0.21   , -0.141  , -0.581  , -0.329  ,\n",
       "        -0.3    , -0.788  ,  0.404  ,  0.459  ,  0.509  , -0.277  ,\n",
       "        -0.714  , -0.673  , -0.915  , -0.116  , -0.178  , -0.614  ,\n",
       "         0.613  ,  0.648  ,  0.66   , -0.482  ,  0.319  , -0.155  ,\n",
       "         0.155  , -0.489  ,  0.378  , -0.172  ,  0.453  , -0.586  ,\n",
       "         0.447  , -0.304  , -0.0694 ,  0.186  ,  0.409  ,  0.16   ,\n",
       "         0.0504 , -0.173  ,  0.0399 , -0.468  , -0.502  , -0.332  ,\n",
       "        -0.537  , -0.52   , -0.323  , -0.231  , -0.656  , -0.265  ,\n",
       "         0.444  ,  0.638  ,  0.447  , -0.351  , -0.867  , -0.875  ,\n",
       "        -0.792  , -0.631  , -0.555  , -0.396  ,  0.44   ,  0.181  ,\n",
       "         0.0598 , -0.348  ,  0.181  ,  0.367  , -0.377  , -0.133  ,\n",
       "         0.0219 ,  0.319  , -0.0999 , -0.43   ,  0.429  , -0.379  ,\n",
       "         0.468  , -0.0756 , -0.166  ,  0.256  , -0.0772 , -0.0751 ,\n",
       "        -0.329  , -0.379  , -0.652  , -0.493  , -0.374  , -0.667  ,\n",
       "        -0.506  , -0.347  , -0.744  , -0.433  ,  0.55   ,  0.727  ,\n",
       "         0.747  , -0.549  , -0.806  , -0.939  , -0.869  , -0.359  ,\n",
       "        -0.721  , -0.568  ,  0.597  ,  0.664  ,  0.478  , -0.156  ,\n",
       "        -0.00726,  0.286  ,  0.293  , -0.0718 ,  0.0316 ,  0.2    ,\n",
       "         0.418  , -0.476  ,  0.302  , -0.158  , -0.095  ,  0.332  ,\n",
       "        -0.0828 , -0.161  , -0.168  , -0.337  , -0.41   , -0.278  ,\n",
       "        -0.774  , -0.168  , -0.65   , -0.45   ,  0.843  , -0.325  ,\n",
       "         0.313  , -0.183  , -0.0401 , -0.168  , -0.337  , -0.41   ,\n",
       "        -0.278  , -0.774  , -0.168  , -0.65   , -0.45   ,  0.843  ,\n",
       "        -0.325  ,  0.313  , -0.183  , -0.0401 , -0.269  , -0.349  ,\n",
       "        -0.343  , -0.367  , -0.204  , -0.269  , -0.736  , -0.4    ,\n",
       "         0.674  , -0.163  ,  0.141  , -0.231  ,  0.184  , -0.36   ,\n",
       "        -0.445  , -0.368  , -0.512  , -0.488  , -0.36   , -0.785  ,\n",
       "        -0.359  ,  0.838  , -0.0493 , -0.133  ,  0.439  , -0.435  ,\n",
       "        -0.547  , -0.614  , -0.625  , -0.665  , -0.56   , -0.547  ,\n",
       "        -0.901  , -0.645  ,  0.862  ,  0.175  , -0.444  ,  0.836  ,\n",
       "        -0.639  , -0.159  , -0.0488 , -0.467  , -0.294  , -0.139  ,\n",
       "        -0.38   , -0.179  , -0.06   , -0.365  , -0.5    , -0.527  ,\n",
       "        -0.545  , -0.593  , -0.54   , -0.879  , -0.101  , -0.72   ,\n",
       "        -0.561  , -0.8    , -0.12   , -0.371  , -0.647  ,  0.632  ,\n",
       "         0.464  ,  0.377  , -0.742  , -0.333  , -0.692  , -0.188  ,\n",
       "         0.0842 , -0.156  , -0.267  , -0.695  , -0.526  , -0.874  ,\n",
       "        -0.439  , -0.756  , -0.743  , -0.751  , -0.701  , -0.757  ,\n",
       "        -0.783  , -0.926  , -0.724  , -0.747  , -0.722  , -0.671  ,\n",
       "        -0.837  , -0.732  , -0.72   , -0.748  , -0.776  , -0.526  ,\n",
       "        -0.694  , -0.807  , -0.905  , -0.791  , -0.737  , -0.756  ,\n",
       "        -0.585  , -0.648  , -0.851  , -0.736  , -0.566  , -0.811  ,\n",
       "        -0.842  , -0.814  , -0.907  , -0.963  , -0.982  , -0.965  ,\n",
       "        -0.977  , -0.992  , -0.814  , -0.928  , -0.976  , -0.981  ,\n",
       "        -0.801  , -0.967  , -0.244  , -0.253  , -0.584  , -0.322  ,\n",
       "        -0.189  , -0.612  , -0.178  , -0.233  , -0.587  , -0.31   ,\n",
       "        -0.288  , -0.678  , -0.45   , -0.58   , -0.714  , -0.242  ,\n",
       "        -0.714  , -0.673  , -0.915  , -0.0721 , -0.379  , -0.662  ,\n",
       "         0.583  ,  0.578  ,  0.212  , -0.48   , -0.6    , -0.12   ,\n",
       "        -0.359  , -0.523  , -0.393  , -0.0892 , -0.442  , -0.215  ,\n",
       "        -0.719  , -0.289  , -0.771  , -0.803  , -0.697  , -0.796  ,\n",
       "        -0.79   , -0.91   , -0.893  , -0.894  , -0.956  , -0.718  ,\n",
       "        -0.746  , -0.895  , -0.888  , -0.696  , -0.775  , -0.835  ,\n",
       "        -0.643  , -0.769  , -0.816  , -0.857  , -0.912  , -0.883  ,\n",
       "        -0.938  , -0.638  , -0.745  , -0.846  , -0.89   , -0.635  ,\n",
       "        -0.826  , -0.875  , -0.848  , -0.907  , -0.963  , -0.981  ,\n",
       "        -0.961  , -0.958  , -0.931  , -0.826  , -0.934  , -0.974  ,\n",
       "        -0.952  , -0.859  , -0.967  , -0.354  , -0.508  , -0.313  ,\n",
       "        -0.504  , -0.501  , -0.399  , -0.375  , -0.487  , -0.344  ,\n",
       "        -0.485  , -0.633  , -0.441  , -0.817  , -0.812  , -0.698  ,\n",
       "        -0.373  , -0.858  , -0.875  , -0.775  , -0.328  , -0.532  ,\n",
       "        -0.528  ,  0.509  ,  0.447  ,  0.386  , -0.933  , -0.935  ,\n",
       "        -0.586  , -0.144  , -0.195  ,  0.0592 , -0.16   , -0.493  ,\n",
       "        -0.434  , -0.801  ,  0.105  , -0.174  , -0.911  , -0.655  ,\n",
       "        -0.838  , -0.968  , -0.915  , -0.923  , -0.953  , -0.989  ,\n",
       "        -0.865  , -0.857  , -0.91   , -0.969  , -0.859  , -0.951  ,\n",
       "        -0.89   , -0.917  , -0.966  , -0.983  , -0.982  , -0.936  ,\n",
       "        -0.934  , -0.993  , -0.872  , -0.963  , -0.972  , -0.951  ,\n",
       "        -0.865  , -0.979  , -0.804  , -0.948  , -0.869  , -0.965  ,\n",
       "        -0.925  , -0.932  , -0.832  , -0.854  , -0.796  , -0.859  ,\n",
       "        -0.926  , -0.842  , -0.78   , -0.953  , -0.28   , -0.475  ,\n",
       "        -0.359  , -0.603  , -0.861  , -0.28   , -0.776  , -0.409  ,\n",
       "         0.517  , -0.448  ,  0.0835 , -0.441  , -0.715  , -0.296  ,\n",
       "        -0.427  , -0.334  , -0.527  , -0.916  , -0.296  , -0.783  ,\n",
       "        -0.398  ,  0.369  , -0.873  , -0.122  , -0.35   , -0.683  ,\n",
       "        -0.481  , -0.516  , -0.417  , -0.598  , -0.945  , -0.481  ,\n",
       "        -0.845  , -0.387  ,  0.504  , -0.846  , -0.0575 , -0.518  ,\n",
       "        -0.808  , -0.615  , -0.64   , -0.604  , -0.726  , -0.964  ,\n",
       "        -0.615  , -0.925  , -0.652  ,  0.367  , -0.873  ,  0.0549 ,\n",
       "        -0.357  , -0.757  ,  0.292  ,  0.683  , -0.8    , -0.168  ,\n",
       "        -0.77   ,  0.24   ,  0.0918 ], dtype=float32),\n",
       " 3)"
      ]
     },
     "execution_count": 16,
     "metadata": {},
     "output_type": "execute_result"
    }
   ],
   "source": [
    "x, y = ArrayDs(train_df,)[6]\n",
    "\n",
    "x, y"
   ]
  },
  {
   "cell_type": "markdown",
   "metadata": {
    "papermill": {
     "duration": 0.054057,
     "end_time": "2020-11-13T07:01:58.800232",
     "exception": false,
     "start_time": "2020-11-13T07:01:58.746175",
     "status": "completed"
    },
    "tags": []
   },
   "source": [
    "## Training boiler template\n",
    "\n",
    "> You can also use sklearn at this part"
   ]
  },
  {
   "cell_type": "code",
   "execution_count": 17,
   "metadata": {
    "execution": {
     "iopub.execute_input": "2020-11-13T07:01:58.911562Z",
     "iopub.status.busy": "2020-11-13T07:01:58.910806Z",
     "iopub.status.idle": "2020-11-13T07:02:07.494034Z",
     "shell.execute_reply": "2020-11-13T07:02:07.492803Z"
    },
    "papermill": {
     "duration": 8.641096,
     "end_time": "2020-11-13T07:02:07.494238",
     "exception": false,
     "start_time": "2020-11-13T07:01:58.853142",
     "status": "completed"
    },
    "tags": []
   },
   "outputs": [],
   "source": [
    "!pip install -q pytorch-lightning==1.0.4"
   ]
  },
  {
   "cell_type": "code",
   "execution_count": 18,
   "metadata": {
    "execution": {
     "iopub.execute_input": "2020-11-13T07:02:07.629569Z",
     "iopub.status.busy": "2020-11-13T07:02:07.628248Z",
     "iopub.status.idle": "2020-11-13T07:02:09.223090Z",
     "shell.execute_reply": "2020-11-13T07:02:09.226037Z"
    },
    "papermill": {
     "duration": 1.676633,
     "end_time": "2020-11-13T07:02:09.226237",
     "exception": false,
     "start_time": "2020-11-13T07:02:07.549604",
     "status": "completed"
    },
    "tags": []
   },
   "outputs": [],
   "source": [
    "from pytorch_lightning import LightningDataModule, LightningModule\n",
    "import pytorch_lightning as pl\n",
    "\n",
    "class AllData(LightningDataModule):\n",
    "    def __init__(self):\n",
    "        super().__init__()\n",
    "        \n",
    "    def prepare_data(self):\n",
    "        self.total_df = read_data(\"train\")\n",
    "        # train/valid split\n",
    "        self.train_df, self.valid_df = split_df(\n",
    "            self.total_df, valid = VALID_RATIO)\n",
    "        \n",
    "        self.test_df = read_data(\"test\")\n",
    "    \n",
    "    def train_dataloader(self): return get_data_dl(\n",
    "        self.train_df, shuffle=True)\n",
    "    \n",
    "    def val_dataloader(self): return get_data_dl(self.valid_df)\n",
    "    \n",
    "    def test_dataloader(self): return get_data_dl(self.test_df)\n",
    "    \n",
    "\n",
    "class ltModule(LightningModule):\n",
    "    def __init__(self, base_model):\n",
    "        super().__init__()\n",
    "        self.base_model = base_model\n",
    "        self.crit = nn.CrossEntropyLoss()\n",
    "        self.accuracy = pl.metrics.Accuracy()\n",
    "            \n",
    "    def configure_optimizers(self):\n",
    "        opt = torch.optim.Adam(self.parameters(), lr=1e-3)\n",
    "        return opt\n",
    "    \n",
    "    def forward(self, x): return self.base_model(x)\n",
    "    \n",
    "    def forward_pass(self, batch):\n",
    "        x, y = batch\n",
    "        y_ = self(x)\n",
    "        loss = self.crit(y_,y)\n",
    "        acc = self.accuracy(y_.argmax(dim=-1),y)\n",
    "        return {'loss': loss, 'acc':acc}\n",
    "        \n",
    "    def training_step(self, batch, batch_idx): return self.forward_pass(batch)\n",
    "        \n",
    "    def validation_step(self, batch, batch_idx): return self.forward_pass(batch)\n",
    "    \n",
    "    def print_acc(self, outputs, phase):\n",
    "        avg_acc = torch.stack([x['acc'] for x in outputs]).mean()\n",
    "        print(f\"[{phase}]\\tAccuracy:\\t{int(avg_acc.item()*100)}%\", end=\"\\t\")\n",
    "    \n",
    "    def training_epoch_end(self, outputs):\n",
    "        self.print_acc(outputs, \"TRAIN\")\n",
    "\n",
    "    def validation_epoch_end(self, outputs):\n",
    "        self.print_acc(outputs, \"VALID\")\n",
    "\n",
    "def learn(base_model, max_epochs=5):\n",
    "    \"\"\"\n",
    "    Train the model automatially, the entire pipeline\n",
    "    \"\"\"\n",
    "    all_data = AllData()\n",
    "    module = ltModule(base_model)\n",
    "    trainer = pl.Trainer(max_epochs=max_epochs)\n",
    "    trainer.fit(model = module, datamodule=all_data, )"
   ]
  },
  {
   "cell_type": "markdown",
   "metadata": {
    "papermill": {
     "duration": 0.053492,
     "end_time": "2020-11-13T07:02:09.332971",
     "exception": false,
     "start_time": "2020-11-13T07:02:09.279479",
     "status": "completed"
    },
    "tags": []
   },
   "source": [
    "## Linear relation"
   ]
  },
  {
   "cell_type": "code",
   "execution_count": 19,
   "metadata": {
    "execution": {
     "iopub.execute_input": "2020-11-13T07:02:09.446803Z",
     "iopub.status.busy": "2020-11-13T07:02:09.445988Z",
     "iopub.status.idle": "2020-11-13T07:02:18.147948Z",
     "shell.execute_reply": "2020-11-13T07:02:18.148809Z"
    },
    "papermill": {
     "duration": 8.763325,
     "end_time": "2020-11-13T07:02:18.148991",
     "exception": false,
     "start_time": "2020-11-13T07:02:09.385666",
     "status": "completed"
    },
    "tags": []
   },
   "outputs": [
    {
     "name": "stderr",
     "output_type": "stream",
     "text": [
      "GPU available: False, used: False\n",
      "TPU available: False, using: 0 TPU cores\n",
      "\n",
      "  | Name       | Type             | Params\n",
      "------------------------------------------------\n",
      "0 | base_model | Linear           | 3 K   \n",
      "1 | crit       | CrossEntropyLoss | 0     \n",
      "2 | accuracy   | Accuracy         | 0     \n",
      "/opt/conda/lib/python3.7/site-packages/pytorch_lightning/utilities/distributed.py:45: UserWarning: The dataloader, val dataloader 0, does not have many workers which may be a bottleneck. Consider increasing the value of the `num_workers` argument` (try 4 which is the number of cpus on this machine) in the `DataLoader` init to improve performance.\n",
      "  warnings.warn(*args, **kwargs)\n"
     ]
    },
    {
     "data": {
      "application/vnd.jupyter.widget-view+json": {
       "model_id": "7eb3504ea27e40f6b897570e53850444",
       "version_major": 2,
       "version_minor": 0
      },
      "text/plain": [
       "HBox(children=(FloatProgress(value=1.0, bar_style='info', description='Validation sanity check', layout=Layout…"
      ]
     },
     "metadata": {},
     "output_type": "display_data"
    },
    {
     "name": "stdout",
     "output_type": "stream",
     "text": [
      "[VALID]\tAccuracy:\t27%\t"
     ]
    },
    {
     "name": "stderr",
     "output_type": "stream",
     "text": [
      "/opt/conda/lib/python3.7/site-packages/pytorch_lightning/utilities/distributed.py:45: UserWarning: The dataloader, train dataloader, does not have many workers which may be a bottleneck. Consider increasing the value of the `num_workers` argument` (try 4 which is the number of cpus on this machine) in the `DataLoader` init to improve performance.\n",
      "  warnings.warn(*args, **kwargs)\n"
     ]
    },
    {
     "data": {
      "application/vnd.jupyter.widget-view+json": {
       "model_id": "c237b172d9e64593a35770a0428752bd",
       "version_major": 2,
       "version_minor": 0
      },
      "text/plain": [
       "HBox(children=(FloatProgress(value=1.0, bar_style='info', description='Training', layout=Layout(flex='2'), max…"
      ]
     },
     "metadata": {},
     "output_type": "display_data"
    },
    {
     "data": {
      "application/vnd.jupyter.widget-view+json": {
       "model_id": "4dd8b700c2a34949a925205e7a865e9e",
       "version_major": 2,
       "version_minor": 0
      },
      "text/plain": [
       "HBox(children=(FloatProgress(value=1.0, bar_style='info', description='Validating', layout=Layout(flex='2'), m…"
      ]
     },
     "metadata": {},
     "output_type": "display_data"
    },
    {
     "name": "stdout",
     "output_type": "stream",
     "text": [
      "[VALID]\tAccuracy:\t68%\t[TRAIN]\tAccuracy:\t46%\t"
     ]
    },
    {
     "data": {
      "application/vnd.jupyter.widget-view+json": {
       "model_id": "fb370cebc66e499a959778a6b0e37ff5",
       "version_major": 2,
       "version_minor": 0
      },
      "text/plain": [
       "HBox(children=(FloatProgress(value=1.0, bar_style='info', description='Validating', layout=Layout(flex='2'), m…"
      ]
     },
     "metadata": {},
     "output_type": "display_data"
    },
    {
     "name": "stdout",
     "output_type": "stream",
     "text": [
      "[VALID]\tAccuracy:\t80%\t[TRAIN]\tAccuracy:\t76%\t"
     ]
    },
    {
     "data": {
      "application/vnd.jupyter.widget-view+json": {
       "model_id": "8cd4ec2d379d43b8b397f4fafdcfae9a",
       "version_major": 2,
       "version_minor": 0
      },
      "text/plain": [
       "HBox(children=(FloatProgress(value=1.0, bar_style='info', description='Validating', layout=Layout(flex='2'), m…"
      ]
     },
     "metadata": {},
     "output_type": "display_data"
    },
    {
     "name": "stdout",
     "output_type": "stream",
     "text": [
      "[VALID]\tAccuracy:\t82%\t[TRAIN]\tAccuracy:\t84%\t"
     ]
    },
    {
     "data": {
      "application/vnd.jupyter.widget-view+json": {
       "model_id": "9860fdecd65d48188f140e741977cdea",
       "version_major": 2,
       "version_minor": 0
      },
      "text/plain": [
       "HBox(children=(FloatProgress(value=1.0, bar_style='info', description='Validating', layout=Layout(flex='2'), m…"
      ]
     },
     "metadata": {},
     "output_type": "display_data"
    },
    {
     "name": "stdout",
     "output_type": "stream",
     "text": [
      "[VALID]\tAccuracy:\t87%\t[TRAIN]\tAccuracy:\t86%\t"
     ]
    },
    {
     "data": {
      "application/vnd.jupyter.widget-view+json": {
       "model_id": "16996736198a4afaa2b3fff7eab7807f",
       "version_major": 2,
       "version_minor": 0
      },
      "text/plain": [
       "HBox(children=(FloatProgress(value=1.0, bar_style='info', description='Validating', layout=Layout(flex='2'), m…"
      ]
     },
     "metadata": {},
     "output_type": "display_data"
    },
    {
     "name": "stdout",
     "output_type": "stream",
     "text": [
      "[VALID]\tAccuracy:\t87%\t[TRAIN]\tAccuracy:\t88%\t\n"
     ]
    }
   ],
   "source": [
    "# create linear model\n",
    "linear_model = nn.Linear(feature_nums,len(y_map))\n",
    "\n",
    "# learning process\n",
    "learn(linear_model)"
   ]
  },
  {
   "cell_type": "markdown",
   "metadata": {
    "papermill": {
     "duration": 0.060826,
     "end_time": "2020-11-13T07:02:18.275687",
     "exception": false,
     "start_time": "2020-11-13T07:02:18.214861",
     "status": "completed"
    },
    "tags": []
   },
   "source": [
    "## Break Linearity\n",
    "\n",
    "> Basic neural network"
   ]
  },
  {
   "cell_type": "code",
   "execution_count": 20,
   "metadata": {
    "execution": {
     "iopub.execute_input": "2020-11-13T07:02:18.412986Z",
     "iopub.status.busy": "2020-11-13T07:02:18.412148Z",
     "iopub.status.idle": "2020-11-13T07:02:21.806601Z",
     "shell.execute_reply": "2020-11-13T07:02:21.807331Z"
    },
    "papermill": {
     "duration": 3.469498,
     "end_time": "2020-11-13T07:02:21.807510",
     "exception": false,
     "start_time": "2020-11-13T07:02:18.338012",
     "status": "completed"
    },
    "tags": []
   },
   "outputs": [
    {
     "name": "stderr",
     "output_type": "stream",
     "text": [
      "GPU available: False, used: False\n",
      "TPU available: False, using: 0 TPU cores\n",
      "\n",
      "  | Name       | Type             | Params\n",
      "------------------------------------------------\n",
      "0 | base_model | Sequential       | 291 K \n",
      "1 | crit       | CrossEntropyLoss | 0     \n",
      "2 | accuracy   | Accuracy         | 0     \n"
     ]
    },
    {
     "data": {
      "application/vnd.jupyter.widget-view+json": {
       "model_id": "7d3c037f340e42e894f81dc7a767c5c4",
       "version_major": 2,
       "version_minor": 0
      },
      "text/plain": [
       "HBox(children=(FloatProgress(value=1.0, bar_style='info', description='Validation sanity check', layout=Layout…"
      ]
     },
     "metadata": {},
     "output_type": "display_data"
    },
    {
     "name": "stdout",
     "output_type": "stream",
     "text": [
      "[VALID]\tAccuracy:\t19%\t"
     ]
    },
    {
     "data": {
      "application/vnd.jupyter.widget-view+json": {
       "model_id": "7355f79f75bf4dc2afab8fa6379546e8",
       "version_major": 2,
       "version_minor": 0
      },
      "text/plain": [
       "HBox(children=(FloatProgress(value=1.0, bar_style='info', description='Training', layout=Layout(flex='2'), max…"
      ]
     },
     "metadata": {},
     "output_type": "display_data"
    },
    {
     "data": {
      "application/vnd.jupyter.widget-view+json": {
       "model_id": "42683a0567814919bd82863788412afd",
       "version_major": 2,
       "version_minor": 0
      },
      "text/plain": [
       "HBox(children=(FloatProgress(value=1.0, bar_style='info', description='Validating', layout=Layout(flex='2'), m…"
      ]
     },
     "metadata": {},
     "output_type": "display_data"
    },
    {
     "name": "stdout",
     "output_type": "stream",
     "text": [
      "[VALID]\tAccuracy:\t86%\t[TRAIN]\tAccuracy:\t84%\t"
     ]
    },
    {
     "data": {
      "application/vnd.jupyter.widget-view+json": {
       "model_id": "dcab492df8e146d18f472ce513b297f3",
       "version_major": 2,
       "version_minor": 0
      },
      "text/plain": [
       "HBox(children=(FloatProgress(value=1.0, bar_style='info', description='Validating', layout=Layout(flex='2'), m…"
      ]
     },
     "metadata": {},
     "output_type": "display_data"
    },
    {
     "name": "stdout",
     "output_type": "stream",
     "text": [
      "[VALID]\tAccuracy:\t89%\t[TRAIN]\tAccuracy:\t94%\t"
     ]
    },
    {
     "data": {
      "application/vnd.jupyter.widget-view+json": {
       "model_id": "b96e7b0094394ad9a0fe9c5f081e08d2",
       "version_major": 2,
       "version_minor": 0
      },
      "text/plain": [
       "HBox(children=(FloatProgress(value=1.0, bar_style='info', description='Validating', layout=Layout(flex='2'), m…"
      ]
     },
     "metadata": {},
     "output_type": "display_data"
    },
    {
     "name": "stdout",
     "output_type": "stream",
     "text": [
      "[VALID]\tAccuracy:\t80%\t[TRAIN]\tAccuracy:\t96%\t"
     ]
    },
    {
     "data": {
      "application/vnd.jupyter.widget-view+json": {
       "model_id": "56553975b2b84da7bf9f7bd34a512fe2",
       "version_major": 2,
       "version_minor": 0
      },
      "text/plain": [
       "HBox(children=(FloatProgress(value=1.0, bar_style='info', description='Validating', layout=Layout(flex='2'), m…"
      ]
     },
     "metadata": {},
     "output_type": "display_data"
    },
    {
     "name": "stdout",
     "output_type": "stream",
     "text": [
      "[VALID]\tAccuracy:\t91%\t[TRAIN]\tAccuracy:\t97%\t"
     ]
    },
    {
     "data": {
      "application/vnd.jupyter.widget-view+json": {
       "model_id": "ccfc1b3c87624187b3816ffbb67e78ec",
       "version_major": 2,
       "version_minor": 0
      },
      "text/plain": [
       "HBox(children=(FloatProgress(value=1.0, bar_style='info', description='Validating', layout=Layout(flex='2'), m…"
      ]
     },
     "metadata": {},
     "output_type": "display_data"
    },
    {
     "name": "stdout",
     "output_type": "stream",
     "text": [
      "[VALID]\tAccuracy:\t94%\t[TRAIN]\tAccuracy:\t98%\t\n"
     ]
    }
   ],
   "source": [
    "HIDDEN_SIZE = 512\n",
    "\n",
    "# create model structure\n",
    "neural_network = nn.Sequential(\n",
    "    nn.Linear(feature_nums, HIDDEN_SIZE),\n",
    "    nn.BatchNorm1d(HIDDEN_SIZE),\n",
    "    nn.ReLU(),\n",
    "    nn.Linear(HIDDEN_SIZE, len(y_map))\n",
    ")\n",
    "\n",
    "# learning process\n",
    "learn(neural_network)"
   ]
  },
  {
   "cell_type": "markdown",
   "metadata": {
    "papermill": {
     "duration": 0.068379,
     "end_time": "2020-11-13T07:02:21.949194",
     "exception": false,
     "start_time": "2020-11-13T07:02:21.880815",
     "status": "completed"
    },
    "tags": []
   },
   "source": [
    "## Visualize"
   ]
  },
  {
   "cell_type": "markdown",
   "metadata": {
    "papermill": {
     "duration": 0.068523,
     "end_time": "2020-11-13T07:02:22.087005",
     "exception": false,
     "start_time": "2020-11-13T07:02:22.018482",
     "status": "completed"
    },
    "tags": []
   },
   "source": [
    "### Weights structure"
   ]
  },
  {
   "cell_type": "code",
   "execution_count": 21,
   "metadata": {
    "execution": {
     "iopub.execute_input": "2020-11-13T07:02:22.240316Z",
     "iopub.status.busy": "2020-11-13T07:02:22.239302Z",
     "iopub.status.idle": "2020-11-13T07:02:22.242331Z",
     "shell.execute_reply": "2020-11-13T07:02:22.241712Z"
    },
    "papermill": {
     "duration": 0.079604,
     "end_time": "2020-11-13T07:02:22.242455",
     "exception": false,
     "start_time": "2020-11-13T07:02:22.162851",
     "status": "completed"
    },
    "tags": []
   },
   "outputs": [],
   "source": [
    "def print_param_shape(model) -> pd.DataFrame:\n",
    "    \"\"\"print out the parameter shapes of a model\"\"\"\n",
    "    return pd.DataFrame(list({\"name\":k, \"shape\":tuple(p.T.shape)} \n",
    "        for k,p in model.named_parameters()))"
   ]
  },
  {
   "cell_type": "code",
   "execution_count": 22,
   "metadata": {
    "execution": {
     "iopub.execute_input": "2020-11-13T07:02:22.388087Z",
     "iopub.status.busy": "2020-11-13T07:02:22.387228Z",
     "iopub.status.idle": "2020-11-13T07:02:22.402683Z",
     "shell.execute_reply": "2020-11-13T07:02:22.401906Z"
    },
    "papermill": {
     "duration": 0.090909,
     "end_time": "2020-11-13T07:02:22.402816",
     "exception": false,
     "start_time": "2020-11-13T07:02:22.311907",
     "status": "completed"
    },
    "tags": []
   },
   "outputs": [
    {
     "data": {
      "text/html": [
       "<div>\n",
       "<style scoped>\n",
       "    .dataframe tbody tr th:only-of-type {\n",
       "        vertical-align: middle;\n",
       "    }\n",
       "\n",
       "    .dataframe tbody tr th {\n",
       "        vertical-align: top;\n",
       "    }\n",
       "\n",
       "    .dataframe thead th {\n",
       "        text-align: right;\n",
       "    }\n",
       "</style>\n",
       "<table border=\"1\" class=\"dataframe\">\n",
       "  <thead>\n",
       "    <tr style=\"text-align: right;\">\n",
       "      <th></th>\n",
       "      <th>name</th>\n",
       "      <th>shape</th>\n",
       "    </tr>\n",
       "  </thead>\n",
       "  <tbody>\n",
       "    <tr>\n",
       "      <th>0</th>\n",
       "      <td>weight</td>\n",
       "      <td>(561, 6)</td>\n",
       "    </tr>\n",
       "    <tr>\n",
       "      <th>1</th>\n",
       "      <td>bias</td>\n",
       "      <td>(6,)</td>\n",
       "    </tr>\n",
       "  </tbody>\n",
       "</table>\n",
       "</div>"
      ],
      "text/plain": [
       "     name     shape\n",
       "0  weight  (561, 6)\n",
       "1    bias      (6,)"
      ]
     },
     "execution_count": 22,
     "metadata": {},
     "output_type": "execute_result"
    }
   ],
   "source": [
    "print_param_shape(linear_model)"
   ]
  },
  {
   "cell_type": "code",
   "execution_count": 23,
   "metadata": {
    "execution": {
     "iopub.execute_input": "2020-11-13T07:02:22.561795Z",
     "iopub.status.busy": "2020-11-13T07:02:22.560864Z",
     "iopub.status.idle": "2020-11-13T07:02:22.565709Z",
     "shell.execute_reply": "2020-11-13T07:02:22.564957Z"
    },
    "papermill": {
     "duration": 0.093229,
     "end_time": "2020-11-13T07:02:22.565840",
     "exception": false,
     "start_time": "2020-11-13T07:02:22.472611",
     "status": "completed"
    },
    "tags": []
   },
   "outputs": [
    {
     "data": {
      "text/html": [
       "<div>\n",
       "<style scoped>\n",
       "    .dataframe tbody tr th:only-of-type {\n",
       "        vertical-align: middle;\n",
       "    }\n",
       "\n",
       "    .dataframe tbody tr th {\n",
       "        vertical-align: top;\n",
       "    }\n",
       "\n",
       "    .dataframe thead th {\n",
       "        text-align: right;\n",
       "    }\n",
       "</style>\n",
       "<table border=\"1\" class=\"dataframe\">\n",
       "  <thead>\n",
       "    <tr style=\"text-align: right;\">\n",
       "      <th></th>\n",
       "      <th>name</th>\n",
       "      <th>shape</th>\n",
       "    </tr>\n",
       "  </thead>\n",
       "  <tbody>\n",
       "    <tr>\n",
       "      <th>0</th>\n",
       "      <td>0.weight</td>\n",
       "      <td>(561, 512)</td>\n",
       "    </tr>\n",
       "    <tr>\n",
       "      <th>1</th>\n",
       "      <td>0.bias</td>\n",
       "      <td>(512,)</td>\n",
       "    </tr>\n",
       "    <tr>\n",
       "      <th>2</th>\n",
       "      <td>1.weight</td>\n",
       "      <td>(512,)</td>\n",
       "    </tr>\n",
       "    <tr>\n",
       "      <th>3</th>\n",
       "      <td>1.bias</td>\n",
       "      <td>(512,)</td>\n",
       "    </tr>\n",
       "    <tr>\n",
       "      <th>4</th>\n",
       "      <td>3.weight</td>\n",
       "      <td>(512, 6)</td>\n",
       "    </tr>\n",
       "    <tr>\n",
       "      <th>5</th>\n",
       "      <td>3.bias</td>\n",
       "      <td>(6,)</td>\n",
       "    </tr>\n",
       "  </tbody>\n",
       "</table>\n",
       "</div>"
      ],
      "text/plain": [
       "       name       shape\n",
       "0  0.weight  (561, 512)\n",
       "1    0.bias      (512,)\n",
       "2  1.weight      (512,)\n",
       "3    1.bias      (512,)\n",
       "4  3.weight    (512, 6)\n",
       "5    3.bias        (6,)"
      ]
     },
     "execution_count": 23,
     "metadata": {},
     "output_type": "execute_result"
    }
   ],
   "source": [
    "print_param_shape(neural_network)"
   ]
  },
  {
   "cell_type": "markdown",
   "metadata": {
    "papermill": {
     "duration": 0.070356,
     "end_time": "2020-11-13T07:02:22.707505",
     "exception": false,
     "start_time": "2020-11-13T07:02:22.637149",
     "status": "completed"
    },
    "tags": []
   },
   "source": [
    "### Find influence"
   ]
  },
  {
   "cell_type": "markdown",
   "metadata": {
    "papermill": {
     "duration": 0.06958,
     "end_time": "2020-11-13T07:02:22.847284",
     "exception": false,
     "start_time": "2020-11-13T07:02:22.777704",
     "status": "completed"
    },
    "tags": []
   },
   "source": [
    "Input features, we print out the first 50 features of our input columns"
   ]
  },
  {
   "cell_type": "code",
   "execution_count": 24,
   "metadata": {
    "execution": {
     "iopub.execute_input": "2020-11-13T07:02:22.994032Z",
     "iopub.status.busy": "2020-11-13T07:02:22.993243Z",
     "iopub.status.idle": "2020-11-13T07:02:22.996731Z",
     "shell.execute_reply": "2020-11-13T07:02:22.997473Z"
    },
    "papermill": {
     "duration": 0.080141,
     "end_time": "2020-11-13T07:02:22.997660",
     "exception": false,
     "start_time": "2020-11-13T07:02:22.917519",
     "status": "completed"
    },
    "tags": []
   },
   "outputs": [
    {
     "name": "stdout",
     "output_type": "stream",
     "text": [
      "tBodyAcc.mean.X\ttBodyAcc.mean.Y\ttBodyAcc.mean.Z\ttBodyAcc.std.X\ttBodyAcc.std.Y\ttBodyAcc.std.Z\ttBodyAcc.mad.X\ttBodyAcc.mad.Y\ttBodyAcc.mad.Z\ttBodyAcc.max.X\ttBodyAcc.max.Y\ttBodyAcc.max.Z\ttBodyAcc.min.X\ttBodyAcc.min.Y\ttBodyAcc.min.Z\ttBodyAcc.sma\ttBodyAcc.energy.X\ttBodyAcc.energy.Y\ttBodyAcc.energy.Z\ttBodyAcc.iqr.X\ttBodyAcc.iqr.Y\ttBodyAcc.iqr.Z\ttBodyAcc.entropy.X\ttBodyAcc.entropy.Y\ttBodyAcc.entropy.Z\ttBodyAcc.arCoeff.X.1\ttBodyAcc.arCoeff.X.2\ttBodyAcc.arCoeff.X.3\ttBodyAcc.arCoeff.X.4\ttBodyAcc.arCoeff.Y.1\ttBodyAcc.arCoeff.Y.2\ttBodyAcc.arCoeff.Y.3\ttBodyAcc.arCoeff.Y.4\ttBodyAcc.arCoeff.Z.1\ttBodyAcc.arCoeff.Z.2\ttBodyAcc.arCoeff.Z.3\ttBodyAcc.arCoeff.Z.4\ttBodyAcc.correlation.X.Y\ttBodyAcc.correlation.X.Z\ttBodyAcc.correlation.Y.Z\ttGravityAcc.mean.X\ttGravityAcc.mean.Y\ttGravityAcc.mean.Z\ttGravityAcc.std.X\ttGravityAcc.std.Y\ttGravityAcc.std.Z\ttGravityAcc.mad.X\ttGravityAcc.mad.Y\ttGravityAcc.mad.Z\ttGravityAcc.max.X\n"
     ]
    }
   ],
   "source": [
    "x_map = np.array(total_df.columns[2:])\n",
    "print('\\t'.join(x_map[:50]))"
   ]
  },
  {
   "cell_type": "markdown",
   "metadata": {
    "papermill": {
     "duration": 0.076077,
     "end_time": "2020-11-13T07:02:23.145391",
     "exception": false,
     "start_time": "2020-11-13T07:02:23.069314",
     "status": "completed"
    },
    "tags": []
   },
   "source": [
    "Output categories"
   ]
  },
  {
   "cell_type": "code",
   "execution_count": 25,
   "metadata": {
    "execution": {
     "iopub.execute_input": "2020-11-13T07:02:23.295765Z",
     "iopub.status.busy": "2020-11-13T07:02:23.294900Z",
     "iopub.status.idle": "2020-11-13T07:02:23.299547Z",
     "shell.execute_reply": "2020-11-13T07:02:23.298965Z"
    },
    "papermill": {
     "duration": 0.081409,
     "end_time": "2020-11-13T07:02:23.299710",
     "exception": false,
     "start_time": "2020-11-13T07:02:23.218301",
     "status": "completed"
    },
    "tags": []
   },
   "outputs": [
    {
     "data": {
      "text/plain": [
       "{'LAYING': 0,\n",
       " 'STANDING': 1,\n",
       " 'SITTING': 2,\n",
       " 'WALKING': 3,\n",
       " 'WALKING_UPSTAIRS': 4,\n",
       " 'WALKING_DOWNSTAIRS': 5}"
      ]
     },
     "execution_count": 25,
     "metadata": {},
     "output_type": "execute_result"
    }
   ],
   "source": [
    "y_map"
   ]
  },
  {
   "cell_type": "code",
   "execution_count": 26,
   "metadata": {
    "execution": {
     "iopub.execute_input": "2020-11-13T07:02:23.452082Z",
     "iopub.status.busy": "2020-11-13T07:02:23.451286Z",
     "iopub.status.idle": "2020-11-13T07:02:23.466173Z",
     "shell.execute_reply": "2020-11-13T07:02:23.465489Z"
    },
    "papermill": {
     "duration": 0.09391,
     "end_time": "2020-11-13T07:02:23.466309",
     "exception": false,
     "start_time": "2020-11-13T07:02:23.372399",
     "status": "completed"
    },
    "tags": []
   },
   "outputs": [
    {
     "data": {
      "text/plain": [
       "(tensor([[-0.0289, -0.0342, -0.0063,  0.0535,  0.0173,  0.0131],\n",
       "         [ 0.0153,  0.0114,  0.0441, -0.0519, -0.0760, -0.0072],\n",
       "         [-0.0165,  0.0282, -0.0022, -0.0003, -0.0733, -0.0364],\n",
       "         ...,\n",
       "         [ 0.1058, -0.0874, -0.1345, -0.0538, -0.0384, -0.0784],\n",
       "         [-0.1187,  0.1129, -0.0106,  0.0588,  0.0483, -0.0284],\n",
       "         [-0.1122,  0.0559,  0.0169,  0.0593,  0.0422,  0.0154]]),\n",
       " torch.Size([561, 6]))"
      ]
     },
     "execution_count": 26,
     "metadata": {},
     "output_type": "execute_result"
    }
   ],
   "source": [
    "linear_weight = linear_model.weight.data.T\n",
    "linear_weight, linear_weight.shape"
   ]
  },
  {
   "cell_type": "code",
   "execution_count": 27,
   "metadata": {
    "execution": {
     "iopub.execute_input": "2020-11-13T07:02:23.618066Z",
     "iopub.status.busy": "2020-11-13T07:02:23.617284Z",
     "iopub.status.idle": "2020-11-13T07:02:23.625533Z",
     "shell.execute_reply": "2020-11-13T07:02:23.624968Z"
    },
    "papermill": {
     "duration": 0.087067,
     "end_time": "2020-11-13T07:02:23.625675",
     "exception": false,
     "start_time": "2020-11-13T07:02:23.538608",
     "status": "completed"
    },
    "tags": []
   },
   "outputs": [
    {
     "data": {
      "text/plain": [
       "array(['fBodyAcc.skewness.X', 'tBodyGyro.correlation.Y.Z',\n",
       "       'angle.X.gravityMean', 'tGravityAcc.sma', 'tGravityAcc.energy.X',\n",
       "       'tBodyAcc.correlation.X.Y', 'fBodyAcc.skewness.Z',\n",
       "       'tGravityAccMag.arCoeff1', 'tBodyGyroJerk.arCoeff.X.1',\n",
       "       'tBodyAcc.arCoeff.Y.4', 'tBodyGyro.correlation.X.Y',\n",
       "       'tBodyAccJerk.arCoeff.X.3', 'fBodyAccMag.meanFreq',\n",
       "       'tBodyAcc.correlation.Y.Z', 'tBodyGyroMag.entropy',\n",
       "       'fBodyAcc.kurtosis.X', 'tBodyGyroJerk.correlation.X.Z',\n",
       "       'angle.Y.gravityMean', 'tBodyAccMag.arCoeff2',\n",
       "       'fBodyAccJerk.mad.Y', 'tBodyGyro.correlation.X.Z',\n",
       "       'fBodyAcc.meanFreq.Z', 'tGravityAcc.arCoeff.Y.2',\n",
       "       'tBodyAccJerk.arCoeff.Z.3', 'tBodyGyroJerk.entropy.Y',\n",
       "       'tGravityAcc.mean.X', 'tGravityAcc.max.X', 'fBodyAcc.meanFreq.X',\n",
       "       'tBodyGyroJerk.arCoeff.Z.4', 'fBodyAccJerk.maxInds.X'],\n",
       "      dtype=object)"
      ]
     },
     "execution_count": 27,
     "metadata": {},
     "output_type": "execute_result"
    }
   ],
   "source": [
    "most_influential_rank = linear_weight.abs().sum(-1).argsort(descending=True).numpy()\n",
    "\n",
    "x_map[most_influential_rank][:30]"
   ]
  },
  {
   "cell_type": "code",
   "execution_count": 28,
   "metadata": {
    "execution": {
     "iopub.execute_input": "2020-11-13T07:02:23.782416Z",
     "iopub.status.busy": "2020-11-13T07:02:23.781683Z",
     "iopub.status.idle": "2020-11-13T07:02:24.752213Z",
     "shell.execute_reply": "2020-11-13T07:02:24.751474Z"
    },
    "papermill": {
     "duration": 1.052874,
     "end_time": "2020-11-13T07:02:24.752363",
     "exception": false,
     "start_time": "2020-11-13T07:02:23.699489",
     "status": "completed"
    },
    "tags": []
   },
   "outputs": [],
   "source": [
    "import plotly.express as px\n",
    "def plot_heat(w,xname,yname,x,y,x_axis_top=True, height=None):\n",
    "    pca = PCA(1,)\n",
    "    new_order = pca.fit_transform(w)[:,0].argsort()\n",
    "    new_w = w[new_order,:].T\n",
    "\n",
    "    fig = px.imshow(new_w,\n",
    "                    labels = dict(x=xname,y=yname),\n",
    "                    x=x[new_order],y=y)\n",
    "    if x_axis_top:\n",
    "        fig.update_xaxes(side=\"top\")\n",
    "    if height:\n",
    "        fig.update_layout(height=height)\n",
    "    fig.show()"
   ]
  },
  {
   "cell_type": "markdown",
   "metadata": {
    "papermill": {
     "duration": 0.073074,
     "end_time": "2020-11-13T07:02:24.898755",
     "exception": false,
     "start_time": "2020-11-13T07:02:24.825681",
     "status": "completed"
    },
    "tags": []
   },
   "source": [
    "### Linear visualize\n",
    "> We visualize the influences directly from ```input``` features to ```output``` categories\n",
    "\n",
    "The size of the weights are 561 columns x 6 labels\n",
    "\n",
    "Here we pick the most influential 30 input features for visualization"
   ]
  },
  {
   "cell_type": "code",
   "execution_count": 29,
   "metadata": {
    "execution": {
     "iopub.execute_input": "2020-11-13T07:02:25.051339Z",
     "iopub.status.busy": "2020-11-13T07:02:25.050594Z",
     "iopub.status.idle": "2020-11-13T07:02:26.100426Z",
     "shell.execute_reply": "2020-11-13T07:02:26.099845Z"
    },
    "papermill": {
     "duration": 1.128636,
     "end_time": "2020-11-13T07:02:26.100555",
     "exception": false,
     "start_time": "2020-11-13T07:02:24.971919",
     "status": "completed"
    },
    "tags": []
   },
   "outputs": [
    {
     "data": {
      "text/html": [
       "        <script type=\"text/javascript\">\n",
       "        window.PlotlyConfig = {MathJaxConfig: 'local'};\n",
       "        if (window.MathJax) {MathJax.Hub.Config({SVG: {font: \"STIX-Web\"}});}\n",
       "        if (typeof require !== 'undefined') {\n",
       "        require.undef(\"plotly\");\n",
       "        requirejs.config({\n",
       "            paths: {\n",
       "                'plotly': ['https://cdn.plot.ly/plotly-latest.min']\n",
       "            }\n",
       "        });\n",
       "        require(['plotly'], function(Plotly) {\n",
       "            window._Plotly = Plotly;\n",
       "        });\n",
       "        }\n",
       "        </script>\n",
       "        "
      ]
     },
     "metadata": {},
     "output_type": "display_data"
    },
    {
     "data": {
      "text/html": [
       "<div>                            <div id=\"ba6a60e6-fc56-4e72-a39d-b086d615c2be\" class=\"plotly-graph-div\" style=\"height:525px; width:100%;\"></div>            <script type=\"text/javascript\">                require([\"plotly\"], function(Plotly) {                    window.PLOTLYENV=window.PLOTLYENV || {};                                    if (document.getElementById(\"ba6a60e6-fc56-4e72-a39d-b086d615c2be\")) {                    Plotly.newPlot(                        \"ba6a60e6-fc56-4e72-a39d-b086d615c2be\",                        [{\"coloraxis\": \"coloraxis\", \"hovertemplate\": \"features: %{x}<br>activities: %{y}<br>color: %{z}<extra></extra>\", \"type\": \"heatmap\", \"x\": [\"tGravityAcc.energy.X\", \"tBodyAcc.correlation.Y.Z\", \"angle.Y.gravityMean\", \"tGravityAcc.mean.X\", \"tGravityAcc.max.X\", \"tBodyAccJerk.arCoeff.X.3\", \"fBodyAcc.meanFreq.X\", \"tBodyGyro.correlation.X.Y\", \"fBodyAccJerk.maxInds.X\", \"fBodyAcc.skewness.Z\", \"tGravityAcc.arCoeff.Y.2\", \"fBodyAccMag.meanFreq\", \"tGravityAccMag.arCoeff1\", \"tBodyAccJerk.arCoeff.Z.3\", \"tBodyAcc.correlation.X.Y\", \"fBodyAcc.meanFreq.Z\", \"tBodyGyroJerk.arCoeff.Z.4\", \"fBodyAccJerk.mad.Y\", \"tBodyGyroMag.entropy\", \"tBodyGyroJerk.entropy.Y\", \"tBodyAccMag.arCoeff2\", \"tBodyGyro.correlation.X.Z\", \"tBodyGyroJerk.arCoeff.X.1\", \"tBodyGyro.correlation.Y.Z\", \"tBodyGyroJerk.correlation.X.Z\", \"tBodyAcc.arCoeff.Y.4\", \"fBodyAcc.kurtosis.X\", \"angle.X.gravityMean\", \"tGravityAcc.sma\", \"fBodyAcc.skewness.X\"], \"y\": [\"LAYING\", \"STANDING\", \"SITTING\", \"WALKING\", \"WALKING_UPSTAIRS\", \"WALKING_DOWNSTAIRS\"], \"z\": [[-0.12506404519081116, -0.08747697621583939, -0.11867627501487732, -0.09329769760370255, -0.05316799879074097, -0.05644785985350609, -0.10175898671150208, -0.09191207587718964, 0.005786261521279812, -0.04712550714612007, -0.08012846112251282, 0.001711255987174809, 0.06455017626285553, 0.07781440764665604, 0.02916008234024048, 0.023353856056928635, 0.037699244916439056, -0.05578716844320297, -0.061000071465969086, -0.045134808868169785, -0.05054891109466553, 0.06770746409893036, 0.0698365792632103, 0.0894642248749733, 0.09407395124435425, 0.07495778799057007, 0.08325956016778946, 0.10581513494253159, 0.11795762181282043, 0.11568257212638855], [0.13213802874088287, 0.09302938729524612, 0.11292312294244766, 0.054973360151052475, 0.09175565093755722, 0.10410808771848679, 0.05222642049193382, 0.09409697353839874, 0.05181366577744484, 0.08277490735054016, 0.05565440282225609, -0.04008062183856964, 0.01595372147858143, 0.07272207736968994, 0.06634240597486496, -0.014352160505950451, 0.10078015178442001, -0.0688856840133667, -0.04909716919064522, -0.08800720423460007, -0.03751015663146973, -0.09567337483167648, -0.10325893759727478, -0.06096098572015762, -0.11663317680358887, -0.08174449950456619, -0.05933407321572304, -0.08742713183164597, -0.09180673211812973, -0.10596295446157455], [0.09015067666769028, 0.08584014326334, -0.010577443987131119, 0.09876672178506851, 0.12585535645484924, -0.008018727414309978, 0.07378197461366653, 0.013913773000240326, 0.07898343354463577, 0.05402645841240883, 0.023496048524975777, 0.017080724239349365, 0.03457849472761154, -0.034661997109651566, -0.12879928946495056, -0.028677726164460182, -0.05542007461190224, -0.06637433916330338, -0.1052825078368187, -0.026350844651460648, -0.008771996945142746, 0.08296172320842743, 0.0911756232380867, -0.06467489153146744, 0.029325256124138832, 0.050604887306690216, -0.01669660210609436, -0.13450978696346283, -0.04257412627339363, -0.06721900403499603], [0.03413071110844612, 0.08689519017934799, 0.05876747518777847, 0.051809340715408325, 0.032269418239593506, 0.08961115777492523, 0.0009706061100587249, -0.07842012494802475, 0.06870652735233307, -0.03624861687421799, -0.09655920416116714, 0.10931248217821121, 0.09604904800653458, 0.062169257551431656, 0.06791498512029648, 0.11619175970554352, -0.0700753852725029, 0.1019294261932373, 0.093027263879776, 0.08273688703775406, -0.07861855626106262, 0.01643660105764866, -0.025690671056509018, 0.11149439960718155, 0.026136226952075958, -0.1042628064751625, -0.08044981956481934, -0.05378909036517143, -0.09420346468687057, -0.11786263436079025], [-0.014304901473224163, 0.022461744025349617, 0.048283565789461136, -0.011150428093969822, 0.023321667686104774, -0.029097285121679306, -0.06129834055900574, 0.05495767667889595, -0.06490529328584671, 0.09316761046648026, 0.08548198640346527, -0.0951932817697525, -0.09745271503925323, -0.08592412620782852, -0.07144114375114441, -0.08107370138168335, -0.05753544345498085, -0.013151616789400578, 0.023243457078933716, 0.06613173335790634, 0.09749399870634079, -0.06519018858671188, -0.05330369621515274, 0.11609309166669846, -0.1042892262339592, 0.03702179342508316, 0.10962673276662827, -0.038411352783441544, 0.07409635186195374, 0.08526137471199036], [0.064276784658432, -0.008561917580664158, -0.02844838984310627, 0.059077002108097076, 0.0424504280090332, -0.09945227950811386, -0.07398384809494019, 0.0680038258433342, -0.09040766954421997, -0.11034014075994492, 0.029970522969961166, -0.12214552611112595, -0.10173221677541733, 0.03789288550615311, -0.0925128236413002, 0.10994673520326614, 0.03925886005163193, 0.07098936289548874, 0.04876621440052986, 0.06266870349645615, 0.10463086515665054, 0.04631843417882919, -0.06156586483120918, -0.1054362803697586, -0.007687436882406473, 0.053758952766656876, 0.02924841083586216, -0.07840151339769363, -0.07486844062805176, 0.07361344993114471]]}],                        {\"coloraxis\": {\"colorscale\": [[0.0, \"#0d0887\"], [0.1111111111111111, \"#46039f\"], [0.2222222222222222, \"#7201a8\"], [0.3333333333333333, \"#9c179e\"], [0.4444444444444444, \"#bd3786\"], [0.5555555555555556, \"#d8576b\"], [0.6666666666666666, \"#ed7953\"], [0.7777777777777778, \"#fb9f3a\"], [0.8888888888888888, \"#fdca26\"], [1.0, \"#f0f921\"]]}, \"margin\": {\"t\": 60}, \"template\": {\"data\": {\"bar\": [{\"error_x\": {\"color\": \"#2a3f5f\"}, \"error_y\": {\"color\": \"#2a3f5f\"}, \"marker\": {\"line\": {\"color\": \"#E5ECF6\", \"width\": 0.5}}, \"type\": \"bar\"}], \"barpolar\": [{\"marker\": {\"line\": {\"color\": \"#E5ECF6\", \"width\": 0.5}}, \"type\": \"barpolar\"}], \"carpet\": [{\"aaxis\": {\"endlinecolor\": \"#2a3f5f\", \"gridcolor\": \"white\", \"linecolor\": \"white\", \"minorgridcolor\": \"white\", \"startlinecolor\": \"#2a3f5f\"}, \"baxis\": {\"endlinecolor\": \"#2a3f5f\", \"gridcolor\": \"white\", \"linecolor\": \"white\", \"minorgridcolor\": \"white\", \"startlinecolor\": \"#2a3f5f\"}, \"type\": \"carpet\"}], \"choropleth\": [{\"colorbar\": {\"outlinewidth\": 0, \"ticks\": \"\"}, \"type\": \"choropleth\"}], \"contour\": [{\"colorbar\": {\"outlinewidth\": 0, \"ticks\": \"\"}, \"colorscale\": [[0.0, \"#0d0887\"], [0.1111111111111111, \"#46039f\"], [0.2222222222222222, \"#7201a8\"], [0.3333333333333333, \"#9c179e\"], [0.4444444444444444, \"#bd3786\"], [0.5555555555555556, \"#d8576b\"], [0.6666666666666666, \"#ed7953\"], [0.7777777777777778, \"#fb9f3a\"], [0.8888888888888888, \"#fdca26\"], [1.0, \"#f0f921\"]], \"type\": \"contour\"}], \"contourcarpet\": [{\"colorbar\": {\"outlinewidth\": 0, \"ticks\": \"\"}, \"type\": \"contourcarpet\"}], \"heatmap\": [{\"colorbar\": {\"outlinewidth\": 0, \"ticks\": \"\"}, \"colorscale\": [[0.0, \"#0d0887\"], [0.1111111111111111, \"#46039f\"], [0.2222222222222222, \"#7201a8\"], [0.3333333333333333, \"#9c179e\"], [0.4444444444444444, \"#bd3786\"], [0.5555555555555556, \"#d8576b\"], [0.6666666666666666, \"#ed7953\"], [0.7777777777777778, \"#fb9f3a\"], [0.8888888888888888, \"#fdca26\"], [1.0, \"#f0f921\"]], \"type\": \"heatmap\"}], \"heatmapgl\": [{\"colorbar\": {\"outlinewidth\": 0, \"ticks\": \"\"}, \"colorscale\": [[0.0, \"#0d0887\"], [0.1111111111111111, \"#46039f\"], [0.2222222222222222, \"#7201a8\"], [0.3333333333333333, \"#9c179e\"], [0.4444444444444444, \"#bd3786\"], [0.5555555555555556, \"#d8576b\"], [0.6666666666666666, \"#ed7953\"], [0.7777777777777778, \"#fb9f3a\"], [0.8888888888888888, \"#fdca26\"], [1.0, \"#f0f921\"]], \"type\": \"heatmapgl\"}], \"histogram\": [{\"marker\": {\"colorbar\": {\"outlinewidth\": 0, \"ticks\": \"\"}}, \"type\": \"histogram\"}], \"histogram2d\": [{\"colorbar\": {\"outlinewidth\": 0, \"ticks\": \"\"}, \"colorscale\": [[0.0, \"#0d0887\"], [0.1111111111111111, \"#46039f\"], [0.2222222222222222, \"#7201a8\"], [0.3333333333333333, \"#9c179e\"], [0.4444444444444444, \"#bd3786\"], [0.5555555555555556, \"#d8576b\"], [0.6666666666666666, \"#ed7953\"], [0.7777777777777778, \"#fb9f3a\"], [0.8888888888888888, \"#fdca26\"], [1.0, \"#f0f921\"]], \"type\": \"histogram2d\"}], \"histogram2dcontour\": [{\"colorbar\": {\"outlinewidth\": 0, \"ticks\": \"\"}, \"colorscale\": [[0.0, \"#0d0887\"], [0.1111111111111111, \"#46039f\"], [0.2222222222222222, \"#7201a8\"], [0.3333333333333333, \"#9c179e\"], [0.4444444444444444, \"#bd3786\"], [0.5555555555555556, \"#d8576b\"], [0.6666666666666666, \"#ed7953\"], [0.7777777777777778, \"#fb9f3a\"], [0.8888888888888888, \"#fdca26\"], [1.0, \"#f0f921\"]], \"type\": \"histogram2dcontour\"}], \"mesh3d\": [{\"colorbar\": {\"outlinewidth\": 0, \"ticks\": \"\"}, \"type\": \"mesh3d\"}], \"parcoords\": [{\"line\": {\"colorbar\": {\"outlinewidth\": 0, \"ticks\": \"\"}}, \"type\": \"parcoords\"}], \"pie\": [{\"automargin\": true, \"type\": \"pie\"}], \"scatter\": [{\"marker\": {\"colorbar\": {\"outlinewidth\": 0, \"ticks\": \"\"}}, \"type\": \"scatter\"}], \"scatter3d\": [{\"line\": {\"colorbar\": {\"outlinewidth\": 0, \"ticks\": \"\"}}, \"marker\": {\"colorbar\": {\"outlinewidth\": 0, \"ticks\": \"\"}}, \"type\": \"scatter3d\"}], \"scattercarpet\": [{\"marker\": {\"colorbar\": {\"outlinewidth\": 0, \"ticks\": \"\"}}, \"type\": \"scattercarpet\"}], \"scattergeo\": [{\"marker\": {\"colorbar\": {\"outlinewidth\": 0, \"ticks\": \"\"}}, \"type\": \"scattergeo\"}], \"scattergl\": [{\"marker\": {\"colorbar\": {\"outlinewidth\": 0, \"ticks\": \"\"}}, \"type\": \"scattergl\"}], \"scattermapbox\": [{\"marker\": {\"colorbar\": {\"outlinewidth\": 0, \"ticks\": \"\"}}, \"type\": \"scattermapbox\"}], \"scatterpolar\": [{\"marker\": {\"colorbar\": {\"outlinewidth\": 0, \"ticks\": \"\"}}, \"type\": \"scatterpolar\"}], \"scatterpolargl\": [{\"marker\": {\"colorbar\": {\"outlinewidth\": 0, \"ticks\": \"\"}}, \"type\": \"scatterpolargl\"}], \"scatterternary\": [{\"marker\": {\"colorbar\": {\"outlinewidth\": 0, \"ticks\": \"\"}}, \"type\": \"scatterternary\"}], \"surface\": [{\"colorbar\": {\"outlinewidth\": 0, \"ticks\": \"\"}, \"colorscale\": [[0.0, \"#0d0887\"], [0.1111111111111111, \"#46039f\"], [0.2222222222222222, \"#7201a8\"], [0.3333333333333333, \"#9c179e\"], [0.4444444444444444, \"#bd3786\"], [0.5555555555555556, \"#d8576b\"], [0.6666666666666666, \"#ed7953\"], [0.7777777777777778, \"#fb9f3a\"], [0.8888888888888888, \"#fdca26\"], [1.0, \"#f0f921\"]], \"type\": \"surface\"}], \"table\": [{\"cells\": {\"fill\": {\"color\": \"#EBF0F8\"}, \"line\": {\"color\": \"white\"}}, \"header\": {\"fill\": {\"color\": \"#C8D4E3\"}, \"line\": {\"color\": \"white\"}}, \"type\": \"table\"}]}, \"layout\": {\"annotationdefaults\": {\"arrowcolor\": \"#2a3f5f\", \"arrowhead\": 0, \"arrowwidth\": 1}, \"coloraxis\": {\"colorbar\": {\"outlinewidth\": 0, \"ticks\": \"\"}}, \"colorscale\": {\"diverging\": [[0, \"#8e0152\"], [0.1, \"#c51b7d\"], [0.2, \"#de77ae\"], [0.3, \"#f1b6da\"], [0.4, \"#fde0ef\"], [0.5, \"#f7f7f7\"], [0.6, \"#e6f5d0\"], [0.7, \"#b8e186\"], [0.8, \"#7fbc41\"], [0.9, \"#4d9221\"], [1, \"#276419\"]], \"sequential\": [[0.0, \"#0d0887\"], [0.1111111111111111, \"#46039f\"], [0.2222222222222222, \"#7201a8\"], [0.3333333333333333, \"#9c179e\"], [0.4444444444444444, \"#bd3786\"], [0.5555555555555556, \"#d8576b\"], [0.6666666666666666, \"#ed7953\"], [0.7777777777777778, \"#fb9f3a\"], [0.8888888888888888, \"#fdca26\"], [1.0, \"#f0f921\"]], \"sequentialminus\": [[0.0, \"#0d0887\"], [0.1111111111111111, \"#46039f\"], [0.2222222222222222, \"#7201a8\"], [0.3333333333333333, \"#9c179e\"], [0.4444444444444444, \"#bd3786\"], [0.5555555555555556, \"#d8576b\"], [0.6666666666666666, \"#ed7953\"], [0.7777777777777778, \"#fb9f3a\"], [0.8888888888888888, \"#fdca26\"], [1.0, \"#f0f921\"]]}, \"colorway\": [\"#636efa\", \"#EF553B\", \"#00cc96\", \"#ab63fa\", \"#FFA15A\", \"#19d3f3\", \"#FF6692\", \"#B6E880\", \"#FF97FF\", \"#FECB52\"], \"font\": {\"color\": \"#2a3f5f\"}, \"geo\": {\"bgcolor\": \"white\", \"lakecolor\": \"white\", \"landcolor\": \"#E5ECF6\", \"showlakes\": true, \"showland\": true, \"subunitcolor\": \"white\"}, \"hoverlabel\": {\"align\": \"left\"}, \"hovermode\": \"closest\", \"mapbox\": {\"style\": \"light\"}, \"paper_bgcolor\": \"white\", \"plot_bgcolor\": \"#E5ECF6\", \"polar\": {\"angularaxis\": {\"gridcolor\": \"white\", \"linecolor\": \"white\", \"ticks\": \"\"}, \"bgcolor\": \"#E5ECF6\", \"radialaxis\": {\"gridcolor\": \"white\", \"linecolor\": \"white\", \"ticks\": \"\"}}, \"scene\": {\"xaxis\": {\"backgroundcolor\": \"#E5ECF6\", \"gridcolor\": \"white\", \"gridwidth\": 2, \"linecolor\": \"white\", \"showbackground\": true, \"ticks\": \"\", \"zerolinecolor\": \"white\"}, \"yaxis\": {\"backgroundcolor\": \"#E5ECF6\", \"gridcolor\": \"white\", \"gridwidth\": 2, \"linecolor\": \"white\", \"showbackground\": true, \"ticks\": \"\", \"zerolinecolor\": \"white\"}, \"zaxis\": {\"backgroundcolor\": \"#E5ECF6\", \"gridcolor\": \"white\", \"gridwidth\": 2, \"linecolor\": \"white\", \"showbackground\": true, \"ticks\": \"\", \"zerolinecolor\": \"white\"}}, \"shapedefaults\": {\"line\": {\"color\": \"#2a3f5f\"}}, \"ternary\": {\"aaxis\": {\"gridcolor\": \"white\", \"linecolor\": \"white\", \"ticks\": \"\"}, \"baxis\": {\"gridcolor\": \"white\", \"linecolor\": \"white\", \"ticks\": \"\"}, \"bgcolor\": \"#E5ECF6\", \"caxis\": {\"gridcolor\": \"white\", \"linecolor\": \"white\", \"ticks\": \"\"}}, \"title\": {\"x\": 0.05}, \"xaxis\": {\"automargin\": true, \"gridcolor\": \"white\", \"linecolor\": \"white\", \"ticks\": \"\", \"title\": {\"standoff\": 15}, \"zerolinecolor\": \"white\", \"zerolinewidth\": 2}, \"yaxis\": {\"automargin\": true, \"gridcolor\": \"white\", \"linecolor\": \"white\", \"ticks\": \"\", \"title\": {\"standoff\": 15}, \"zerolinecolor\": \"white\", \"zerolinewidth\": 2}}}, \"xaxis\": {\"constrain\": \"domain\", \"scaleanchor\": \"y\", \"side\": \"top\", \"title\": {\"text\": \"features\"}}, \"yaxis\": {\"autorange\": \"reversed\", \"constrain\": \"domain\", \"title\": {\"text\": \"activities\"}}},                        {\"responsive\": true}                    ).then(function(){\n",
       "                            \n",
       "var gd = document.getElementById('ba6a60e6-fc56-4e72-a39d-b086d615c2be');\n",
       "var x = new MutationObserver(function (mutations, observer) {{\n",
       "        var display = window.getComputedStyle(gd).display;\n",
       "        if (!display || display === 'none') {{\n",
       "            console.log([gd, 'removed!']);\n",
       "            Plotly.purge(gd);\n",
       "            observer.disconnect();\n",
       "        }}\n",
       "}});\n",
       "\n",
       "// Listen for the removal of the full notebook cells\n",
       "var notebookContainer = gd.closest('#notebook-container');\n",
       "if (notebookContainer) {{\n",
       "    x.observe(notebookContainer, {childList: true});\n",
       "}}\n",
       "\n",
       "// Listen for the clearing of the current output cell\n",
       "var outputEl = gd.closest('.output');\n",
       "if (outputEl) {{\n",
       "    x.observe(outputEl, {childList: true});\n",
       "}}\n",
       "\n",
       "                        })                };                });            </script>        </div>"
      ]
     },
     "metadata": {},
     "output_type": "display_data"
    }
   ],
   "source": [
    "plot_heat(\n",
    "    w=linear_weight[most_influential_rank][:30],\n",
    "    xname=\"features\",\n",
    "    yname=\"activities\",\n",
    "    x=x_map[most_influential_rank][:30],\n",
    "    y=np.array(list(y_map.keys()))\n",
    ")"
   ]
  },
  {
   "cell_type": "code",
   "execution_count": 30,
   "metadata": {
    "execution": {
     "iopub.execute_input": "2020-11-13T07:02:26.300309Z",
     "iopub.status.busy": "2020-11-13T07:02:26.295167Z",
     "iopub.status.idle": "2020-11-13T07:02:26.333345Z",
     "shell.execute_reply": "2020-11-13T07:02:26.332714Z"
    },
    "papermill": {
     "duration": 0.157054,
     "end_time": "2020-11-13T07:02:26.333467",
     "exception": false,
     "start_time": "2020-11-13T07:02:26.176413",
     "status": "completed"
    },
    "tags": []
   },
   "outputs": [
    {
     "name": "stderr",
     "output_type": "stream",
     "text": [
      "/opt/conda/lib/python3.7/site-packages/sklearn/decomposition/_pca.py:461: RuntimeWarning:\n",
      "\n",
      "invalid value encountered in true_divide\n",
      "\n"
     ]
    },
    {
     "data": {
      "text/html": [
       "<div>                            <div id=\"193601e9-fe40-4df8-ab40-b8cc4beb7b53\" class=\"plotly-graph-div\" style=\"height:525px; width:100%;\"></div>            <script type=\"text/javascript\">                require([\"plotly\"], function(Plotly) {                    window.PLOTLYENV=window.PLOTLYENV || {};                                    if (document.getElementById(\"193601e9-fe40-4df8-ab40-b8cc4beb7b53\")) {                    Plotly.newPlot(                        \"193601e9-fe40-4df8-ab40-b8cc4beb7b53\",                        [{\"coloraxis\": \"coloraxis\", \"hovertemplate\": \"bias: %{x}<br>activities: %{y}<br>color: %{z}<extra></extra>\", \"type\": \"heatmap\", \"x\": [\"bias_layer\"], \"y\": [\"LAYING\", \"STANDING\", \"SITTING\", \"WALKING\", \"WALKING_UPSTAIRS\", \"WALKING_DOWNSTAIRS\"], \"z\": [[-0.027273820713162422], [0.006649511866271496], [-0.056083038449287415], [0.017834169790148735], [0.015856007114052773], [0.031830865889787674]]}],                        {\"coloraxis\": {\"colorscale\": [[0.0, \"#0d0887\"], [0.1111111111111111, \"#46039f\"], [0.2222222222222222, \"#7201a8\"], [0.3333333333333333, \"#9c179e\"], [0.4444444444444444, \"#bd3786\"], [0.5555555555555556, \"#d8576b\"], [0.6666666666666666, \"#ed7953\"], [0.7777777777777778, \"#fb9f3a\"], [0.8888888888888888, \"#fdca26\"], [1.0, \"#f0f921\"]]}, \"margin\": {\"t\": 60}, \"template\": {\"data\": {\"bar\": [{\"error_x\": {\"color\": \"#2a3f5f\"}, \"error_y\": {\"color\": \"#2a3f5f\"}, \"marker\": {\"line\": {\"color\": \"#E5ECF6\", \"width\": 0.5}}, \"type\": \"bar\"}], \"barpolar\": [{\"marker\": {\"line\": {\"color\": \"#E5ECF6\", \"width\": 0.5}}, \"type\": \"barpolar\"}], \"carpet\": [{\"aaxis\": {\"endlinecolor\": \"#2a3f5f\", \"gridcolor\": \"white\", \"linecolor\": \"white\", \"minorgridcolor\": \"white\", \"startlinecolor\": \"#2a3f5f\"}, \"baxis\": {\"endlinecolor\": \"#2a3f5f\", \"gridcolor\": \"white\", \"linecolor\": \"white\", \"minorgridcolor\": \"white\", \"startlinecolor\": \"#2a3f5f\"}, \"type\": \"carpet\"}], \"choropleth\": [{\"colorbar\": {\"outlinewidth\": 0, \"ticks\": \"\"}, \"type\": \"choropleth\"}], \"contour\": [{\"colorbar\": {\"outlinewidth\": 0, \"ticks\": \"\"}, \"colorscale\": [[0.0, \"#0d0887\"], [0.1111111111111111, \"#46039f\"], [0.2222222222222222, \"#7201a8\"], [0.3333333333333333, \"#9c179e\"], [0.4444444444444444, \"#bd3786\"], [0.5555555555555556, \"#d8576b\"], [0.6666666666666666, \"#ed7953\"], [0.7777777777777778, \"#fb9f3a\"], [0.8888888888888888, \"#fdca26\"], [1.0, \"#f0f921\"]], \"type\": \"contour\"}], \"contourcarpet\": [{\"colorbar\": {\"outlinewidth\": 0, \"ticks\": \"\"}, \"type\": \"contourcarpet\"}], \"heatmap\": [{\"colorbar\": {\"outlinewidth\": 0, \"ticks\": \"\"}, \"colorscale\": [[0.0, \"#0d0887\"], [0.1111111111111111, \"#46039f\"], [0.2222222222222222, \"#7201a8\"], [0.3333333333333333, \"#9c179e\"], [0.4444444444444444, \"#bd3786\"], [0.5555555555555556, \"#d8576b\"], [0.6666666666666666, \"#ed7953\"], [0.7777777777777778, \"#fb9f3a\"], [0.8888888888888888, \"#fdca26\"], [1.0, \"#f0f921\"]], \"type\": \"heatmap\"}], \"heatmapgl\": [{\"colorbar\": {\"outlinewidth\": 0, \"ticks\": \"\"}, \"colorscale\": [[0.0, \"#0d0887\"], [0.1111111111111111, \"#46039f\"], [0.2222222222222222, \"#7201a8\"], [0.3333333333333333, \"#9c179e\"], [0.4444444444444444, \"#bd3786\"], [0.5555555555555556, \"#d8576b\"], [0.6666666666666666, \"#ed7953\"], [0.7777777777777778, \"#fb9f3a\"], [0.8888888888888888, \"#fdca26\"], [1.0, \"#f0f921\"]], \"type\": \"heatmapgl\"}], \"histogram\": [{\"marker\": {\"colorbar\": {\"outlinewidth\": 0, \"ticks\": \"\"}}, \"type\": \"histogram\"}], \"histogram2d\": [{\"colorbar\": {\"outlinewidth\": 0, \"ticks\": \"\"}, \"colorscale\": [[0.0, \"#0d0887\"], [0.1111111111111111, \"#46039f\"], [0.2222222222222222, \"#7201a8\"], [0.3333333333333333, \"#9c179e\"], [0.4444444444444444, \"#bd3786\"], [0.5555555555555556, \"#d8576b\"], [0.6666666666666666, \"#ed7953\"], [0.7777777777777778, \"#fb9f3a\"], [0.8888888888888888, \"#fdca26\"], [1.0, \"#f0f921\"]], \"type\": \"histogram2d\"}], \"histogram2dcontour\": [{\"colorbar\": {\"outlinewidth\": 0, \"ticks\": \"\"}, \"colorscale\": [[0.0, \"#0d0887\"], [0.1111111111111111, \"#46039f\"], [0.2222222222222222, \"#7201a8\"], [0.3333333333333333, \"#9c179e\"], [0.4444444444444444, \"#bd3786\"], [0.5555555555555556, \"#d8576b\"], [0.6666666666666666, \"#ed7953\"], [0.7777777777777778, \"#fb9f3a\"], [0.8888888888888888, \"#fdca26\"], [1.0, \"#f0f921\"]], \"type\": \"histogram2dcontour\"}], \"mesh3d\": [{\"colorbar\": {\"outlinewidth\": 0, \"ticks\": \"\"}, \"type\": \"mesh3d\"}], \"parcoords\": [{\"line\": {\"colorbar\": {\"outlinewidth\": 0, \"ticks\": \"\"}}, \"type\": \"parcoords\"}], \"pie\": [{\"automargin\": true, \"type\": \"pie\"}], \"scatter\": [{\"marker\": {\"colorbar\": {\"outlinewidth\": 0, \"ticks\": \"\"}}, \"type\": \"scatter\"}], \"scatter3d\": [{\"line\": {\"colorbar\": {\"outlinewidth\": 0, \"ticks\": \"\"}}, \"marker\": {\"colorbar\": {\"outlinewidth\": 0, \"ticks\": \"\"}}, \"type\": \"scatter3d\"}], \"scattercarpet\": [{\"marker\": {\"colorbar\": {\"outlinewidth\": 0, \"ticks\": \"\"}}, \"type\": \"scattercarpet\"}], \"scattergeo\": [{\"marker\": {\"colorbar\": {\"outlinewidth\": 0, \"ticks\": \"\"}}, \"type\": \"scattergeo\"}], \"scattergl\": [{\"marker\": {\"colorbar\": {\"outlinewidth\": 0, \"ticks\": \"\"}}, \"type\": \"scattergl\"}], \"scattermapbox\": [{\"marker\": {\"colorbar\": {\"outlinewidth\": 0, \"ticks\": \"\"}}, \"type\": \"scattermapbox\"}], \"scatterpolar\": [{\"marker\": {\"colorbar\": {\"outlinewidth\": 0, \"ticks\": \"\"}}, \"type\": \"scatterpolar\"}], \"scatterpolargl\": [{\"marker\": {\"colorbar\": {\"outlinewidth\": 0, \"ticks\": \"\"}}, \"type\": \"scatterpolargl\"}], \"scatterternary\": [{\"marker\": {\"colorbar\": {\"outlinewidth\": 0, \"ticks\": \"\"}}, \"type\": \"scatterternary\"}], \"surface\": [{\"colorbar\": {\"outlinewidth\": 0, \"ticks\": \"\"}, \"colorscale\": [[0.0, \"#0d0887\"], [0.1111111111111111, \"#46039f\"], [0.2222222222222222, \"#7201a8\"], [0.3333333333333333, \"#9c179e\"], [0.4444444444444444, \"#bd3786\"], [0.5555555555555556, \"#d8576b\"], [0.6666666666666666, \"#ed7953\"], [0.7777777777777778, \"#fb9f3a\"], [0.8888888888888888, \"#fdca26\"], [1.0, \"#f0f921\"]], \"type\": \"surface\"}], \"table\": [{\"cells\": {\"fill\": {\"color\": \"#EBF0F8\"}, \"line\": {\"color\": \"white\"}}, \"header\": {\"fill\": {\"color\": \"#C8D4E3\"}, \"line\": {\"color\": \"white\"}}, \"type\": \"table\"}]}, \"layout\": {\"annotationdefaults\": {\"arrowcolor\": \"#2a3f5f\", \"arrowhead\": 0, \"arrowwidth\": 1}, \"coloraxis\": {\"colorbar\": {\"outlinewidth\": 0, \"ticks\": \"\"}}, \"colorscale\": {\"diverging\": [[0, \"#8e0152\"], [0.1, \"#c51b7d\"], [0.2, \"#de77ae\"], [0.3, \"#f1b6da\"], [0.4, \"#fde0ef\"], [0.5, \"#f7f7f7\"], [0.6, \"#e6f5d0\"], [0.7, \"#b8e186\"], [0.8, \"#7fbc41\"], [0.9, \"#4d9221\"], [1, \"#276419\"]], \"sequential\": [[0.0, \"#0d0887\"], [0.1111111111111111, \"#46039f\"], [0.2222222222222222, \"#7201a8\"], [0.3333333333333333, \"#9c179e\"], [0.4444444444444444, \"#bd3786\"], [0.5555555555555556, \"#d8576b\"], [0.6666666666666666, \"#ed7953\"], [0.7777777777777778, \"#fb9f3a\"], [0.8888888888888888, \"#fdca26\"], [1.0, \"#f0f921\"]], \"sequentialminus\": [[0.0, \"#0d0887\"], [0.1111111111111111, \"#46039f\"], [0.2222222222222222, \"#7201a8\"], [0.3333333333333333, \"#9c179e\"], [0.4444444444444444, \"#bd3786\"], [0.5555555555555556, \"#d8576b\"], [0.6666666666666666, \"#ed7953\"], [0.7777777777777778, \"#fb9f3a\"], [0.8888888888888888, \"#fdca26\"], [1.0, \"#f0f921\"]]}, \"colorway\": [\"#636efa\", \"#EF553B\", \"#00cc96\", \"#ab63fa\", \"#FFA15A\", \"#19d3f3\", \"#FF6692\", \"#B6E880\", \"#FF97FF\", \"#FECB52\"], \"font\": {\"color\": \"#2a3f5f\"}, \"geo\": {\"bgcolor\": \"white\", \"lakecolor\": \"white\", \"landcolor\": \"#E5ECF6\", \"showlakes\": true, \"showland\": true, \"subunitcolor\": \"white\"}, \"hoverlabel\": {\"align\": \"left\"}, \"hovermode\": \"closest\", \"mapbox\": {\"style\": \"light\"}, \"paper_bgcolor\": \"white\", \"plot_bgcolor\": \"#E5ECF6\", \"polar\": {\"angularaxis\": {\"gridcolor\": \"white\", \"linecolor\": \"white\", \"ticks\": \"\"}, \"bgcolor\": \"#E5ECF6\", \"radialaxis\": {\"gridcolor\": \"white\", \"linecolor\": \"white\", \"ticks\": \"\"}}, \"scene\": {\"xaxis\": {\"backgroundcolor\": \"#E5ECF6\", \"gridcolor\": \"white\", \"gridwidth\": 2, \"linecolor\": \"white\", \"showbackground\": true, \"ticks\": \"\", \"zerolinecolor\": \"white\"}, \"yaxis\": {\"backgroundcolor\": \"#E5ECF6\", \"gridcolor\": \"white\", \"gridwidth\": 2, \"linecolor\": \"white\", \"showbackground\": true, \"ticks\": \"\", \"zerolinecolor\": \"white\"}, \"zaxis\": {\"backgroundcolor\": \"#E5ECF6\", \"gridcolor\": \"white\", \"gridwidth\": 2, \"linecolor\": \"white\", \"showbackground\": true, \"ticks\": \"\", \"zerolinecolor\": \"white\"}}, \"shapedefaults\": {\"line\": {\"color\": \"#2a3f5f\"}}, \"ternary\": {\"aaxis\": {\"gridcolor\": \"white\", \"linecolor\": \"white\", \"ticks\": \"\"}, \"baxis\": {\"gridcolor\": \"white\", \"linecolor\": \"white\", \"ticks\": \"\"}, \"bgcolor\": \"#E5ECF6\", \"caxis\": {\"gridcolor\": \"white\", \"linecolor\": \"white\", \"ticks\": \"\"}}, \"title\": {\"x\": 0.05}, \"xaxis\": {\"automargin\": true, \"gridcolor\": \"white\", \"linecolor\": \"white\", \"ticks\": \"\", \"title\": {\"standoff\": 15}, \"zerolinecolor\": \"white\", \"zerolinewidth\": 2}, \"yaxis\": {\"automargin\": true, \"gridcolor\": \"white\", \"linecolor\": \"white\", \"ticks\": \"\", \"title\": {\"standoff\": 15}, \"zerolinecolor\": \"white\", \"zerolinewidth\": 2}}}, \"xaxis\": {\"constrain\": \"domain\", \"scaleanchor\": \"y\", \"side\": \"top\", \"title\": {\"text\": \"bias\"}}, \"yaxis\": {\"autorange\": \"reversed\", \"constrain\": \"domain\", \"title\": {\"text\": \"activities\"}}},                        {\"responsive\": true}                    ).then(function(){\n",
       "                            \n",
       "var gd = document.getElementById('193601e9-fe40-4df8-ab40-b8cc4beb7b53');\n",
       "var x = new MutationObserver(function (mutations, observer) {{\n",
       "        var display = window.getComputedStyle(gd).display;\n",
       "        if (!display || display === 'none') {{\n",
       "            console.log([gd, 'removed!']);\n",
       "            Plotly.purge(gd);\n",
       "            observer.disconnect();\n",
       "        }}\n",
       "}});\n",
       "\n",
       "// Listen for the removal of the full notebook cells\n",
       "var notebookContainer = gd.closest('#notebook-container');\n",
       "if (notebookContainer) {{\n",
       "    x.observe(notebookContainer, {childList: true});\n",
       "}}\n",
       "\n",
       "// Listen for the clearing of the current output cell\n",
       "var outputEl = gd.closest('.output');\n",
       "if (outputEl) {{\n",
       "    x.observe(outputEl, {childList: true});\n",
       "}}\n",
       "\n",
       "                        })                };                });            </script>        </div>"
      ]
     },
     "metadata": {},
     "output_type": "display_data"
    }
   ],
   "source": [
    "plot_heat(\n",
    "    w=linear_model.bias.data.numpy()[None,:],\n",
    "    xname=\"bias\",\n",
    "    yname=\"activities\",\n",
    "    x=np.array([\"bias_layer\",]),\n",
    "    y=np.array(list(y_map.keys()))\n",
    ")"
   ]
  },
  {
   "cell_type": "code",
   "execution_count": 31,
   "metadata": {
    "execution": {
     "iopub.execute_input": "2020-11-13T07:02:26.495980Z",
     "iopub.status.busy": "2020-11-13T07:02:26.495121Z",
     "iopub.status.idle": "2020-11-13T07:02:26.499196Z",
     "shell.execute_reply": "2020-11-13T07:02:26.498453Z"
    },
    "papermill": {
     "duration": 0.088859,
     "end_time": "2020-11-13T07:02:26.499323",
     "exception": false,
     "start_time": "2020-11-13T07:02:26.410464",
     "status": "completed"
    },
    "tags": []
   },
   "outputs": [
    {
     "data": {
      "text/plain": [
       "(Linear(in_features=561, out_features=512, bias=True),\n",
       " Linear(in_features=512, out_features=6, bias=True))"
      ]
     },
     "execution_count": 31,
     "metadata": {},
     "output_type": "execute_result"
    }
   ],
   "source": [
    "neural_network[0],neural_network[3]"
   ]
  },
  {
   "cell_type": "markdown",
   "metadata": {
    "papermill": {
     "duration": 0.076919,
     "end_time": "2020-11-13T07:02:26.653477",
     "exception": false,
     "start_time": "2020-11-13T07:02:26.576558",
     "status": "completed"
    },
    "tags": []
   },
   "source": [
    "## Break linearity\n",
    "> But linearity can not simulate a full spectrum of ```OR, AND, XOR``` logic gates, the weight $W_{ij}$ simply tells \"the bigger/smaller $X_{i}$ the better for lable $Y_{j}$\"\n",
    "\n",
    "Instead of $X_{i} \\times W_{ij} => Y_{j}$, we do $X_{i} \\times L1_{ik} => H_{k}, H_{k}\\times L2_{kj} => Y_{j}$\n",
    "\n",
    "> Neural network just using a linear model to fit input into hidden neurons (summarize input features into a middle layer), then use another linear model to fit hidden neurons into output. Hence breaking the linearity.\n",
    "\n",
    "### Visualize input to hidden layer\n",
    "> We pick first 80 input features and first 30 hidden neurons to visualize"
   ]
  },
  {
   "cell_type": "code",
   "execution_count": 32,
   "metadata": {
    "execution": {
     "iopub.execute_input": "2020-11-13T07:02:26.820803Z",
     "iopub.status.busy": "2020-11-13T07:02:26.819697Z",
     "iopub.status.idle": "2020-11-13T07:02:26.876309Z",
     "shell.execute_reply": "2020-11-13T07:02:26.876925Z"
    },
    "papermill": {
     "duration": 0.146964,
     "end_time": "2020-11-13T07:02:26.877099",
     "exception": false,
     "start_time": "2020-11-13T07:02:26.730135",
     "status": "completed"
    },
    "tags": []
   },
   "outputs": [
    {
     "data": {
      "text/html": [
       "<div>                            <div id=\"69928805-2446-45f9-8abc-b2abe8cc47b9\" class=\"plotly-graph-div\" style=\"height:525px; width:100%;\"></div>            <script type=\"text/javascript\">                require([\"plotly\"], function(Plotly) {                    window.PLOTLYENV=window.PLOTLYENV || {};                                    if (document.getElementById(\"69928805-2446-45f9-8abc-b2abe8cc47b9\")) {                    Plotly.newPlot(                        \"69928805-2446-45f9-8abc-b2abe8cc47b9\",                        [{\"coloraxis\": \"coloraxis\", \"hovertemplate\": \"features: %{x}<br>hidden_feature: %{y}<br>color: %{z}<extra></extra>\", \"type\": \"heatmap\", \"x\": [\"tGravityAcc.entropy.Z\", \"tBodyAcc.mean.X\", \"tGravityAcc.std.Y\", \"tBodyAcc.min.Z\", \"tGravityAcc.max.X\", \"tBodyAcc.min.X\", \"tGravityAcc.arCoeff.Y.3\", \"tGravityAcc.correlation.Y.Z\", \"tBodyAcc.mean.Z\", \"tBodyAcc.arCoeff.X.1\", \"tGravityAcc.mean.X\", \"tBodyAcc.correlation.X.Y\", \"tBodyAcc.correlation.X.Z\", \"tBodyAcc.min.Y\", \"tBodyAcc.arCoeff.Y.2\", \"tGravityAcc.arCoeff.Z.1\", \"tBodyAcc.arCoeff.Y.1\", \"tBodyAcc.mean.Y\", \"tGravityAcc.energy.X\", \"tGravityAcc.iqr.Y\", \"tBodyAcc.std.X\", \"tBodyAcc.iqr.Z\", \"tBodyAcc.arCoeff.Z.1\", \"tBodyAcc.arCoeff.X.4\", \"tBodyAcc.mad.Y\", \"tGravityAcc.mad.X\", \"tGravityAcc.iqr.X\", \"tGravityAcc.mad.Y\", \"tBodyAcc.sma\", \"tGravityAcc.arCoeff.Y.4\", \"tGravityAcc.entropy.X\", \"tGravityAcc.mean.Z\", \"tBodyAcc.iqr.Y\", \"tGravityAcc.arCoeff.Z.3\", \"tBodyAcc.entropy.Z\", \"tGravityAcc.arCoeff.Z.2\", \"tGravityAcc.correlation.X.Z\", \"tBodyAcc.arCoeff.Y.3\", \"tGravityAcc.arCoeff.Y.1\", \"tGravityAcc.min.X\", \"tGravityAcc.energy.Y\", \"tGravityAcc.sma\", \"tGravityAcc.arCoeff.X.3\", \"tGravityAcc.arCoeff.Y.2\", \"tBodyAcc.mad.X\", \"tGravityAcc.mad.Z\", \"tBodyAcc.energy.X\", \"tBodyAcc.max.Z\", \"tGravityAcc.max.Z\", \"tBodyAcc.arCoeff.Z.2\", \"tGravityAcc.arCoeff.X.1\", \"tBodyAcc.arCoeff.X.3\", \"tBodyAcc.iqr.X\", \"tBodyAcc.correlation.Y.Z\", \"tGravityAcc.std.Z\", \"tGravityAcc.arCoeff.X.4\", \"tGravityAcc.std.X\", \"tBodyAcc.max.X\", \"tBodyAcc.arCoeff.Z.3\", \"tGravityAcc.arCoeff.X.2\", \"tGravityAcc.min.Z\", \"tGravityAcc.energy.Z\", \"tBodyAcc.max.Y\", \"tGravityAcc.correlation.X.Y\", \"tBodyAcc.mad.Z\", \"tBodyAcc.arCoeff.Y.4\", \"tGravityAcc.iqr.Z\", \"tBodyAcc.energy.Z\", \"tBodyAcc.entropy.X\", \"tGravityAcc.arCoeff.Z.4\", \"tGravityAcc.min.Y\", \"tGravityAcc.entropy.Y\", \"tBodyAcc.entropy.Y\", \"tBodyAcc.energy.Y\", \"tBodyAcc.std.Y\", \"tBodyAcc.arCoeff.Z.4\", \"tBodyAcc.std.Z\", \"tBodyAcc.arCoeff.X.2\", \"tGravityAcc.mean.Y\", \"tGravityAcc.max.Y\"], \"y\": [0, 1, 2, 3, 4, 5, 6, 7, 8, 9, 10, 11, 12, 13, 14, 15, 16, 17, 18, 19, 20, 21, 22, 23, 24, 25, 26, 27, 28, 29], \"z\": [[0.008419793099164963, 0.005119055975228548, 0.022322818636894226, 0.04343750700354576, 0.043932609260082245, 0.00015170089318417013, 0.016189921647310257, 0.02914193645119667, 0.040623825043439865, -0.02882143296301365, 0.049953289330005646, -0.037109069526195526, -0.048585787415504456, -0.008932586759328842, 0.037573374807834625, 0.00018476035620551556, 0.03413630649447441, 0.03498176857829094, 0.06223541125655174, 0.005569877568632364, 0.01965995691716671, -0.006544723641127348, 0.023677358403801918, -0.01148397009819746, 0.005451988894492388, 0.02727740816771984, 0.018991980701684952, 0.007132875733077526, -0.0222215186804533, 0.0007468624389730394, 0.010690080001950264, -0.015944385901093483, 0.03418427333235741, 0.029102664440870285, 0.029618913307785988, -0.016938719898462296, 0.019033534452319145, -0.010861219838261604, -0.019891560077667236, 0.040842242538928986, -0.010709572583436966, -0.019399432465434074, -0.019270306453108788, -0.019647950306534767, -0.002894457196816802, 0.03659532964229584, 0.026150278747081757, 0.02148914337158203, -0.02393462136387825, 0.0333644300699234, 0.03469480574131012, -0.027185242623090744, -0.01937750168144703, 0.003496469696983695, -0.033903125673532486, 0.017996646463871002, 0.022457342594861984, 0.0035125224385410547, -0.004869624972343445, 0.002930507529526949, -0.013253048993647099, -0.05917637422680855, 0.0013645474100485444, -0.01803744211792946, -0.013449656777083874, 0.05286485329270363, -0.03427046164870262, 0.016672711819410324, 0.006566652562469244, -0.011344286613166332, -0.037648145109415054, 0.026003357023000717, -0.019265098497271538, 0.03731296956539154, -0.03165147826075554, 0.018606774508953094, 0.010740585625171661, -0.007186455186456442, -0.005120011977851391, -0.02510991320014], [0.029197927564382553, 0.017353182658553123, 0.028752967715263367, -0.036017704755067825, -0.012122688814997673, 0.00792989693582058, 0.019994419068098068, -0.018156465142965317, 0.014408428221940994, 0.010772701352834702, -0.0058294557966291904, 0.005074128974229097, 0.009283547289669514, 0.032346952706575394, -0.01633227989077568, 0.00025056194863282144, -0.044703174382448196, -0.005141735076904297, -0.023993229493498802, 0.007877775467932224, 0.01599651388823986, 0.01881192810833454, -0.005044803023338318, -0.02738736756145954, -0.023155689239501953, -0.024918261915445328, -0.03170168772339821, 0.03512127324938774, 0.03575783222913742, -0.005978522356599569, -0.016167771071195602, 0.0157347172498703, -0.008653135970234871, 0.028959941118955612, -0.009657996706664562, -0.029964756220579147, 0.03789151459932327, -0.04682048410177231, -0.004873139783740044, 0.02008552849292755, 0.011296406388282776, -0.00948703195899725, 0.002938872901722789, 0.027551665902137756, -0.014492684043943882, -0.018758343532681465, -0.01192854531109333, -0.010536182671785355, -0.006377105135470629, 0.02053409442305565, -0.004356879275292158, -0.02300744690001011, 0.026788752526044846, 0.0017895152559503913, 0.02737886644899845, -0.0060204253531992435, -0.005432923790067434, 0.007489325944334269, -0.04869541525840759, 0.02088231034576893, 0.028487753123044968, 0.006709288340061903, -0.02626626007258892, -0.02192225307226181, -0.015167062170803547, 0.0213872492313385, -0.04553181678056717, -0.028306281194090843, -0.011918585747480392, 0.029708348214626312, -0.03282131999731064, 0.03236648440361023, -0.012213705107569695, -0.025651799514889717, 0.015367195941507816, 0.02489166148006916, -0.008569515310227871, -0.02539045922458172, 0.0046159024350345135, 0.029706832021474838], [-0.03401755541563034, -0.005660173017531633, -0.04992586374282837, -0.030466342344880104, -0.008123334497213364, -0.0344468392431736, -0.021233486011624336, 0.014214546419680119, -0.02935853973031044, -0.029880341142416, 0.020921599119901657, -0.012989349663257599, -0.04826957359910011, -0.039839938282966614, 0.014036335051059723, -0.03687916323542595, -0.0318121612071991, -0.02632071264088154, 0.05038031190633774, -0.015941746532917023, -0.018562424927949905, -0.031600773334503174, 0.022500040009617805, -0.00908862054347992, -0.009001464582979679, -0.02790112793445587, 0.010509192943572998, 0.00834701769053936, -0.030452623963356018, -0.03057226724922657, -0.005227651447057724, -0.005428890231996775, -0.016236860305070877, -0.03352610766887665, -0.008436903357505798, -0.02593224309384823, -0.0008454771596007049, -0.03529655560851097, -0.0176081545650959, 0.06824813038110733, -0.05680498853325844, -0.021931905299425125, -0.010632671415805817, -0.006295823026448488, -0.011622306890785694, 0.024442845955491066, -0.007341011427342892, 0.013295125216245651, -0.027463063597679138, 0.04187744855880737, 0.045691583305597305, 0.045024123042821884, 0.0015664269449189305, 0.023547900840640068, -0.000996186165139079, 0.008619294501841068, 0.02007896639406681, 0.026278164237737656, 0.006621980573982, 0.00873588863760233, 0.015610352158546448, 0.01920049451291561, 0.007197188679128885, 0.015505407005548477, 0.03940029814839363, 0.051147233694791794, 0.025083128362894058, -0.007395521737635136, 0.03389834612607956, 0.032671455293893814, 0.014265064150094986, 0.060021962970495224, 0.046026282012462616, 0.030699407681822777, 0.030485643073916435, 0.05447040870785713, 0.026031125336885452, 0.04343728348612785, 0.07068231701850891, 0.04749395698308945], [0.05482320487499237, 0.004750749096274376, 0.02347487211227417, -0.03367479145526886, 0.047555696219205856, 0.034103695303201675, -0.0018285138066858053, 0.00785896833986044, -0.04275102913379669, 0.03912537917494774, -0.013915925286710262, -0.015631552785634995, 0.032898932695388794, -0.03382347896695137, 0.011016097851097584, 0.013480178080499172, 0.010128012858331203, -0.0013963952660560608, -0.014917847700417042, -0.0167382899671793, 0.03305912762880325, -0.029574833810329437, 0.029577728360891342, 0.016102518886327744, 0.03061947040259838, -0.01877066306769848, -0.016293184831738472, 0.04954610764980316, 0.021668925881385803, -0.00576043501496315, -0.025689132511615753, 0.02271522395312786, -0.008069044910371304, -0.011513185687363148, 0.007222900632768869, -0.03717788681387901, 0.009091188199818134, 0.018879076465964317, -0.031032999977469444, 0.03588761389255524, 0.004388303030282259, -0.026888960972428322, 0.03208450973033905, -0.028516512364149094, -0.022943874821066856, -0.017376592382788658, -0.01515674777328968, 0.015695899724960327, -0.03272312507033348, -0.041151005774736404, 0.02418883703649044, -0.003951528109610081, -0.031135836616158485, -0.020088160410523415, -0.0359475202858448, 0.00913594663143158, 0.009159698151051998, -0.024126455187797546, -0.02496315725147724, -0.04448188841342926, -0.012882432900369167, -0.033144619315862656, 0.020068710669875145, 0.0023480167146772146, 0.03208056092262268, -0.012839610688388348, 0.024308670312166214, -0.04152379184961319, -0.0134751470759511, -0.02762826345860958, -0.017886556684970856, -0.02218972146511078, -0.03153608366847038, -0.01849399320781231, -0.032434623688459396, -0.023730238899588585, 0.013132167980074883, -0.023928750306367874, -0.04928987845778465, -0.020827241241931915], [0.002387294080108404, 0.017606323584914207, 0.0018683596281334758, 0.032758258283138275, -0.013818278908729553, 0.030784737318754196, 0.029887618497014046, 0.04527166485786438, 0.01924046128988266, -0.0029470184817910194, 0.03148050233721733, 0.0380452461540699, 0.023464517667889595, 0.026432331651449203, -0.0034053444396704435, -0.013831184245646, -0.03575019910931587, -0.0012628295226022601, -0.013179300352931023, 0.01618194207549095, -0.05251038819551468, 0.023104166612029076, 0.03298181667923927, -0.0074723996222019196, -0.04021986946463585, -0.018926652148365974, 0.02297075092792511, -0.044328413903713226, 0.005876847542822361, 0.03996637836098671, 0.01800764538347721, 0.013502588495612144, -0.020853452384471893, -0.037814680486917496, -0.0027809389866888523, -0.0008997954428195953, 0.010164637118577957, -0.013687635771930218, 0.01358850859105587, 0.0619412437081337, -0.031429972499608994, 0.014091458171606064, -0.016783615574240685, -0.03553660959005356, -0.004163308069109917, 0.013237674720585346, 0.0202510803937912, 0.0093249985948205, -0.007299480028450489, -0.00368566089309752, 0.003566236700862646, 0.04275134578347206, -0.03960571810603142, 0.011436842381954193, 0.01750308647751808, -0.014422446489334106, -0.027558820322155952, -0.01249293889850378, -0.032340534031391144, -0.04007979482412338, 0.016072865575551987, 0.004898718558251858, -0.043617215007543564, -0.04094221070408821, -0.015164557844400406, 0.026706183329224586, -0.038894765079021454, -0.028318166732788086, -0.036404337733983994, -0.0463910773396492, -0.05084238573908806, -0.013981969095766544, 0.024554600939154625, -0.027863439172506332, -0.026630127802491188, -0.03095388412475586, -0.0382356122136116, -0.03690604865550995, -0.01482831034809351, -0.04907691106200218], [0.027099305763840675, -0.04727502167224884, 0.023399775847792625, 0.006365541368722916, -0.03153866529464722, 0.02747746929526329, 0.0010147079592570662, -0.016920823603868484, -3.9820435631554574e-05, 0.004062382970005274, -0.021181458607316017, 0.0044080945663154125, 0.01810111291706562, 0.000518643471878022, 0.03965940698981285, -0.012326320633292198, 0.03217417374253273, -0.039687130600214005, 0.039134565740823746, -0.04411712661385536, 0.025809871032834053, 0.027692606672644615, -0.008449236862361431, -0.0004051874566357583, -0.02211005799472332, -0.013782867230474949, -0.0368092842400074, -0.03537043556571007, -0.012439907528460026, -0.0005031742621213198, 0.017404474318027496, -0.012773619033396244, 0.0013680456904694438, 0.023045038804411888, 0.004533306695520878, 0.01290006935596466, -0.006116893608123064, 0.041966743767261505, -0.012756364420056343, -0.00422325124964118, -0.014842184260487556, 0.027207037433981895, -0.023712661117315292, -0.02038775198161602, -0.007464883383363485, 0.016957813873887062, -0.010288815945386887, 0.024649253115057945, -0.017399245873093605, -0.030511396005749702, 0.03307906538248062, -0.021531539037823677, 0.0066640982404351234, 0.03975412994623184, -0.039407309144735336, 0.027905410155653954, -0.023996200412511826, -0.03365834057331085, 0.021434279158711433, -0.032624922692775726, -0.023940902203321457, -0.0352163165807724, 0.027374964207410812, -0.02266068384051323, 0.04726025462150574, -0.02410920336842537, -0.024865208193659782, -0.005661298520863056, 0.010540656745433807, 0.052610378712415695, -0.0020212873350828886, -0.024871980771422386, 0.032550688832998276, 0.04541488364338875, 0.01521726232022047, 0.00953441672027111, -0.024970808997750282, -0.028208283707499504, 0.023106476292014122, -0.024070562794804573], [0.0025011226534843445, 0.03772978484630585, -0.0010987239656969905, 0.006374535616487265, 0.05179310217499733, 0.010380097664892673, 0.006030859891325235, 0.03515387699007988, -0.004737880080938339, 0.002263173460960388, 0.019723575562238693, 0.020130716264247894, 0.032545872032642365, 0.008605602197349072, 0.05310356244444847, 0.002916162135079503, 0.020356111228466034, 0.041565876454114914, 0.03453252464532852, -0.02569326013326645, 0.0013425389770418406, 0.010479310527443886, -0.016049327328801155, 0.03214683383703232, -0.004956105723977089, -0.003802481573075056, 0.03477124124765396, 0.009643021039664745, 0.016706785187125206, 0.030038608238101006, 0.0025044253561645746, 0.003037108574062586, -0.0020585660822689533, 0.036384399980306625, 0.03162368759512901, 0.0125497505068779, 0.004265417344868183, -0.03885253518819809, 0.012486059218645096, -0.0005290124681778252, -0.022287312895059586, 0.03705828636884689, 0.0194727573543787, 0.03440907225012779, 0.00922976341098547, 0.011504245921969414, -0.029510118067264557, 0.015985233709216118, -0.008183464407920837, 0.012509732507169247, -0.006452670320868492, -0.006918944884091616, -0.012696762569248676, 0.01700301095843315, 0.023284925147891045, -0.012436572462320328, -0.032648369669914246, -0.033853206783533096, -0.00639109592884779, 0.014037667773663998, -0.003901038086041808, -0.011001293547451496, -0.03788292780518532, 0.009229145012795925, -0.03507891297340393, -0.023699240759015083, -0.03126513212919235, -0.01777310110628605, -0.02685128152370453, -0.00270496541634202, -0.005834416951984167, -0.019882116466760635, 0.004486748483031988, 0.025088567286729813, -0.01984383910894394, -0.02102203294634819, -0.02707185037434101, -0.012413178570568562, -0.04629313945770264, -0.022761376574635506], [0.004811696242541075, 0.01921481266617775, 0.0177506934851408, 0.026273218914866447, -0.011256316676735878, 0.03666676580905914, 0.03311483934521675, 0.0023613141383975744, -0.045243605971336365, 0.021301042288541794, -0.05052763223648071, 0.004330682568252087, 0.012718915939331055, 0.01623593457043171, -0.0021327922586351633, -0.013437135145068169, -0.029194841161370277, 0.029938610270619392, 0.01067628525197506, 0.014952920377254486, 0.021913394331932068, 0.009984255768358707, 0.01898398995399475, 0.00413094274699688, -0.019399968907237053, 0.01189558394253254, 0.02200254611670971, 0.011808362789452076, -0.02282235585153103, 0.023744909092783928, -0.011026205494999886, -0.020994985476136208, -0.0024247700348496437, -0.026512298732995987, 0.003102427115663886, -0.04002491012215614, -0.01303571555763483, 0.03674043342471123, -0.018596429377794266, -0.018294891342520714, 0.02015092223882675, -0.05800871551036835, -0.03750251606106758, 0.028112098574638367, 0.04269716143608093, 0.002049538539722562, 0.026771849021315575, -0.041076552122831345, 0.017639078199863434, 0.04388701170682907, -0.009439749643206596, 0.03449122980237007, 0.04341858997941017, 0.003240567399188876, -0.03810097277164459, -0.009256791323423386, -0.010582616552710533, 0.015149325132369995, -0.03636671230196953, -0.015876885503530502, -0.027694465592503548, 0.006016007158905268, -0.022071925923228264, -0.02620784007012844, -0.0065389638766646385, -0.013301823288202286, -0.015455571003258228, -0.020382702350616455, 0.0035983251873403788, 0.004557281732559204, -0.03332528471946716, -0.01280075404793024, -0.008837418630719185, -0.02801748551428318, -0.027676869183778763, -0.044568780809640884, -0.04590759426355362, -0.03149840980768204, -0.05648988112807274, -0.0714450553059578], [0.039378631860017776, 0.033195074647665024, 0.016992023214697838, 0.025872381404042244, -0.016170086339116096, 0.006545848213136196, 0.027785366401076317, -0.03231287747621536, -0.0035838226322084665, 0.0315442755818367, 0.011684952303767204, 0.03311890736222267, -0.006655113771557808, -0.009579055942595005, 0.013681294396519661, 0.03150805085897446, -0.015802206471562386, 0.02812267653644085, -0.023141823709011078, 0.015163845382630825, -0.008336542174220085, -0.004585461225360632, 0.0360763780772686, -0.03369646891951561, 0.01692231558263302, 0.012526364997029305, 0.006831384263932705, 0.02521163411438465, -0.04430801048874855, -0.018390975892543793, 0.002200956456363201, 0.016064485535025597, -0.044106025248765945, 0.0024971303064376116, -0.026707498356699944, 0.025855887681245804, 0.040829211473464966, -0.023562166839838028, -0.01223859004676342, -0.010936492122709751, 0.007756573148071766, 0.007048866245895624, -0.01596755161881447, -0.04114373400807381, -0.02329174242913723, -0.007228977046906948, -0.024921059608459473, -0.01827472634613514, -0.019536027684807777, -0.038639407604932785, 0.0005218615988269448, -0.039367642253637314, 0.015108603052794933, -0.007536846213042736, 0.032099880278110504, 0.021194124594330788, 0.014923378825187683, 0.023726407438516617, 0.007912296801805496, 0.039636652916669846, -0.030145511031150818, 0.003565557301044464, 0.005439072847366333, 0.05316469073295593, -0.04731645807623863, 0.020670855417847633, 0.014598988927900791, 0.031999506056308746, 0.01073169894516468, -0.035750217735767365, -0.01651325449347496, 0.01841021329164505, -0.01125295925885439, -0.04578745365142822, -0.030444392934441566, -0.003188003320246935, 0.031206803396344185, -0.041666168719530106, 0.0159793458878994, 0.024826813489198685], [0.03344966471195221, -0.022646557539701462, -0.0051019699312746525, -0.0471191368997097, 0.01964651793241501, 0.025540295988321304, -0.00695036118850112, -0.01195467822253704, -0.04713590070605278, 0.025363633409142494, 0.020716041326522827, -0.00941488891839981, 0.028764594346284866, 0.010876849293708801, -0.0005389402504079044, -0.03256549313664436, -0.029683230444788933, -0.01085666287690401, 0.016684871166944504, -0.027393074706196785, 0.02480979450047016, 0.044460855424404144, -0.00661525409668684, 0.002009049989283085, 0.005076996050775051, 0.019590172916650772, 0.015179544687271118, 0.005453904625028372, 0.03478217497467995, -0.018141059204936028, 0.034979984164237976, -0.04526381194591522, 0.043561987578868866, -0.03162926062941551, -0.018869010731577873, -0.007631742395460606, 0.008174830116331577, 0.03020390123128891, 0.01106699276715517, 0.01775495335459709, -0.016751667484641075, 0.008851890452206135, -0.026447029784321785, 0.036449216306209564, -0.028306733816862106, 0.005599597003310919, 0.0006406237371265888, 0.030779050663113594, 0.009051651693880558, -0.00029552585328929126, -0.018306629732251167, 0.009342746809124947, -0.023518113419413567, -0.02848098799586296, -0.01675274968147278, 0.042042896151542664, 0.022792482748627663, 0.004666600376367569, 0.0010228449245914817, 0.009377584792673588, -0.03578916937112808, -0.01480929832905531, -0.005290340166538954, 0.03159373998641968, -0.034635964781045914, -0.0006760809337720275, -0.03775674104690552, -0.00953019130975008, 0.020306015387177467, -0.02432030625641346, 0.02679600939154625, 0.007065820507705212, 0.044664300978183746, -0.008571703918278217, 0.01990176923573017, 0.004112578462809324, 0.037717003375291824, -0.01210184395313263, -0.03913087770342827, -0.0013241994893178344], [-0.033000584691762924, 0.019880443811416626, -0.03469261899590492, -0.015607738867402077, -0.02122040092945099, -0.01024304423481226, -0.004673215094953775, 0.02685869112610817, -0.03349827229976654, 0.0234085526317358, -0.014239462092518806, 0.05920170247554779, 0.016396401450037956, -0.008390569128096104, 0.022999543696641922, 0.004817050416022539, -0.024836301803588867, 0.02549934573471546, -0.0024881712161004543, -0.024445245042443275, -0.014081251807510853, -0.015718283131718636, 0.04259457811713219, 0.02461508847773075, -0.015536773018538952, -0.01584978587925434, -0.024758679792284966, 0.04090948402881622, -0.012035300023853779, -0.04584532231092453, -0.054940808564424515, 0.03786887601017952, -0.01936924085021019, 0.026404978707432747, 0.03639303892850876, -0.05410125106573105, -0.017627887427806854, 0.016600191593170166, -0.017271099612116814, -0.007486558053642511, 0.04547428339719772, -0.01992993801832199, -0.030333444476127625, 0.004074727650731802, 0.017423594370484352, 0.0333775132894516, 0.022672167047858238, -0.010812482796609402, 0.00432508485391736, -0.017494821920990944, 0.04669656977057457, 0.015669597312808037, 0.010696710087358952, -0.00438659405335784, -0.04078524187207222, -0.017193960025906563, -0.004479837138205767, -0.00010618512169457972, -0.013067997992038727, 0.010509101673960686, 0.04536900669336319, 0.012200933881103992, -0.019639743492007256, -0.006756077986210585, 0.023500345647335052, 0.00706885801628232, -0.02933391183614731, -0.009395609609782696, 0.02281978540122509, 0.016197122633457184, -0.01314709521830082, 0.010147515684366226, 0.01895475760102272, 0.011916089802980423, 0.02043761871755123, -0.04562489315867424, 0.03604757785797119, 0.031161002814769745, 0.04494215175509453, 0.03956848755478859], [0.04568146541714668, 0.03218835964798927, 0.013182317838072777, 0.04555736854672432, 0.011184624396264553, -0.016000060364603996, -0.00939561054110527, 0.023720894008874893, -0.010766097344458103, -0.031011944636702538, 0.05229910835623741, 0.012243891134858131, -0.0242216344922781, 0.0011907638981938362, 0.040910400450229645, 0.014848173595964909, -0.006800197530537844, 0.012677996419370174, -0.012679614126682281, 0.010544167831540108, -0.04698992893099785, -0.03307758644223213, -0.0007466587703675032, -0.013138985261321068, 0.01669168844819069, -0.0012832748470827937, 0.0015525422058999538, -0.0021098293364048004, 0.006256511434912682, 0.017084341496229172, -0.008504819124937057, -0.01999039016664028, 0.025700023397803307, -0.04967525601387024, 0.01707646995782852, 0.0034562863875180483, 0.011345980688929558, 0.010843086987733841, 0.016462799161672592, 0.006523163989186287, -0.05937277153134346, -0.04074879363179207, 0.004985992331057787, 0.05303017050027847, 0.01660769060254097, 0.048452019691467285, -0.04233647882938385, 0.029525356367230415, -0.022154733538627625, -0.029839536175131798, 0.0028560510836541653, -0.01248947437852621, -0.0067426785826683044, 0.054176583886146545, 0.042351070791482925, -0.017489507794380188, -0.020350083708763123, -0.03967610001564026, -0.03268921747803688, -0.01867290586233139, -0.01037315558642149, 0.01193111389875412, -0.03914377838373184, 0.005474317818880081, 0.00012504911865107715, -0.037492893636226654, -0.02544126659631729, 0.0006833241204731166, -0.005230623763054609, 0.012080714106559753, -0.03940508887171745, 0.02687404304742813, -0.011500418186187744, -0.041807033121585846, 0.02752562239766121, 0.02806815691292286, -0.04137225076556206, 0.012821956537663937, 0.011368848383426666, 0.014775266870856285], [0.007057772949337959, 0.027171336114406586, 0.010029343888163567, -0.002480119466781616, 0.03504098579287529, -0.022191232070326805, -0.04128522053360939, -0.03201638534665108, -0.008709825575351715, -0.011952333152294159, 0.03246263042092323, 0.004268269520252943, 0.02589568682014942, -0.02200464904308319, 0.019398674368858337, -0.022161053493618965, -0.014768870547413826, -0.010220161639153957, -0.011615394614636898, 0.013827760703861713, 0.008063854649662971, 0.010707189328968525, -0.015086651779711246, -0.005562812089920044, 0.004389332607388496, 0.007418474648147821, -0.03230433166027069, -0.009772855788469315, 0.006169180851429701, -0.005515906028449535, -0.030475035309791565, 0.013424710370600224, 0.04336010664701462, 0.029754048213362694, -0.05007928982377052, 0.026199763640761375, -0.0037804043386131525, 0.0354221947491169, -0.010350611060857773, 0.037324946373701096, -0.0064066508784890175, 0.023979928344488144, 0.025337576866149902, 0.010743838734924793, -0.036707840859889984, -0.018084751442074776, -0.0293436236679554, -0.04063744470477104, -0.030720485374331474, 0.02951483614742756, 0.01981591247022152, -0.034149471670389175, 0.01802981086075306, -0.017535744234919548, -0.030079413205385208, -0.041644930839538574, 0.02195558324456215, -0.041101668030023575, 0.027228204533457756, 0.01483901310712099, 0.0035172614734619856, -0.058989908546209335, -0.02941795065999031, -0.017624711617827415, -0.013305364176630974, -0.029024649411439896, 0.006352197378873825, 0.02389180287718773, -0.011845158413052559, -0.034695036709308624, -0.025638272985816002, -0.06949789822101593, 0.028780575841665268, -0.039753563702106476, -0.0038277374114841223, -0.05919530615210533, -0.009697332046926022, -0.03874126821756363, -0.0013221389381214976, -0.076441191136837], [-0.012279737740755081, -0.03700114041566849, 0.003579768119379878, 0.044815268367528915, 0.01159351971000433, -0.04675168916583061, 0.009963982738554478, -0.0018300417577847838, -0.010038331151008606, 0.003586104139685631, -0.004966351669281721, 0.02382960356771946, -0.010888779535889626, -0.004015771206468344, 0.02331607975065708, 0.01896188221871853, -0.043554652482271194, 0.003984745591878891, -0.007091572508215904, -0.01664997823536396, -0.03141988068819046, -0.010113004595041275, -0.015739252790808678, 0.008224071003496647, 0.0304382536560297, -0.0569864884018898, -0.06437747925519943, 0.002681296318769455, -0.038243066519498825, 0.04141971841454506, 0.03383787348866463, -0.0141359968110919, 0.020450130105018616, -0.03549864888191223, 0.0036135055124759674, 0.04564634710550308, 0.045855894684791565, 0.001592070097103715, -0.005183303263038397, 0.03000570647418499, 0.06584082543849945, 0.037267714738845825, 0.048510655760765076, -0.002812903141602874, -0.012387527152895927, -0.05334658920764923, 0.008150769397616386, 0.042437002062797546, -0.0068869865499436855, -0.0007132330792956054, -0.011311153881251812, 0.016499515622854233, -0.010604669339954853, 0.008066126145422459, -0.041772082448005676, 0.010545410215854645, -0.015436223708093166, -0.01621302030980587, -0.013240690343081951, -0.055837929248809814, 0.033456962555646896, 0.026830438524484634, 0.024225490167737007, -0.00038028403650969267, -0.017829429358243942, -0.0026836178731173277, 0.008013982325792313, -0.012614239938557148, 0.015705430880188942, -0.033626846969127655, -0.01760956272482872, 0.04979715496301651, -0.002755152527242899, 0.020847633481025696, 0.021627794951200485, -0.018235202878713608, -0.03347427770495415, 0.005487985443323851, -0.008878495544195175, 0.0035959931556135416], [0.010188599117100239, 5.344587407307699e-05, -0.03905678540468216, 0.012578106485307217, -0.0003604100493248552, 0.017089737579226494, 0.007884006947278976, -0.021139176562428474, -0.0098055275157094, -0.02571180835366249, -0.01884797029197216, -0.010303832590579987, 0.014973982237279415, -0.019306056201457977, 0.04808010533452034, -0.02211320400238037, -0.04842998832464218, -0.04083970934152603, 0.004459049552679062, 0.025593088939785957, 0.01554154884070158, 0.023745503276586533, -0.044065628200769424, -0.017841048538684845, 0.02996731363236904, -0.027030272409319878, -0.05089498683810234, -0.05551852285861969, 0.027554186061024666, 0.033009327948093414, -0.04230191186070442, 0.017663590610027313, 0.007966313511133194, 0.004631504882127047, 0.014324414543807507, 0.030606383457779884, -0.010516480542719364, 0.010056200437247753, 0.042217738926410675, -0.011774099431931973, 0.018001899123191833, -0.005114024970680475, 0.010405407287180424, 0.006242615636438131, -0.01196720078587532, -0.05833010748028755, -0.051085010170936584, -0.035302095115184784, 0.026090843603014946, -0.02059522643685341, 0.027346301823854446, -0.03866301476955414, 0.03383004665374756, 0.026066657155752182, -0.03723565489053726, -0.019497627392411232, -0.06453479081392288, 0.016374429687857628, 0.01611802726984024, -0.06262417882680893, 0.015671653673052788, 0.019671736285090446, -0.007096069399267435, 0.029949938878417015, -0.034850653260946274, 0.0015265154652297497, -0.008003692142665386, 0.040416065603494644, 0.012935658916831017, 0.008412294089794159, -0.019981535151600838, -0.04128990322351456, 0.009852457791566849, 0.009357665665447712, 0.030178865417838097, -0.006883010268211365, 0.03425116464495659, -0.02174011990427971, 0.00827708188444376, -0.03458455950021744], [0.05100039765238762, 0.04311395436525345, 0.020581066608428955, 0.018863171339035034, 0.04075154662132263, 0.01716168411076069, 0.04227723181247711, 0.033916547894477844, 0.027228500694036484, 0.02874690294265747, 0.05820620432496071, 0.02057201787829399, -0.02006077766418457, 0.006904394831508398, 0.0359865203499794, 0.03002023510634899, 0.027531849220395088, -0.014005390927195549, 0.05881977826356888, 0.021139688789844513, 0.01792590133845806, 0.020769212394952774, 0.026361726224422455, 0.036150652915239334, 0.030301544815301895, -0.002323759254068136, 0.032074593007564545, 0.0025727422907948494, -0.005575620103627443, -0.010512717068195343, 0.03403586894273758, 0.0003847808693535626, 0.017011936753988266, 0.023719845339655876, 0.0009898231364786625, 0.020396577194333076, -0.020541490986943245, -0.005286825355142355, 0.022351110354065895, 0.01326825376600027, 0.005723666865378618, 0.0019989556167274714, -0.042430900037288666, 0.011116480454802513, -0.025673622265458107, -0.021376825869083405, -0.008119533769786358, -0.013152024708688259, 0.0244684386998415, -0.005110922735184431, 0.02346503548324108, -0.00025562132941558957, -0.03861933574080467, 0.018111124634742737, -0.019622480496764183, -0.007210624869912863, -0.031800609081983566, 0.04245381057262421, -0.0005091429920867085, 0.017351511865854263, -0.03560870885848999, 0.01307671982795, 0.0015627272659912705, -0.022738581523299217, -0.01299265306442976, -0.021293893456459045, -0.0007290267385542393, -0.049877382814884186, 0.012401667423546314, -0.03192080557346344, -0.027561647817492485, 0.0078995106741786, -0.0332430936396122, -0.012605422176420689, 0.006995460018515587, -0.024301040917634964, -0.040470920503139496, -0.02545551210641861, -0.030149297788739204, -0.057411011308431625], [-0.016376253217458725, 0.014918378554284573, -0.03181956335902214, 0.02314526028931141, -0.02926541119813919, -0.043969351798295975, 0.01227852888405323, -0.007821192033588886, 0.01577857881784439, 0.01732807792723179, 0.009636645205318928, -0.028828216716647148, 0.036168184131383896, 0.005400415044277906, -0.02166178822517395, 0.03875428065657616, 0.035013895481824875, -0.01961999014019966, 0.029172508046030998, 0.0018265210092067719, 0.03810766711831093, -0.0011198298307135701, -0.007798737846314907, 0.011086557991802692, -0.003404365386813879, -0.04944977909326553, -0.0010298284469172359, 0.015453596599400043, -0.01650438830256462, 0.01697009801864624, -0.01145090814679861, -0.016766885295510292, -0.05022808909416199, 0.032589592039585114, 0.0051085203886032104, 0.0051764799281954765, -0.005205453373491764, -0.027406688779592514, -0.006252264603972435, -0.024476295337080956, 0.0001418737811036408, -0.006541733630001545, -0.016439447179436684, 0.010387030430138111, -0.01457472238689661, 0.029099436476826668, 0.01950111798942089, -0.011654071509838104, -0.010577775537967682, 0.022014614194631577, 0.010765810497105122, -0.026966776698827744, 0.011267813853919506, -0.03595717251300812, -0.01220628246665001, 0.030872123315930367, -0.04478039592504501, -0.01143447495996952, 0.017860963940620422, 0.023713331669569016, 0.045405834913253784, -0.0006730981403961778, 0.042189255356788635, -0.0008371592848561704, 0.01833309233188629, 0.013129981234669685, -0.01997246965765953, -0.04016987979412079, 0.02279444970190525, 0.0003797561803366989, 0.019452625885605812, -0.047525666654109955, 0.048247482627630234, 0.007736089173704386, 0.027996812015771866, 0.013780564069747925, -0.004765941761434078, -0.035279806703329086, -0.019256403669714928, 0.03463440015912056], [-0.024867409840226173, 0.025829428806900978, 0.02024780586361885, -0.019386086612939835, -0.04511575400829315, -0.02225605584681034, 0.04513605684041977, 0.03184987232089043, 0.024696826934814453, 0.0232918169349432, -0.06402435153722763, 0.018836693838238716, 0.041814617812633514, -0.021629922091960907, -0.014474031515419483, -0.022860992699861526, 0.02680905908346176, -0.01463227067142725, -0.04839247092604637, -0.04961107671260834, 0.004994198679924011, 0.0010728873312473297, -0.007472333498299122, 0.020307861268520355, -0.009618070907890797, 0.007212487049400806, -0.002817300148308277, 0.01563916727900505, 0.02288096398115158, -0.05245443433523178, -0.019747015088796616, 0.0061571188271045685, -0.03873163089156151, 0.04515351727604866, -0.010926978662610054, 0.03238814324140549, 0.006611377466470003, -0.0008187585044652224, -0.019222650676965714, -0.05209814012050629, -0.006876643747091293, -0.024980615824460983, 0.006967483554035425, -0.017425471916794777, -0.018628384917974472, 0.02520453743636608, -0.06078796833753586, -0.04015269875526428, -0.006676200311630964, 0.021093858405947685, -0.016425788402557373, 0.0083609102293849, -0.01729467697441578, 0.007063830271363258, 0.02711879462003708, -0.023205740377306938, 0.027523184195160866, -0.00908849947154522, 0.027845870703458786, 0.030143504962325096, -0.009113403037190437, 0.038933344185352325, 0.002999026793986559, -0.02019025944173336, -0.00312636187300086, -0.042903125286102295, -0.03680922091007233, -0.005301241297274828, -0.0009639656054787338, 0.015276285819709301, 0.03485735133290291, -0.021358061581850052, -0.013200170360505581, -0.05238475278019905, -0.00427471287548542, -0.022048458456993103, -0.013569478876888752, 0.0005809927242808044, 0.03712430223822594, -0.023557033389806747], [0.017823893576860428, 0.02527431771159172, 0.015841979533433914, 0.0026668424252420664, -0.02140965685248375, -0.03418499603867531, -0.02045951969921589, -0.021549636498093605, -0.004949764348566532, 0.010094324126839638, 0.010057933628559113, 0.0034097584430128336, -0.0172469150274992, 0.030252506956458092, -0.01589096710085869, -0.0175615344196558, 0.01678607054054737, 0.018625594675540924, 0.031160449609160423, 0.04097608104348183, -0.01864270679652691, -0.020993828773498535, -0.006260541267693043, -0.020295443013310432, 0.03737766295671463, -0.022138478234410286, -0.0389975905418396, 0.02827322855591774, 0.014717373996973038, -0.014403823763132095, 0.00906879361718893, 0.02818247862160206, -0.006216841284185648, 0.008535197004675865, 0.012794600799679756, 0.01890740357339382, -0.016739390790462494, -0.03888906538486481, -0.01402259711176157, 0.012180664576590061, 0.0024177939631044865, 0.017343668267130852, -0.025722626596689224, 0.02041611075401306, 0.02087627351284027, -0.035534799098968506, 0.03876861557364464, 0.02254084311425686, 0.019807325676083565, -0.011213360354304314, -0.024046223610639572, 0.017457932233810425, -0.009843366220593452, -0.03760914504528046, 0.018929826095700264, -0.023248130455613136, 0.033273205161094666, 0.03280654549598694, -0.01959765888750553, -0.021147551015019417, 0.004263641312718391, -0.06339448690414429, 0.01936080865561962, 0.02050480619072914, 0.022488810122013092, -0.021616414189338684, -0.036865491420030594, 0.005192728713154793, -0.02156379260122776, -0.000894820608664304, -0.010788694955408573, 0.0012659472413361073, -0.01129241194576025, -0.0087211262434721, -0.030939940363168716, -0.0195162296295166, -0.00887875072658062, 0.0182338859885931, -0.06263546645641327, -0.07421140372753143], [0.019975436851382256, 0.05014113709330559, -0.0207224078476429, 0.0014060343382880092, -0.026208503171801567, 0.02065690979361534, 0.008779391646385193, 0.038724903017282486, 0.04416827857494354, -0.0027126779314130545, 0.032548870891332626, 0.030441809445619583, 0.04783693328499794, -0.013083287514746189, 0.010581767186522484, 0.04204661771655083, -0.021506723016500473, -0.002690656576305628, 0.0022371115628629923, -0.02070464752614498, 0.026633350178599358, 0.006071494892239571, -0.023325040936470032, -0.014412321150302887, 0.021336939185857773, 0.025217335671186447, -0.008548570796847343, 0.006597965024411678, -0.016611197963356972, -0.03224930539727211, -0.008614965714514256, 0.029289839789271355, 0.00594312185421586, 0.020025718957185745, 0.013988586142659187, 0.025117507204413414, 0.014400956220924854, -0.014301913790404797, 0.014834350906312466, 0.0013904194347560406, -0.012987569905817509, 0.01664113439619541, 0.05595235154032707, -0.028746141120791435, 0.011458680965006351, -0.04925486817955971, -0.02865404263138771, 0.021676531061530113, -0.03990801051259041, -0.018963966518640518, -0.009275341406464577, 0.012629054486751556, -0.0075411926954984665, -0.011903715319931507, -0.03774462267756462, -0.04290062189102173, -0.0516153946518898, 0.01317768543958664, -0.006210953462868929, -0.05421651899814606, -0.024261029437184334, -0.011260217987000942, -0.03131568059325218, 0.033061906695365906, 0.003287913976237178, -0.027670027688145638, -0.012975265271961689, -0.038122814148664474, 0.034575629979372025, 0.01692233979701996, -0.004858074244111776, 0.007613299414515495, -0.024498872458934784, -0.014096359722316265, -0.014458823949098587, -0.008248613215982914, 0.0025320120621472597, -0.03276152163743973, 0.006647006142884493, 0.030207879841327667], [0.040607187896966934, -0.004004291724413633, 0.027764959260821342, -0.010942467488348484, -0.018749872222542763, 0.0008192723616957664, -0.026265626773238182, -0.021534087136387825, 0.028782468289136887, -0.007580674719065428, -0.017948191612958908, -0.016622405499219894, -0.004605850670486689, -0.020779259502887726, 0.042213909327983856, -0.02052224427461624, 0.02059180662035942, 0.02073550969362259, 0.00018730897863861173, 0.011564225889742374, 0.00024102175666484982, -0.03815208375453949, 0.008307542651891708, 0.0011976405512541533, -0.046951521188020706, -0.03974815830588341, 0.03600218892097473, 0.018994048237800598, 0.017091380432248116, -0.02156139723956585, 0.023283421993255615, -0.015529775992035866, -0.06281067430973053, -0.018450690433382988, 0.02984272502362728, 0.011145994067192078, -0.036622054874897, -0.024503832682967186, 0.03164549544453621, 0.016976280137896538, -0.016659822314977646, -0.004022936802357435, 0.01806514337658882, -0.01836630515754223, 0.00026395500754006207, 0.01837754249572754, 0.00790803786367178, -0.030870653688907623, 0.04616880044341087, -0.012741513550281525, 0.03098992072045803, -0.04486247897148132, 0.0012380063999444246, -0.032776057720184326, 0.011669396422803402, 0.016768943518400192, 0.01638820581138134, 0.045993924140930176, 0.0013235056539997458, 0.02321389876306057, -0.02167987823486328, -0.03543759509921074, -0.00879888329654932, 0.008098259568214417, -0.020786048844456673, 0.03757373243570328, -0.018701817840337753, 0.023347627371549606, -0.0411975271999836, 0.02375112846493721, 0.025631412863731384, -0.03285316377878189, -0.03369353711605072, -0.036230653524398804, -0.02159304730594158, 0.01728297583758831, -0.008386998437345028, -0.002244365867227316, 0.0200254637748003, 0.004627497401088476], [-0.027733037248253822, -0.024002889171242714, -0.056383196264505386, -0.01612393744289875, 0.02200372703373432, 0.0015347679145634174, -0.005049678031355143, 0.005708459764719009, -0.013352650217711926, 8.465501014143229e-05, 0.013721565715968609, 0.045667845755815506, 0.016354814171791077, -0.0027071721851825714, 0.01398528553545475, -0.03585083410143852, -0.0197207760065794, -0.01625213213264942, 0.034816592931747437, -0.005171562545001507, -0.0054767075926065445, -0.005823215935379267, -0.029736613854765892, 0.00042160513112321496, 0.04166198894381523, -0.020847279578447342, 0.007452191784977913, -0.04982766881585121, -0.027245743200182915, 0.015557686798274517, 0.024141950532794, 0.0013661959674209356, 0.007072723936289549, -0.018870046362280846, -0.013742126524448395, -0.006950761657208204, -0.00785005558282137, -0.006746916100382805, 0.023722048848867416, -0.03900139406323433, 0.05715268850326538, 0.01769462414085865, -0.011012797243893147, 0.020851727575063705, -0.011929106898605824, 0.013605969026684761, -0.004961726721376181, -0.015508780255913734, -0.027340339496731758, 0.02330050617456436, -0.015278486534953117, 0.05325079709291458, 0.015340382233262062, -0.015382206998765469, -0.03261095657944679, -0.012165537104010582, -0.007979102432727814, -0.036407385021448135, 0.0053952415473759174, 0.005603662226349115, 0.0001558634830871597, 0.008577175438404083, -0.009220696985721588, -0.02443940006196499, -0.03275061398744583, 0.002849970478564501, -0.04770514369010925, -0.002754746936261654, 0.04331311956048012, -0.023882877081632614, 0.025972586125135422, -0.02999156340956688, -0.04234123229980469, -0.018506916239857674, -0.00868876464664936, 0.01638440228998661, 0.016512122005224228, 0.016312595456838608, -0.018598906695842743, -0.057101380079984665], [-0.011453486979007721, -0.06528507173061371, 0.018847430124878883, -0.008716662414371967, 0.006707124412059784, 0.018259547650814056, -0.029081998392939568, 0.025077026337385178, 0.010818473994731903, 0.014230790548026562, 0.006336873397231102, 0.049259014427661896, 0.018183736130595207, 0.03592366352677345, 0.013872017152607441, 0.03637036308646202, 0.015117325820028782, -0.013234824873507023, 0.0023183312732726336, 0.04657890275120735, 0.01663503237068653, 0.03082611970603466, 0.034055039286613464, -0.003372220555320382, -0.023587189614772797, 0.015603245235979557, 0.010544252581894398, 0.011410228908061981, -0.037990085780620575, -0.03538324311375618, -0.00717422179877758, 0.02979378029704094, -0.031180337071418762, 0.006934483535587788, -0.012219826690852642, 0.008762695826590061, -0.009051118977367878, 0.019761811941862106, -0.013444699347019196, -0.052693553268909454, 0.028143683448433876, -0.021984538063406944, 0.03241316229104996, -0.0024816838558763266, -0.04096851870417595, -0.01690838299691677, 0.01544168684631586, -0.02997272089123726, -0.02094598114490509, 0.03578425571322441, 0.036228474229574203, 0.03666409105062485, 0.0009883390739560127, -0.015301146544516087, -0.003481048159301281, 0.0056392960250377655, -0.011067559942603111, -0.01799740269780159, -0.02310417778789997, 0.01253846101462841, 0.04006265848875046, -0.016756350174546242, -0.03415055572986603, 0.019145378842949867, 0.04004889726638794, -0.008777491748332977, 0.01055123284459114, -0.01802867464721203, -0.020692182704806328, -0.007042312528938055, 0.0217039342969656, 0.016286388039588928, -0.023232875391840935, 0.021397771313786507, 0.03608845919370651, -0.005423869006335735, 0.024768101051449776, -0.0061196559108793736, 6.404049781849608e-05, 0.010895990766584873], [-0.016171123832464218, -0.048487868160009384, -0.02750767022371292, 0.043565794825553894, 0.0048269000835716724, -0.05137094855308533, -0.021195460110902786, 0.01499813050031662, -0.04629078879952431, 0.017198050394654274, -0.017573010176420212, -0.018806112930178642, -0.011587406508624554, -0.011169311590492725, 0.02320854365825653, 0.01761781983077526, 0.024992696940898895, -0.018763070926070213, -0.0341467447578907, -0.037646085023880005, 0.01014502439647913, 0.022880330681800842, -0.034271400421857834, -0.014774634502828121, 0.017786243930459023, -0.057714998722076416, -0.04313123598694801, 0.0104365861043334, 0.03414563462138176, 0.008944532833993435, -0.01646796055138111, -0.021700967103242874, 0.043091047555208206, -0.012942061759531498, -0.013927542604506016, -0.011392142623662949, 0.0333172082901001, 0.04523078352212906, 0.025133877992630005, -0.02715792879462242, -0.010865876451134682, -0.017290452495217323, 0.02768171951174736, 0.017280761152505875, -0.01693982630968094, -0.043232694268226624, -0.04311876371502876, 0.03862666338682175, 0.030147843062877655, -0.027372954413294792, -0.00018985880888067186, 0.018560392782092094, -0.041247107088565826, -0.004257052671164274, 0.023609153926372528, -0.017202626913785934, -0.0478605255484581, 0.021896829828619957, -0.02833244949579239, 0.02925196848809719, -0.042441993951797485, 0.01925286091864109, 0.028968915343284607, 0.023302191868424416, 0.047649312764406204, 0.029546819627285004, 0.001073875231668353, 0.01970692351460457, 0.014533421024680138, 0.00805207435041666, -0.03650715947151184, 0.021236766129732132, -0.03195622190833092, -0.03621061146259308, -0.019811782985925674, 0.03337712958455086, 0.026863915845751762, -0.015491891652345657, -0.04136670380830765, -0.04366380721330643], [-0.0420515239238739, -0.05923710763454437, -0.013074052520096302, 0.0032093876507133245, -0.021312864497303963, -0.013509167358279228, 0.0019074873998761177, -0.03983910009264946, -0.07848550379276276, -0.045976318418979645, 0.021045923233032227, -0.027914581820368767, 0.04533501714468002, 0.012510335072875023, -0.026970291510224342, 0.0028479767497628927, -0.0209379643201828, -0.014035006985068321, -0.03309935703873634, 0.025432338938117027, 0.03863804042339325, 0.0019492488354444504, 0.0049585625529289246, 0.019069645553827286, -0.012019325979053974, -0.009467637166380882, 0.023722801357507706, -0.05114573612809181, 0.03499029949307442, 0.02999146096408367, -0.0026363444048911333, 0.00697320606559515, 0.028970913961529732, 0.010314698331058025, -0.0612027645111084, 0.04142541065812111, 0.019796567037701607, -0.0016898015746846795, 0.004820054862648249, 0.017343970015645027, 0.04976120591163635, -4.704411549028009e-05, -0.014644619077444077, 0.042683571577072144, -0.004283578135073185, -0.023897988721728325, -0.007696727756410837, 0.02730581909418106, 0.026360202580690384, 0.011641860008239746, 0.005724360700696707, -0.008886795490980148, 0.0015162300551310182, 0.008681397885084152, 0.025671906769275665, -0.00821202527731657, -0.00014527067833114415, 0.021876320242881775, -0.01058410108089447, -0.0026966542936861515, 0.015665527433156967, -0.013777018524706364, -0.017733311280608177, 0.0194451455026865, 0.0023856288753449917, 0.013309828005731106, -0.023226333782076836, -0.012520557269454002, 0.045349933207035065, -0.02634064480662346, -0.023196320980787277, -0.046685826033353806, -0.005366622935980558, 0.035058021545410156, 0.040496692061424255, -0.017899099737405777, -0.0064037335105240345, 0.053165048360824585, 0.03687513619661331, 0.014970925636589527], [-0.036290790885686874, -0.04012379050254822, -0.0111270472407341, -0.04606785625219345, -0.013518981635570526, 0.0020050194580107927, -0.019328374415636063, -0.014179726131260395, -0.04419546574354172, -0.00899600051343441, -0.013102278113365173, -0.03841623291373253, -0.0286426842212677, -0.03676828369498253, 0.0067377956584095955, -0.025924736633896828, -0.03321165591478348, 0.021657051518559456, -0.021613623946905136, 0.014757579192519188, -0.02168164774775505, 0.03629022836685181, -0.03835425153374672, -0.006260300520807505, 0.004391225520521402, 0.021907243877649307, 0.0044603655114769936, -0.007162881549447775, -0.031281452625989914, 0.048696208745241165, 0.025098510086536407, -0.010026432573795319, 0.00869716890156269, 0.014876226894557476, 0.017117977142333984, 0.03160722181200981, -0.029203645884990692, 0.002914899494498968, -0.012918447144329548, 0.03217693790793419, -0.032674677670001984, 0.04042518883943558, -0.01982985995709896, -0.005538012366741896, 0.016541672870516777, -0.018094975501298904, 0.001737052807584405, 0.015215359628200531, 0.010753653943538666, -0.00928227137774229, -0.026129258796572685, 0.025199411436915398, -0.028548043221235275, 0.035280708223581314, -0.02336364984512329, -0.02780831605195999, 0.004559437744319439, 0.041650716215372086, 0.010733506642282009, 0.012474958784878254, -0.038855332881212234, -0.027991535142064095, 0.0038561939727514982, 0.03797175735235214, -0.006003826856613159, -0.00835469365119934, 0.009415717795491219, 0.033605750650167465, 0.016832107678055763, -0.005729274358600378, -0.03171266242861748, 0.024135813117027283, 0.04875125735998154, -0.002951457630842924, 0.017257975414395332, 0.001278805430047214, 0.049352504312992096, 0.04027069732546806, -1.3535618563764729e-06, -0.012098891660571098], [7.883959187893197e-05, -0.007955729030072689, 0.03611557558178902, -0.0010201374534517527, -0.06247490271925926, 0.043386299163103104, 0.04287507012486458, -0.002704766346141696, -0.002697542542591691, 0.017366250976920128, 0.008639157749712467, -0.04060947522521019, 0.020033851265907288, 0.00580646563321352, -0.03642181307077408, 0.0029958493541926146, 0.01838936097919941, -0.010800128802657127, -0.04497149959206581, -0.015413975343108177, 0.025938749313354492, 0.014787903055548668, 0.01002697367221117, 0.04608909785747528, 0.022004032507538795, 0.016933254897594452, -0.0037561848293989897, -0.03141486644744873, -0.007233592215925455, 0.011421328410506248, 0.00982891209423542, 0.013386509381234646, -0.0014675222337245941, -0.01774008385837078, -0.025914065539836884, -0.019633252173662186, 0.03307247906923294, -0.028353461995720863, -0.02949431724846363, -0.03872569277882576, 0.011180253699421883, -0.03096945397555828, -0.006249772384762764, -0.0016858992166817188, 0.026252198964357376, 0.03439486771821976, -0.03616734594106674, 0.039259523153305054, 0.006555718835443258, 0.023661699146032333, -0.008091200143098831, 0.0010447257664054632, -0.01792147196829319, -0.03830504044890404, -0.02947288565337658, -0.02121175266802311, 0.011660340242087841, 0.03648902475833893, 0.011592142283916473, -0.0172190573066473, 0.04430913180112839, 0.04232577234506607, 0.02337939850986004, -0.006776624824851751, 0.0037028510123491287, 0.01739330403506756, -0.019500799477100372, 0.002532050246372819, -0.034668270498514175, -0.01881936378777027, -0.023546578362584114, -0.019480673596262932, -0.010775703005492687, -0.0014230605447664857, -0.02991478331387043, -0.014853745698928833, -0.0021840210538357496, -0.011126913130283356, -0.02775375172495842, 0.012761401012539864], [0.03256092965602875, -0.0031930110417306423, 0.030036354437470436, 0.018588891252875328, 0.028929751366376877, 0.0027825061697512865, 0.026147784665226936, 0.023763880133628845, -0.004661043640226126, -0.006944763939827681, -0.0026606025639921427, 0.013818487524986267, -0.03169454634189606, 0.017713837325572968, -0.024713201448321342, 0.012278451584279537, 0.05459573492407799, -0.02624337747693062, 0.02327267825603485, 0.020437171682715416, 0.022143874317407608, 0.03140665218234062, 0.010150518268346786, 0.05621233209967613, -0.017864443361759186, -0.005009342450648546, 0.038361188024282455, 0.032133713364601135, -0.032131023705005646, -0.001968255965039134, -0.03999881073832512, -0.01756199821829796, 0.002386166714131832, -0.009081031195819378, -0.029729487374424934, 0.028671974316239357, -0.015059875324368477, 0.04891538992524147, -0.01587671786546707, -0.037443604320287704, -0.027764106169342995, 0.011570297181606293, -0.032116495072841644, -0.031102819368243217, 0.006070851814001799, 0.036944132298231125, 0.024788541719317436, 0.029241692274808884, 0.015889469534158707, 0.01295932661741972, -0.013674219138920307, -0.012941901572048664, 0.008223016746342182, -0.0049587092362344265, -0.024278514087200165, 0.009127509780228138, 0.03349979221820831, -0.01065688394010067, 0.00749559560790658, 0.006387852132320404, 0.024465039372444153, 0.03452841937541962, -0.031675565987825394, -7.70509650465101e-05, 0.006861744448542595, 0.04182368516921997, 0.01969854347407818, -0.00974168349057436, 0.03592842072248459, 0.027389641851186752, 0.029014453291893005, -0.021240796893835068, -0.02197938971221447, 0.030156325548887253, 0.013967524282634258, -0.0011947302846238017, -0.03693675622344017, -0.0392993688583374, 0.0014993924414739013, 0.0035131045151501894], [-0.024597356095910072, -0.03483647480607033, 0.011291280388832092, 0.017137926071882248, -0.0012932912213727832, -0.0032242201268672943, 0.0049193259328603745, 0.009770152159035206, 0.013371530920267105, -0.007368910126388073, 0.02685084380209446, 0.045021265745162964, -0.028225695714354515, 0.0065462179481983185, 0.021344881504774094, 0.010515406727790833, 0.00651269918307662, -0.015147640369832516, -0.019495319575071335, 0.017293807119131088, 0.030650988221168518, -0.039346419274806976, -0.021664023399353027, -0.0045525808818638325, -0.03984079882502556, 0.0001959626388270408, 0.0013399521121755242, 0.004955027252435684, -0.032836101949214935, -0.014604594558477402, 0.003964463248848915, 0.03824467211961746, 0.006236635148525238, -0.021133197471499443, -0.00973488762974739, 0.04674519598484039, 0.009419449605047703, 0.010968354530632496, -0.04244507476687431, 0.02457592636346817, 0.02449231781065464, -0.030019370838999748, 0.01506743486970663, -0.002316680271178484, -0.03286181762814522, 0.04341918230056763, 0.008770575746893883, -0.00249960133805871, -0.023599039763212204, -0.011841206811368465, -0.028983639553189278, 0.03249518573284149, 0.017651261761784554, -0.004689761437475681, -0.033971235156059265, -0.006966674700379372, -0.006565593183040619, -0.04218783602118492, -0.025812847539782524, -0.0007784918998368084, -0.023914098739624023, -0.0038292095996439457, -0.04070267826318741, -0.016291428357362747, 0.010472223162651062, 0.016314642503857613, 0.026676354929804802, -0.04753563180565834, -0.04188584163784981, -0.01658652350306511, -0.006515377666801214, -0.04810449853539467, -0.010919628664851189, -0.007825931534171104, 0.0059630051255226135, -0.031740717589855194, -0.027714502066373825, 0.028975581750273705, -0.004933635704219341, 0.023092415183782578], [0.01337728463113308, 0.002629949478432536, -0.015612374059855938, 0.011312675662338734, -0.006523948162794113, -0.04470944404602051, 0.012489127926528454, 0.04292282089591026, -0.03546230122447014, 0.02866130881011486, 0.012354866601526737, -0.020197536796331406, 0.023175057023763657, 0.026500023901462555, -0.012791622430086136, 0.021316492930054665, -0.028276413679122925, 0.011955768801271915, 0.011434475891292095, 0.03280289098620415, 0.03953249752521515, 0.018644148483872414, 0.009624609723687172, -0.00931023433804512, -0.015657885000109673, 0.032225534319877625, -0.027272745966911316, 0.03595569729804993, 0.048502117395401, -0.010553639382123947, 0.03669204190373421, -0.031263288110494614, -0.026117807254195213, -0.005847756750881672, 0.0159215796738863, -0.016255773603916168, 0.01637611910700798, -0.0076580955646932125, -0.010826620273292065, 0.04247354343533516, -0.012570650316774845, 0.017045650631189346, -0.01331584993749857, -0.011763269081711769, -0.01478840783238411, 0.040747903287410736, -0.02159062586724758, 0.035712022334337234, -0.00928544718772173, -0.029009392485022545, -0.03195814788341522, -0.02515578456223011, 0.04598073288798332, -0.031394265592098236, -0.014950929209589958, -0.007734905928373337, 0.025000110268592834, 0.000544744310900569, 0.01176623534411192, -0.019274704158306122, 0.0366835854947567, -0.023165304213762283, 0.033494073897600174, 0.011131266131997108, 0.018647393211722374, 0.0326278880238533, -0.04050171747803688, 0.004332876298576593, 0.00997436884790659, 0.004762817639857531, -0.035301607102155685, -0.03210917115211487, 0.04340789094567299, -0.02847307361662388, -0.000691383087541908, 0.010040812194347382, 0.01593669131398201, 0.025139354169368744, -0.039108265191316605, -0.044794704765081406]]}],                        {\"coloraxis\": {\"colorscale\": [[0.0, \"#0d0887\"], [0.1111111111111111, \"#46039f\"], [0.2222222222222222, \"#7201a8\"], [0.3333333333333333, \"#9c179e\"], [0.4444444444444444, \"#bd3786\"], [0.5555555555555556, \"#d8576b\"], [0.6666666666666666, \"#ed7953\"], [0.7777777777777778, \"#fb9f3a\"], [0.8888888888888888, \"#fdca26\"], [1.0, \"#f0f921\"]]}, \"margin\": {\"t\": 60}, \"template\": {\"data\": {\"bar\": [{\"error_x\": {\"color\": \"#2a3f5f\"}, \"error_y\": {\"color\": \"#2a3f5f\"}, \"marker\": {\"line\": {\"color\": \"#E5ECF6\", \"width\": 0.5}}, \"type\": \"bar\"}], \"barpolar\": [{\"marker\": {\"line\": {\"color\": \"#E5ECF6\", \"width\": 0.5}}, \"type\": \"barpolar\"}], \"carpet\": [{\"aaxis\": {\"endlinecolor\": \"#2a3f5f\", \"gridcolor\": \"white\", \"linecolor\": \"white\", \"minorgridcolor\": \"white\", \"startlinecolor\": \"#2a3f5f\"}, \"baxis\": {\"endlinecolor\": \"#2a3f5f\", \"gridcolor\": \"white\", \"linecolor\": \"white\", \"minorgridcolor\": \"white\", \"startlinecolor\": \"#2a3f5f\"}, \"type\": \"carpet\"}], \"choropleth\": [{\"colorbar\": {\"outlinewidth\": 0, \"ticks\": \"\"}, \"type\": \"choropleth\"}], \"contour\": [{\"colorbar\": {\"outlinewidth\": 0, \"ticks\": \"\"}, \"colorscale\": [[0.0, \"#0d0887\"], [0.1111111111111111, \"#46039f\"], [0.2222222222222222, \"#7201a8\"], [0.3333333333333333, \"#9c179e\"], [0.4444444444444444, \"#bd3786\"], [0.5555555555555556, \"#d8576b\"], [0.6666666666666666, \"#ed7953\"], [0.7777777777777778, \"#fb9f3a\"], [0.8888888888888888, \"#fdca26\"], [1.0, \"#f0f921\"]], \"type\": \"contour\"}], \"contourcarpet\": [{\"colorbar\": {\"outlinewidth\": 0, \"ticks\": \"\"}, \"type\": \"contourcarpet\"}], \"heatmap\": [{\"colorbar\": {\"outlinewidth\": 0, \"ticks\": \"\"}, \"colorscale\": [[0.0, \"#0d0887\"], [0.1111111111111111, \"#46039f\"], [0.2222222222222222, \"#7201a8\"], [0.3333333333333333, \"#9c179e\"], [0.4444444444444444, \"#bd3786\"], [0.5555555555555556, \"#d8576b\"], [0.6666666666666666, \"#ed7953\"], [0.7777777777777778, \"#fb9f3a\"], [0.8888888888888888, \"#fdca26\"], [1.0, \"#f0f921\"]], \"type\": \"heatmap\"}], \"heatmapgl\": [{\"colorbar\": {\"outlinewidth\": 0, \"ticks\": \"\"}, \"colorscale\": [[0.0, \"#0d0887\"], [0.1111111111111111, \"#46039f\"], [0.2222222222222222, \"#7201a8\"], [0.3333333333333333, \"#9c179e\"], [0.4444444444444444, \"#bd3786\"], [0.5555555555555556, \"#d8576b\"], [0.6666666666666666, \"#ed7953\"], [0.7777777777777778, \"#fb9f3a\"], [0.8888888888888888, \"#fdca26\"], [1.0, \"#f0f921\"]], \"type\": \"heatmapgl\"}], \"histogram\": [{\"marker\": {\"colorbar\": {\"outlinewidth\": 0, \"ticks\": \"\"}}, \"type\": \"histogram\"}], \"histogram2d\": [{\"colorbar\": {\"outlinewidth\": 0, \"ticks\": \"\"}, \"colorscale\": [[0.0, \"#0d0887\"], [0.1111111111111111, \"#46039f\"], [0.2222222222222222, \"#7201a8\"], [0.3333333333333333, \"#9c179e\"], [0.4444444444444444, \"#bd3786\"], [0.5555555555555556, \"#d8576b\"], [0.6666666666666666, \"#ed7953\"], [0.7777777777777778, \"#fb9f3a\"], [0.8888888888888888, \"#fdca26\"], [1.0, \"#f0f921\"]], \"type\": \"histogram2d\"}], \"histogram2dcontour\": [{\"colorbar\": {\"outlinewidth\": 0, \"ticks\": \"\"}, \"colorscale\": [[0.0, \"#0d0887\"], [0.1111111111111111, \"#46039f\"], [0.2222222222222222, \"#7201a8\"], [0.3333333333333333, \"#9c179e\"], [0.4444444444444444, \"#bd3786\"], [0.5555555555555556, \"#d8576b\"], [0.6666666666666666, \"#ed7953\"], [0.7777777777777778, \"#fb9f3a\"], [0.8888888888888888, \"#fdca26\"], [1.0, \"#f0f921\"]], \"type\": \"histogram2dcontour\"}], \"mesh3d\": [{\"colorbar\": {\"outlinewidth\": 0, \"ticks\": \"\"}, \"type\": \"mesh3d\"}], \"parcoords\": [{\"line\": {\"colorbar\": {\"outlinewidth\": 0, \"ticks\": \"\"}}, \"type\": \"parcoords\"}], \"pie\": [{\"automargin\": true, \"type\": \"pie\"}], \"scatter\": [{\"marker\": {\"colorbar\": {\"outlinewidth\": 0, \"ticks\": \"\"}}, \"type\": \"scatter\"}], \"scatter3d\": [{\"line\": {\"colorbar\": {\"outlinewidth\": 0, \"ticks\": \"\"}}, \"marker\": {\"colorbar\": {\"outlinewidth\": 0, \"ticks\": \"\"}}, \"type\": \"scatter3d\"}], \"scattercarpet\": [{\"marker\": {\"colorbar\": {\"outlinewidth\": 0, \"ticks\": \"\"}}, \"type\": \"scattercarpet\"}], \"scattergeo\": [{\"marker\": {\"colorbar\": {\"outlinewidth\": 0, \"ticks\": \"\"}}, \"type\": \"scattergeo\"}], \"scattergl\": [{\"marker\": {\"colorbar\": {\"outlinewidth\": 0, \"ticks\": \"\"}}, \"type\": \"scattergl\"}], \"scattermapbox\": [{\"marker\": {\"colorbar\": {\"outlinewidth\": 0, \"ticks\": \"\"}}, \"type\": \"scattermapbox\"}], \"scatterpolar\": [{\"marker\": {\"colorbar\": {\"outlinewidth\": 0, \"ticks\": \"\"}}, \"type\": \"scatterpolar\"}], \"scatterpolargl\": [{\"marker\": {\"colorbar\": {\"outlinewidth\": 0, \"ticks\": \"\"}}, \"type\": \"scatterpolargl\"}], \"scatterternary\": [{\"marker\": {\"colorbar\": {\"outlinewidth\": 0, \"ticks\": \"\"}}, \"type\": \"scatterternary\"}], \"surface\": [{\"colorbar\": {\"outlinewidth\": 0, \"ticks\": \"\"}, \"colorscale\": [[0.0, \"#0d0887\"], [0.1111111111111111, \"#46039f\"], [0.2222222222222222, \"#7201a8\"], [0.3333333333333333, \"#9c179e\"], [0.4444444444444444, \"#bd3786\"], [0.5555555555555556, \"#d8576b\"], [0.6666666666666666, \"#ed7953\"], [0.7777777777777778, \"#fb9f3a\"], [0.8888888888888888, \"#fdca26\"], [1.0, \"#f0f921\"]], \"type\": \"surface\"}], \"table\": [{\"cells\": {\"fill\": {\"color\": \"#EBF0F8\"}, \"line\": {\"color\": \"white\"}}, \"header\": {\"fill\": {\"color\": \"#C8D4E3\"}, \"line\": {\"color\": \"white\"}}, \"type\": \"table\"}]}, \"layout\": {\"annotationdefaults\": {\"arrowcolor\": \"#2a3f5f\", \"arrowhead\": 0, \"arrowwidth\": 1}, \"coloraxis\": {\"colorbar\": {\"outlinewidth\": 0, \"ticks\": \"\"}}, \"colorscale\": {\"diverging\": [[0, \"#8e0152\"], [0.1, \"#c51b7d\"], [0.2, \"#de77ae\"], [0.3, \"#f1b6da\"], [0.4, \"#fde0ef\"], [0.5, \"#f7f7f7\"], [0.6, \"#e6f5d0\"], [0.7, \"#b8e186\"], [0.8, \"#7fbc41\"], [0.9, \"#4d9221\"], [1, \"#276419\"]], \"sequential\": [[0.0, \"#0d0887\"], [0.1111111111111111, \"#46039f\"], [0.2222222222222222, \"#7201a8\"], [0.3333333333333333, \"#9c179e\"], [0.4444444444444444, \"#bd3786\"], [0.5555555555555556, \"#d8576b\"], [0.6666666666666666, \"#ed7953\"], [0.7777777777777778, \"#fb9f3a\"], [0.8888888888888888, \"#fdca26\"], [1.0, \"#f0f921\"]], \"sequentialminus\": [[0.0, \"#0d0887\"], [0.1111111111111111, \"#46039f\"], [0.2222222222222222, \"#7201a8\"], [0.3333333333333333, \"#9c179e\"], [0.4444444444444444, \"#bd3786\"], [0.5555555555555556, \"#d8576b\"], [0.6666666666666666, \"#ed7953\"], [0.7777777777777778, \"#fb9f3a\"], [0.8888888888888888, \"#fdca26\"], [1.0, \"#f0f921\"]]}, \"colorway\": [\"#636efa\", \"#EF553B\", \"#00cc96\", \"#ab63fa\", \"#FFA15A\", \"#19d3f3\", \"#FF6692\", \"#B6E880\", \"#FF97FF\", \"#FECB52\"], \"font\": {\"color\": \"#2a3f5f\"}, \"geo\": {\"bgcolor\": \"white\", \"lakecolor\": \"white\", \"landcolor\": \"#E5ECF6\", \"showlakes\": true, \"showland\": true, \"subunitcolor\": \"white\"}, \"hoverlabel\": {\"align\": \"left\"}, \"hovermode\": \"closest\", \"mapbox\": {\"style\": \"light\"}, \"paper_bgcolor\": \"white\", \"plot_bgcolor\": \"#E5ECF6\", \"polar\": {\"angularaxis\": {\"gridcolor\": \"white\", \"linecolor\": \"white\", \"ticks\": \"\"}, \"bgcolor\": \"#E5ECF6\", \"radialaxis\": {\"gridcolor\": \"white\", \"linecolor\": \"white\", \"ticks\": \"\"}}, \"scene\": {\"xaxis\": {\"backgroundcolor\": \"#E5ECF6\", \"gridcolor\": \"white\", \"gridwidth\": 2, \"linecolor\": \"white\", \"showbackground\": true, \"ticks\": \"\", \"zerolinecolor\": \"white\"}, \"yaxis\": {\"backgroundcolor\": \"#E5ECF6\", \"gridcolor\": \"white\", \"gridwidth\": 2, \"linecolor\": \"white\", \"showbackground\": true, \"ticks\": \"\", \"zerolinecolor\": \"white\"}, \"zaxis\": {\"backgroundcolor\": \"#E5ECF6\", \"gridcolor\": \"white\", \"gridwidth\": 2, \"linecolor\": \"white\", \"showbackground\": true, \"ticks\": \"\", \"zerolinecolor\": \"white\"}}, \"shapedefaults\": {\"line\": {\"color\": \"#2a3f5f\"}}, \"ternary\": {\"aaxis\": {\"gridcolor\": \"white\", \"linecolor\": \"white\", \"ticks\": \"\"}, \"baxis\": {\"gridcolor\": \"white\", \"linecolor\": \"white\", \"ticks\": \"\"}, \"bgcolor\": \"#E5ECF6\", \"caxis\": {\"gridcolor\": \"white\", \"linecolor\": \"white\", \"ticks\": \"\"}}, \"title\": {\"x\": 0.05}, \"xaxis\": {\"automargin\": true, \"gridcolor\": \"white\", \"linecolor\": \"white\", \"ticks\": \"\", \"title\": {\"standoff\": 15}, \"zerolinecolor\": \"white\", \"zerolinewidth\": 2}, \"yaxis\": {\"automargin\": true, \"gridcolor\": \"white\", \"linecolor\": \"white\", \"ticks\": \"\", \"title\": {\"standoff\": 15}, \"zerolinecolor\": \"white\", \"zerolinewidth\": 2}}}, \"xaxis\": {\"constrain\": \"domain\", \"scaleanchor\": \"y\", \"side\": \"top\", \"title\": {\"text\": \"features\"}}, \"yaxis\": {\"autorange\": \"reversed\", \"constrain\": \"domain\", \"title\": {\"text\": \"hidden_feature\"}}},                        {\"responsive\": true}                    ).then(function(){\n",
       "                            \n",
       "var gd = document.getElementById('69928805-2446-45f9-8abc-b2abe8cc47b9');\n",
       "var x = new MutationObserver(function (mutations, observer) {{\n",
       "        var display = window.getComputedStyle(gd).display;\n",
       "        if (!display || display === 'none') {{\n",
       "            console.log([gd, 'removed!']);\n",
       "            Plotly.purge(gd);\n",
       "            observer.disconnect();\n",
       "        }}\n",
       "}});\n",
       "\n",
       "// Listen for the removal of the full notebook cells\n",
       "var notebookContainer = gd.closest('#notebook-container');\n",
       "if (notebookContainer) {{\n",
       "    x.observe(notebookContainer, {childList: true});\n",
       "}}\n",
       "\n",
       "// Listen for the clearing of the current output cell\n",
       "var outputEl = gd.closest('.output');\n",
       "if (outputEl) {{\n",
       "    x.observe(outputEl, {childList: true});\n",
       "}}\n",
       "\n",
       "                        })                };                });            </script>        </div>"
      ]
     },
     "metadata": {},
     "output_type": "display_data"
    }
   ],
   "source": [
    "plot_heat(\n",
    "    w=neural_network[0].weight.data.T[:80,:30],\n",
    "    xname=\"features\",\n",
    "    yname=\"hidden_feature\",\n",
    "    x=x_map[:80],\n",
    "    y=np.arange(30)\n",
    ")"
   ]
  },
  {
   "cell_type": "markdown",
   "metadata": {
    "papermill": {
     "duration": 0.079325,
     "end_time": "2020-11-13T07:02:27.036416",
     "exception": false,
     "start_time": "2020-11-13T07:02:26.957091",
     "status": "completed"
    },
    "tags": []
   },
   "source": [
    "### Visualize hidden layer to output\n",
    "\n",
    "> We pick first 30 hidden neurons to all our output categories for visualize"
   ]
  },
  {
   "cell_type": "code",
   "execution_count": 33,
   "metadata": {
    "execution": {
     "iopub.execute_input": "2020-11-13T07:02:27.205070Z",
     "iopub.status.busy": "2020-11-13T07:02:27.204243Z",
     "iopub.status.idle": "2020-11-13T07:02:27.252895Z",
     "shell.execute_reply": "2020-11-13T07:02:27.252134Z"
    },
    "papermill": {
     "duration": 0.137447,
     "end_time": "2020-11-13T07:02:27.253023",
     "exception": false,
     "start_time": "2020-11-13T07:02:27.115576",
     "status": "completed"
    },
    "tags": []
   },
   "outputs": [
    {
     "data": {
      "text/html": [
       "<div>                            <div id=\"c8505b44-4802-419e-9be3-b722708b4916\" class=\"plotly-graph-div\" style=\"height:525px; width:100%;\"></div>            <script type=\"text/javascript\">                require([\"plotly\"], function(Plotly) {                    window.PLOTLYENV=window.PLOTLYENV || {};                                    if (document.getElementById(\"c8505b44-4802-419e-9be3-b722708b4916\")) {                    Plotly.newPlot(                        \"c8505b44-4802-419e-9be3-b722708b4916\",                        [{\"coloraxis\": \"coloraxis\", \"hovertemplate\": \"hidden_feature: %{x}<br>activity: %{y}<br>color: %{z}<extra></extra>\", \"type\": \"heatmap\", \"x\": [\"H1\", \"H23\", \"H13\", \"H14\", \"H10\", \"H5\", \"H21\", \"H17\", \"H16\", \"H24\", \"H26\", \"H25\", \"H27\", \"H9\", \"H22\", \"H2\", \"H19\", \"H7\", \"H29\", \"H8\", \"H12\", \"H20\", \"H0\", \"H28\", \"H3\", \"H4\", \"H11\", \"H6\", \"H18\", \"H15\"], \"y\": [\"LAYING\", \"STANDING\", \"SITTING\", \"WALKING\", \"WALKING_UPSTAIRS\", \"WALKING_DOWNSTAIRS\"], \"z\": [[0.012006659992039204, 0.02504749596118927, -0.05054490268230438, -0.0036123255267739296, 0.06033864989876747, -0.0440806970000267, -0.025289511308073997, 0.0627039298415184, -0.004913497716188431, 0.052361857146024704, 0.06477506458759308, -0.034241218119859695, -0.003959754016250372, -0.05881046503782272, 0.012120100669562817, -0.05373965576291084, -0.04720263555645943, 0.035281844437122345, -0.03211548924446106, 0.039818838238716125, 0.0201825313270092, -0.03665798157453537, -0.03300793841481209, 0.03343433514237404, -0.03660904988646507, -0.03988990932703018, -0.01602700538933277, -0.0350475087761879, -0.05114364996552467, -0.06774324178695679], [-0.06125747784972191, -0.03732733428478241, -0.051597196608781815, -0.024721939116716385, 0.007751080673187971, -0.014020700938999653, -0.02073495090007782, -0.050311129540205, -0.044722944498062134, 0.0006589772528968751, -0.05292832851409912, -0.05024425685405731, -0.049835748970508575, -0.008216852322220802, 0.011130420491099358, -0.02803882770240307, -0.013878344558179379, 0.03797111287713051, 0.010043672285974026, 0.015337511897087097, 0.06263827532529831, -0.02496456727385521, 0.01701401360332966, 0.03849151358008385, 0.056184593588113785, 0.015764269977808, 0.025702467188239098, 0.047959912568330765, 0.06515630334615707, 0.06308808922767639], [-0.05495259165763855, -0.01148668397217989, -0.027145780622959137, -0.010227535851299763, -0.049063604325056076, -0.04624645784497261, -0.04808076471090317, -0.030315522104501724, 0.014036009088158607, 0.01793554052710533, -0.030498169362545013, -0.05081673711538315, -0.039235617965459824, -0.027593964710831642, -0.017459958791732788, 0.08189254999160767, -0.05595911294221878, -0.04089134931564331, -0.03164071962237358, -0.026570675894618034, 9.02572282939218e-05, 0.015786798670887947, 0.04890076071023941, 0.03619087114930153, -0.03565608710050583, 0.01783084124326706, 0.05181039497256279, 0.008910383097827435, -0.05790971964597702, -0.0036520930007100105], [0.029661258682608604, 0.007440941873937845, 0.030792737379670143, 0.05314113199710846, 0.06039180979132652, 0.03774460032582283, -0.01424690056592226, 0.04523853212594986, 0.03032110631465912, -0.006950369570404291, 0.002785508055239916, -0.020791953429579735, -0.023315884172916412, 0.007804925553500652, -0.004358592908829451, 0.007768447510898113, 0.012682277709245682, -0.008494826965034008, -0.010153580456972122, -0.02868613600730896, 0.02124001830816269, -0.03692319989204407, 0.00039957466651685536, -0.03227231651544571, 0.0012812624918296933, -0.0008404504042118788, -0.04108739644289017, 0.008321442641317844, -0.0424710288643837, -0.0472957044839859], [0.038512974977493286, 0.06755295395851135, 0.06353450566530228, 0.04472433775663376, -0.01862558163702488, 0.05386057868599892, 0.05466281995177269, -0.06192125752568245, 0.02481723017990589, 0.06531190872192383, -0.04413173720240593, 0.0013788373908028007, -0.03059893101453781, 0.031056107953190804, 0.010892660357058048, 0.0331558883190155, -0.02075352519750595, 0.0072134132497012615, 0.012314808554947376, -0.042961955070495605, -0.0013533738674595952, -0.02482442744076252, -0.013257885351777077, -0.016505224630236626, -0.024107886478304863, -0.06684505194425583, -0.024816716089844704, -0.0530557818710804, -0.024168221279978752, -0.019488954916596413], [0.026941783726215363, -0.0404992401599884, -0.06315364688634872, -0.005862339399755001, -0.07651369273662567, 0.035588640719652176, -0.04553576558828354, 0.011525302194058895, 0.054614484310150146, -0.005222603678703308, 0.027117857709527016, -0.005794068798422813, 0.04178189858794212, 0.021515950560569763, -0.057243116199970245, -0.05369376018643379, -0.01112290471792221, 0.022647736594080925, 0.04639025777578354, -0.008388206362724304, -0.030627017840743065, 0.04818353056907654, -0.03195653855800629, -0.00026771464035846293, -0.01482978742569685, -0.01548593770712614, -0.02461121417582035, 0.0245036818087101, -0.0002664542698767036, 0.023916903883218765]]}],                        {\"coloraxis\": {\"colorscale\": [[0.0, \"#0d0887\"], [0.1111111111111111, \"#46039f\"], [0.2222222222222222, \"#7201a8\"], [0.3333333333333333, \"#9c179e\"], [0.4444444444444444, \"#bd3786\"], [0.5555555555555556, \"#d8576b\"], [0.6666666666666666, \"#ed7953\"], [0.7777777777777778, \"#fb9f3a\"], [0.8888888888888888, \"#fdca26\"], [1.0, \"#f0f921\"]]}, \"margin\": {\"t\": 60}, \"template\": {\"data\": {\"bar\": [{\"error_x\": {\"color\": \"#2a3f5f\"}, \"error_y\": {\"color\": \"#2a3f5f\"}, \"marker\": {\"line\": {\"color\": \"#E5ECF6\", \"width\": 0.5}}, \"type\": \"bar\"}], \"barpolar\": [{\"marker\": {\"line\": {\"color\": \"#E5ECF6\", \"width\": 0.5}}, \"type\": \"barpolar\"}], \"carpet\": [{\"aaxis\": {\"endlinecolor\": \"#2a3f5f\", \"gridcolor\": \"white\", \"linecolor\": \"white\", \"minorgridcolor\": \"white\", \"startlinecolor\": \"#2a3f5f\"}, \"baxis\": {\"endlinecolor\": \"#2a3f5f\", \"gridcolor\": \"white\", \"linecolor\": \"white\", \"minorgridcolor\": \"white\", \"startlinecolor\": \"#2a3f5f\"}, \"type\": \"carpet\"}], \"choropleth\": [{\"colorbar\": {\"outlinewidth\": 0, \"ticks\": \"\"}, \"type\": \"choropleth\"}], \"contour\": [{\"colorbar\": {\"outlinewidth\": 0, \"ticks\": \"\"}, \"colorscale\": [[0.0, \"#0d0887\"], [0.1111111111111111, \"#46039f\"], [0.2222222222222222, \"#7201a8\"], [0.3333333333333333, \"#9c179e\"], [0.4444444444444444, \"#bd3786\"], [0.5555555555555556, \"#d8576b\"], [0.6666666666666666, \"#ed7953\"], [0.7777777777777778, \"#fb9f3a\"], [0.8888888888888888, \"#fdca26\"], [1.0, \"#f0f921\"]], \"type\": \"contour\"}], \"contourcarpet\": [{\"colorbar\": {\"outlinewidth\": 0, \"ticks\": \"\"}, \"type\": \"contourcarpet\"}], \"heatmap\": [{\"colorbar\": {\"outlinewidth\": 0, \"ticks\": \"\"}, \"colorscale\": [[0.0, \"#0d0887\"], [0.1111111111111111, \"#46039f\"], [0.2222222222222222, \"#7201a8\"], [0.3333333333333333, \"#9c179e\"], [0.4444444444444444, \"#bd3786\"], [0.5555555555555556, \"#d8576b\"], [0.6666666666666666, \"#ed7953\"], [0.7777777777777778, \"#fb9f3a\"], [0.8888888888888888, \"#fdca26\"], [1.0, \"#f0f921\"]], \"type\": \"heatmap\"}], \"heatmapgl\": [{\"colorbar\": {\"outlinewidth\": 0, \"ticks\": \"\"}, \"colorscale\": [[0.0, \"#0d0887\"], [0.1111111111111111, \"#46039f\"], [0.2222222222222222, \"#7201a8\"], [0.3333333333333333, \"#9c179e\"], [0.4444444444444444, \"#bd3786\"], [0.5555555555555556, \"#d8576b\"], [0.6666666666666666, \"#ed7953\"], [0.7777777777777778, \"#fb9f3a\"], [0.8888888888888888, \"#fdca26\"], [1.0, \"#f0f921\"]], \"type\": \"heatmapgl\"}], \"histogram\": [{\"marker\": {\"colorbar\": {\"outlinewidth\": 0, \"ticks\": \"\"}}, \"type\": \"histogram\"}], \"histogram2d\": [{\"colorbar\": {\"outlinewidth\": 0, \"ticks\": \"\"}, \"colorscale\": [[0.0, \"#0d0887\"], [0.1111111111111111, \"#46039f\"], [0.2222222222222222, \"#7201a8\"], [0.3333333333333333, \"#9c179e\"], [0.4444444444444444, \"#bd3786\"], [0.5555555555555556, \"#d8576b\"], [0.6666666666666666, \"#ed7953\"], [0.7777777777777778, \"#fb9f3a\"], [0.8888888888888888, \"#fdca26\"], [1.0, \"#f0f921\"]], \"type\": \"histogram2d\"}], \"histogram2dcontour\": [{\"colorbar\": {\"outlinewidth\": 0, \"ticks\": \"\"}, \"colorscale\": [[0.0, \"#0d0887\"], [0.1111111111111111, \"#46039f\"], [0.2222222222222222, \"#7201a8\"], [0.3333333333333333, \"#9c179e\"], [0.4444444444444444, \"#bd3786\"], [0.5555555555555556, \"#d8576b\"], [0.6666666666666666, \"#ed7953\"], [0.7777777777777778, \"#fb9f3a\"], [0.8888888888888888, \"#fdca26\"], [1.0, \"#f0f921\"]], \"type\": \"histogram2dcontour\"}], \"mesh3d\": [{\"colorbar\": {\"outlinewidth\": 0, \"ticks\": \"\"}, \"type\": \"mesh3d\"}], \"parcoords\": [{\"line\": {\"colorbar\": {\"outlinewidth\": 0, \"ticks\": \"\"}}, \"type\": \"parcoords\"}], \"pie\": [{\"automargin\": true, \"type\": \"pie\"}], \"scatter\": [{\"marker\": {\"colorbar\": {\"outlinewidth\": 0, \"ticks\": \"\"}}, \"type\": \"scatter\"}], \"scatter3d\": [{\"line\": {\"colorbar\": {\"outlinewidth\": 0, \"ticks\": \"\"}}, \"marker\": {\"colorbar\": {\"outlinewidth\": 0, \"ticks\": \"\"}}, \"type\": \"scatter3d\"}], \"scattercarpet\": [{\"marker\": {\"colorbar\": {\"outlinewidth\": 0, \"ticks\": \"\"}}, \"type\": \"scattercarpet\"}], \"scattergeo\": [{\"marker\": {\"colorbar\": {\"outlinewidth\": 0, \"ticks\": \"\"}}, \"type\": \"scattergeo\"}], \"scattergl\": [{\"marker\": {\"colorbar\": {\"outlinewidth\": 0, \"ticks\": \"\"}}, \"type\": \"scattergl\"}], \"scattermapbox\": [{\"marker\": {\"colorbar\": {\"outlinewidth\": 0, \"ticks\": \"\"}}, \"type\": \"scattermapbox\"}], \"scatterpolar\": [{\"marker\": {\"colorbar\": {\"outlinewidth\": 0, \"ticks\": \"\"}}, \"type\": \"scatterpolar\"}], \"scatterpolargl\": [{\"marker\": {\"colorbar\": {\"outlinewidth\": 0, \"ticks\": \"\"}}, \"type\": \"scatterpolargl\"}], \"scatterternary\": [{\"marker\": {\"colorbar\": {\"outlinewidth\": 0, \"ticks\": \"\"}}, \"type\": \"scatterternary\"}], \"surface\": [{\"colorbar\": {\"outlinewidth\": 0, \"ticks\": \"\"}, \"colorscale\": [[0.0, \"#0d0887\"], [0.1111111111111111, \"#46039f\"], [0.2222222222222222, \"#7201a8\"], [0.3333333333333333, \"#9c179e\"], [0.4444444444444444, \"#bd3786\"], [0.5555555555555556, \"#d8576b\"], [0.6666666666666666, \"#ed7953\"], [0.7777777777777778, \"#fb9f3a\"], [0.8888888888888888, \"#fdca26\"], [1.0, \"#f0f921\"]], \"type\": \"surface\"}], \"table\": [{\"cells\": {\"fill\": {\"color\": \"#EBF0F8\"}, \"line\": {\"color\": \"white\"}}, \"header\": {\"fill\": {\"color\": \"#C8D4E3\"}, \"line\": {\"color\": \"white\"}}, \"type\": \"table\"}]}, \"layout\": {\"annotationdefaults\": {\"arrowcolor\": \"#2a3f5f\", \"arrowhead\": 0, \"arrowwidth\": 1}, \"coloraxis\": {\"colorbar\": {\"outlinewidth\": 0, \"ticks\": \"\"}}, \"colorscale\": {\"diverging\": [[0, \"#8e0152\"], [0.1, \"#c51b7d\"], [0.2, \"#de77ae\"], [0.3, \"#f1b6da\"], [0.4, \"#fde0ef\"], [0.5, \"#f7f7f7\"], [0.6, \"#e6f5d0\"], [0.7, \"#b8e186\"], [0.8, \"#7fbc41\"], [0.9, \"#4d9221\"], [1, \"#276419\"]], \"sequential\": [[0.0, \"#0d0887\"], [0.1111111111111111, \"#46039f\"], [0.2222222222222222, \"#7201a8\"], [0.3333333333333333, \"#9c179e\"], [0.4444444444444444, \"#bd3786\"], [0.5555555555555556, \"#d8576b\"], [0.6666666666666666, \"#ed7953\"], [0.7777777777777778, \"#fb9f3a\"], [0.8888888888888888, \"#fdca26\"], [1.0, \"#f0f921\"]], \"sequentialminus\": [[0.0, \"#0d0887\"], [0.1111111111111111, \"#46039f\"], [0.2222222222222222, \"#7201a8\"], [0.3333333333333333, \"#9c179e\"], [0.4444444444444444, \"#bd3786\"], [0.5555555555555556, \"#d8576b\"], [0.6666666666666666, \"#ed7953\"], [0.7777777777777778, \"#fb9f3a\"], [0.8888888888888888, \"#fdca26\"], [1.0, \"#f0f921\"]]}, \"colorway\": [\"#636efa\", \"#EF553B\", \"#00cc96\", \"#ab63fa\", \"#FFA15A\", \"#19d3f3\", \"#FF6692\", \"#B6E880\", \"#FF97FF\", \"#FECB52\"], \"font\": {\"color\": \"#2a3f5f\"}, \"geo\": {\"bgcolor\": \"white\", \"lakecolor\": \"white\", \"landcolor\": \"#E5ECF6\", \"showlakes\": true, \"showland\": true, \"subunitcolor\": \"white\"}, \"hoverlabel\": {\"align\": \"left\"}, \"hovermode\": \"closest\", \"mapbox\": {\"style\": \"light\"}, \"paper_bgcolor\": \"white\", \"plot_bgcolor\": \"#E5ECF6\", \"polar\": {\"angularaxis\": {\"gridcolor\": \"white\", \"linecolor\": \"white\", \"ticks\": \"\"}, \"bgcolor\": \"#E5ECF6\", \"radialaxis\": {\"gridcolor\": \"white\", \"linecolor\": \"white\", \"ticks\": \"\"}}, \"scene\": {\"xaxis\": {\"backgroundcolor\": \"#E5ECF6\", \"gridcolor\": \"white\", \"gridwidth\": 2, \"linecolor\": \"white\", \"showbackground\": true, \"ticks\": \"\", \"zerolinecolor\": \"white\"}, \"yaxis\": {\"backgroundcolor\": \"#E5ECF6\", \"gridcolor\": \"white\", \"gridwidth\": 2, \"linecolor\": \"white\", \"showbackground\": true, \"ticks\": \"\", \"zerolinecolor\": \"white\"}, \"zaxis\": {\"backgroundcolor\": \"#E5ECF6\", \"gridcolor\": \"white\", \"gridwidth\": 2, \"linecolor\": \"white\", \"showbackground\": true, \"ticks\": \"\", \"zerolinecolor\": \"white\"}}, \"shapedefaults\": {\"line\": {\"color\": \"#2a3f5f\"}}, \"ternary\": {\"aaxis\": {\"gridcolor\": \"white\", \"linecolor\": \"white\", \"ticks\": \"\"}, \"baxis\": {\"gridcolor\": \"white\", \"linecolor\": \"white\", \"ticks\": \"\"}, \"bgcolor\": \"#E5ECF6\", \"caxis\": {\"gridcolor\": \"white\", \"linecolor\": \"white\", \"ticks\": \"\"}}, \"title\": {\"x\": 0.05}, \"xaxis\": {\"automargin\": true, \"gridcolor\": \"white\", \"linecolor\": \"white\", \"ticks\": \"\", \"title\": {\"standoff\": 15}, \"zerolinecolor\": \"white\", \"zerolinewidth\": 2}, \"yaxis\": {\"automargin\": true, \"gridcolor\": \"white\", \"linecolor\": \"white\", \"ticks\": \"\", \"title\": {\"standoff\": 15}, \"zerolinecolor\": \"white\", \"zerolinewidth\": 2}}}, \"xaxis\": {\"constrain\": \"domain\", \"scaleanchor\": \"y\", \"side\": \"top\", \"title\": {\"text\": \"hidden_feature\"}}, \"yaxis\": {\"autorange\": \"reversed\", \"constrain\": \"domain\", \"title\": {\"text\": \"activity\"}}},                        {\"responsive\": true}                    ).then(function(){\n",
       "                            \n",
       "var gd = document.getElementById('c8505b44-4802-419e-9be3-b722708b4916');\n",
       "var x = new MutationObserver(function (mutations, observer) {{\n",
       "        var display = window.getComputedStyle(gd).display;\n",
       "        if (!display || display === 'none') {{\n",
       "            console.log([gd, 'removed!']);\n",
       "            Plotly.purge(gd);\n",
       "            observer.disconnect();\n",
       "        }}\n",
       "}});\n",
       "\n",
       "// Listen for the removal of the full notebook cells\n",
       "var notebookContainer = gd.closest('#notebook-container');\n",
       "if (notebookContainer) {{\n",
       "    x.observe(notebookContainer, {childList: true});\n",
       "}}\n",
       "\n",
       "// Listen for the clearing of the current output cell\n",
       "var outputEl = gd.closest('.output');\n",
       "if (outputEl) {{\n",
       "    x.observe(outputEl, {childList: true});\n",
       "}}\n",
       "\n",
       "                        })                };                });            </script>        </div>"
      ]
     },
     "metadata": {},
     "output_type": "display_data"
    }
   ],
   "source": [
    "plot_heat(\n",
    "    w=neural_network[3].weight.data.T[:30,:],\n",
    "    xname=\"hidden_feature\",\n",
    "    yname=\"activity\",\n",
    "    x=np.array(list(map(lambda i:f\"H{i}\",range(30)))),\n",
    "    y=np.array(list(y_map.keys())),\n",
    ")"
   ]
  },
  {
   "cell_type": "code",
   "execution_count": null,
   "metadata": {
    "papermill": {
     "duration": 0.081202,
     "end_time": "2020-11-13T07:02:27.415454",
     "exception": false,
     "start_time": "2020-11-13T07:02:27.334252",
     "status": "completed"
    },
    "tags": []
   },
   "outputs": [],
   "source": []
  }
 ],
 "metadata": {
  "kernelspec": {
   "display_name": "Python 3",
   "language": "python",
   "name": "python3"
  },
  "language_info": {
   "codemirror_mode": {
    "name": "ipython",
    "version": 3
   },
   "file_extension": ".py",
   "mimetype": "text/x-python",
   "name": "python",
   "nbconvert_exporter": "python",
   "pygments_lexer": "ipython3",
   "version": "3.7.6"
  },
  "papermill": {
   "duration": 53.942858,
   "end_time": "2020-11-13T07:02:28.565313",
   "environment_variables": {},
   "exception": null,
   "input_path": "__notebook__.ipynb",
   "output_path": "__notebook__.ipynb",
   "parameters": {},
   "start_time": "2020-11-13T07:01:34.622455",
   "version": "2.1.0"
  },
  "widgets": {
   "application/vnd.jupyter.widget-state+json": {
    "state": {
     "00d2615e32fa4d6482ea6415cee6eb91": {
      "model_module": "@jupyter-widgets/base",
      "model_module_version": "1.2.0",
      "model_name": "LayoutModel",
      "state": {
       "_model_module": "@jupyter-widgets/base",
       "_model_module_version": "1.2.0",
       "_model_name": "LayoutModel",
       "_view_count": null,
       "_view_module": "@jupyter-widgets/base",
       "_view_module_version": "1.2.0",
       "_view_name": "LayoutView",
       "align_content": null,
       "align_items": null,
       "align_self": null,
       "border": null,
       "bottom": null,
       "display": "inline-flex",
       "flex": null,
       "flex_flow": "row wrap",
       "grid_area": null,
       "grid_auto_columns": null,
       "grid_auto_flow": null,
       "grid_auto_rows": null,
       "grid_column": null,
       "grid_gap": null,
       "grid_row": null,
       "grid_template_areas": null,
       "grid_template_columns": null,
       "grid_template_rows": null,
       "height": null,
       "justify_content": null,
       "justify_items": null,
       "left": null,
       "margin": null,
       "max_height": null,
       "max_width": null,
       "min_height": null,
       "min_width": null,
       "object_fit": null,
       "object_position": null,
       "order": null,
       "overflow": null,
       "overflow_x": null,
       "overflow_y": null,
       "padding": null,
       "right": null,
       "top": null,
       "visibility": null,
       "width": "100%"
      }
     },
     "02ebfcf4bfd24675ad4e463f79469caa": {
      "model_module": "@jupyter-widgets/base",
      "model_module_version": "1.2.0",
      "model_name": "LayoutModel",
      "state": {
       "_model_module": "@jupyter-widgets/base",
       "_model_module_version": "1.2.0",
       "_model_name": "LayoutModel",
       "_view_count": null,
       "_view_module": "@jupyter-widgets/base",
       "_view_module_version": "1.2.0",
       "_view_name": "LayoutView",
       "align_content": null,
       "align_items": null,
       "align_self": null,
       "border": null,
       "bottom": null,
       "display": null,
       "flex": "2",
       "flex_flow": null,
       "grid_area": null,
       "grid_auto_columns": null,
       "grid_auto_flow": null,
       "grid_auto_rows": null,
       "grid_column": null,
       "grid_gap": null,
       "grid_row": null,
       "grid_template_areas": null,
       "grid_template_columns": null,
       "grid_template_rows": null,
       "height": null,
       "justify_content": null,
       "justify_items": null,
       "left": null,
       "margin": null,
       "max_height": null,
       "max_width": null,
       "min_height": null,
       "min_width": null,
       "object_fit": null,
       "object_position": null,
       "order": null,
       "overflow": null,
       "overflow_x": null,
       "overflow_y": null,
       "padding": null,
       "right": null,
       "top": null,
       "visibility": null,
       "width": null
      }
     },
     "06aa2a53e1ce41e7be855b1e5a466bf8": {
      "model_module": "@jupyter-widgets/base",
      "model_module_version": "1.2.0",
      "model_name": "LayoutModel",
      "state": {
       "_model_module": "@jupyter-widgets/base",
       "_model_module_version": "1.2.0",
       "_model_name": "LayoutModel",
       "_view_count": null,
       "_view_module": "@jupyter-widgets/base",
       "_view_module_version": "1.2.0",
       "_view_name": "LayoutView",
       "align_content": null,
       "align_items": null,
       "align_self": null,
       "border": null,
       "bottom": null,
       "display": "inline-flex",
       "flex": null,
       "flex_flow": "row wrap",
       "grid_area": null,
       "grid_auto_columns": null,
       "grid_auto_flow": null,
       "grid_auto_rows": null,
       "grid_column": null,
       "grid_gap": null,
       "grid_row": null,
       "grid_template_areas": null,
       "grid_template_columns": null,
       "grid_template_rows": null,
       "height": null,
       "justify_content": null,
       "justify_items": null,
       "left": null,
       "margin": null,
       "max_height": null,
       "max_width": null,
       "min_height": null,
       "min_width": null,
       "object_fit": null,
       "object_position": null,
       "order": null,
       "overflow": null,
       "overflow_x": null,
       "overflow_y": null,
       "padding": null,
       "right": null,
       "top": null,
       "visibility": null,
       "width": "100%"
      }
     },
     "06f4b646b34f487e9ffb27e35fbce8f5": {
      "model_module": "@jupyter-widgets/base",
      "model_module_version": "1.2.0",
      "model_name": "LayoutModel",
      "state": {
       "_model_module": "@jupyter-widgets/base",
       "_model_module_version": "1.2.0",
       "_model_name": "LayoutModel",
       "_view_count": null,
       "_view_module": "@jupyter-widgets/base",
       "_view_module_version": "1.2.0",
       "_view_name": "LayoutView",
       "align_content": null,
       "align_items": null,
       "align_self": null,
       "border": null,
       "bottom": null,
       "display": null,
       "flex": "2",
       "flex_flow": null,
       "grid_area": null,
       "grid_auto_columns": null,
       "grid_auto_flow": null,
       "grid_auto_rows": null,
       "grid_column": null,
       "grid_gap": null,
       "grid_row": null,
       "grid_template_areas": null,
       "grid_template_columns": null,
       "grid_template_rows": null,
       "height": null,
       "justify_content": null,
       "justify_items": null,
       "left": null,
       "margin": null,
       "max_height": null,
       "max_width": null,
       "min_height": null,
       "min_width": null,
       "object_fit": null,
       "object_position": null,
       "order": null,
       "overflow": null,
       "overflow_x": null,
       "overflow_y": null,
       "padding": null,
       "right": null,
       "top": null,
       "visibility": null,
       "width": null
      }
     },
     "08a19eefc3474cc2a434acf4bf165868": {
      "model_module": "@jupyter-widgets/controls",
      "model_module_version": "1.5.0",
      "model_name": "HTMLModel",
      "state": {
       "_dom_classes": [],
       "_model_module": "@jupyter-widgets/controls",
       "_model_module_version": "1.5.0",
       "_model_name": "HTMLModel",
       "_view_count": null,
       "_view_module": "@jupyter-widgets/controls",
       "_view_module_version": "1.5.0",
       "_view_name": "HTMLView",
       "description": "",
       "description_tooltip": null,
       "layout": "IPY_MODEL_8395485002ff451abebc74fc6b7d0516",
       "placeholder": "​",
       "style": "IPY_MODEL_ec179c85b8cb4449a19e0e281b8be9e2",
       "value": " 6/6 [00:00&lt;00:00, 100.82it/s]"
      }
     },
     "0a090f00de49436d96bd94e0f665a2d1": {
      "model_module": "@jupyter-widgets/controls",
      "model_module_version": "1.5.0",
      "model_name": "ProgressStyleModel",
      "state": {
       "_model_module": "@jupyter-widgets/controls",
       "_model_module_version": "1.5.0",
       "_model_name": "ProgressStyleModel",
       "_view_count": null,
       "_view_module": "@jupyter-widgets/base",
       "_view_module_version": "1.2.0",
       "_view_name": "StyleView",
       "bar_color": null,
       "description_width": "initial"
      }
     },
     "0acbd1b4e4cd4620a730b290114416d7": {
      "model_module": "@jupyter-widgets/base",
      "model_module_version": "1.2.0",
      "model_name": "LayoutModel",
      "state": {
       "_model_module": "@jupyter-widgets/base",
       "_model_module_version": "1.2.0",
       "_model_name": "LayoutModel",
       "_view_count": null,
       "_view_module": "@jupyter-widgets/base",
       "_view_module_version": "1.2.0",
       "_view_name": "LayoutView",
       "align_content": null,
       "align_items": null,
       "align_self": null,
       "border": null,
       "bottom": null,
       "display": null,
       "flex": null,
       "flex_flow": null,
       "grid_area": null,
       "grid_auto_columns": null,
       "grid_auto_flow": null,
       "grid_auto_rows": null,
       "grid_column": null,
       "grid_gap": null,
       "grid_row": null,
       "grid_template_areas": null,
       "grid_template_columns": null,
       "grid_template_rows": null,
       "height": null,
       "justify_content": null,
       "justify_items": null,
       "left": null,
       "margin": null,
       "max_height": null,
       "max_width": null,
       "min_height": null,
       "min_width": null,
       "object_fit": null,
       "object_position": null,
       "order": null,
       "overflow": null,
       "overflow_x": null,
       "overflow_y": null,
       "padding": null,
       "right": null,
       "top": null,
       "visibility": null,
       "width": null
      }
     },
     "0b8675e13b1a40daa98bf7386b7ddd15": {
      "model_module": "@jupyter-widgets/controls",
      "model_module_version": "1.5.0",
      "model_name": "DescriptionStyleModel",
      "state": {
       "_model_module": "@jupyter-widgets/controls",
       "_model_module_version": "1.5.0",
       "_model_name": "DescriptionStyleModel",
       "_view_count": null,
       "_view_module": "@jupyter-widgets/base",
       "_view_module_version": "1.2.0",
       "_view_name": "StyleView",
       "description_width": ""
      }
     },
     "0df3c8ba929048279f678d820a8cb8b4": {
      "model_module": "@jupyter-widgets/base",
      "model_module_version": "1.2.0",
      "model_name": "LayoutModel",
      "state": {
       "_model_module": "@jupyter-widgets/base",
       "_model_module_version": "1.2.0",
       "_model_name": "LayoutModel",
       "_view_count": null,
       "_view_module": "@jupyter-widgets/base",
       "_view_module_version": "1.2.0",
       "_view_name": "LayoutView",
       "align_content": null,
       "align_items": null,
       "align_self": null,
       "border": null,
       "bottom": null,
       "display": null,
       "flex": null,
       "flex_flow": null,
       "grid_area": null,
       "grid_auto_columns": null,
       "grid_auto_flow": null,
       "grid_auto_rows": null,
       "grid_column": null,
       "grid_gap": null,
       "grid_row": null,
       "grid_template_areas": null,
       "grid_template_columns": null,
       "grid_template_rows": null,
       "height": null,
       "justify_content": null,
       "justify_items": null,
       "left": null,
       "margin": null,
       "max_height": null,
       "max_width": null,
       "min_height": null,
       "min_width": null,
       "object_fit": null,
       "object_position": null,
       "order": null,
       "overflow": null,
       "overflow_x": null,
       "overflow_y": null,
       "padding": null,
       "right": null,
       "top": null,
       "visibility": null,
       "width": null
      }
     },
     "0e356f6f85024a6aa2d1498b129d1e5e": {
      "model_module": "@jupyter-widgets/controls",
      "model_module_version": "1.5.0",
      "model_name": "FloatProgressModel",
      "state": {
       "_dom_classes": [],
       "_model_module": "@jupyter-widgets/controls",
       "_model_module_version": "1.5.0",
       "_model_name": "FloatProgressModel",
       "_view_count": null,
       "_view_module": "@jupyter-widgets/controls",
       "_view_module_version": "1.5.0",
       "_view_name": "ProgressView",
       "bar_style": "info",
       "description": "Validating: 100%",
       "description_tooltip": null,
       "layout": "IPY_MODEL_b922e791aa10492db62e7e9d3f118823",
       "max": 1.0,
       "min": 0.0,
       "orientation": "horizontal",
       "style": "IPY_MODEL_4604d1c979324ff3a649aef266802659",
       "value": 1.0
      }
     },
     "0fa6ccd54e2548f78388e53298c5ab00": {
      "model_module": "@jupyter-widgets/controls",
      "model_module_version": "1.5.0",
      "model_name": "HTMLModel",
      "state": {
       "_dom_classes": [],
       "_model_module": "@jupyter-widgets/controls",
       "_model_module_version": "1.5.0",
       "_model_name": "HTMLModel",
       "_view_count": null,
       "_view_module": "@jupyter-widgets/controls",
       "_view_module_version": "1.5.0",
       "_view_name": "HTMLView",
       "description": "",
       "description_tooltip": null,
       "layout": "IPY_MODEL_5c8413f5297045c8bccfd11a1b7f86e2",
       "placeholder": "​",
       "style": "IPY_MODEL_f3e9ce426ac141ae903b048b5a41e110",
       "value": " 2/2 [00:00&lt;00:00, 21.53it/s]"
      }
     },
     "12852d406891495787ba28949c2e9550": {
      "model_module": "@jupyter-widgets/base",
      "model_module_version": "1.2.0",
      "model_name": "LayoutModel",
      "state": {
       "_model_module": "@jupyter-widgets/base",
       "_model_module_version": "1.2.0",
       "_model_name": "LayoutModel",
       "_view_count": null,
       "_view_module": "@jupyter-widgets/base",
       "_view_module_version": "1.2.0",
       "_view_name": "LayoutView",
       "align_content": null,
       "align_items": null,
       "align_self": null,
       "border": null,
       "bottom": null,
       "display": "inline-flex",
       "flex": null,
       "flex_flow": "row wrap",
       "grid_area": null,
       "grid_auto_columns": null,
       "grid_auto_flow": null,
       "grid_auto_rows": null,
       "grid_column": null,
       "grid_gap": null,
       "grid_row": null,
       "grid_template_areas": null,
       "grid_template_columns": null,
       "grid_template_rows": null,
       "height": null,
       "justify_content": null,
       "justify_items": null,
       "left": null,
       "margin": null,
       "max_height": null,
       "max_width": null,
       "min_height": null,
       "min_width": null,
       "object_fit": null,
       "object_position": null,
       "order": null,
       "overflow": null,
       "overflow_x": null,
       "overflow_y": null,
       "padding": null,
       "right": null,
       "top": null,
       "visibility": null,
       "width": "100%"
      }
     },
     "16996736198a4afaa2b3fff7eab7807f": {
      "model_module": "@jupyter-widgets/controls",
      "model_module_version": "1.5.0",
      "model_name": "HBoxModel",
      "state": {
       "_dom_classes": [],
       "_model_module": "@jupyter-widgets/controls",
       "_model_module_version": "1.5.0",
       "_model_name": "HBoxModel",
       "_view_count": null,
       "_view_module": "@jupyter-widgets/controls",
       "_view_module_version": "1.5.0",
       "_view_name": "HBoxView",
       "box_style": "",
       "children": [
        "IPY_MODEL_6a3ea4136e77491bb403bc5036202cfa",
        "IPY_MODEL_08a19eefc3474cc2a434acf4bf165868"
       ],
       "layout": "IPY_MODEL_06aa2a53e1ce41e7be855b1e5a466bf8"
      }
     },
     "184349886c9c4ac3afcdaf6d4155c49b": {
      "model_module": "@jupyter-widgets/base",
      "model_module_version": "1.2.0",
      "model_name": "LayoutModel",
      "state": {
       "_model_module": "@jupyter-widgets/base",
       "_model_module_version": "1.2.0",
       "_model_name": "LayoutModel",
       "_view_count": null,
       "_view_module": "@jupyter-widgets/base",
       "_view_module_version": "1.2.0",
       "_view_name": "LayoutView",
       "align_content": null,
       "align_items": null,
       "align_self": null,
       "border": null,
       "bottom": null,
       "display": null,
       "flex": "2",
       "flex_flow": null,
       "grid_area": null,
       "grid_auto_columns": null,
       "grid_auto_flow": null,
       "grid_auto_rows": null,
       "grid_column": null,
       "grid_gap": null,
       "grid_row": null,
       "grid_template_areas": null,
       "grid_template_columns": null,
       "grid_template_rows": null,
       "height": null,
       "justify_content": null,
       "justify_items": null,
       "left": null,
       "margin": null,
       "max_height": null,
       "max_width": null,
       "min_height": null,
       "min_width": null,
       "object_fit": null,
       "object_position": null,
       "order": null,
       "overflow": null,
       "overflow_x": null,
       "overflow_y": null,
       "padding": null,
       "right": null,
       "top": null,
       "visibility": null,
       "width": null
      }
     },
     "185f2a3eb192441e9b8617e66ec4aaf0": {
      "model_module": "@jupyter-widgets/controls",
      "model_module_version": "1.5.0",
      "model_name": "FloatProgressModel",
      "state": {
       "_dom_classes": [],
       "_model_module": "@jupyter-widgets/controls",
       "_model_module_version": "1.5.0",
       "_model_name": "FloatProgressModel",
       "_view_count": null,
       "_view_module": "@jupyter-widgets/controls",
       "_view_module_version": "1.5.0",
       "_view_name": "ProgressView",
       "bar_style": "info",
       "description": "Validating: 100%",
       "description_tooltip": null,
       "layout": "IPY_MODEL_e6a0dc64f68045b881cc2732391fb5a6",
       "max": 1.0,
       "min": 0.0,
       "orientation": "horizontal",
       "style": "IPY_MODEL_4416580a4ecd4f4098d1738216f25a45",
       "value": 1.0
      }
     },
     "1bb1199db29b4175955ef5465d9cc997": {
      "model_module": "@jupyter-widgets/controls",
      "model_module_version": "1.5.0",
      "model_name": "ProgressStyleModel",
      "state": {
       "_model_module": "@jupyter-widgets/controls",
       "_model_module_version": "1.5.0",
       "_model_name": "ProgressStyleModel",
       "_view_count": null,
       "_view_module": "@jupyter-widgets/base",
       "_view_module_version": "1.2.0",
       "_view_name": "StyleView",
       "bar_color": null,
       "description_width": "initial"
      }
     },
     "26e86b7a0bde4e20a863f115c33e66c7": {
      "model_module": "@jupyter-widgets/base",
      "model_module_version": "1.2.0",
      "model_name": "LayoutModel",
      "state": {
       "_model_module": "@jupyter-widgets/base",
       "_model_module_version": "1.2.0",
       "_model_name": "LayoutModel",
       "_view_count": null,
       "_view_module": "@jupyter-widgets/base",
       "_view_module_version": "1.2.0",
       "_view_name": "LayoutView",
       "align_content": null,
       "align_items": null,
       "align_self": null,
       "border": null,
       "bottom": null,
       "display": null,
       "flex": "2",
       "flex_flow": null,
       "grid_area": null,
       "grid_auto_columns": null,
       "grid_auto_flow": null,
       "grid_auto_rows": null,
       "grid_column": null,
       "grid_gap": null,
       "grid_row": null,
       "grid_template_areas": null,
       "grid_template_columns": null,
       "grid_template_rows": null,
       "height": null,
       "justify_content": null,
       "justify_items": null,
       "left": null,
       "margin": null,
       "max_height": null,
       "max_width": null,
       "min_height": null,
       "min_width": null,
       "object_fit": null,
       "object_position": null,
       "order": null,
       "overflow": null,
       "overflow_x": null,
       "overflow_y": null,
       "padding": null,
       "right": null,
       "top": null,
       "visibility": null,
       "width": null
      }
     },
     "3170465016e24dbb98b95db52a9c4df8": {
      "model_module": "@jupyter-widgets/controls",
      "model_module_version": "1.5.0",
      "model_name": "HTMLModel",
      "state": {
       "_dom_classes": [],
       "_model_module": "@jupyter-widgets/controls",
       "_model_module_version": "1.5.0",
       "_model_name": "HTMLModel",
       "_view_count": null,
       "_view_module": "@jupyter-widgets/controls",
       "_view_module_version": "1.5.0",
       "_view_name": "HTMLView",
       "description": "",
       "description_tooltip": null,
       "layout": "IPY_MODEL_a921dd3c957c44e2ac43152f31c8f3ad",
       "placeholder": "​",
       "style": "IPY_MODEL_8362f7b666f44966903f1e46ae68a77f",
       "value": " 6/6 [00:00&lt;00:00, 82.81it/s]"
      }
     },
     "34b0dbd49f6a4e3287a91ea2da5d2417": {
      "model_module": "@jupyter-widgets/base",
      "model_module_version": "1.2.0",
      "model_name": "LayoutModel",
      "state": {
       "_model_module": "@jupyter-widgets/base",
       "_model_module_version": "1.2.0",
       "_model_name": "LayoutModel",
       "_view_count": null,
       "_view_module": "@jupyter-widgets/base",
       "_view_module_version": "1.2.0",
       "_view_name": "LayoutView",
       "align_content": null,
       "align_items": null,
       "align_self": null,
       "border": null,
       "bottom": null,
       "display": null,
       "flex": null,
       "flex_flow": null,
       "grid_area": null,
       "grid_auto_columns": null,
       "grid_auto_flow": null,
       "grid_auto_rows": null,
       "grid_column": null,
       "grid_gap": null,
       "grid_row": null,
       "grid_template_areas": null,
       "grid_template_columns": null,
       "grid_template_rows": null,
       "height": null,
       "justify_content": null,
       "justify_items": null,
       "left": null,
       "margin": null,
       "max_height": null,
       "max_width": null,
       "min_height": null,
       "min_width": null,
       "object_fit": null,
       "object_position": null,
       "order": null,
       "overflow": null,
       "overflow_x": null,
       "overflow_y": null,
       "padding": null,
       "right": null,
       "top": null,
       "visibility": null,
       "width": null
      }
     },
     "389670afdf5343549f9c7e416c7d1449": {
      "model_module": "@jupyter-widgets/controls",
      "model_module_version": "1.5.0",
      "model_name": "FloatProgressModel",
      "state": {
       "_dom_classes": [],
       "_model_module": "@jupyter-widgets/controls",
       "_model_module_version": "1.5.0",
       "_model_name": "FloatProgressModel",
       "_view_count": null,
       "_view_module": "@jupyter-widgets/controls",
       "_view_module_version": "1.5.0",
       "_view_name": "ProgressView",
       "bar_style": "info",
       "description": "Validating: 100%",
       "description_tooltip": null,
       "layout": "IPY_MODEL_986d47a43dcb4fc4acee1d5ef59c6705",
       "max": 1.0,
       "min": 0.0,
       "orientation": "horizontal",
       "style": "IPY_MODEL_0a090f00de49436d96bd94e0f665a2d1",
       "value": 1.0
      }
     },
     "40694da38f2647fcbb48d825b3129841": {
      "model_module": "@jupyter-widgets/controls",
      "model_module_version": "1.5.0",
      "model_name": "ProgressStyleModel",
      "state": {
       "_model_module": "@jupyter-widgets/controls",
       "_model_module_version": "1.5.0",
       "_model_name": "ProgressStyleModel",
       "_view_count": null,
       "_view_module": "@jupyter-widgets/base",
       "_view_module_version": "1.2.0",
       "_view_name": "StyleView",
       "bar_color": null,
       "description_width": "initial"
      }
     },
     "407fd31d41e44289a15ee3902a92b2b3": {
      "model_module": "@jupyter-widgets/controls",
      "model_module_version": "1.5.0",
      "model_name": "DescriptionStyleModel",
      "state": {
       "_model_module": "@jupyter-widgets/controls",
       "_model_module_version": "1.5.0",
       "_model_name": "DescriptionStyleModel",
       "_view_count": null,
       "_view_module": "@jupyter-widgets/base",
       "_view_module_version": "1.2.0",
       "_view_name": "StyleView",
       "description_width": ""
      }
     },
     "41d88b65a53b40f5b727575df089f6b9": {
      "model_module": "@jupyter-widgets/controls",
      "model_module_version": "1.5.0",
      "model_name": "FloatProgressModel",
      "state": {
       "_dom_classes": [],
       "_model_module": "@jupyter-widgets/controls",
       "_model_module_version": "1.5.0",
       "_model_name": "FloatProgressModel",
       "_view_count": null,
       "_view_module": "@jupyter-widgets/controls",
       "_view_module_version": "1.5.0",
       "_view_name": "ProgressView",
       "bar_style": "info",
       "description": "Validating: 100%",
       "description_tooltip": null,
       "layout": "IPY_MODEL_fee822ac550e413d9c62e608ad492601",
       "max": 1.0,
       "min": 0.0,
       "orientation": "horizontal",
       "style": "IPY_MODEL_dca507ded0c742ed80f8f4adc1e18c64",
       "value": 1.0
      }
     },
     "42421c021bf34e7393e6976de5b530e1": {
      "model_module": "@jupyter-widgets/base",
      "model_module_version": "1.2.0",
      "model_name": "LayoutModel",
      "state": {
       "_model_module": "@jupyter-widgets/base",
       "_model_module_version": "1.2.0",
       "_model_name": "LayoutModel",
       "_view_count": null,
       "_view_module": "@jupyter-widgets/base",
       "_view_module_version": "1.2.0",
       "_view_name": "LayoutView",
       "align_content": null,
       "align_items": null,
       "align_self": null,
       "border": null,
       "bottom": null,
       "display": null,
       "flex": "2",
       "flex_flow": null,
       "grid_area": null,
       "grid_auto_columns": null,
       "grid_auto_flow": null,
       "grid_auto_rows": null,
       "grid_column": null,
       "grid_gap": null,
       "grid_row": null,
       "grid_template_areas": null,
       "grid_template_columns": null,
       "grid_template_rows": null,
       "height": null,
       "justify_content": null,
       "justify_items": null,
       "left": null,
       "margin": null,
       "max_height": null,
       "max_width": null,
       "min_height": null,
       "min_width": null,
       "object_fit": null,
       "object_position": null,
       "order": null,
       "overflow": null,
       "overflow_x": null,
       "overflow_y": null,
       "padding": null,
       "right": null,
       "top": null,
       "visibility": null,
       "width": null
      }
     },
     "42683a0567814919bd82863788412afd": {
      "model_module": "@jupyter-widgets/controls",
      "model_module_version": "1.5.0",
      "model_name": "HBoxModel",
      "state": {
       "_dom_classes": [],
       "_model_module": "@jupyter-widgets/controls",
       "_model_module_version": "1.5.0",
       "_model_name": "HBoxModel",
       "_view_count": null,
       "_view_module": "@jupyter-widgets/controls",
       "_view_module_version": "1.5.0",
       "_view_name": "HBoxView",
       "box_style": "",
       "children": [
        "IPY_MODEL_763676ab06b34d08afd31e16312a1dff",
        "IPY_MODEL_d97c8e023e954894b2965877aadb177d"
       ],
       "layout": "IPY_MODEL_c7b246463e98433d99074ccf43f5cf29"
      }
     },
     "4416580a4ecd4f4098d1738216f25a45": {
      "model_module": "@jupyter-widgets/controls",
      "model_module_version": "1.5.0",
      "model_name": "ProgressStyleModel",
      "state": {
       "_model_module": "@jupyter-widgets/controls",
       "_model_module_version": "1.5.0",
       "_model_name": "ProgressStyleModel",
       "_view_count": null,
       "_view_module": "@jupyter-widgets/base",
       "_view_module_version": "1.2.0",
       "_view_name": "StyleView",
       "bar_color": null,
       "description_width": "initial"
      }
     },
     "44dd10001cdc4958b29573248de88db5": {
      "model_module": "@jupyter-widgets/base",
      "model_module_version": "1.2.0",
      "model_name": "LayoutModel",
      "state": {
       "_model_module": "@jupyter-widgets/base",
       "_model_module_version": "1.2.0",
       "_model_name": "LayoutModel",
       "_view_count": null,
       "_view_module": "@jupyter-widgets/base",
       "_view_module_version": "1.2.0",
       "_view_name": "LayoutView",
       "align_content": null,
       "align_items": null,
       "align_self": null,
       "border": null,
       "bottom": null,
       "display": "inline-flex",
       "flex": null,
       "flex_flow": "row wrap",
       "grid_area": null,
       "grid_auto_columns": null,
       "grid_auto_flow": null,
       "grid_auto_rows": null,
       "grid_column": null,
       "grid_gap": null,
       "grid_row": null,
       "grid_template_areas": null,
       "grid_template_columns": null,
       "grid_template_rows": null,
       "height": null,
       "justify_content": null,
       "justify_items": null,
       "left": null,
       "margin": null,
       "max_height": null,
       "max_width": null,
       "min_height": null,
       "min_width": null,
       "object_fit": null,
       "object_position": null,
       "order": null,
       "overflow": null,
       "overflow_x": null,
       "overflow_y": null,
       "padding": null,
       "right": null,
       "top": null,
       "visibility": null,
       "width": "100%"
      }
     },
     "4604d1c979324ff3a649aef266802659": {
      "model_module": "@jupyter-widgets/controls",
      "model_module_version": "1.5.0",
      "model_name": "ProgressStyleModel",
      "state": {
       "_model_module": "@jupyter-widgets/controls",
       "_model_module_version": "1.5.0",
       "_model_name": "ProgressStyleModel",
       "_view_count": null,
       "_view_module": "@jupyter-widgets/base",
       "_view_module_version": "1.2.0",
       "_view_name": "StyleView",
       "bar_color": null,
       "description_width": "initial"
      }
     },
     "4776362bf1e3446493283e189336fe6e": {
      "model_module": "@jupyter-widgets/controls",
      "model_module_version": "1.5.0",
      "model_name": "FloatProgressModel",
      "state": {
       "_dom_classes": [],
       "_model_module": "@jupyter-widgets/controls",
       "_model_module_version": "1.5.0",
       "_model_name": "FloatProgressModel",
       "_view_count": null,
       "_view_module": "@jupyter-widgets/controls",
       "_view_module_version": "1.5.0",
       "_view_name": "ProgressView",
       "bar_style": "info",
       "description": "Validating: 100%",
       "description_tooltip": null,
       "layout": "IPY_MODEL_184349886c9c4ac3afcdaf6d4155c49b",
       "max": 1.0,
       "min": 0.0,
       "orientation": "horizontal",
       "style": "IPY_MODEL_1bb1199db29b4175955ef5465d9cc997",
       "value": 1.0
      }
     },
     "4afd386ae4134484b1eb0d4c023e9a52": {
      "model_module": "@jupyter-widgets/controls",
      "model_module_version": "1.5.0",
      "model_name": "FloatProgressModel",
      "state": {
       "_dom_classes": [],
       "_model_module": "@jupyter-widgets/controls",
       "_model_module_version": "1.5.0",
       "_model_name": "FloatProgressModel",
       "_view_count": null,
       "_view_module": "@jupyter-widgets/controls",
       "_view_module_version": "1.5.0",
       "_view_name": "ProgressView",
       "bar_style": "success",
       "description": "Epoch 4: 100%",
       "description_tooltip": null,
       "layout": "IPY_MODEL_66b34ab8bc8848aea5fd272649ce663a",
       "max": 29.0,
       "min": 0.0,
       "orientation": "horizontal",
       "style": "IPY_MODEL_6d2252f6515a41dca4eb44aeeab5fb87",
       "value": 29.0
      }
     },
     "4dd8b700c2a34949a925205e7a865e9e": {
      "model_module": "@jupyter-widgets/controls",
      "model_module_version": "1.5.0",
      "model_name": "HBoxModel",
      "state": {
       "_dom_classes": [],
       "_model_module": "@jupyter-widgets/controls",
       "_model_module_version": "1.5.0",
       "_model_name": "HBoxModel",
       "_view_count": null,
       "_view_module": "@jupyter-widgets/controls",
       "_view_module_version": "1.5.0",
       "_view_name": "HBoxView",
       "box_style": "",
       "children": [
        "IPY_MODEL_41d88b65a53b40f5b727575df089f6b9",
        "IPY_MODEL_d14944237ce74baca24c4bddddad6a77"
       ],
       "layout": "IPY_MODEL_be2bcb0b512546cea326406a2a47819e"
      }
     },
     "514a98793e934ff39c308ca45db6f522": {
      "model_module": "@jupyter-widgets/controls",
      "model_module_version": "1.5.0",
      "model_name": "FloatProgressModel",
      "state": {
       "_dom_classes": [],
       "_model_module": "@jupyter-widgets/controls",
       "_model_module_version": "1.5.0",
       "_model_name": "FloatProgressModel",
       "_view_count": null,
       "_view_module": "@jupyter-widgets/controls",
       "_view_module_version": "1.5.0",
       "_view_name": "ProgressView",
       "bar_style": "info",
       "description": "Validation sanity check: 100%",
       "description_tooltip": null,
       "layout": "IPY_MODEL_9d13c2cd52e04716b0ac4b34a39392b3",
       "max": 1.0,
       "min": 0.0,
       "orientation": "horizontal",
       "style": "IPY_MODEL_a7fec28c90654d93ac9009dd08bd0126",
       "value": 1.0
      }
     },
     "544f4af8fd674a5e8ccd5fc66f1d4590": {
      "model_module": "@jupyter-widgets/controls",
      "model_module_version": "1.5.0",
      "model_name": "HTMLModel",
      "state": {
       "_dom_classes": [],
       "_model_module": "@jupyter-widgets/controls",
       "_model_module_version": "1.5.0",
       "_model_name": "HTMLModel",
       "_view_count": null,
       "_view_module": "@jupyter-widgets/controls",
       "_view_module_version": "1.5.0",
       "_view_name": "HTMLView",
       "description": "",
       "description_tooltip": null,
       "layout": "IPY_MODEL_c7d63dda029149e2944cbf055cadad1d",
       "placeholder": "​",
       "style": "IPY_MODEL_b00889defe4f43b9acce033b9f3fb321",
       "value": " 6/6 [00:00&lt;00:00, 89.99it/s]"
      }
     },
     "54b669be86ce44d8aed2e53c870e3207": {
      "model_module": "@jupyter-widgets/base",
      "model_module_version": "1.2.0",
      "model_name": "LayoutModel",
      "state": {
       "_model_module": "@jupyter-widgets/base",
       "_model_module_version": "1.2.0",
       "_model_name": "LayoutModel",
       "_view_count": null,
       "_view_module": "@jupyter-widgets/base",
       "_view_module_version": "1.2.0",
       "_view_name": "LayoutView",
       "align_content": null,
       "align_items": null,
       "align_self": null,
       "border": null,
       "bottom": null,
       "display": null,
       "flex": null,
       "flex_flow": null,
       "grid_area": null,
       "grid_auto_columns": null,
       "grid_auto_flow": null,
       "grid_auto_rows": null,
       "grid_column": null,
       "grid_gap": null,
       "grid_row": null,
       "grid_template_areas": null,
       "grid_template_columns": null,
       "grid_template_rows": null,
       "height": null,
       "justify_content": null,
       "justify_items": null,
       "left": null,
       "margin": null,
       "max_height": null,
       "max_width": null,
       "min_height": null,
       "min_width": null,
       "object_fit": null,
       "object_position": null,
       "order": null,
       "overflow": null,
       "overflow_x": null,
       "overflow_y": null,
       "padding": null,
       "right": null,
       "top": null,
       "visibility": null,
       "width": null
      }
     },
     "56553975b2b84da7bf9f7bd34a512fe2": {
      "model_module": "@jupyter-widgets/controls",
      "model_module_version": "1.5.0",
      "model_name": "HBoxModel",
      "state": {
       "_dom_classes": [],
       "_model_module": "@jupyter-widgets/controls",
       "_model_module_version": "1.5.0",
       "_model_name": "HBoxModel",
       "_view_count": null,
       "_view_module": "@jupyter-widgets/controls",
       "_view_module_version": "1.5.0",
       "_view_name": "HBoxView",
       "box_style": "",
       "children": [
        "IPY_MODEL_389670afdf5343549f9c7e416c7d1449",
        "IPY_MODEL_3170465016e24dbb98b95db52a9c4df8"
       ],
       "layout": "IPY_MODEL_57aef5e10d1e40c1ac71b458e516a6da"
      }
     },
     "57747b20ac4a45618c579c1e69d3f910": {
      "model_module": "@jupyter-widgets/controls",
      "model_module_version": "1.5.0",
      "model_name": "ProgressStyleModel",
      "state": {
       "_model_module": "@jupyter-widgets/controls",
       "_model_module_version": "1.5.0",
       "_model_name": "ProgressStyleModel",
       "_view_count": null,
       "_view_module": "@jupyter-widgets/base",
       "_view_module_version": "1.2.0",
       "_view_name": "StyleView",
       "bar_color": null,
       "description_width": "initial"
      }
     },
     "57aef5e10d1e40c1ac71b458e516a6da": {
      "model_module": "@jupyter-widgets/base",
      "model_module_version": "1.2.0",
      "model_name": "LayoutModel",
      "state": {
       "_model_module": "@jupyter-widgets/base",
       "_model_module_version": "1.2.0",
       "_model_name": "LayoutModel",
       "_view_count": null,
       "_view_module": "@jupyter-widgets/base",
       "_view_module_version": "1.2.0",
       "_view_name": "LayoutView",
       "align_content": null,
       "align_items": null,
       "align_self": null,
       "border": null,
       "bottom": null,
       "display": "inline-flex",
       "flex": null,
       "flex_flow": "row wrap",
       "grid_area": null,
       "grid_auto_columns": null,
       "grid_auto_flow": null,
       "grid_auto_rows": null,
       "grid_column": null,
       "grid_gap": null,
       "grid_row": null,
       "grid_template_areas": null,
       "grid_template_columns": null,
       "grid_template_rows": null,
       "height": null,
       "justify_content": null,
       "justify_items": null,
       "left": null,
       "margin": null,
       "max_height": null,
       "max_width": null,
       "min_height": null,
       "min_width": null,
       "object_fit": null,
       "object_position": null,
       "order": null,
       "overflow": null,
       "overflow_x": null,
       "overflow_y": null,
       "padding": null,
       "right": null,
       "top": null,
       "visibility": null,
       "width": "100%"
      }
     },
     "59b4cd15431542789e75b114f4d685e5": {
      "model_module": "@jupyter-widgets/controls",
      "model_module_version": "1.5.0",
      "model_name": "HTMLModel",
      "state": {
       "_dom_classes": [],
       "_model_module": "@jupyter-widgets/controls",
       "_model_module_version": "1.5.0",
       "_model_name": "HTMLModel",
       "_view_count": null,
       "_view_module": "@jupyter-widgets/controls",
       "_view_module_version": "1.5.0",
       "_view_name": "HTMLView",
       "description": "",
       "description_tooltip": null,
       "layout": "IPY_MODEL_99c54709e90a4478a050b2ffddddc3ef",
       "placeholder": "​",
       "style": "IPY_MODEL_b3ff41784e8b471baed88e53ade4f855",
       "value": " 29/29 [00:02&lt;00:00, 11.78it/s, loss=0.069, v_num=1]"
      }
     },
     "5c8413f5297045c8bccfd11a1b7f86e2": {
      "model_module": "@jupyter-widgets/base",
      "model_module_version": "1.2.0",
      "model_name": "LayoutModel",
      "state": {
       "_model_module": "@jupyter-widgets/base",
       "_model_module_version": "1.2.0",
       "_model_name": "LayoutModel",
       "_view_count": null,
       "_view_module": "@jupyter-widgets/base",
       "_view_module_version": "1.2.0",
       "_view_name": "LayoutView",
       "align_content": null,
       "align_items": null,
       "align_self": null,
       "border": null,
       "bottom": null,
       "display": null,
       "flex": null,
       "flex_flow": null,
       "grid_area": null,
       "grid_auto_columns": null,
       "grid_auto_flow": null,
       "grid_auto_rows": null,
       "grid_column": null,
       "grid_gap": null,
       "grid_row": null,
       "grid_template_areas": null,
       "grid_template_columns": null,
       "grid_template_rows": null,
       "height": null,
       "justify_content": null,
       "justify_items": null,
       "left": null,
       "margin": null,
       "max_height": null,
       "max_width": null,
       "min_height": null,
       "min_width": null,
       "object_fit": null,
       "object_position": null,
       "order": null,
       "overflow": null,
       "overflow_x": null,
       "overflow_y": null,
       "padding": null,
       "right": null,
       "top": null,
       "visibility": null,
       "width": null
      }
     },
     "66b34ab8bc8848aea5fd272649ce663a": {
      "model_module": "@jupyter-widgets/base",
      "model_module_version": "1.2.0",
      "model_name": "LayoutModel",
      "state": {
       "_model_module": "@jupyter-widgets/base",
       "_model_module_version": "1.2.0",
       "_model_name": "LayoutModel",
       "_view_count": null,
       "_view_module": "@jupyter-widgets/base",
       "_view_module_version": "1.2.0",
       "_view_name": "LayoutView",
       "align_content": null,
       "align_items": null,
       "align_self": null,
       "border": null,
       "bottom": null,
       "display": null,
       "flex": "2",
       "flex_flow": null,
       "grid_area": null,
       "grid_auto_columns": null,
       "grid_auto_flow": null,
       "grid_auto_rows": null,
       "grid_column": null,
       "grid_gap": null,
       "grid_row": null,
       "grid_template_areas": null,
       "grid_template_columns": null,
       "grid_template_rows": null,
       "height": null,
       "justify_content": null,
       "justify_items": null,
       "left": null,
       "margin": null,
       "max_height": null,
       "max_width": null,
       "min_height": null,
       "min_width": null,
       "object_fit": null,
       "object_position": null,
       "order": null,
       "overflow": null,
       "overflow_x": null,
       "overflow_y": null,
       "padding": null,
       "right": null,
       "top": null,
       "visibility": null,
       "width": null
      }
     },
     "68b58c9bb65844d0af328b3a20eede06": {
      "model_module": "@jupyter-widgets/base",
      "model_module_version": "1.2.0",
      "model_name": "LayoutModel",
      "state": {
       "_model_module": "@jupyter-widgets/base",
       "_model_module_version": "1.2.0",
       "_model_name": "LayoutModel",
       "_view_count": null,
       "_view_module": "@jupyter-widgets/base",
       "_view_module_version": "1.2.0",
       "_view_name": "LayoutView",
       "align_content": null,
       "align_items": null,
       "align_self": null,
       "border": null,
       "bottom": null,
       "display": null,
       "flex": "2",
       "flex_flow": null,
       "grid_area": null,
       "grid_auto_columns": null,
       "grid_auto_flow": null,
       "grid_auto_rows": null,
       "grid_column": null,
       "grid_gap": null,
       "grid_row": null,
       "grid_template_areas": null,
       "grid_template_columns": null,
       "grid_template_rows": null,
       "height": null,
       "justify_content": null,
       "justify_items": null,
       "left": null,
       "margin": null,
       "max_height": null,
       "max_width": null,
       "min_height": null,
       "min_width": null,
       "object_fit": null,
       "object_position": null,
       "order": null,
       "overflow": null,
       "overflow_x": null,
       "overflow_y": null,
       "padding": null,
       "right": null,
       "top": null,
       "visibility": null,
       "width": null
      }
     },
     "6a3ea4136e77491bb403bc5036202cfa": {
      "model_module": "@jupyter-widgets/controls",
      "model_module_version": "1.5.0",
      "model_name": "FloatProgressModel",
      "state": {
       "_dom_classes": [],
       "_model_module": "@jupyter-widgets/controls",
       "_model_module_version": "1.5.0",
       "_model_name": "FloatProgressModel",
       "_view_count": null,
       "_view_module": "@jupyter-widgets/controls",
       "_view_module_version": "1.5.0",
       "_view_name": "ProgressView",
       "bar_style": "info",
       "description": "Validating: 100%",
       "description_tooltip": null,
       "layout": "IPY_MODEL_42421c021bf34e7393e6976de5b530e1",
       "max": 1.0,
       "min": 0.0,
       "orientation": "horizontal",
       "style": "IPY_MODEL_7a212a942bfb4826a46e150b9ecaea85",
       "value": 1.0
      }
     },
     "6b5e31a0cf7d497383cf44909ee0a8c5": {
      "model_module": "@jupyter-widgets/controls",
      "model_module_version": "1.5.0",
      "model_name": "HTMLModel",
      "state": {
       "_dom_classes": [],
       "_model_module": "@jupyter-widgets/controls",
       "_model_module_version": "1.5.0",
       "_model_name": "HTMLModel",
       "_view_count": null,
       "_view_module": "@jupyter-widgets/controls",
       "_view_module_version": "1.5.0",
       "_view_name": "HTMLView",
       "description": "",
       "description_tooltip": null,
       "layout": "IPY_MODEL_fe17c0450c744da6a96307dc8a111dd4",
       "placeholder": "​",
       "style": "IPY_MODEL_0b8675e13b1a40daa98bf7386b7ddd15",
       "value": " 2/2 [00:00&lt;00:00, 38.75it/s]"
      }
     },
     "6d2252f6515a41dca4eb44aeeab5fb87": {
      "model_module": "@jupyter-widgets/controls",
      "model_module_version": "1.5.0",
      "model_name": "ProgressStyleModel",
      "state": {
       "_model_module": "@jupyter-widgets/controls",
       "_model_module_version": "1.5.0",
       "_model_name": "ProgressStyleModel",
       "_view_count": null,
       "_view_module": "@jupyter-widgets/base",
       "_view_module_version": "1.2.0",
       "_view_name": "StyleView",
       "bar_color": null,
       "description_width": "initial"
      }
     },
     "6fa3857d6b204760a1059e98fb89e123": {
      "model_module": "@jupyter-widgets/controls",
      "model_module_version": "1.5.0",
      "model_name": "ProgressStyleModel",
      "state": {
       "_model_module": "@jupyter-widgets/controls",
       "_model_module_version": "1.5.0",
       "_model_name": "ProgressStyleModel",
       "_view_count": null,
       "_view_module": "@jupyter-widgets/base",
       "_view_module_version": "1.2.0",
       "_view_name": "StyleView",
       "bar_color": null,
       "description_width": "initial"
      }
     },
     "7198f009ed004c45bbd3beb2cc5bf4be": {
      "model_module": "@jupyter-widgets/base",
      "model_module_version": "1.2.0",
      "model_name": "LayoutModel",
      "state": {
       "_model_module": "@jupyter-widgets/base",
       "_model_module_version": "1.2.0",
       "_model_name": "LayoutModel",
       "_view_count": null,
       "_view_module": "@jupyter-widgets/base",
       "_view_module_version": "1.2.0",
       "_view_name": "LayoutView",
       "align_content": null,
       "align_items": null,
       "align_self": null,
       "border": null,
       "bottom": null,
       "display": null,
       "flex": null,
       "flex_flow": null,
       "grid_area": null,
       "grid_auto_columns": null,
       "grid_auto_flow": null,
       "grid_auto_rows": null,
       "grid_column": null,
       "grid_gap": null,
       "grid_row": null,
       "grid_template_areas": null,
       "grid_template_columns": null,
       "grid_template_rows": null,
       "height": null,
       "justify_content": null,
       "justify_items": null,
       "left": null,
       "margin": null,
       "max_height": null,
       "max_width": null,
       "min_height": null,
       "min_width": null,
       "object_fit": null,
       "object_position": null,
       "order": null,
       "overflow": null,
       "overflow_x": null,
       "overflow_y": null,
       "padding": null,
       "right": null,
       "top": null,
       "visibility": null,
       "width": null
      }
     },
     "7355f79f75bf4dc2afab8fa6379546e8": {
      "model_module": "@jupyter-widgets/controls",
      "model_module_version": "1.5.0",
      "model_name": "HBoxModel",
      "state": {
       "_dom_classes": [],
       "_model_module": "@jupyter-widgets/controls",
       "_model_module_version": "1.5.0",
       "_model_name": "HBoxModel",
       "_view_count": null,
       "_view_module": "@jupyter-widgets/controls",
       "_view_module_version": "1.5.0",
       "_view_name": "HBoxView",
       "box_style": "",
       "children": [
        "IPY_MODEL_e0c55e94da0041b99a3091b239ce8db1",
        "IPY_MODEL_59b4cd15431542789e75b114f4d685e5"
       ],
       "layout": "IPY_MODEL_44dd10001cdc4958b29573248de88db5"
      }
     },
     "763676ab06b34d08afd31e16312a1dff": {
      "model_module": "@jupyter-widgets/controls",
      "model_module_version": "1.5.0",
      "model_name": "FloatProgressModel",
      "state": {
       "_dom_classes": [],
       "_model_module": "@jupyter-widgets/controls",
       "_model_module_version": "1.5.0",
       "_model_name": "FloatProgressModel",
       "_view_count": null,
       "_view_module": "@jupyter-widgets/controls",
       "_view_module_version": "1.5.0",
       "_view_name": "ProgressView",
       "bar_style": "info",
       "description": "Validating: 100%",
       "description_tooltip": null,
       "layout": "IPY_MODEL_02ebfcf4bfd24675ad4e463f79469caa",
       "max": 1.0,
       "min": 0.0,
       "orientation": "horizontal",
       "style": "IPY_MODEL_57747b20ac4a45618c579c1e69d3f910",
       "value": 1.0
      }
     },
     "76e0ba51ac8648fea374e308a9f942b0": {
      "model_module": "@jupyter-widgets/base",
      "model_module_version": "1.2.0",
      "model_name": "LayoutModel",
      "state": {
       "_model_module": "@jupyter-widgets/base",
       "_model_module_version": "1.2.0",
       "_model_name": "LayoutModel",
       "_view_count": null,
       "_view_module": "@jupyter-widgets/base",
       "_view_module_version": "1.2.0",
       "_view_name": "LayoutView",
       "align_content": null,
       "align_items": null,
       "align_self": null,
       "border": null,
       "bottom": null,
       "display": "inline-flex",
       "flex": null,
       "flex_flow": "row wrap",
       "grid_area": null,
       "grid_auto_columns": null,
       "grid_auto_flow": null,
       "grid_auto_rows": null,
       "grid_column": null,
       "grid_gap": null,
       "grid_row": null,
       "grid_template_areas": null,
       "grid_template_columns": null,
       "grid_template_rows": null,
       "height": null,
       "justify_content": null,
       "justify_items": null,
       "left": null,
       "margin": null,
       "max_height": null,
       "max_width": null,
       "min_height": null,
       "min_width": null,
       "object_fit": null,
       "object_position": null,
       "order": null,
       "overflow": null,
       "overflow_x": null,
       "overflow_y": null,
       "padding": null,
       "right": null,
       "top": null,
       "visibility": null,
       "width": "100%"
      }
     },
     "7a212a942bfb4826a46e150b9ecaea85": {
      "model_module": "@jupyter-widgets/controls",
      "model_module_version": "1.5.0",
      "model_name": "ProgressStyleModel",
      "state": {
       "_model_module": "@jupyter-widgets/controls",
       "_model_module_version": "1.5.0",
       "_model_name": "ProgressStyleModel",
       "_view_count": null,
       "_view_module": "@jupyter-widgets/base",
       "_view_module_version": "1.2.0",
       "_view_name": "StyleView",
       "bar_color": null,
       "description_width": "initial"
      }
     },
     "7d3c037f340e42e894f81dc7a767c5c4": {
      "model_module": "@jupyter-widgets/controls",
      "model_module_version": "1.5.0",
      "model_name": "HBoxModel",
      "state": {
       "_dom_classes": [],
       "_model_module": "@jupyter-widgets/controls",
       "_model_module_version": "1.5.0",
       "_model_name": "HBoxModel",
       "_view_count": null,
       "_view_module": "@jupyter-widgets/controls",
       "_view_module_version": "1.5.0",
       "_view_name": "HBoxView",
       "box_style": "",
       "children": [
        "IPY_MODEL_514a98793e934ff39c308ca45db6f522",
        "IPY_MODEL_6b5e31a0cf7d497383cf44909ee0a8c5"
       ],
       "layout": "IPY_MODEL_ccf7719923fa4c17b0ca7e9c09be9a76"
      }
     },
     "7d657ced09c7422da4504564052ff313": {
      "model_module": "@jupyter-widgets/base",
      "model_module_version": "1.2.0",
      "model_name": "LayoutModel",
      "state": {
       "_model_module": "@jupyter-widgets/base",
       "_model_module_version": "1.2.0",
       "_model_name": "LayoutModel",
       "_view_count": null,
       "_view_module": "@jupyter-widgets/base",
       "_view_module_version": "1.2.0",
       "_view_name": "LayoutView",
       "align_content": null,
       "align_items": null,
       "align_self": null,
       "border": null,
       "bottom": null,
       "display": "inline-flex",
       "flex": null,
       "flex_flow": "row wrap",
       "grid_area": null,
       "grid_auto_columns": null,
       "grid_auto_flow": null,
       "grid_auto_rows": null,
       "grid_column": null,
       "grid_gap": null,
       "grid_row": null,
       "grid_template_areas": null,
       "grid_template_columns": null,
       "grid_template_rows": null,
       "height": null,
       "justify_content": null,
       "justify_items": null,
       "left": null,
       "margin": null,
       "max_height": null,
       "max_width": null,
       "min_height": null,
       "min_width": null,
       "object_fit": null,
       "object_position": null,
       "order": null,
       "overflow": null,
       "overflow_x": null,
       "overflow_y": null,
       "padding": null,
       "right": null,
       "top": null,
       "visibility": null,
       "width": "100%"
      }
     },
     "7eb3504ea27e40f6b897570e53850444": {
      "model_module": "@jupyter-widgets/controls",
      "model_module_version": "1.5.0",
      "model_name": "HBoxModel",
      "state": {
       "_dom_classes": [],
       "_model_module": "@jupyter-widgets/controls",
       "_model_module_version": "1.5.0",
       "_model_name": "HBoxModel",
       "_view_count": null,
       "_view_module": "@jupyter-widgets/controls",
       "_view_module_version": "1.5.0",
       "_view_name": "HBoxView",
       "box_style": "",
       "children": [
        "IPY_MODEL_9951340eed9f4b52b70b3d4ffbefebcf",
        "IPY_MODEL_0fa6ccd54e2548f78388e53298c5ab00"
       ],
       "layout": "IPY_MODEL_12852d406891495787ba28949c2e9550"
      }
     },
     "8362f7b666f44966903f1e46ae68a77f": {
      "model_module": "@jupyter-widgets/controls",
      "model_module_version": "1.5.0",
      "model_name": "DescriptionStyleModel",
      "state": {
       "_model_module": "@jupyter-widgets/controls",
       "_model_module_version": "1.5.0",
       "_model_name": "DescriptionStyleModel",
       "_view_count": null,
       "_view_module": "@jupyter-widgets/base",
       "_view_module_version": "1.2.0",
       "_view_name": "StyleView",
       "description_width": ""
      }
     },
     "8395485002ff451abebc74fc6b7d0516": {
      "model_module": "@jupyter-widgets/base",
      "model_module_version": "1.2.0",
      "model_name": "LayoutModel",
      "state": {
       "_model_module": "@jupyter-widgets/base",
       "_model_module_version": "1.2.0",
       "_model_name": "LayoutModel",
       "_view_count": null,
       "_view_module": "@jupyter-widgets/base",
       "_view_module_version": "1.2.0",
       "_view_name": "LayoutView",
       "align_content": null,
       "align_items": null,
       "align_self": null,
       "border": null,
       "bottom": null,
       "display": null,
       "flex": null,
       "flex_flow": null,
       "grid_area": null,
       "grid_auto_columns": null,
       "grid_auto_flow": null,
       "grid_auto_rows": null,
       "grid_column": null,
       "grid_gap": null,
       "grid_row": null,
       "grid_template_areas": null,
       "grid_template_columns": null,
       "grid_template_rows": null,
       "height": null,
       "justify_content": null,
       "justify_items": null,
       "left": null,
       "margin": null,
       "max_height": null,
       "max_width": null,
       "min_height": null,
       "min_width": null,
       "object_fit": null,
       "object_position": null,
       "order": null,
       "overflow": null,
       "overflow_x": null,
       "overflow_y": null,
       "padding": null,
       "right": null,
       "top": null,
       "visibility": null,
       "width": null
      }
     },
     "8406b58dbda64d70a40b0c91cf544b7d": {
      "model_module": "@jupyter-widgets/controls",
      "model_module_version": "1.5.0",
      "model_name": "HTMLModel",
      "state": {
       "_dom_classes": [],
       "_model_module": "@jupyter-widgets/controls",
       "_model_module_version": "1.5.0",
       "_model_name": "HTMLModel",
       "_view_count": null,
       "_view_module": "@jupyter-widgets/controls",
       "_view_module_version": "1.5.0",
       "_view_name": "HTMLView",
       "description": "",
       "description_tooltip": null,
       "layout": "IPY_MODEL_c4df8c12157b4c30a73bb76ddd0a3da4",
       "placeholder": "​",
       "style": "IPY_MODEL_d3c7693400fb457984c3d3ed831808b1",
       "value": " 6/6 [00:00&lt;00:00, 99.07it/s]"
      }
     },
     "8658a3792bf04b228e8872a24cdbdc42": {
      "model_module": "@jupyter-widgets/base",
      "model_module_version": "1.2.0",
      "model_name": "LayoutModel",
      "state": {
       "_model_module": "@jupyter-widgets/base",
       "_model_module_version": "1.2.0",
       "_model_name": "LayoutModel",
       "_view_count": null,
       "_view_module": "@jupyter-widgets/base",
       "_view_module_version": "1.2.0",
       "_view_name": "LayoutView",
       "align_content": null,
       "align_items": null,
       "align_self": null,
       "border": null,
       "bottom": null,
       "display": null,
       "flex": "2",
       "flex_flow": null,
       "grid_area": null,
       "grid_auto_columns": null,
       "grid_auto_flow": null,
       "grid_auto_rows": null,
       "grid_column": null,
       "grid_gap": null,
       "grid_row": null,
       "grid_template_areas": null,
       "grid_template_columns": null,
       "grid_template_rows": null,
       "height": null,
       "justify_content": null,
       "justify_items": null,
       "left": null,
       "margin": null,
       "max_height": null,
       "max_width": null,
       "min_height": null,
       "min_width": null,
       "object_fit": null,
       "object_position": null,
       "order": null,
       "overflow": null,
       "overflow_x": null,
       "overflow_y": null,
       "padding": null,
       "right": null,
       "top": null,
       "visibility": null,
       "width": null
      }
     },
     "8cd4ec2d379d43b8b397f4fafdcfae9a": {
      "model_module": "@jupyter-widgets/controls",
      "model_module_version": "1.5.0",
      "model_name": "HBoxModel",
      "state": {
       "_dom_classes": [],
       "_model_module": "@jupyter-widgets/controls",
       "_model_module_version": "1.5.0",
       "_model_name": "HBoxModel",
       "_view_count": null,
       "_view_module": "@jupyter-widgets/controls",
       "_view_module_version": "1.5.0",
       "_view_name": "HBoxView",
       "box_style": "",
       "children": [
        "IPY_MODEL_ab53d10ad6994da985b49e74d72be55f",
        "IPY_MODEL_cde826428127433bb4b7ad628cfd7178"
       ],
       "layout": "IPY_MODEL_76e0ba51ac8648fea374e308a9f942b0"
      }
     },
     "8e75470ae36d4d7b86263bfcbcc9d516": {
      "model_module": "@jupyter-widgets/base",
      "model_module_version": "1.2.0",
      "model_name": "LayoutModel",
      "state": {
       "_model_module": "@jupyter-widgets/base",
       "_model_module_version": "1.2.0",
       "_model_name": "LayoutModel",
       "_view_count": null,
       "_view_module": "@jupyter-widgets/base",
       "_view_module_version": "1.2.0",
       "_view_name": "LayoutView",
       "align_content": null,
       "align_items": null,
       "align_self": null,
       "border": null,
       "bottom": null,
       "display": null,
       "flex": null,
       "flex_flow": null,
       "grid_area": null,
       "grid_auto_columns": null,
       "grid_auto_flow": null,
       "grid_auto_rows": null,
       "grid_column": null,
       "grid_gap": null,
       "grid_row": null,
       "grid_template_areas": null,
       "grid_template_columns": null,
       "grid_template_rows": null,
       "height": null,
       "justify_content": null,
       "justify_items": null,
       "left": null,
       "margin": null,
       "max_height": null,
       "max_width": null,
       "min_height": null,
       "min_width": null,
       "object_fit": null,
       "object_position": null,
       "order": null,
       "overflow": null,
       "overflow_x": null,
       "overflow_y": null,
       "padding": null,
       "right": null,
       "top": null,
       "visibility": null,
       "width": null
      }
     },
     "9860fdecd65d48188f140e741977cdea": {
      "model_module": "@jupyter-widgets/controls",
      "model_module_version": "1.5.0",
      "model_name": "HBoxModel",
      "state": {
       "_dom_classes": [],
       "_model_module": "@jupyter-widgets/controls",
       "_model_module_version": "1.5.0",
       "_model_name": "HBoxModel",
       "_view_count": null,
       "_view_module": "@jupyter-widgets/controls",
       "_view_module_version": "1.5.0",
       "_view_name": "HBoxView",
       "box_style": "",
       "children": [
        "IPY_MODEL_d03aab69c5b74441984ead0c8d5d16e9",
        "IPY_MODEL_c5971cdea7e44599b6751db89c31dba6"
       ],
       "layout": "IPY_MODEL_7d657ced09c7422da4504564052ff313"
      }
     },
     "986d47a43dcb4fc4acee1d5ef59c6705": {
      "model_module": "@jupyter-widgets/base",
      "model_module_version": "1.2.0",
      "model_name": "LayoutModel",
      "state": {
       "_model_module": "@jupyter-widgets/base",
       "_model_module_version": "1.2.0",
       "_model_name": "LayoutModel",
       "_view_count": null,
       "_view_module": "@jupyter-widgets/base",
       "_view_module_version": "1.2.0",
       "_view_name": "LayoutView",
       "align_content": null,
       "align_items": null,
       "align_self": null,
       "border": null,
       "bottom": null,
       "display": null,
       "flex": "2",
       "flex_flow": null,
       "grid_area": null,
       "grid_auto_columns": null,
       "grid_auto_flow": null,
       "grid_auto_rows": null,
       "grid_column": null,
       "grid_gap": null,
       "grid_row": null,
       "grid_template_areas": null,
       "grid_template_columns": null,
       "grid_template_rows": null,
       "height": null,
       "justify_content": null,
       "justify_items": null,
       "left": null,
       "margin": null,
       "max_height": null,
       "max_width": null,
       "min_height": null,
       "min_width": null,
       "object_fit": null,
       "object_position": null,
       "order": null,
       "overflow": null,
       "overflow_x": null,
       "overflow_y": null,
       "padding": null,
       "right": null,
       "top": null,
       "visibility": null,
       "width": null
      }
     },
     "9951340eed9f4b52b70b3d4ffbefebcf": {
      "model_module": "@jupyter-widgets/controls",
      "model_module_version": "1.5.0",
      "model_name": "FloatProgressModel",
      "state": {
       "_dom_classes": [],
       "_model_module": "@jupyter-widgets/controls",
       "_model_module_version": "1.5.0",
       "_model_name": "FloatProgressModel",
       "_view_count": null,
       "_view_module": "@jupyter-widgets/controls",
       "_view_module_version": "1.5.0",
       "_view_name": "ProgressView",
       "bar_style": "info",
       "description": "Validation sanity check: 100%",
       "description_tooltip": null,
       "layout": "IPY_MODEL_26e86b7a0bde4e20a863f115c33e66c7",
       "max": 1.0,
       "min": 0.0,
       "orientation": "horizontal",
       "style": "IPY_MODEL_40694da38f2647fcbb48d825b3129841",
       "value": 1.0
      }
     },
     "99c54709e90a4478a050b2ffddddc3ef": {
      "model_module": "@jupyter-widgets/base",
      "model_module_version": "1.2.0",
      "model_name": "LayoutModel",
      "state": {
       "_model_module": "@jupyter-widgets/base",
       "_model_module_version": "1.2.0",
       "_model_name": "LayoutModel",
       "_view_count": null,
       "_view_module": "@jupyter-widgets/base",
       "_view_module_version": "1.2.0",
       "_view_name": "LayoutView",
       "align_content": null,
       "align_items": null,
       "align_self": null,
       "border": null,
       "bottom": null,
       "display": null,
       "flex": null,
       "flex_flow": null,
       "grid_area": null,
       "grid_auto_columns": null,
       "grid_auto_flow": null,
       "grid_auto_rows": null,
       "grid_column": null,
       "grid_gap": null,
       "grid_row": null,
       "grid_template_areas": null,
       "grid_template_columns": null,
       "grid_template_rows": null,
       "height": null,
       "justify_content": null,
       "justify_items": null,
       "left": null,
       "margin": null,
       "max_height": null,
       "max_width": null,
       "min_height": null,
       "min_width": null,
       "object_fit": null,
       "object_position": null,
       "order": null,
       "overflow": null,
       "overflow_x": null,
       "overflow_y": null,
       "padding": null,
       "right": null,
       "top": null,
       "visibility": null,
       "width": null
      }
     },
     "9aa2a4396e2a407280c9653a8ebc6fd9": {
      "model_module": "@jupyter-widgets/controls",
      "model_module_version": "1.5.0",
      "model_name": "FloatProgressModel",
      "state": {
       "_dom_classes": [],
       "_model_module": "@jupyter-widgets/controls",
       "_model_module_version": "1.5.0",
       "_model_name": "FloatProgressModel",
       "_view_count": null,
       "_view_module": "@jupyter-widgets/controls",
       "_view_module_version": "1.5.0",
       "_view_name": "ProgressView",
       "bar_style": "info",
       "description": "Validating: 100%",
       "description_tooltip": null,
       "layout": "IPY_MODEL_68b58c9bb65844d0af328b3a20eede06",
       "max": 1.0,
       "min": 0.0,
       "orientation": "horizontal",
       "style": "IPY_MODEL_d0aedf67555b4965b91da2df088f9a63",
       "value": 1.0
      }
     },
     "9d13c2cd52e04716b0ac4b34a39392b3": {
      "model_module": "@jupyter-widgets/base",
      "model_module_version": "1.2.0",
      "model_name": "LayoutModel",
      "state": {
       "_model_module": "@jupyter-widgets/base",
       "_model_module_version": "1.2.0",
       "_model_name": "LayoutModel",
       "_view_count": null,
       "_view_module": "@jupyter-widgets/base",
       "_view_module_version": "1.2.0",
       "_view_name": "LayoutView",
       "align_content": null,
       "align_items": null,
       "align_self": null,
       "border": null,
       "bottom": null,
       "display": null,
       "flex": "2",
       "flex_flow": null,
       "grid_area": null,
       "grid_auto_columns": null,
       "grid_auto_flow": null,
       "grid_auto_rows": null,
       "grid_column": null,
       "grid_gap": null,
       "grid_row": null,
       "grid_template_areas": null,
       "grid_template_columns": null,
       "grid_template_rows": null,
       "height": null,
       "justify_content": null,
       "justify_items": null,
       "left": null,
       "margin": null,
       "max_height": null,
       "max_width": null,
       "min_height": null,
       "min_width": null,
       "object_fit": null,
       "object_position": null,
       "order": null,
       "overflow": null,
       "overflow_x": null,
       "overflow_y": null,
       "padding": null,
       "right": null,
       "top": null,
       "visibility": null,
       "width": null
      }
     },
     "9e94f504265c41cfae0ffe085fad2b0d": {
      "model_module": "@jupyter-widgets/controls",
      "model_module_version": "1.5.0",
      "model_name": "DescriptionStyleModel",
      "state": {
       "_model_module": "@jupyter-widgets/controls",
       "_model_module_version": "1.5.0",
       "_model_name": "DescriptionStyleModel",
       "_view_count": null,
       "_view_module": "@jupyter-widgets/base",
       "_view_module_version": "1.2.0",
       "_view_name": "StyleView",
       "description_width": ""
      }
     },
     "a21ace2c03ef4980a1ad15c662189ae7": {
      "model_module": "@jupyter-widgets/base",
      "model_module_version": "1.2.0",
      "model_name": "LayoutModel",
      "state": {
       "_model_module": "@jupyter-widgets/base",
       "_model_module_version": "1.2.0",
       "_model_name": "LayoutModel",
       "_view_count": null,
       "_view_module": "@jupyter-widgets/base",
       "_view_module_version": "1.2.0",
       "_view_name": "LayoutView",
       "align_content": null,
       "align_items": null,
       "align_self": null,
       "border": null,
       "bottom": null,
       "display": null,
       "flex": "2",
       "flex_flow": null,
       "grid_area": null,
       "grid_auto_columns": null,
       "grid_auto_flow": null,
       "grid_auto_rows": null,
       "grid_column": null,
       "grid_gap": null,
       "grid_row": null,
       "grid_template_areas": null,
       "grid_template_columns": null,
       "grid_template_rows": null,
       "height": null,
       "justify_content": null,
       "justify_items": null,
       "left": null,
       "margin": null,
       "max_height": null,
       "max_width": null,
       "min_height": null,
       "min_width": null,
       "object_fit": null,
       "object_position": null,
       "order": null,
       "overflow": null,
       "overflow_x": null,
       "overflow_y": null,
       "padding": null,
       "right": null,
       "top": null,
       "visibility": null,
       "width": null
      }
     },
     "a7fec28c90654d93ac9009dd08bd0126": {
      "model_module": "@jupyter-widgets/controls",
      "model_module_version": "1.5.0",
      "model_name": "ProgressStyleModel",
      "state": {
       "_model_module": "@jupyter-widgets/controls",
       "_model_module_version": "1.5.0",
       "_model_name": "ProgressStyleModel",
       "_view_count": null,
       "_view_module": "@jupyter-widgets/base",
       "_view_module_version": "1.2.0",
       "_view_name": "StyleView",
       "bar_color": null,
       "description_width": "initial"
      }
     },
     "a921dd3c957c44e2ac43152f31c8f3ad": {
      "model_module": "@jupyter-widgets/base",
      "model_module_version": "1.2.0",
      "model_name": "LayoutModel",
      "state": {
       "_model_module": "@jupyter-widgets/base",
       "_model_module_version": "1.2.0",
       "_model_name": "LayoutModel",
       "_view_count": null,
       "_view_module": "@jupyter-widgets/base",
       "_view_module_version": "1.2.0",
       "_view_name": "LayoutView",
       "align_content": null,
       "align_items": null,
       "align_self": null,
       "border": null,
       "bottom": null,
       "display": null,
       "flex": null,
       "flex_flow": null,
       "grid_area": null,
       "grid_auto_columns": null,
       "grid_auto_flow": null,
       "grid_auto_rows": null,
       "grid_column": null,
       "grid_gap": null,
       "grid_row": null,
       "grid_template_areas": null,
       "grid_template_columns": null,
       "grid_template_rows": null,
       "height": null,
       "justify_content": null,
       "justify_items": null,
       "left": null,
       "margin": null,
       "max_height": null,
       "max_width": null,
       "min_height": null,
       "min_width": null,
       "object_fit": null,
       "object_position": null,
       "order": null,
       "overflow": null,
       "overflow_x": null,
       "overflow_y": null,
       "padding": null,
       "right": null,
       "top": null,
       "visibility": null,
       "width": null
      }
     },
     "ab1d4e8eca164086b666e2a2b3f03d8a": {
      "model_module": "@jupyter-widgets/controls",
      "model_module_version": "1.5.0",
      "model_name": "DescriptionStyleModel",
      "state": {
       "_model_module": "@jupyter-widgets/controls",
       "_model_module_version": "1.5.0",
       "_model_name": "DescriptionStyleModel",
       "_view_count": null,
       "_view_module": "@jupyter-widgets/base",
       "_view_module_version": "1.2.0",
       "_view_name": "StyleView",
       "description_width": ""
      }
     },
     "ab53d10ad6994da985b49e74d72be55f": {
      "model_module": "@jupyter-widgets/controls",
      "model_module_version": "1.5.0",
      "model_name": "FloatProgressModel",
      "state": {
       "_dom_classes": [],
       "_model_module": "@jupyter-widgets/controls",
       "_model_module_version": "1.5.0",
       "_model_name": "FloatProgressModel",
       "_view_count": null,
       "_view_module": "@jupyter-widgets/controls",
       "_view_module_version": "1.5.0",
       "_view_name": "ProgressView",
       "bar_style": "info",
       "description": "Validating: 100%",
       "description_tooltip": null,
       "layout": "IPY_MODEL_06f4b646b34f487e9ffb27e35fbce8f5",
       "max": 1.0,
       "min": 0.0,
       "orientation": "horizontal",
       "style": "IPY_MODEL_bcdacb71b69540aa9759d865eae3b2b9",
       "value": 1.0
      }
     },
     "b00889defe4f43b9acce033b9f3fb321": {
      "model_module": "@jupyter-widgets/controls",
      "model_module_version": "1.5.0",
      "model_name": "DescriptionStyleModel",
      "state": {
       "_model_module": "@jupyter-widgets/controls",
       "_model_module_version": "1.5.0",
       "_model_name": "DescriptionStyleModel",
       "_view_count": null,
       "_view_module": "@jupyter-widgets/base",
       "_view_module_version": "1.2.0",
       "_view_name": "StyleView",
       "description_width": ""
      }
     },
     "b0691a14ea594d23949955e2ec7244bb": {
      "model_module": "@jupyter-widgets/base",
      "model_module_version": "1.2.0",
      "model_name": "LayoutModel",
      "state": {
       "_model_module": "@jupyter-widgets/base",
       "_model_module_version": "1.2.0",
       "_model_name": "LayoutModel",
       "_view_count": null,
       "_view_module": "@jupyter-widgets/base",
       "_view_module_version": "1.2.0",
       "_view_name": "LayoutView",
       "align_content": null,
       "align_items": null,
       "align_self": null,
       "border": null,
       "bottom": null,
       "display": "inline-flex",
       "flex": null,
       "flex_flow": "row wrap",
       "grid_area": null,
       "grid_auto_columns": null,
       "grid_auto_flow": null,
       "grid_auto_rows": null,
       "grid_column": null,
       "grid_gap": null,
       "grid_row": null,
       "grid_template_areas": null,
       "grid_template_columns": null,
       "grid_template_rows": null,
       "height": null,
       "justify_content": null,
       "justify_items": null,
       "left": null,
       "margin": null,
       "max_height": null,
       "max_width": null,
       "min_height": null,
       "min_width": null,
       "object_fit": null,
       "object_position": null,
       "order": null,
       "overflow": null,
       "overflow_x": null,
       "overflow_y": null,
       "padding": null,
       "right": null,
       "top": null,
       "visibility": null,
       "width": "100%"
      }
     },
     "b36f402dd33a413eabfe5b88acb2e082": {
      "model_module": "@jupyter-widgets/controls",
      "model_module_version": "1.5.0",
      "model_name": "DescriptionStyleModel",
      "state": {
       "_model_module": "@jupyter-widgets/controls",
       "_model_module_version": "1.5.0",
       "_model_name": "DescriptionStyleModel",
       "_view_count": null,
       "_view_module": "@jupyter-widgets/base",
       "_view_module_version": "1.2.0",
       "_view_name": "StyleView",
       "description_width": ""
      }
     },
     "b3ff41784e8b471baed88e53ade4f855": {
      "model_module": "@jupyter-widgets/controls",
      "model_module_version": "1.5.0",
      "model_name": "DescriptionStyleModel",
      "state": {
       "_model_module": "@jupyter-widgets/controls",
       "_model_module_version": "1.5.0",
       "_model_name": "DescriptionStyleModel",
       "_view_count": null,
       "_view_module": "@jupyter-widgets/base",
       "_view_module_version": "1.2.0",
       "_view_name": "StyleView",
       "description_width": ""
      }
     },
     "b6219a342d254cc8a13d1788516f1e13": {
      "model_module": "@jupyter-widgets/controls",
      "model_module_version": "1.5.0",
      "model_name": "HTMLModel",
      "state": {
       "_dom_classes": [],
       "_model_module": "@jupyter-widgets/controls",
       "_model_module_version": "1.5.0",
       "_model_name": "HTMLModel",
       "_view_count": null,
       "_view_module": "@jupyter-widgets/controls",
       "_view_module_version": "1.5.0",
       "_view_name": "HTMLView",
       "description": "",
       "description_tooltip": null,
       "layout": "IPY_MODEL_34b0dbd49f6a4e3287a91ea2da5d2417",
       "placeholder": "​",
       "style": "IPY_MODEL_ab1d4e8eca164086b666e2a2b3f03d8a",
       "value": " 29/29 [00:00&lt;00:00, 110.91it/s, loss=0.559, v_num=0]"
      }
     },
     "b922e791aa10492db62e7e9d3f118823": {
      "model_module": "@jupyter-widgets/base",
      "model_module_version": "1.2.0",
      "model_name": "LayoutModel",
      "state": {
       "_model_module": "@jupyter-widgets/base",
       "_model_module_version": "1.2.0",
       "_model_name": "LayoutModel",
       "_view_count": null,
       "_view_module": "@jupyter-widgets/base",
       "_view_module_version": "1.2.0",
       "_view_name": "LayoutView",
       "align_content": null,
       "align_items": null,
       "align_self": null,
       "border": null,
       "bottom": null,
       "display": null,
       "flex": "2",
       "flex_flow": null,
       "grid_area": null,
       "grid_auto_columns": null,
       "grid_auto_flow": null,
       "grid_auto_rows": null,
       "grid_column": null,
       "grid_gap": null,
       "grid_row": null,
       "grid_template_areas": null,
       "grid_template_columns": null,
       "grid_template_rows": null,
       "height": null,
       "justify_content": null,
       "justify_items": null,
       "left": null,
       "margin": null,
       "max_height": null,
       "max_width": null,
       "min_height": null,
       "min_width": null,
       "object_fit": null,
       "object_position": null,
       "order": null,
       "overflow": null,
       "overflow_x": null,
       "overflow_y": null,
       "padding": null,
       "right": null,
       "top": null,
       "visibility": null,
       "width": null
      }
     },
     "b96e7b0094394ad9a0fe9c5f081e08d2": {
      "model_module": "@jupyter-widgets/controls",
      "model_module_version": "1.5.0",
      "model_name": "HBoxModel",
      "state": {
       "_dom_classes": [],
       "_model_module": "@jupyter-widgets/controls",
       "_model_module_version": "1.5.0",
       "_model_name": "HBoxModel",
       "_view_count": null,
       "_view_module": "@jupyter-widgets/controls",
       "_view_module_version": "1.5.0",
       "_view_name": "HBoxView",
       "box_style": "",
       "children": [
        "IPY_MODEL_185f2a3eb192441e9b8617e66ec4aaf0",
        "IPY_MODEL_f762350a72f54929a040dadb33dbd163"
       ],
       "layout": "IPY_MODEL_ee039645d5a84d3fafc9b1ab7c8277d9"
      }
     },
     "bcdacb71b69540aa9759d865eae3b2b9": {
      "model_module": "@jupyter-widgets/controls",
      "model_module_version": "1.5.0",
      "model_name": "ProgressStyleModel",
      "state": {
       "_model_module": "@jupyter-widgets/controls",
       "_model_module_version": "1.5.0",
       "_model_name": "ProgressStyleModel",
       "_view_count": null,
       "_view_module": "@jupyter-widgets/base",
       "_view_module_version": "1.2.0",
       "_view_name": "StyleView",
       "bar_color": null,
       "description_width": "initial"
      }
     },
     "be2bcb0b512546cea326406a2a47819e": {
      "model_module": "@jupyter-widgets/base",
      "model_module_version": "1.2.0",
      "model_name": "LayoutModel",
      "state": {
       "_model_module": "@jupyter-widgets/base",
       "_model_module_version": "1.2.0",
       "_model_name": "LayoutModel",
       "_view_count": null,
       "_view_module": "@jupyter-widgets/base",
       "_view_module_version": "1.2.0",
       "_view_name": "LayoutView",
       "align_content": null,
       "align_items": null,
       "align_self": null,
       "border": null,
       "bottom": null,
       "display": "inline-flex",
       "flex": null,
       "flex_flow": "row wrap",
       "grid_area": null,
       "grid_auto_columns": null,
       "grid_auto_flow": null,
       "grid_auto_rows": null,
       "grid_column": null,
       "grid_gap": null,
       "grid_row": null,
       "grid_template_areas": null,
       "grid_template_columns": null,
       "grid_template_rows": null,
       "height": null,
       "justify_content": null,
       "justify_items": null,
       "left": null,
       "margin": null,
       "max_height": null,
       "max_width": null,
       "min_height": null,
       "min_width": null,
       "object_fit": null,
       "object_position": null,
       "order": null,
       "overflow": null,
       "overflow_x": null,
       "overflow_y": null,
       "padding": null,
       "right": null,
       "top": null,
       "visibility": null,
       "width": "100%"
      }
     },
     "bee4a50a3f214a2abeacd68a82bd35cb": {
      "model_module": "@jupyter-widgets/base",
      "model_module_version": "1.2.0",
      "model_name": "LayoutModel",
      "state": {
       "_model_module": "@jupyter-widgets/base",
       "_model_module_version": "1.2.0",
       "_model_name": "LayoutModel",
       "_view_count": null,
       "_view_module": "@jupyter-widgets/base",
       "_view_module_version": "1.2.0",
       "_view_name": "LayoutView",
       "align_content": null,
       "align_items": null,
       "align_self": null,
       "border": null,
       "bottom": null,
       "display": "inline-flex",
       "flex": null,
       "flex_flow": "row wrap",
       "grid_area": null,
       "grid_auto_columns": null,
       "grid_auto_flow": null,
       "grid_auto_rows": null,
       "grid_column": null,
       "grid_gap": null,
       "grid_row": null,
       "grid_template_areas": null,
       "grid_template_columns": null,
       "grid_template_rows": null,
       "height": null,
       "justify_content": null,
       "justify_items": null,
       "left": null,
       "margin": null,
       "max_height": null,
       "max_width": null,
       "min_height": null,
       "min_width": null,
       "object_fit": null,
       "object_position": null,
       "order": null,
       "overflow": null,
       "overflow_x": null,
       "overflow_y": null,
       "padding": null,
       "right": null,
       "top": null,
       "visibility": null,
       "width": "100%"
      }
     },
     "bee9bb67e49d4403bbd5a8bee652f731": {
      "model_module": "@jupyter-widgets/controls",
      "model_module_version": "1.5.0",
      "model_name": "DescriptionStyleModel",
      "state": {
       "_model_module": "@jupyter-widgets/controls",
       "_model_module_version": "1.5.0",
       "_model_name": "DescriptionStyleModel",
       "_view_count": null,
       "_view_module": "@jupyter-widgets/base",
       "_view_module_version": "1.2.0",
       "_view_name": "StyleView",
       "description_width": ""
      }
     },
     "c237b172d9e64593a35770a0428752bd": {
      "model_module": "@jupyter-widgets/controls",
      "model_module_version": "1.5.0",
      "model_name": "HBoxModel",
      "state": {
       "_dom_classes": [],
       "_model_module": "@jupyter-widgets/controls",
       "_model_module_version": "1.5.0",
       "_model_name": "HBoxModel",
       "_view_count": null,
       "_view_module": "@jupyter-widgets/controls",
       "_view_module_version": "1.5.0",
       "_view_name": "HBoxView",
       "box_style": "",
       "children": [
        "IPY_MODEL_4afd386ae4134484b1eb0d4c023e9a52",
        "IPY_MODEL_b6219a342d254cc8a13d1788516f1e13"
       ],
       "layout": "IPY_MODEL_00d2615e32fa4d6482ea6415cee6eb91"
      }
     },
     "c4df8c12157b4c30a73bb76ddd0a3da4": {
      "model_module": "@jupyter-widgets/base",
      "model_module_version": "1.2.0",
      "model_name": "LayoutModel",
      "state": {
       "_model_module": "@jupyter-widgets/base",
       "_model_module_version": "1.2.0",
       "_model_name": "LayoutModel",
       "_view_count": null,
       "_view_module": "@jupyter-widgets/base",
       "_view_module_version": "1.2.0",
       "_view_name": "LayoutView",
       "align_content": null,
       "align_items": null,
       "align_self": null,
       "border": null,
       "bottom": null,
       "display": null,
       "flex": null,
       "flex_flow": null,
       "grid_area": null,
       "grid_auto_columns": null,
       "grid_auto_flow": null,
       "grid_auto_rows": null,
       "grid_column": null,
       "grid_gap": null,
       "grid_row": null,
       "grid_template_areas": null,
       "grid_template_columns": null,
       "grid_template_rows": null,
       "height": null,
       "justify_content": null,
       "justify_items": null,
       "left": null,
       "margin": null,
       "max_height": null,
       "max_width": null,
       "min_height": null,
       "min_width": null,
       "object_fit": null,
       "object_position": null,
       "order": null,
       "overflow": null,
       "overflow_x": null,
       "overflow_y": null,
       "padding": null,
       "right": null,
       "top": null,
       "visibility": null,
       "width": null
      }
     },
     "c51f93ceb7a94cce86257bb7d3a612b8": {
      "model_module": "@jupyter-widgets/base",
      "model_module_version": "1.2.0",
      "model_name": "LayoutModel",
      "state": {
       "_model_module": "@jupyter-widgets/base",
       "_model_module_version": "1.2.0",
       "_model_name": "LayoutModel",
       "_view_count": null,
       "_view_module": "@jupyter-widgets/base",
       "_view_module_version": "1.2.0",
       "_view_name": "LayoutView",
       "align_content": null,
       "align_items": null,
       "align_self": null,
       "border": null,
       "bottom": null,
       "display": null,
       "flex": null,
       "flex_flow": null,
       "grid_area": null,
       "grid_auto_columns": null,
       "grid_auto_flow": null,
       "grid_auto_rows": null,
       "grid_column": null,
       "grid_gap": null,
       "grid_row": null,
       "grid_template_areas": null,
       "grid_template_columns": null,
       "grid_template_rows": null,
       "height": null,
       "justify_content": null,
       "justify_items": null,
       "left": null,
       "margin": null,
       "max_height": null,
       "max_width": null,
       "min_height": null,
       "min_width": null,
       "object_fit": null,
       "object_position": null,
       "order": null,
       "overflow": null,
       "overflow_x": null,
       "overflow_y": null,
       "padding": null,
       "right": null,
       "top": null,
       "visibility": null,
       "width": null
      }
     },
     "c5971cdea7e44599b6751db89c31dba6": {
      "model_module": "@jupyter-widgets/controls",
      "model_module_version": "1.5.0",
      "model_name": "HTMLModel",
      "state": {
       "_dom_classes": [],
       "_model_module": "@jupyter-widgets/controls",
       "_model_module_version": "1.5.0",
       "_model_name": "HTMLModel",
       "_view_count": null,
       "_view_module": "@jupyter-widgets/controls",
       "_view_module_version": "1.5.0",
       "_view_name": "HTMLView",
       "description": "",
       "description_tooltip": null,
       "layout": "IPY_MODEL_7198f009ed004c45bbd3beb2cc5bf4be",
       "placeholder": "​",
       "style": "IPY_MODEL_b36f402dd33a413eabfe5b88acb2e082",
       "value": " 6/6 [00:00&lt;00:00, 93.26it/s]"
      }
     },
     "c7b246463e98433d99074ccf43f5cf29": {
      "model_module": "@jupyter-widgets/base",
      "model_module_version": "1.2.0",
      "model_name": "LayoutModel",
      "state": {
       "_model_module": "@jupyter-widgets/base",
       "_model_module_version": "1.2.0",
       "_model_name": "LayoutModel",
       "_view_count": null,
       "_view_module": "@jupyter-widgets/base",
       "_view_module_version": "1.2.0",
       "_view_name": "LayoutView",
       "align_content": null,
       "align_items": null,
       "align_self": null,
       "border": null,
       "bottom": null,
       "display": "inline-flex",
       "flex": null,
       "flex_flow": "row wrap",
       "grid_area": null,
       "grid_auto_columns": null,
       "grid_auto_flow": null,
       "grid_auto_rows": null,
       "grid_column": null,
       "grid_gap": null,
       "grid_row": null,
       "grid_template_areas": null,
       "grid_template_columns": null,
       "grid_template_rows": null,
       "height": null,
       "justify_content": null,
       "justify_items": null,
       "left": null,
       "margin": null,
       "max_height": null,
       "max_width": null,
       "min_height": null,
       "min_width": null,
       "object_fit": null,
       "object_position": null,
       "order": null,
       "overflow": null,
       "overflow_x": null,
       "overflow_y": null,
       "padding": null,
       "right": null,
       "top": null,
       "visibility": null,
       "width": "100%"
      }
     },
     "c7d63dda029149e2944cbf055cadad1d": {
      "model_module": "@jupyter-widgets/base",
      "model_module_version": "1.2.0",
      "model_name": "LayoutModel",
      "state": {
       "_model_module": "@jupyter-widgets/base",
       "_model_module_version": "1.2.0",
       "_model_name": "LayoutModel",
       "_view_count": null,
       "_view_module": "@jupyter-widgets/base",
       "_view_module_version": "1.2.0",
       "_view_name": "LayoutView",
       "align_content": null,
       "align_items": null,
       "align_self": null,
       "border": null,
       "bottom": null,
       "display": null,
       "flex": null,
       "flex_flow": null,
       "grid_area": null,
       "grid_auto_columns": null,
       "grid_auto_flow": null,
       "grid_auto_rows": null,
       "grid_column": null,
       "grid_gap": null,
       "grid_row": null,
       "grid_template_areas": null,
       "grid_template_columns": null,
       "grid_template_rows": null,
       "height": null,
       "justify_content": null,
       "justify_items": null,
       "left": null,
       "margin": null,
       "max_height": null,
       "max_width": null,
       "min_height": null,
       "min_width": null,
       "object_fit": null,
       "object_position": null,
       "order": null,
       "overflow": null,
       "overflow_x": null,
       "overflow_y": null,
       "padding": null,
       "right": null,
       "top": null,
       "visibility": null,
       "width": null
      }
     },
     "c86c4f81b89040849714372208f1ad65": {
      "model_module": "@jupyter-widgets/controls",
      "model_module_version": "1.5.0",
      "model_name": "HTMLModel",
      "state": {
       "_dom_classes": [],
       "_model_module": "@jupyter-widgets/controls",
       "_model_module_version": "1.5.0",
       "_model_name": "HTMLModel",
       "_view_count": null,
       "_view_module": "@jupyter-widgets/controls",
       "_view_module_version": "1.5.0",
       "_view_name": "HTMLView",
       "description": "",
       "description_tooltip": null,
       "layout": "IPY_MODEL_0df3c8ba929048279f678d820a8cb8b4",
       "placeholder": "​",
       "style": "IPY_MODEL_bee9bb67e49d4403bbd5a8bee652f731",
       "value": " 6/6 [00:00&lt;00:00, 85.26it/s]"
      }
     },
     "c98f3da7b54b45468a4d13acd5d0f856": {
      "model_module": "@jupyter-widgets/controls",
      "model_module_version": "1.5.0",
      "model_name": "DescriptionStyleModel",
      "state": {
       "_model_module": "@jupyter-widgets/controls",
       "_model_module_version": "1.5.0",
       "_model_name": "DescriptionStyleModel",
       "_view_count": null,
       "_view_module": "@jupyter-widgets/base",
       "_view_module_version": "1.2.0",
       "_view_name": "StyleView",
       "description_width": ""
      }
     },
     "ccf7719923fa4c17b0ca7e9c09be9a76": {
      "model_module": "@jupyter-widgets/base",
      "model_module_version": "1.2.0",
      "model_name": "LayoutModel",
      "state": {
       "_model_module": "@jupyter-widgets/base",
       "_model_module_version": "1.2.0",
       "_model_name": "LayoutModel",
       "_view_count": null,
       "_view_module": "@jupyter-widgets/base",
       "_view_module_version": "1.2.0",
       "_view_name": "LayoutView",
       "align_content": null,
       "align_items": null,
       "align_self": null,
       "border": null,
       "bottom": null,
       "display": "inline-flex",
       "flex": null,
       "flex_flow": "row wrap",
       "grid_area": null,
       "grid_auto_columns": null,
       "grid_auto_flow": null,
       "grid_auto_rows": null,
       "grid_column": null,
       "grid_gap": null,
       "grid_row": null,
       "grid_template_areas": null,
       "grid_template_columns": null,
       "grid_template_rows": null,
       "height": null,
       "justify_content": null,
       "justify_items": null,
       "left": null,
       "margin": null,
       "max_height": null,
       "max_width": null,
       "min_height": null,
       "min_width": null,
       "object_fit": null,
       "object_position": null,
       "order": null,
       "overflow": null,
       "overflow_x": null,
       "overflow_y": null,
       "padding": null,
       "right": null,
       "top": null,
       "visibility": null,
       "width": "100%"
      }
     },
     "ccfc1b3c87624187b3816ffbb67e78ec": {
      "model_module": "@jupyter-widgets/controls",
      "model_module_version": "1.5.0",
      "model_name": "HBoxModel",
      "state": {
       "_dom_classes": [],
       "_model_module": "@jupyter-widgets/controls",
       "_model_module_version": "1.5.0",
       "_model_name": "HBoxModel",
       "_view_count": null,
       "_view_module": "@jupyter-widgets/controls",
       "_view_module_version": "1.5.0",
       "_view_name": "HBoxView",
       "box_style": "",
       "children": [
        "IPY_MODEL_4776362bf1e3446493283e189336fe6e",
        "IPY_MODEL_544f4af8fd674a5e8ccd5fc66f1d4590"
       ],
       "layout": "IPY_MODEL_bee4a50a3f214a2abeacd68a82bd35cb"
      }
     },
     "cde826428127433bb4b7ad628cfd7178": {
      "model_module": "@jupyter-widgets/controls",
      "model_module_version": "1.5.0",
      "model_name": "HTMLModel",
      "state": {
       "_dom_classes": [],
       "_model_module": "@jupyter-widgets/controls",
       "_model_module_version": "1.5.0",
       "_model_name": "HTMLModel",
       "_view_count": null,
       "_view_module": "@jupyter-widgets/controls",
       "_view_module_version": "1.5.0",
       "_view_name": "HTMLView",
       "description": "",
       "description_tooltip": null,
       "layout": "IPY_MODEL_0acbd1b4e4cd4620a730b290114416d7",
       "placeholder": "​",
       "style": "IPY_MODEL_c98f3da7b54b45468a4d13acd5d0f856",
       "value": " 6/6 [00:00&lt;00:00, 80.17it/s]"
      }
     },
     "d03aab69c5b74441984ead0c8d5d16e9": {
      "model_module": "@jupyter-widgets/controls",
      "model_module_version": "1.5.0",
      "model_name": "FloatProgressModel",
      "state": {
       "_dom_classes": [],
       "_model_module": "@jupyter-widgets/controls",
       "_model_module_version": "1.5.0",
       "_model_name": "FloatProgressModel",
       "_view_count": null,
       "_view_module": "@jupyter-widgets/controls",
       "_view_module_version": "1.5.0",
       "_view_name": "ProgressView",
       "bar_style": "info",
       "description": "Validating: 100%",
       "description_tooltip": null,
       "layout": "IPY_MODEL_a21ace2c03ef4980a1ad15c662189ae7",
       "max": 1.0,
       "min": 0.0,
       "orientation": "horizontal",
       "style": "IPY_MODEL_6fa3857d6b204760a1059e98fb89e123",
       "value": 1.0
      }
     },
     "d0aedf67555b4965b91da2df088f9a63": {
      "model_module": "@jupyter-widgets/controls",
      "model_module_version": "1.5.0",
      "model_name": "ProgressStyleModel",
      "state": {
       "_model_module": "@jupyter-widgets/controls",
       "_model_module_version": "1.5.0",
       "_model_name": "ProgressStyleModel",
       "_view_count": null,
       "_view_module": "@jupyter-widgets/base",
       "_view_module_version": "1.2.0",
       "_view_name": "StyleView",
       "bar_color": null,
       "description_width": "initial"
      }
     },
     "d14944237ce74baca24c4bddddad6a77": {
      "model_module": "@jupyter-widgets/controls",
      "model_module_version": "1.5.0",
      "model_name": "HTMLModel",
      "state": {
       "_dom_classes": [],
       "_model_module": "@jupyter-widgets/controls",
       "_model_module_version": "1.5.0",
       "_model_name": "HTMLModel",
       "_view_count": null,
       "_view_module": "@jupyter-widgets/controls",
       "_view_module_version": "1.5.0",
       "_view_name": "HTMLView",
       "description": "",
       "description_tooltip": null,
       "layout": "IPY_MODEL_54b669be86ce44d8aed2e53c870e3207",
       "placeholder": "​",
       "style": "IPY_MODEL_407fd31d41e44289a15ee3902a92b2b3",
       "value": " 6/6 [00:00&lt;00:00, 94.83it/s]"
      }
     },
     "d32a690e4b194ae6b756ae6c43e6da83": {
      "model_module": "@jupyter-widgets/controls",
      "model_module_version": "1.5.0",
      "model_name": "ProgressStyleModel",
      "state": {
       "_model_module": "@jupyter-widgets/controls",
       "_model_module_version": "1.5.0",
       "_model_name": "ProgressStyleModel",
       "_view_count": null,
       "_view_module": "@jupyter-widgets/base",
       "_view_module_version": "1.2.0",
       "_view_name": "StyleView",
       "bar_color": null,
       "description_width": "initial"
      }
     },
     "d3c7693400fb457984c3d3ed831808b1": {
      "model_module": "@jupyter-widgets/controls",
      "model_module_version": "1.5.0",
      "model_name": "DescriptionStyleModel",
      "state": {
       "_model_module": "@jupyter-widgets/controls",
       "_model_module_version": "1.5.0",
       "_model_name": "DescriptionStyleModel",
       "_view_count": null,
       "_view_module": "@jupyter-widgets/base",
       "_view_module_version": "1.2.0",
       "_view_name": "StyleView",
       "description_width": ""
      }
     },
     "d97c8e023e954894b2965877aadb177d": {
      "model_module": "@jupyter-widgets/controls",
      "model_module_version": "1.5.0",
      "model_name": "HTMLModel",
      "state": {
       "_dom_classes": [],
       "_model_module": "@jupyter-widgets/controls",
       "_model_module_version": "1.5.0",
       "_model_name": "HTMLModel",
       "_view_count": null,
       "_view_module": "@jupyter-widgets/controls",
       "_view_module_version": "1.5.0",
       "_view_name": "HTMLView",
       "description": "",
       "description_tooltip": null,
       "layout": "IPY_MODEL_c51f93ceb7a94cce86257bb7d3a612b8",
       "placeholder": "​",
       "style": "IPY_MODEL_9e94f504265c41cfae0ffe085fad2b0d",
       "value": " 6/6 [00:00&lt;00:00, 79.60it/s]"
      }
     },
     "dca507ded0c742ed80f8f4adc1e18c64": {
      "model_module": "@jupyter-widgets/controls",
      "model_module_version": "1.5.0",
      "model_name": "ProgressStyleModel",
      "state": {
       "_model_module": "@jupyter-widgets/controls",
       "_model_module_version": "1.5.0",
       "_model_name": "ProgressStyleModel",
       "_view_count": null,
       "_view_module": "@jupyter-widgets/base",
       "_view_module_version": "1.2.0",
       "_view_name": "StyleView",
       "bar_color": null,
       "description_width": "initial"
      }
     },
     "dcab492df8e146d18f472ce513b297f3": {
      "model_module": "@jupyter-widgets/controls",
      "model_module_version": "1.5.0",
      "model_name": "HBoxModel",
      "state": {
       "_dom_classes": [],
       "_model_module": "@jupyter-widgets/controls",
       "_model_module_version": "1.5.0",
       "_model_name": "HBoxModel",
       "_view_count": null,
       "_view_module": "@jupyter-widgets/controls",
       "_view_module_version": "1.5.0",
       "_view_name": "HBoxView",
       "box_style": "",
       "children": [
        "IPY_MODEL_0e356f6f85024a6aa2d1498b129d1e5e",
        "IPY_MODEL_c86c4f81b89040849714372208f1ad65"
       ],
       "layout": "IPY_MODEL_b0691a14ea594d23949955e2ec7244bb"
      }
     },
     "e0c55e94da0041b99a3091b239ce8db1": {
      "model_module": "@jupyter-widgets/controls",
      "model_module_version": "1.5.0",
      "model_name": "FloatProgressModel",
      "state": {
       "_dom_classes": [],
       "_model_module": "@jupyter-widgets/controls",
       "_model_module_version": "1.5.0",
       "_model_name": "FloatProgressModel",
       "_view_count": null,
       "_view_module": "@jupyter-widgets/controls",
       "_view_module_version": "1.5.0",
       "_view_name": "ProgressView",
       "bar_style": "success",
       "description": "Epoch 4: 100%",
       "description_tooltip": null,
       "layout": "IPY_MODEL_8658a3792bf04b228e8872a24cdbdc42",
       "max": 29.0,
       "min": 0.0,
       "orientation": "horizontal",
       "style": "IPY_MODEL_d32a690e4b194ae6b756ae6c43e6da83",
       "value": 29.0
      }
     },
     "e6a0dc64f68045b881cc2732391fb5a6": {
      "model_module": "@jupyter-widgets/base",
      "model_module_version": "1.2.0",
      "model_name": "LayoutModel",
      "state": {
       "_model_module": "@jupyter-widgets/base",
       "_model_module_version": "1.2.0",
       "_model_name": "LayoutModel",
       "_view_count": null,
       "_view_module": "@jupyter-widgets/base",
       "_view_module_version": "1.2.0",
       "_view_name": "LayoutView",
       "align_content": null,
       "align_items": null,
       "align_self": null,
       "border": null,
       "bottom": null,
       "display": null,
       "flex": "2",
       "flex_flow": null,
       "grid_area": null,
       "grid_auto_columns": null,
       "grid_auto_flow": null,
       "grid_auto_rows": null,
       "grid_column": null,
       "grid_gap": null,
       "grid_row": null,
       "grid_template_areas": null,
       "grid_template_columns": null,
       "grid_template_rows": null,
       "height": null,
       "justify_content": null,
       "justify_items": null,
       "left": null,
       "margin": null,
       "max_height": null,
       "max_width": null,
       "min_height": null,
       "min_width": null,
       "object_fit": null,
       "object_position": null,
       "order": null,
       "overflow": null,
       "overflow_x": null,
       "overflow_y": null,
       "padding": null,
       "right": null,
       "top": null,
       "visibility": null,
       "width": null
      }
     },
     "ec179c85b8cb4449a19e0e281b8be9e2": {
      "model_module": "@jupyter-widgets/controls",
      "model_module_version": "1.5.0",
      "model_name": "DescriptionStyleModel",
      "state": {
       "_model_module": "@jupyter-widgets/controls",
       "_model_module_version": "1.5.0",
       "_model_name": "DescriptionStyleModel",
       "_view_count": null,
       "_view_module": "@jupyter-widgets/base",
       "_view_module_version": "1.2.0",
       "_view_name": "StyleView",
       "description_width": ""
      }
     },
     "ee039645d5a84d3fafc9b1ab7c8277d9": {
      "model_module": "@jupyter-widgets/base",
      "model_module_version": "1.2.0",
      "model_name": "LayoutModel",
      "state": {
       "_model_module": "@jupyter-widgets/base",
       "_model_module_version": "1.2.0",
       "_model_name": "LayoutModel",
       "_view_count": null,
       "_view_module": "@jupyter-widgets/base",
       "_view_module_version": "1.2.0",
       "_view_name": "LayoutView",
       "align_content": null,
       "align_items": null,
       "align_self": null,
       "border": null,
       "bottom": null,
       "display": "inline-flex",
       "flex": null,
       "flex_flow": "row wrap",
       "grid_area": null,
       "grid_auto_columns": null,
       "grid_auto_flow": null,
       "grid_auto_rows": null,
       "grid_column": null,
       "grid_gap": null,
       "grid_row": null,
       "grid_template_areas": null,
       "grid_template_columns": null,
       "grid_template_rows": null,
       "height": null,
       "justify_content": null,
       "justify_items": null,
       "left": null,
       "margin": null,
       "max_height": null,
       "max_width": null,
       "min_height": null,
       "min_width": null,
       "object_fit": null,
       "object_position": null,
       "order": null,
       "overflow": null,
       "overflow_x": null,
       "overflow_y": null,
       "padding": null,
       "right": null,
       "top": null,
       "visibility": null,
       "width": "100%"
      }
     },
     "f3e9ce426ac141ae903b048b5a41e110": {
      "model_module": "@jupyter-widgets/controls",
      "model_module_version": "1.5.0",
      "model_name": "DescriptionStyleModel",
      "state": {
       "_model_module": "@jupyter-widgets/controls",
       "_model_module_version": "1.5.0",
       "_model_name": "DescriptionStyleModel",
       "_view_count": null,
       "_view_module": "@jupyter-widgets/base",
       "_view_module_version": "1.2.0",
       "_view_name": "StyleView",
       "description_width": ""
      }
     },
     "f762350a72f54929a040dadb33dbd163": {
      "model_module": "@jupyter-widgets/controls",
      "model_module_version": "1.5.0",
      "model_name": "HTMLModel",
      "state": {
       "_dom_classes": [],
       "_model_module": "@jupyter-widgets/controls",
       "_model_module_version": "1.5.0",
       "_model_name": "HTMLModel",
       "_view_count": null,
       "_view_module": "@jupyter-widgets/controls",
       "_view_module_version": "1.5.0",
       "_view_name": "HTMLView",
       "description": "",
       "description_tooltip": null,
       "layout": "IPY_MODEL_8e75470ae36d4d7b86263bfcbcc9d516",
       "placeholder": "​",
       "style": "IPY_MODEL_f8345ecfe8ef4951a92c63495a286628",
       "value": " 6/6 [00:00&lt;00:00, 83.24it/s]"
      }
     },
     "f785b43282444de1a27bed7ed3315475": {
      "model_module": "@jupyter-widgets/base",
      "model_module_version": "1.2.0",
      "model_name": "LayoutModel",
      "state": {
       "_model_module": "@jupyter-widgets/base",
       "_model_module_version": "1.2.0",
       "_model_name": "LayoutModel",
       "_view_count": null,
       "_view_module": "@jupyter-widgets/base",
       "_view_module_version": "1.2.0",
       "_view_name": "LayoutView",
       "align_content": null,
       "align_items": null,
       "align_self": null,
       "border": null,
       "bottom": null,
       "display": "inline-flex",
       "flex": null,
       "flex_flow": "row wrap",
       "grid_area": null,
       "grid_auto_columns": null,
       "grid_auto_flow": null,
       "grid_auto_rows": null,
       "grid_column": null,
       "grid_gap": null,
       "grid_row": null,
       "grid_template_areas": null,
       "grid_template_columns": null,
       "grid_template_rows": null,
       "height": null,
       "justify_content": null,
       "justify_items": null,
       "left": null,
       "margin": null,
       "max_height": null,
       "max_width": null,
       "min_height": null,
       "min_width": null,
       "object_fit": null,
       "object_position": null,
       "order": null,
       "overflow": null,
       "overflow_x": null,
       "overflow_y": null,
       "padding": null,
       "right": null,
       "top": null,
       "visibility": null,
       "width": "100%"
      }
     },
     "f8345ecfe8ef4951a92c63495a286628": {
      "model_module": "@jupyter-widgets/controls",
      "model_module_version": "1.5.0",
      "model_name": "DescriptionStyleModel",
      "state": {
       "_model_module": "@jupyter-widgets/controls",
       "_model_module_version": "1.5.0",
       "_model_name": "DescriptionStyleModel",
       "_view_count": null,
       "_view_module": "@jupyter-widgets/base",
       "_view_module_version": "1.2.0",
       "_view_name": "StyleView",
       "description_width": ""
      }
     },
     "fb370cebc66e499a959778a6b0e37ff5": {
      "model_module": "@jupyter-widgets/controls",
      "model_module_version": "1.5.0",
      "model_name": "HBoxModel",
      "state": {
       "_dom_classes": [],
       "_model_module": "@jupyter-widgets/controls",
       "_model_module_version": "1.5.0",
       "_model_name": "HBoxModel",
       "_view_count": null,
       "_view_module": "@jupyter-widgets/controls",
       "_view_module_version": "1.5.0",
       "_view_name": "HBoxView",
       "box_style": "",
       "children": [
        "IPY_MODEL_9aa2a4396e2a407280c9653a8ebc6fd9",
        "IPY_MODEL_8406b58dbda64d70a40b0c91cf544b7d"
       ],
       "layout": "IPY_MODEL_f785b43282444de1a27bed7ed3315475"
      }
     },
     "fe17c0450c744da6a96307dc8a111dd4": {
      "model_module": "@jupyter-widgets/base",
      "model_module_version": "1.2.0",
      "model_name": "LayoutModel",
      "state": {
       "_model_module": "@jupyter-widgets/base",
       "_model_module_version": "1.2.0",
       "_model_name": "LayoutModel",
       "_view_count": null,
       "_view_module": "@jupyter-widgets/base",
       "_view_module_version": "1.2.0",
       "_view_name": "LayoutView",
       "align_content": null,
       "align_items": null,
       "align_self": null,
       "border": null,
       "bottom": null,
       "display": null,
       "flex": null,
       "flex_flow": null,
       "grid_area": null,
       "grid_auto_columns": null,
       "grid_auto_flow": null,
       "grid_auto_rows": null,
       "grid_column": null,
       "grid_gap": null,
       "grid_row": null,
       "grid_template_areas": null,
       "grid_template_columns": null,
       "grid_template_rows": null,
       "height": null,
       "justify_content": null,
       "justify_items": null,
       "left": null,
       "margin": null,
       "max_height": null,
       "max_width": null,
       "min_height": null,
       "min_width": null,
       "object_fit": null,
       "object_position": null,
       "order": null,
       "overflow": null,
       "overflow_x": null,
       "overflow_y": null,
       "padding": null,
       "right": null,
       "top": null,
       "visibility": null,
       "width": null
      }
     },
     "fee822ac550e413d9c62e608ad492601": {
      "model_module": "@jupyter-widgets/base",
      "model_module_version": "1.2.0",
      "model_name": "LayoutModel",
      "state": {
       "_model_module": "@jupyter-widgets/base",
       "_model_module_version": "1.2.0",
       "_model_name": "LayoutModel",
       "_view_count": null,
       "_view_module": "@jupyter-widgets/base",
       "_view_module_version": "1.2.0",
       "_view_name": "LayoutView",
       "align_content": null,
       "align_items": null,
       "align_self": null,
       "border": null,
       "bottom": null,
       "display": null,
       "flex": "2",
       "flex_flow": null,
       "grid_area": null,
       "grid_auto_columns": null,
       "grid_auto_flow": null,
       "grid_auto_rows": null,
       "grid_column": null,
       "grid_gap": null,
       "grid_row": null,
       "grid_template_areas": null,
       "grid_template_columns": null,
       "grid_template_rows": null,
       "height": null,
       "justify_content": null,
       "justify_items": null,
       "left": null,
       "margin": null,
       "max_height": null,
       "max_width": null,
       "min_height": null,
       "min_width": null,
       "object_fit": null,
       "object_position": null,
       "order": null,
       "overflow": null,
       "overflow_x": null,
       "overflow_y": null,
       "padding": null,
       "right": null,
       "top": null,
       "visibility": null,
       "width": null
      }
     }
    },
    "version_major": 2,
    "version_minor": 0
   }
  }
 },
 "nbformat": 4,
 "nbformat_minor": 4
}
