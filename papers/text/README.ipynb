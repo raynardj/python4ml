{
 "cells": [
  {
   "cell_type": "markdown",
   "metadata": {},
   "source": [
    "# Data Science on Textual Information\n",
    "> Papers on NLP"
   ]
  },
  {
   "cell_type": "markdown",
   "metadata": {},
   "source": [
    "## Named Entity Recognition (NER)\n",
    "#### [Cross-type Biomedical Named Entity Recognition with Deep Multi-Task Learning](https://arxiv.org/abs/1801.09851)\n",
    "> Xuan et al. 2018-10-09\n",
    "\n",
    "> A paper focused on BioNER, break **14 SOTA** out of 15 NER tasks, official [source code here](https://github.com/yuzhimanhua/lm-lstm-crf)\n",
    "\n",
    "> #### Techniques:\n",
    "* **Character level** tokenization + char-level embedding + char-level LSTM (1st LSTM layer)\n",
    "* **Word level** tokenization + word-level embedding +  word-level LSTM (2nd LSTM layer)\n",
    "* Missing word tokens (**OOV**: out of vocabulary) are solved by: **the hidden state from char-level LSTM by the position of word boundaries**, concatenate with the word embedding input, then into word-level LSTM. So when word-level vocab is ```[UNK]```, the model can further deduce by the hidden state from char-level model\n",
    "* CRF **Cross Random Field** is deployed for classification, see official [pytorch implementation](https://github.com/yuzhimanhua/LM-LSTM-CRF/blob/master/model/lstm_crf.py) and```Lampel et al```\n",
    "* The multi-task problem: \n",
    "    * each task, dataset too few\n",
    "    * each task has different class labels, simple comibination will lead to many false negative prediction\n",
    "    * This paper try talcking above by **sharing weights**:\n",
    "        * The LSTM model weights are divided to $\\theta_{w},\\theta_{c},\\theta_{o}$\n",
    "        * as weights from **w**ord level, **c**har level, **o**utput layer (CRF)\n",
    "        * Experiments went through: \n",
    "            * only share $\\theta_{w}$, model MTM-W\n",
    "            * only share $\\theta_{c}$, model MTM-C\n",
    "            * share both $\\theta_{c}$ and $\\theta_{w}$, model MTM-CW (awesome one)\n",
    "            \n",
    "> #### Other mention\n",
    "* Explained the BioNER datasets from [MTL datasets](https://github.com/cambridgeltl/MTL-Bioinformatics-2016)\n",
    "* AS they all follow IOBES scheme:\n",
    "    * I: entity **i**n the middle\n",
    "    * O: n**o**t an entity\n",
    "    * B: entity by the **b**egin\n",
    "    * E: entity by the **e**nd\n",
    "    * S: **s**ingle token entity  \n",
    "* Other NER (solid old school) system\n",
    "    * CHEMDNER(Lu et al. , 2019), CRF + Brown clustering of words\n",
    "    * TaggerOne (Leaman and Lu, 2016), semi-Markov model for joint entity recognition and normalization\n",
    "    * JNLPBA, (Zhou and Su, 2004), using HMM"
   ]
  },
  {
   "cell_type": "markdown",
   "metadata": {},
   "source": [
    "## Pretrain & Transfer Learning\n",
    "#### [Universal Language Model Fine-tuning for Text Classification](https://arxiv.org/abs/1801.06146)\n",
    "> This paper from Jeremy Howard et al has compared and discussed pretraining model in length. \n",
    "The paper practice pretrain and fine tuning by the following 3 steps\n",
    "* **step 1** LM for general textual material, or in related domain\n",
    "* **step 2** LM on task text\n",
    "* **step 3** Fine-tune on task text vs task labels\n",
    "\n",
    ">The paper experimented through many useful techniques like \n",
    "* Discriminated fine-tuning (step 2): different LR for different parameters, after some experiment, $\\eta^{-1} = \\eta / 2.6$ is usually good\n",
    "* Slanted triangular learning rates (step 1): which first **linearly increases** the learning rate and then **linearly decays** it.\n",
    "* Concat pooling (step 3): for hidden states $H = \\{h_{1},h_{2},...,h_{t}\\}$:\n",
    "$h_{c} = [t_{T},maxpool(H),meanpool(H)]$, where $[]$ is the concatenation\n",
    "* Gradual unfreezing (step 3), from top layer, **unfreeze 1 layer an epoch**, train all the unfreezed layers at the epoch.(use this under discriminated fine-tuning)\n",
    "* **Back propagation through time** for text classification (BPT3C) (step 3): use the output state of then end of the last sentence as the initial state of the next sentence"
   ]
  },
  {
   "cell_type": "markdown",
   "metadata": {},
   "source": [
    "## Transformers"
   ]
  },
  {
   "cell_type": "code",
   "execution_count": null,
   "metadata": {},
   "outputs": [],
   "source": []
  }
 ],
 "metadata": {
  "kernelspec": {
   "display_name": "Python 3",
   "language": "python",
   "name": "python3"
  },
  "language_info": {
   "codemirror_mode": {
    "name": "ipython",
    "version": 3
   },
   "file_extension": ".py",
   "mimetype": "text/x-python",
   "name": "python",
   "nbconvert_exporter": "python",
   "pygments_lexer": "ipython3",
   "version": "3.7.4"
  }
 },
 "nbformat": 4,
 "nbformat_minor": 4
}
