{
 "cells": [
  {
   "cell_type": "markdown",
   "metadata": {},
   "source": [
    "# Data Science on Textual Information\n",
    "> Papers on NLP"
   ]
  },
  {
   "cell_type": "markdown",
   "metadata": {},
   "source": [
    "## Pretrain & Transfer Learning\n",
    "#### [Universal Language Model Fine-tuning for Text Classification](https://arxiv.org/abs/1801.06146)\n",
    "> This paper from Jeremy Howard et al has compared and discussed pretraining model in length. \n",
    "The paper practice pretrain and fine tuning by the following 3 steps\n",
    "* **step 1** LM for general textual material, or in related domain\n",
    "* **step 2** LM on task text\n",
    "* **step 3** Fine-tune on task text vs task labels\n",
    "\n",
    ">The paper experimented through many useful techniques like \n",
    "* Discriminated fine-tuning (step 2): different LR for different parameters, after some experiment, $\\eta^{-1} = \\eta / 2.6$ is usually good\n",
    "* Slanted triangular learning rates (step 1): which first **linearly increases** the learning rate and then **linearly decays** it.\n",
    "* Concat pooling (step 3): for hidden states $H = \\{h_{1},h_{2},...,h_{t}\\}$:\n",
    "$h_{c} = [t_{T},maxpool(H),meanpool(H)]$, where $[]$ is the concatenation\n",
    "* Gradual unfreezing (step 3), from top layer, **unfreeze 1 layer an epoch**, train all the unfreezed layers at the epoch.(use this under discriminated fine-tuning)\n",
    "* **Back propagation through time** for text classification (BPT3C) (step 3): use the output state of then end of the last sentence as the initial state of the next sentence"
   ]
  },
  {
   "cell_type": "markdown",
   "metadata": {},
   "source": [
    "## Transformers"
   ]
  },
  {
   "cell_type": "code",
   "execution_count": null,
   "metadata": {},
   "outputs": [],
   "source": []
  }
 ],
 "metadata": {
  "kernelspec": {
   "display_name": "Python 3",
   "language": "python",
   "name": "python3"
  },
  "language_info": {
   "codemirror_mode": {
    "name": "ipython",
    "version": 3
   },
   "file_extension": ".py",
   "mimetype": "text/x-python",
   "name": "python",
   "nbconvert_exporter": "python",
   "pygments_lexer": "ipython3",
   "version": "3.7.4"
  }
 },
 "nbformat": 4,
 "nbformat_minor": 4
}
